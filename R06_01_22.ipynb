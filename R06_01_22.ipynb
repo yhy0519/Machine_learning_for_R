{
  "nbformat": 4,
  "nbformat_minor": 0,
  "metadata": {
    "colab": {
      "name": "R06_01_22.ipynb",
      "provenance": [],
      "collapsed_sections": [],
      "authorship_tag": "ABX9TyPu2CkzcOZjp+fu79X5OgAU",
      "include_colab_link": true
    },
    "kernelspec": {
      "name": "ir",
      "display_name": "R"
    }
  },
  "cells": [
    {
      "cell_type": "markdown",
      "metadata": {
        "id": "view-in-github",
        "colab_type": "text"
      },
      "source": [
        "<a href=\"https://colab.research.google.com/github/yhy0519/Machine_learning_of_R/blob/main/R06_01_22.ipynb\" target=\"_parent\"><img src=\"https://colab.research.google.com/assets/colab-badge.svg\" alt=\"Open In Colab\"/></a>"
      ]
    },
    {
      "cell_type": "markdown",
      "metadata": {
        "id": "dS-mDuI8ubwW"
      },
      "source": [
        "**■ R 을 활용한 머신러닝 1장**  \r\n",
        "\r\n",
        "1장 : 기계학습에 대한 소개  \r\n",
        "2장 : 3장부터 소개될 머신러닝 데이터 분석시 필요한 R 명령어와 그래프, 함수소개  \r\n",
        "3장 : knn 머신러닝 ….\r\n",
        "\r\n",
        "▦ 데이터 분석 모형\r\n",
        "\r\n",
        " 1. 통계기반 분석 모형  \r\n",
        "     1) 기술 통계 : 평균, 분산, 표준편차, 왜도, 첨도, 빈도 등에 대한 대표적인 통계적 수치를 가지고 분석  \r\n",
        "     2) 상관 분석 : 둘 또는 여러 변수 사이에 연관관계를 분석  \r\n",
        "     3) 회귀 분석 : 하나 이상의 독립변수들이 종속변수에 미치는 영향을 추정할 수 있는 통계기법  \r\n",
        "     4) 분산 분석 : 두 개 이상의 집단간 비교를 수행할 때 집단 내의 분산의 비교로 얻은 분포를 이용하여 가설검정을 수행하는 방법  \r\n",
        "     5) 주성분 분석 : 많은 변수의 분산 방식의 패턴을 간결하게 표현하는 주성분 변수를 원래 변수의 선형 결합으로 추출하는 통계기법  \r\n",
        "     6) 판별 분석 : 집단에 대한 정보로 부터 집단을 구별할 수 있는 판별 규칙을 만들고 다변량 기법으로 조사된 집단에 대한 정보를 활용하여  \r\n",
        "     새로운 개체가 어떤 집단인지 탐색하는 통계기법\r\n",
        "\t\t\t\r\n",
        " 2. 데이터 마이닝 기반 분석 모형\r\n",
        "\r\n",
        " 3. 머신러닝 기반 분석 모형\r\n",
        "\r\n",
        "         데이터  ----------------->  컴퓨터  ----------------->  예측 (회귀)\r\n",
        "\t\t\t\t\t\t분류\r\n",
        "\t\t\t\t\t\t\t\t\t\t\t\r\n",
        "    - 지도학습 : 지도학습은 정답인 레이블(label) 이 포함되어 있는 학습 데이터를 통해 컴퓨터를 학습시키는 방법\r\n",
        "\t\t\t\t\r\n",
        "\t\t  예) knn (3장), 나이브 베이즈 (4장), 의사결정트리와 랜덤포레스트 (5장)\r\n",
        "\t\t\t     신경망과 서포트 벡터머신 (7장), 회귀분석 (6장)\r\n",
        "\t\t\t\r\n",
        "\t- 비지도학습 : 입력 데이터에 대한 정답인 레이블(label) 이 없는 상태에서 데이터가 어떻게 구성되었는지 알아내는 기계학습 방법\r\n",
        "\t\t\t\t\t\r\n",
        "\t\t  예) k-means (9장)\r\n",
        "\t\t\t\r\n",
        "\t- 강화학습 : 환경에 대해 적응해 나가는 경험 데이터를 쌓으면서 학습해 나가는 기계학습 방법\r\n",
        "\t\t\t\t\r\n",
        "\t\t  예) 딥마인드의 알파고"
      ]
    },
    {
      "cell_type": "markdown",
      "metadata": {
        "id": "2Z-Os8iuUkCA"
      },
      "source": [
        "**■ R 을 활용한 머신러닝 2장**\r\n",
        "\r\n",
        "머신러닝 데이터 분석을 위한 R 기본 문법, 그래프, 함수를 소개\r\n",
        "\r\n",
        " 1. Factor 가 무엇인지 ?\r\n",
        " 2. 이원 교차표 (CrossTable)\r\n",
        " 3. 데이터를 R 로 불러오는 여러가지 방법"
      ]
    },
    {
      "cell_type": "markdown",
      "metadata": {
        "id": "Y_c2HxecUmCH"
      },
      "source": [
        "**■ 1. Factor 가 무엇인지 ?**\r\n",
        "\r\n",
        "** R 의 자료구조\r\n",
        " 1. vector : 같은 데이터 타입을 갖는 1차원 배열구조  \r\n",
        "    예:  c() 함수를 이용해서 구성할 수 있다.\r\n",
        "\r\n",
        "\r\n"
      ]
    },
    {
      "cell_type": "code",
      "metadata": {
        "colab": {
          "base_uri": "https://localhost:8080/"
        },
        "id": "Cygn5QY2t5wu",
        "outputId": "37f0c810-ab6f-4872-9722-7c264fec0a88"
      },
      "source": [
        "a <-  c(1, 2, 3, 4, 5)\r\n",
        "str(a)"
      ],
      "execution_count": 1,
      "outputs": [
        {
          "output_type": "stream",
          "text": [
            " num [1:5] 1 2 3 4 5\n"
          ],
          "name": "stdout"
        }
      ]
    },
    {
      "cell_type": "markdown",
      "metadata": {
        "id": "sjPCmccXU0xQ"
      },
      "source": [
        " 2. matrix : 같은 데이터 타입을 갖는 2차원 배열구조\r\n",
        " 3.  array  : 같은 데이터 타입을 갖는 다차원 배열구조\r\n",
        " 4. data frame : rdbms 의 테이블과 같이 행과 열로 이루어진 자료구조\r\n",
        " 5. list : 서로 다른 데이터 구조의 중첩된 구조\r\n",
        "\r\n",
        "\r\n",
        "▦ factor (책 69 page)\r\n",
        "\r\n",
        "     팩터(factor) 란 범주 변수나 순위 변수를 나타내기 위해 사용하는 특별한 종류의 벡터(vector) 이다.\r\n",
        "\r\n",
        "머신러닝 데이터 분석시 factor 를 알아야하는 이유 ?\r\n",
        "\r\n",
        "\t순위 데이터를 모델링하는 머신러닝 알고리즘은 순서 팩터를 기대하기 때문에 팩터를 알아야 합니다.\r\n",
        "\r\n",
        "예제: 팩터 = 일반 벤터 + level\r\n",
        "\r\n",
        "예:"
      ]
    },
    {
      "cell_type": "code",
      "metadata": {
        "colab": {
          "base_uri": "https://localhost:8080/",
          "height": 51
        },
        "id": "f1LVbxOiVA53",
        "outputId": "5207763e-dda6-433b-a1f3-d479ddc5fb2e"
      },
      "source": [
        "a <- c(\"middle\", \"low\", \"high\")  # 벡터를 생성함\r\n",
        "a       \r\n",
        "str(a) "
      ],
      "execution_count": 2,
      "outputs": [
        {
          "output_type": "display_data",
          "data": {
            "text/plain": [
              "[1] \"middle\" \"low\"    \"high\"  "
            ],
            "text/latex": "\\begin{enumerate*}\n\\item 'middle'\n\\item 'low'\n\\item 'high'\n\\end{enumerate*}\n",
            "text/markdown": "1. 'middle'\n2. 'low'\n3. 'high'\n\n\n",
            "text/html": [
              "<style>\n",
              ".list-inline {list-style: none; margin:0; padding: 0}\n",
              ".list-inline>li {display: inline-block}\n",
              ".list-inline>li:not(:last-child)::after {content: \"\\00b7\"; padding: 0 .5ex}\n",
              "</style>\n",
              "<ol class=list-inline><li>'middle'</li><li>'low'</li><li>'high'</li></ol>\n"
            ]
          },
          "metadata": {
            "tags": []
          }
        },
        {
          "output_type": "stream",
          "text": [
            " chr [1:3] \"middle\" \"low\" \"high\"\n"
          ],
          "name": "stdout"
        }
      ]
    },
    {
      "cell_type": "code",
      "metadata": {
        "colab": {
          "base_uri": "https://localhost:8080/",
          "height": 68
        },
        "id": "7kyeLpKZVM4o",
        "outputId": "f1b22334-c0ab-4ab1-8550-a16e59307781"
      },
      "source": [
        "a2 <- factor(a)\r\n",
        "a2       \r\n",
        "str(a2)  "
      ],
      "execution_count": 3,
      "outputs": [
        {
          "output_type": "display_data",
          "data": {
            "text/plain": [
              "[1] middle low    high  \n",
              "Levels: high low middle"
            ],
            "text/latex": "\\begin{enumerate*}\n\\item middle\n\\item low\n\\item high\n\\end{enumerate*}\n\n\\emph{Levels}: \\begin{enumerate*}\n\\item 'high'\n\\item 'low'\n\\item 'middle'\n\\end{enumerate*}\n",
            "text/markdown": "1. middle\n2. low\n3. high\n\n\n\n**Levels**: 1. 'high'\n2. 'low'\n3. 'middle'\n\n\n",
            "text/html": [
              "<style>\n",
              ".list-inline {list-style: none; margin:0; padding: 0}\n",
              ".list-inline>li {display: inline-block}\n",
              ".list-inline>li:not(:last-child)::after {content: \"\\00b7\"; padding: 0 .5ex}\n",
              "</style>\n",
              "<ol class=list-inline><li>middle</li><li>low</li><li>high</li></ol>\n",
              "\n",
              "<details>\n",
              "\t<summary style=display:list-item;cursor:pointer>\n",
              "\t\t<strong>Levels</strong>:\n",
              "\t</summary>\n",
              "\t<style>\n",
              "\t.list-inline {list-style: none; margin:0; padding: 0}\n",
              "\t.list-inline>li {display: inline-block}\n",
              "\t.list-inline>li:not(:last-child)::after {content: \"\\00b7\"; padding: 0 .5ex}\n",
              "\t</style>\n",
              "\t<ol class=list-inline><li>'high'</li><li>'low'</li><li>'middle'</li></ol>\n",
              "</details>"
            ]
          },
          "metadata": {
            "tags": []
          }
        },
        {
          "output_type": "stream",
          "text": [
            " Factor w/ 3 levels \"high\",\"low\",\"middle\": 3 2 1\n"
          ],
          "name": "stdout"
        }
      ]
    },
    {
      "cell_type": "markdown",
      "metadata": {
        "id": "QIi4J58ZVSU8"
      },
      "source": [
        "설명: 팩터는 백터와는 다르게 순서라는 개념이 들어가 있는데 위의 a2 팩터의 경우\r\n",
        "\t순서가 알파벳 순서(abcd 순서) 로 순서의 개념이 들어가 있습니다."
      ]
    },
    {
      "cell_type": "markdown",
      "metadata": {
        "id": "0IVSJahnVTN4"
      },
      "source": [
        ""
      ]
    },
    {
      "cell_type": "code",
      "metadata": {
        "colab": {
          "base_uri": "https://localhost:8080/",
          "height": 33
        },
        "id": "okN_MqmOVTwI",
        "outputId": "0ccf2590-c89e-4b1a-d4a3-22d536375a9c"
      },
      "source": [
        "order(a2, decreasing=F)"
      ],
      "execution_count": 4,
      "outputs": [
        {
          "output_type": "display_data",
          "data": {
            "text/plain": [
              "[1] 3 2 1"
            ],
            "text/latex": "\\begin{enumerate*}\n\\item 3\n\\item 2\n\\item 1\n\\end{enumerate*}\n",
            "text/markdown": "1. 3\n2. 2\n3. 1\n\n\n",
            "text/html": [
              "<style>\n",
              ".list-inline {list-style: none; margin:0; padding: 0}\n",
              ".list-inline>li {display: inline-block}\n",
              ".list-inline>li:not(:last-child)::after {content: \"\\00b7\"; padding: 0 .5ex}\n",
              "</style>\n",
              "<ol class=list-inline><li>3</li><li>2</li><li>1</li></ol>\n"
            ]
          },
          "metadata": {
            "tags": []
          }
        }
      ]
    },
    {
      "cell_type": "code",
      "metadata": {
        "colab": {
          "base_uri": "https://localhost:8080/",
          "height": 50
        },
        "id": "vwdYHyUXVYF7",
        "outputId": "b5d891fd-202b-4846-e03e-5ca183eea6d7"
      },
      "source": [
        "a2[order(a2, decreasing=F)]"
      ],
      "execution_count": 5,
      "outputs": [
        {
          "output_type": "display_data",
          "data": {
            "text/plain": [
              "[1] high   low    middle\n",
              "Levels: high low middle"
            ],
            "text/latex": "\\begin{enumerate*}\n\\item high\n\\item low\n\\item middle\n\\end{enumerate*}\n\n\\emph{Levels}: \\begin{enumerate*}\n\\item 'high'\n\\item 'low'\n\\item 'middle'\n\\end{enumerate*}\n",
            "text/markdown": "1. high\n2. low\n3. middle\n\n\n\n**Levels**: 1. 'high'\n2. 'low'\n3. 'middle'\n\n\n",
            "text/html": [
              "<style>\n",
              ".list-inline {list-style: none; margin:0; padding: 0}\n",
              ".list-inline>li {display: inline-block}\n",
              ".list-inline>li:not(:last-child)::after {content: \"\\00b7\"; padding: 0 .5ex}\n",
              "</style>\n",
              "<ol class=list-inline><li>high</li><li>low</li><li>middle</li></ol>\n",
              "\n",
              "<details>\n",
              "\t<summary style=display:list-item;cursor:pointer>\n",
              "\t\t<strong>Levels</strong>:\n",
              "\t</summary>\n",
              "\t<style>\n",
              "\t.list-inline {list-style: none; margin:0; padding: 0}\n",
              "\t.list-inline>li {display: inline-block}\n",
              "\t.list-inline>li:not(:last-child)::after {content: \"\\00b7\"; padding: 0 .5ex}\n",
              "\t</style>\n",
              "\t<ol class=list-inline><li>'high'</li><li>'low'</li><li>'middle'</li></ol>\n",
              "</details>"
            ]
          },
          "metadata": {
            "tags": []
          }
        }
      ]
    },
    {
      "cell_type": "code",
      "metadata": {
        "colab": {
          "base_uri": "https://localhost:8080/",
          "height": 33
        },
        "id": "XxvXYxM-VbEr",
        "outputId": "142876e6-8047-4a16-998f-df0c27ad495c"
      },
      "source": [
        "a[order(a, decreasing=F)]"
      ],
      "execution_count": 6,
      "outputs": [
        {
          "output_type": "display_data",
          "data": {
            "text/plain": [
              "[1] \"high\"   \"low\"    \"middle\""
            ],
            "text/latex": "\\begin{enumerate*}\n\\item 'high'\n\\item 'low'\n\\item 'middle'\n\\end{enumerate*}\n",
            "text/markdown": "1. 'high'\n2. 'low'\n3. 'middle'\n\n\n",
            "text/html": [
              "<style>\n",
              ".list-inline {list-style: none; margin:0; padding: 0}\n",
              ".list-inline>li {display: inline-block}\n",
              ".list-inline>li:not(:last-child)::after {content: \"\\00b7\"; padding: 0 .5ex}\n",
              "</style>\n",
              "<ol class=list-inline><li>'high'</li><li>'low'</li><li>'middle'</li></ol>\n"
            ]
          },
          "metadata": {
            "tags": []
          }
        }
      ]
    },
    {
      "cell_type": "markdown",
      "metadata": {
        "id": "o_1Ev8ZsVW__"
      },
      "source": [
        "factor 를 이용하면 우리가 생각하는 low, middle, high 순서로 만들 수 있다.  \r\n",
        "우리가 생각하는 low, middle, high 순서로 순서를 부여해서 a3 factor 를 구성한다."
      ]
    },
    {
      "cell_type": "markdown",
      "metadata": {
        "id": "Lqf7D3P1Vwn0"
      },
      "source": [
        ""
      ]
    },
    {
      "cell_type": "code",
      "metadata": {
        "colab": {
          "base_uri": "https://localhost:8080/",
          "height": 68
        },
        "id": "-_q1GdxkVutM",
        "outputId": "6573948a-d1dd-49cc-d58a-b42b06c4a270"
      },
      "source": [
        "a3 <- factor( a, order=TRUE, level=c(\"low\", \"middle\", 'high') )\r\n",
        "a3\r\n",
        "str(a3)"
      ],
      "execution_count": 8,
      "outputs": [
        {
          "output_type": "display_data",
          "data": {
            "text/plain": [
              "[1] middle low    high  \n",
              "Levels: low < middle < high"
            ],
            "text/latex": "\\begin{enumerate*}\n\\item middle\n\\item low\n\\item high\n\\end{enumerate*}\n\n\\emph{Levels}: \\begin{enumerate*}\n\\item 'low'\n\\item 'middle'\n\\item 'high'\n\\end{enumerate*}\n",
            "text/markdown": "1. middle\n2. low\n3. high\n\n\n\n**Levels**: 1. 'low'\n2. 'middle'\n3. 'high'\n\n\n",
            "text/html": [
              "<style>\n",
              ".list-inline {list-style: none; margin:0; padding: 0}\n",
              ".list-inline>li {display: inline-block}\n",
              ".list-inline>li:not(:last-child)::after {content: \"\\00b7\"; padding: 0 .5ex}\n",
              "</style>\n",
              "<ol class=list-inline><li>middle</li><li>low</li><li>high</li></ol>\n",
              "\n",
              "<details>\n",
              "\t<summary style=display:list-item;cursor:pointer>\n",
              "\t\t<strong>Levels</strong>:\n",
              "\t</summary>\n",
              "\t<style>\n",
              "\t.list-inline {list-style: none; margin:0; padding: 0}\n",
              "\t.list-inline>li {display: inline-block}\n",
              "\t.list-inline>li:not(:last-child)::after {content: \"\\00b7\"; padding: 0 .5ex}\n",
              "\t</style>\n",
              "\t<ol class=list-inline><li>'low'</li><li>'middle'</li><li>'high'</li></ol>\n",
              "</details>"
            ]
          },
          "metadata": {
            "tags": []
          }
        },
        {
          "output_type": "stream",
          "text": [
            " Ord.factor w/ 3 levels \"low\"<\"middle\"<..: 2 1 3\n"
          ],
          "name": "stdout"
        }
      ]
    },
    {
      "cell_type": "markdown",
      "metadata": {
        "id": "DSECjzCOV-t3"
      },
      "source": [
        "Levels: low < middle < high  <---  이렇게 순서를 부여할 수 있어서 머신러닝 모델 학습 시킬때 어떤게 높고 낮은지 즉 어떤게 좋고 나쁜지 어떤게 악성이고 어떤게 양성인지를 알려주면서 머신러닝 모델을 학습 시켜야 학습이 됩니다.\r\n"
      ]
    },
    {
      "cell_type": "markdown",
      "metadata": {
        "id": "i39ULhkLWeyz"
      },
      "source": [
        ""
      ]
    },
    {
      "cell_type": "markdown",
      "metadata": {
        "id": "ieLDCzPlWetp"
      },
      "source": [
        ""
      ]
    },
    {
      "cell_type": "markdown",
      "metadata": {
        "id": "0V6xemyrWemq"
      },
      "source": [
        "**■ Factor 란 ?**\r\n",
        "\r\n",
        " 1. 범주(값의 목록) 를 갖는 vector\r\n",
        " 2. factor() 함수를 통해서 생성\r\n",
        " 3. factor 는 nominal, ordinal 형식 2가지가 존재합니다.\r\n",
        " 4. nominal 은 level 순서의 값이 무의미하며 알파벳 순서로 정의됨  \r\n",
        "\r\n",
        "예:"
      ]
    },
    {
      "cell_type": "code",
      "metadata": {
        "colab": {
          "base_uri": "https://localhost:8080/",
          "height": 51
        },
        "id": "rjon1TEJWCV0",
        "outputId": "c7195fac-7d98-446f-e474-4857278f6a52"
      },
      "source": [
        "a <- c(\"middle\", \"low\", \"high\") \r\n",
        "a \r\n",
        "str(a)   "
      ],
      "execution_count": 9,
      "outputs": [
        {
          "output_type": "display_data",
          "data": {
            "text/plain": [
              "[1] \"middle\" \"low\"    \"high\"  "
            ],
            "text/latex": "\\begin{enumerate*}\n\\item 'middle'\n\\item 'low'\n\\item 'high'\n\\end{enumerate*}\n",
            "text/markdown": "1. 'middle'\n2. 'low'\n3. 'high'\n\n\n",
            "text/html": [
              "<style>\n",
              ".list-inline {list-style: none; margin:0; padding: 0}\n",
              ".list-inline>li {display: inline-block}\n",
              ".list-inline>li:not(:last-child)::after {content: \"\\00b7\"; padding: 0 .5ex}\n",
              "</style>\n",
              "<ol class=list-inline><li>'middle'</li><li>'low'</li><li>'high'</li></ol>\n"
            ]
          },
          "metadata": {
            "tags": []
          }
        },
        {
          "output_type": "stream",
          "text": [
            " chr [1:3] \"middle\" \"low\" \"high\"\n"
          ],
          "name": "stdout"
        }
      ]
    },
    {
      "cell_type": "markdown",
      "metadata": {
        "id": "OO_wT3SQWkNi"
      },
      "source": [
        " 5. ordinal 은 level 순서의 값을 직접 정의해서 원하는 순서를 정하는 것임  \r\n",
        " \r\n",
        "예:"
      ]
    },
    {
      "cell_type": "code",
      "metadata": {
        "colab": {
          "base_uri": "https://localhost:8080/",
          "height": 68
        },
        "id": "4MDH2AZaWjac",
        "outputId": "8021d615-d0ee-4896-e008-aaa534dd1e95"
      },
      "source": [
        "a3 <- factor( a, order=TRUE, level=c(\"low\", \"meddle\", 'high') )\r\n",
        "a3\r\n",
        "str(a3)"
      ],
      "execution_count": 10,
      "outputs": [
        {
          "output_type": "display_data",
          "data": {
            "text/plain": [
              "[1] <NA> low  high\n",
              "Levels: low < meddle < high"
            ],
            "text/latex": "\\begin{enumerate*}\n\\item <NA>\n\\item low\n\\item high\n\\end{enumerate*}\n\n\\emph{Levels}: \\begin{enumerate*}\n\\item 'low'\n\\item 'meddle'\n\\item 'high'\n\\end{enumerate*}\n",
            "text/markdown": "1. &lt;NA&gt;\n2. low\n3. high\n\n\n\n**Levels**: 1. 'low'\n2. 'meddle'\n3. 'high'\n\n\n",
            "text/html": [
              "<style>\n",
              ".list-inline {list-style: none; margin:0; padding: 0}\n",
              ".list-inline>li {display: inline-block}\n",
              ".list-inline>li:not(:last-child)::after {content: \"\\00b7\"; padding: 0 .5ex}\n",
              "</style>\n",
              "<ol class=list-inline><li>&lt;NA&gt;</li><li>low</li><li>high</li></ol>\n",
              "\n",
              "<details>\n",
              "\t<summary style=display:list-item;cursor:pointer>\n",
              "\t\t<strong>Levels</strong>:\n",
              "\t</summary>\n",
              "\t<style>\n",
              "\t.list-inline {list-style: none; margin:0; padding: 0}\n",
              "\t.list-inline>li {display: inline-block}\n",
              "\t.list-inline>li:not(:last-child)::after {content: \"\\00b7\"; padding: 0 .5ex}\n",
              "\t</style>\n",
              "\t<ol class=list-inline><li>'low'</li><li>'meddle'</li><li>'high'</li></ol>\n",
              "</details>"
            ]
          },
          "metadata": {
            "tags": []
          }
        },
        {
          "output_type": "stream",
          "text": [
            " Ord.factor w/ 3 levels \"low\"<\"meddle\"<..: NA 1 3\n"
          ],
          "name": "stdout"
        }
      ]
    },
    {
      "cell_type": "markdown",
      "metadata": {
        "id": "Y158KPMnWt0f"
      },
      "source": [
        "머신러닝 모델을 학습 시킬때는 데이터를 factor 로 제공해야 합니다.\r\n",
        "왜냐하면 뭐가 크고 작은지 또는 뭐가 좋고 뭐가 나쁜지를 알아야 하기 때문입니다."
      ]
    },
    {
      "cell_type": "markdown",
      "metadata": {
        "id": "MIfG6LnDWx1K"
      },
      "source": [
        ""
      ]
    },
    {
      "cell_type": "markdown",
      "metadata": {
        "id": "AemqDVmVWxtk"
      },
      "source": [
        ""
      ]
    },
    {
      "cell_type": "markdown",
      "metadata": {
        "id": "VncxfEQfWxYR"
      },
      "source": [
        "예제: 유방암 데이터의 라벨은 factor 로 줘야합니다."
      ]
    },
    {
      "cell_type": "code",
      "metadata": {
        "colab": {
          "base_uri": "https://localhost:8080/"
        },
        "id": "Em_6DFLCWy4l",
        "outputId": "dc579294-f447-4d76-8397-1cc8d773470e"
      },
      "source": [
        "setwd('/content/data')\r\n",
        "wisc <- read.csv(\"wisc_bc_data.csv\", header=T, stringsAsFactor=F)\r\n",
        "str(wisc)"
      ],
      "execution_count": 12,
      "outputs": [
        {
          "output_type": "stream",
          "text": [
            "'data.frame':\t569 obs. of  32 variables:\n",
            " $ id               : int  87139402 8910251 905520 868871 9012568 906539 925291 87880 862989 89827 ...\n",
            " $ diagnosis        : chr  \"B\" \"B\" \"B\" \"B\" ...\n",
            " $ radius_mean      : num  12.3 10.6 11 11.3 15.2 ...\n",
            " $ texture_mean     : num  12.4 18.9 16.8 13.4 13.2 ...\n",
            " $ perimeter_mean   : num  78.8 69.3 70.9 73 97.7 ...\n",
            " $ area_mean        : num  464 346 373 385 712 ...\n",
            " $ smoothness_mean  : num  0.1028 0.0969 0.1077 0.1164 0.0796 ...\n",
            " $ compactness_mean : num  0.0698 0.1147 0.078 0.1136 0.0693 ...\n",
            " $ concavity_mean   : num  0.0399 0.0639 0.0305 0.0464 0.0339 ...\n",
            " $ points_mean      : num  0.037 0.0264 0.0248 0.048 0.0266 ...\n",
            " $ symmetry_mean    : num  0.196 0.192 0.171 0.177 0.172 ...\n",
            " $ dimension_mean   : num  0.0595 0.0649 0.0634 0.0607 0.0554 ...\n",
            " $ radius_se        : num  0.236 0.451 0.197 0.338 0.178 ...\n",
            " $ texture_se       : num  0.666 1.197 1.387 1.343 0.412 ...\n",
            " $ perimeter_se     : num  1.67 3.43 1.34 1.85 1.34 ...\n",
            " $ area_se          : num  17.4 27.1 13.5 26.3 17.7 ...\n",
            " $ smoothness_se    : num  0.00805 0.00747 0.00516 0.01127 0.00501 ...\n",
            " $ compactness_se   : num  0.0118 0.03581 0.00936 0.03498 0.01485 ...\n",
            " $ concavity_se     : num  0.0168 0.0335 0.0106 0.0219 0.0155 ...\n",
            " $ points_se        : num  0.01241 0.01365 0.00748 0.01965 0.00915 ...\n",
            " $ symmetry_se      : num  0.0192 0.035 0.0172 0.0158 0.0165 ...\n",
            " $ dimension_se     : num  0.00225 0.00332 0.0022 0.00344 0.00177 ...\n",
            " $ radius_worst     : num  13.5 11.9 12.4 11.9 16.2 ...\n",
            " $ texture_worst    : num  15.6 22.9 26.4 15.8 15.7 ...\n",
            " $ perimeter_worst  : num  87 78.3 79.9 76.5 104.5 ...\n",
            " $ area_worst       : num  549 425 471 434 819 ...\n",
            " $ smoothness_worst : num  0.139 0.121 0.137 0.137 0.113 ...\n",
            " $ compactness_worst: num  0.127 0.252 0.148 0.182 0.174 ...\n",
            " $ concavity_worst  : num  0.1242 0.1916 0.1067 0.0867 0.1362 ...\n",
            " $ points_worst     : num  0.0939 0.0793 0.0743 0.0861 0.0818 ...\n",
            " $ symmetry_worst   : num  0.283 0.294 0.3 0.21 0.249 ...\n",
            " $ dimension_worst  : num  0.0677 0.0759 0.0788 0.0678 0.0677 ...\n"
          ],
          "name": "stdout"
        }
      ]
    },
    {
      "cell_type": "markdown",
      "metadata": {
        "id": "GmoxkLDFXL04"
      },
      "source": [
        "설명: stringsAsFactor=F 는 wisc_bc_data.csv 의 데이터 중에 문자형 데이터를\tFactor 로 변환하지 말고 문자형으로 쓰겠다.  \r\n",
        "\t그래서 아래와 같이 정답(label) 컬럼인 diagnosis 가 문자형(chr) 입니다.\r\n",
        "\r\n",
        "     $ diagnosis        : chr  \"B\" \"B\" \"B\" \"B\" …\r\n",
        "\r\n",
        "그런데 위와 같이 정답은 factor 로 주지 않고 문자형으로 주면 B 와 M 중에서 뭐가 좋고 뭐가 나쁜지 알 수가 없으므로 아래와 같이 Factor 로 변환해서 머신러닝 모델에게 제공해줘야 합니다."
      ]
    },
    {
      "cell_type": "code",
      "metadata": {
        "colab": {
          "base_uri": "https://localhost:8080/"
        },
        "id": "5RKbO7jIXWDO",
        "outputId": "831b84c2-d609-4a39-ba67-8a83858bd972"
      },
      "source": [
        "wisc <- read.csv(\"wisc_bc_data.csv\", header=T, stringsAsFactor=T)\r\n",
        "str(wisc)"
      ],
      "execution_count": 13,
      "outputs": [
        {
          "output_type": "stream",
          "text": [
            "'data.frame':\t569 obs. of  32 variables:\n",
            " $ id               : int  87139402 8910251 905520 868871 9012568 906539 925291 87880 862989 89827 ...\n",
            " $ diagnosis        : Factor w/ 2 levels \"B\",\"M\": 1 1 1 1 1 1 1 2 1 1 ...\n",
            " $ radius_mean      : num  12.3 10.6 11 11.3 15.2 ...\n",
            " $ texture_mean     : num  12.4 18.9 16.8 13.4 13.2 ...\n",
            " $ perimeter_mean   : num  78.8 69.3 70.9 73 97.7 ...\n",
            " $ area_mean        : num  464 346 373 385 712 ...\n",
            " $ smoothness_mean  : num  0.1028 0.0969 0.1077 0.1164 0.0796 ...\n",
            " $ compactness_mean : num  0.0698 0.1147 0.078 0.1136 0.0693 ...\n",
            " $ concavity_mean   : num  0.0399 0.0639 0.0305 0.0464 0.0339 ...\n",
            " $ points_mean      : num  0.037 0.0264 0.0248 0.048 0.0266 ...\n",
            " $ symmetry_mean    : num  0.196 0.192 0.171 0.177 0.172 ...\n",
            " $ dimension_mean   : num  0.0595 0.0649 0.0634 0.0607 0.0554 ...\n",
            " $ radius_se        : num  0.236 0.451 0.197 0.338 0.178 ...\n",
            " $ texture_se       : num  0.666 1.197 1.387 1.343 0.412 ...\n",
            " $ perimeter_se     : num  1.67 3.43 1.34 1.85 1.34 ...\n",
            " $ area_se          : num  17.4 27.1 13.5 26.3 17.7 ...\n",
            " $ smoothness_se    : num  0.00805 0.00747 0.00516 0.01127 0.00501 ...\n",
            " $ compactness_se   : num  0.0118 0.03581 0.00936 0.03498 0.01485 ...\n",
            " $ concavity_se     : num  0.0168 0.0335 0.0106 0.0219 0.0155 ...\n",
            " $ points_se        : num  0.01241 0.01365 0.00748 0.01965 0.00915 ...\n",
            " $ symmetry_se      : num  0.0192 0.035 0.0172 0.0158 0.0165 ...\n",
            " $ dimension_se     : num  0.00225 0.00332 0.0022 0.00344 0.00177 ...\n",
            " $ radius_worst     : num  13.5 11.9 12.4 11.9 16.2 ...\n",
            " $ texture_worst    : num  15.6 22.9 26.4 15.8 15.7 ...\n",
            " $ perimeter_worst  : num  87 78.3 79.9 76.5 104.5 ...\n",
            " $ area_worst       : num  549 425 471 434 819 ...\n",
            " $ smoothness_worst : num  0.139 0.121 0.137 0.137 0.113 ...\n",
            " $ compactness_worst: num  0.127 0.252 0.148 0.182 0.174 ...\n",
            " $ concavity_worst  : num  0.1242 0.1916 0.1067 0.0867 0.1362 ...\n",
            " $ points_worst     : num  0.0939 0.0793 0.0743 0.0861 0.0818 ...\n",
            " $ symmetry_worst   : num  0.283 0.294 0.3 0.21 0.249 ...\n",
            " $ dimension_worst  : num  0.0677 0.0759 0.0788 0.0678 0.0677 ...\n"
          ],
          "name": "stdout"
        }
      ]
    },
    {
      "cell_type": "markdown",
      "metadata": {
        "id": "esypo8rGXkCH"
      },
      "source": [
        ""
      ]
    },
    {
      "cell_type": "markdown",
      "metadata": {
        "id": "1Jbl1BYZXj8j"
      },
      "source": [
        ""
      ]
    },
    {
      "cell_type": "markdown",
      "metadata": {
        "id": "GrNq9Xe2Xj1N"
      },
      "source": [
        "문제165.  아래의 문자 3개를 factor 로 만드는데 순서를 SEVERE>MODERATE>MILD 이 순서가 되게 만드시오 !  \r\n",
        "factor 이름은 b 라고 하시오 !\r\n",
        "\r\n",
        "\tSEVERE     MILD      MODERATE"
      ]
    },
    {
      "cell_type": "code",
      "metadata": {
        "colab": {
          "base_uri": "https://localhost:8080/",
          "height": 68
        },
        "id": "jwO8f4AHXoS0",
        "outputId": "aa83bcc8-3b93-497b-f05e-75c076930c88"
      },
      "source": [
        "a <- c('SEVERE', 'MODERATE', 'MILD' )\r\n",
        "b <- factor(a, order=TRUE, level=c('MILD', 'MODERATE', 'SEVERE'))\r\n",
        "b\r\n",
        "str(b)"
      ],
      "execution_count": 21,
      "outputs": [
        {
          "output_type": "display_data",
          "data": {
            "text/plain": [
              "[1] SEVERE   MODERATE MILD    \n",
              "Levels: MILD < MODERATE < SEVERE"
            ],
            "text/latex": "\\begin{enumerate*}\n\\item SEVERE\n\\item MODERATE\n\\item MILD\n\\end{enumerate*}\n\n\\emph{Levels}: \\begin{enumerate*}\n\\item 'MILD'\n\\item 'MODERATE'\n\\item 'SEVERE'\n\\end{enumerate*}\n",
            "text/markdown": "1. SEVERE\n2. MODERATE\n3. MILD\n\n\n\n**Levels**: 1. 'MILD'\n2. 'MODERATE'\n3. 'SEVERE'\n\n\n",
            "text/html": [
              "<style>\n",
              ".list-inline {list-style: none; margin:0; padding: 0}\n",
              ".list-inline>li {display: inline-block}\n",
              ".list-inline>li:not(:last-child)::after {content: \"\\00b7\"; padding: 0 .5ex}\n",
              "</style>\n",
              "<ol class=list-inline><li>SEVERE</li><li>MODERATE</li><li>MILD</li></ol>\n",
              "\n",
              "<details>\n",
              "\t<summary style=display:list-item;cursor:pointer>\n",
              "\t\t<strong>Levels</strong>:\n",
              "\t</summary>\n",
              "\t<style>\n",
              "\t.list-inline {list-style: none; margin:0; padding: 0}\n",
              "\t.list-inline>li {display: inline-block}\n",
              "\t.list-inline>li:not(:last-child)::after {content: \"\\00b7\"; padding: 0 .5ex}\n",
              "\t</style>\n",
              "\t<ol class=list-inline><li>'MILD'</li><li>'MODERATE'</li><li>'SEVERE'</li></ol>\n",
              "</details>"
            ]
          },
          "metadata": {
            "tags": []
          }
        },
        {
          "output_type": "stream",
          "text": [
            " Ord.factor w/ 3 levels \"MILD\"<\"MODERATE\"<..: 3 2 1\n"
          ],
          "name": "stdout"
        }
      ]
    },
    {
      "cell_type": "markdown",
      "metadata": {
        "id": "SZ8_9njfZIoW"
      },
      "source": [
        ""
      ]
    },
    {
      "cell_type": "markdown",
      "metadata": {
        "id": "4MxA0NvpZIiS"
      },
      "source": [
        ""
      ]
    },
    {
      "cell_type": "markdown",
      "metadata": {
        "id": "xNIcrWByZIbj"
      },
      "source": [
        "**■ R 을 활용한 머신러닝**\r\n",
        "\r\n",
        " 1장. 기계학습이 무엇인지 ? 기계학습의 종류  \r\n",
        " 2장. 머신러닝을 공부하기 위해서 기본적으로 알아야하는 내용  \r\n",
        "1. factor 가 무엇인지 ?  \r\n",
        "2. R 에서 데이터를 로드하는 방법 4가지"
      ]
    },
    {
      "cell_type": "markdown",
      "metadata": {
        "id": "IRf0zKqvZRpQ"
      },
      "source": [
        "**■ R 에서 데이터를 로드하는 방법 4가지 (책 84 page)**\r\n",
        "\r\n",
        " 1. csv 파일을 로드하는 방법\r\n",
        " 2. xlsx 파일을 로드하는 방법\r\n",
        " 3. text 파일을 로드하는 방법\r\n",
        " 4. database 와 R 과 연동하는 방법"
      ]
    },
    {
      "cell_type": "markdown",
      "metadata": {
        "id": "Iml3vJAIZS0m"
      },
      "source": [
        "**■ 1. csv 파일을 로드하는 방법**\r\n"
      ]
    },
    {
      "cell_type": "code",
      "metadata": {
        "colab": {
          "base_uri": "https://localhost:8080/",
          "height": 511
        },
        "id": "hctGyDECZV2E",
        "outputId": "a1075fe6-b757-468a-d963-57618c36e14f"
      },
      "source": [
        "library(utils)\r\n",
        "emp <- read.csv(\"emp3.csv\", header=T, stringsAsFactor=T)\r\n",
        "emp"
      ],
      "execution_count": 27,
      "outputs": [
        {
          "output_type": "display_data",
          "data": {
            "text/plain": [
              "   index empno ename  job       mgr  hiredate        sal  comm deptno\n",
              "1   1    7839  KING   PRESIDENT   NA 1981-11-17 0:00 5000   NA 10    \n",
              "2   2    7698  BLAKE  MANAGER   7839 1981-05-01 0:00 2850   NA 30    \n",
              "3   3    7782  CLARK  MANAGER   7839 1981-05-09 0:00 2450   NA 10    \n",
              "4   4    7566  JONES  MANAGER   7839 1981-04-01 0:00 2975   NA 20    \n",
              "5   5    7654  MARTIN SALESMAN  7698 1981-09-10 0:00 1250 1400 30    \n",
              "6   6    7499  ALLEN  SALESMAN  7698 1981-02-11 0:00 1600  300 30    \n",
              "7   7    7844  TURNER SALESMAN  7698 1981-08-21 0:00 1500    0 30    \n",
              "8   8    7900  JAMES  CLERK     7698 1981-12-11 0:00  950   NA 30    \n",
              "9   9    7521  WARD   SALESMAN  7698 1981-02-23 0:00 1250  500 30    \n",
              "10 10    7902  FORD   ANALYST   7566 1981-12-11 0:00 3000   NA 20    \n",
              "11 11    7369  SMITH  CLERK     7902 1980-12-09 0:00  800   NA 20    \n",
              "12 12    7788  SCOTT  ANALYST   7566 1982-12-22 0:00 3000   NA 20    \n",
              "13 13    7876  ADAMS  CLERK     7788 1983-01-15 0:00 1100   NA 20    \n",
              "14 14    7934  MILLER CLERK     7782 1982-01-11 0:00 1300   NA 10    "
            ],
            "text/latex": "A data.frame: 14 × 9\n\\begin{tabular}{lllllllll}\n index & empno & ename & job & mgr & hiredate & sal & comm & deptno\\\\\n <int> & <int> & <fct> & <fct> & <int> & <fct> & <int> & <int> & <int>\\\\\n\\hline\n\t  1 & 7839 & KING   & PRESIDENT &   NA & 1981-11-17 0:00 & 5000 &   NA & 10\\\\\n\t  2 & 7698 & BLAKE  & MANAGER   & 7839 & 1981-05-01 0:00 & 2850 &   NA & 30\\\\\n\t  3 & 7782 & CLARK  & MANAGER   & 7839 & 1981-05-09 0:00 & 2450 &   NA & 10\\\\\n\t  4 & 7566 & JONES  & MANAGER   & 7839 & 1981-04-01 0:00 & 2975 &   NA & 20\\\\\n\t  5 & 7654 & MARTIN & SALESMAN  & 7698 & 1981-09-10 0:00 & 1250 & 1400 & 30\\\\\n\t  6 & 7499 & ALLEN  & SALESMAN  & 7698 & 1981-02-11 0:00 & 1600 &  300 & 30\\\\\n\t  7 & 7844 & TURNER & SALESMAN  & 7698 & 1981-08-21 0:00 & 1500 &    0 & 30\\\\\n\t  8 & 7900 & JAMES  & CLERK     & 7698 & 1981-12-11 0:00 &  950 &   NA & 30\\\\\n\t  9 & 7521 & WARD   & SALESMAN  & 7698 & 1981-02-23 0:00 & 1250 &  500 & 30\\\\\n\t 10 & 7902 & FORD   & ANALYST   & 7566 & 1981-12-11 0:00 & 3000 &   NA & 20\\\\\n\t 11 & 7369 & SMITH  & CLERK     & 7902 & 1980-12-09 0:00 &  800 &   NA & 20\\\\\n\t 12 & 7788 & SCOTT  & ANALYST   & 7566 & 1982-12-22 0:00 & 3000 &   NA & 20\\\\\n\t 13 & 7876 & ADAMS  & CLERK     & 7788 & 1983-01-15 0:00 & 1100 &   NA & 20\\\\\n\t 14 & 7934 & MILLER & CLERK     & 7782 & 1982-01-11 0:00 & 1300 &   NA & 10\\\\\n\\end{tabular}\n",
            "text/markdown": "\nA data.frame: 14 × 9\n\n| index &lt;int&gt; | empno &lt;int&gt; | ename &lt;fct&gt; | job &lt;fct&gt; | mgr &lt;int&gt; | hiredate &lt;fct&gt; | sal &lt;int&gt; | comm &lt;int&gt; | deptno &lt;int&gt; |\n|---|---|---|---|---|---|---|---|---|\n|  1 | 7839 | KING   | PRESIDENT |   NA | 1981-11-17 0:00 | 5000 |   NA | 10 |\n|  2 | 7698 | BLAKE  | MANAGER   | 7839 | 1981-05-01 0:00 | 2850 |   NA | 30 |\n|  3 | 7782 | CLARK  | MANAGER   | 7839 | 1981-05-09 0:00 | 2450 |   NA | 10 |\n|  4 | 7566 | JONES  | MANAGER   | 7839 | 1981-04-01 0:00 | 2975 |   NA | 20 |\n|  5 | 7654 | MARTIN | SALESMAN  | 7698 | 1981-09-10 0:00 | 1250 | 1400 | 30 |\n|  6 | 7499 | ALLEN  | SALESMAN  | 7698 | 1981-02-11 0:00 | 1600 |  300 | 30 |\n|  7 | 7844 | TURNER | SALESMAN  | 7698 | 1981-08-21 0:00 | 1500 |    0 | 30 |\n|  8 | 7900 | JAMES  | CLERK     | 7698 | 1981-12-11 0:00 |  950 |   NA | 30 |\n|  9 | 7521 | WARD   | SALESMAN  | 7698 | 1981-02-23 0:00 | 1250 |  500 | 30 |\n| 10 | 7902 | FORD   | ANALYST   | 7566 | 1981-12-11 0:00 | 3000 |   NA | 20 |\n| 11 | 7369 | SMITH  | CLERK     | 7902 | 1980-12-09 0:00 |  800 |   NA | 20 |\n| 12 | 7788 | SCOTT  | ANALYST   | 7566 | 1982-12-22 0:00 | 3000 |   NA | 20 |\n| 13 | 7876 | ADAMS  | CLERK     | 7788 | 1983-01-15 0:00 | 1100 |   NA | 20 |\n| 14 | 7934 | MILLER | CLERK     | 7782 | 1982-01-11 0:00 | 1300 |   NA | 10 |\n\n",
            "text/html": [
              "<table class=\"dataframe\">\n",
              "<caption>A data.frame: 14 × 9</caption>\n",
              "<thead>\n",
              "\t<tr><th scope=col>index</th><th scope=col>empno</th><th scope=col>ename</th><th scope=col>job</th><th scope=col>mgr</th><th scope=col>hiredate</th><th scope=col>sal</th><th scope=col>comm</th><th scope=col>deptno</th></tr>\n",
              "\t<tr><th scope=col>&lt;int&gt;</th><th scope=col>&lt;int&gt;</th><th scope=col>&lt;fct&gt;</th><th scope=col>&lt;fct&gt;</th><th scope=col>&lt;int&gt;</th><th scope=col>&lt;fct&gt;</th><th scope=col>&lt;int&gt;</th><th scope=col>&lt;int&gt;</th><th scope=col>&lt;int&gt;</th></tr>\n",
              "</thead>\n",
              "<tbody>\n",
              "\t<tr><td> 1</td><td>7839</td><td>KING  </td><td>PRESIDENT</td><td>  NA</td><td>1981-11-17 0:00</td><td>5000</td><td>  NA</td><td>10</td></tr>\n",
              "\t<tr><td> 2</td><td>7698</td><td>BLAKE </td><td>MANAGER  </td><td>7839</td><td>1981-05-01 0:00</td><td>2850</td><td>  NA</td><td>30</td></tr>\n",
              "\t<tr><td> 3</td><td>7782</td><td>CLARK </td><td>MANAGER  </td><td>7839</td><td>1981-05-09 0:00</td><td>2450</td><td>  NA</td><td>10</td></tr>\n",
              "\t<tr><td> 4</td><td>7566</td><td>JONES </td><td>MANAGER  </td><td>7839</td><td>1981-04-01 0:00</td><td>2975</td><td>  NA</td><td>20</td></tr>\n",
              "\t<tr><td> 5</td><td>7654</td><td>MARTIN</td><td>SALESMAN </td><td>7698</td><td>1981-09-10 0:00</td><td>1250</td><td>1400</td><td>30</td></tr>\n",
              "\t<tr><td> 6</td><td>7499</td><td>ALLEN </td><td>SALESMAN </td><td>7698</td><td>1981-02-11 0:00</td><td>1600</td><td> 300</td><td>30</td></tr>\n",
              "\t<tr><td> 7</td><td>7844</td><td>TURNER</td><td>SALESMAN </td><td>7698</td><td>1981-08-21 0:00</td><td>1500</td><td>   0</td><td>30</td></tr>\n",
              "\t<tr><td> 8</td><td>7900</td><td>JAMES </td><td>CLERK    </td><td>7698</td><td>1981-12-11 0:00</td><td> 950</td><td>  NA</td><td>30</td></tr>\n",
              "\t<tr><td> 9</td><td>7521</td><td>WARD  </td><td>SALESMAN </td><td>7698</td><td>1981-02-23 0:00</td><td>1250</td><td> 500</td><td>30</td></tr>\n",
              "\t<tr><td>10</td><td>7902</td><td>FORD  </td><td>ANALYST  </td><td>7566</td><td>1981-12-11 0:00</td><td>3000</td><td>  NA</td><td>20</td></tr>\n",
              "\t<tr><td>11</td><td>7369</td><td>SMITH </td><td>CLERK    </td><td>7902</td><td>1980-12-09 0:00</td><td> 800</td><td>  NA</td><td>20</td></tr>\n",
              "\t<tr><td>12</td><td>7788</td><td>SCOTT </td><td>ANALYST  </td><td>7566</td><td>1982-12-22 0:00</td><td>3000</td><td>  NA</td><td>20</td></tr>\n",
              "\t<tr><td>13</td><td>7876</td><td>ADAMS </td><td>CLERK    </td><td>7788</td><td>1983-01-15 0:00</td><td>1100</td><td>  NA</td><td>20</td></tr>\n",
              "\t<tr><td>14</td><td>7934</td><td>MILLER</td><td>CLERK    </td><td>7782</td><td>1982-01-11 0:00</td><td>1300</td><td>  NA</td><td>10</td></tr>\n",
              "</tbody>\n",
              "</table>\n"
            ]
          },
          "metadata": {
            "tags": []
          }
        }
      ]
    },
    {
      "cell_type": "markdown",
      "metadata": {
        "id": "xPIlVdLYZh2t"
      },
      "source": [
        "설명: read.csv 함수는 utils 패키지에 내장되어있는 함수입니다.  \r\n",
        "\tstringsAsFactor=T 은 문자형을 Factor 형으로 변환하는 옵션입니다."
      ]
    },
    {
      "cell_type": "markdown",
      "metadata": {
        "id": "4OmEYyg6ZkDf"
      },
      "source": [
        ""
      ]
    },
    {
      "cell_type": "markdown",
      "metadata": {
        "id": "xPZvI4d8Zj69"
      },
      "source": [
        ""
      ]
    },
    {
      "cell_type": "markdown",
      "metadata": {
        "id": "fbk34-FDZjtL"
      },
      "source": [
        "**■ 2. xlsx 파일을 로드하는 방법**"
      ]
    },
    {
      "cell_type": "code",
      "metadata": {
        "colab": {
          "base_uri": "https://localhost:8080/",
          "height": 295
        },
        "id": "lEUHytbRZpj0",
        "outputId": "446374e5-a1c8-439c-8de9-4d819f52bf95"
      },
      "source": [
        "install.packages(\"xlsx\")\r\n",
        "library(xlsx)\r\n",
        "dept <- read.xlsx(\"dept.XLS\", 1)\r\n",
        "#                            ↑\r\n",
        "#                         sheet 번호\r\n",
        "dept"
      ],
      "execution_count": 26,
      "outputs": [
        {
          "output_type": "stream",
          "text": [
            "Installing package into ‘/usr/local/lib/R/site-library’\n",
            "(as ‘lib’ is unspecified)\n",
            "\n"
          ],
          "name": "stderr"
        },
        {
          "output_type": "display_data",
          "data": {
            "text/plain": [
              "  DEPTNO DNAME      LOC     \n",
              "1 50     DDD        NEW YORK\n",
              "2 70     aa         bb      \n",
              "3 20     RESEARCH   DALLAS  \n",
              "4 30     SALES      AA      \n",
              "5 40     OPERATIONS BOSTON  "
            ],
            "text/latex": "A data.frame: 5 × 3\n\\begin{tabular}{lll}\n DEPTNO & DNAME & LOC\\\\\n <dbl> & <chr> & <chr>\\\\\n\\hline\n\t 50 & DDD        & NEW YORK\\\\\n\t 70 & aa         & bb      \\\\\n\t 20 & RESEARCH   & DALLAS  \\\\\n\t 30 & SALES      & AA      \\\\\n\t 40 & OPERATIONS & BOSTON  \\\\\n\\end{tabular}\n",
            "text/markdown": "\nA data.frame: 5 × 3\n\n| DEPTNO &lt;dbl&gt; | DNAME &lt;chr&gt; | LOC &lt;chr&gt; |\n|---|---|---|\n| 50 | DDD        | NEW YORK |\n| 70 | aa         | bb       |\n| 20 | RESEARCH   | DALLAS   |\n| 30 | SALES      | AA       |\n| 40 | OPERATIONS | BOSTON   |\n\n",
            "text/html": [
              "<table class=\"dataframe\">\n",
              "<caption>A data.frame: 5 × 3</caption>\n",
              "<thead>\n",
              "\t<tr><th scope=col>DEPTNO</th><th scope=col>DNAME</th><th scope=col>LOC</th></tr>\n",
              "\t<tr><th scope=col>&lt;dbl&gt;</th><th scope=col>&lt;chr&gt;</th><th scope=col>&lt;chr&gt;</th></tr>\n",
              "</thead>\n",
              "<tbody>\n",
              "\t<tr><td>50</td><td>DDD       </td><td>NEW YORK</td></tr>\n",
              "\t<tr><td>70</td><td>aa        </td><td>bb      </td></tr>\n",
              "\t<tr><td>20</td><td>RESEARCH  </td><td>DALLAS  </td></tr>\n",
              "\t<tr><td>30</td><td>SALES     </td><td>AA      </td></tr>\n",
              "\t<tr><td>40</td><td>OPERATIONS</td><td>BOSTON  </td></tr>\n",
              "</tbody>\n",
              "</table>\n"
            ]
          },
          "metadata": {
            "tags": []
          }
        }
      ]
    },
    {
      "cell_type": "markdown",
      "metadata": {
        "id": "UdoNvrJWaJDT"
      },
      "source": [
        ""
      ]
    },
    {
      "cell_type": "markdown",
      "metadata": {
        "id": "yI_frbUbaI9Q"
      },
      "source": [
        ""
      ]
    },
    {
      "cell_type": "markdown",
      "metadata": {
        "id": "bFGFXkFOaI0D"
      },
      "source": [
        "**■ 3. text 파일을 로드하는 방법**\r\n"
      ]
    },
    {
      "cell_type": "code",
      "metadata": {
        "id": "Hp-rgHh7aLSW"
      },
      "source": [
        "niv <- readLines(\"NIV.txt\")\r\n",
        "niv"
      ],
      "execution_count": null,
      "outputs": []
    },
    {
      "cell_type": "markdown",
      "metadata": {
        "id": "qzTWDOgZawpH"
      },
      "source": [
        ""
      ]
    },
    {
      "cell_type": "markdown",
      "metadata": {
        "id": "tg9QbzS7awkb"
      },
      "source": [
        ""
      ]
    },
    {
      "cell_type": "markdown",
      "metadata": {
        "id": "7tiDmy2OawfZ"
      },
      "source": [
        "**■  4. database 와 연동해서 R 로 로드하는 방법 (R 과 오라클 연동)**\r\n",
        "\r\n",
        "1. 먼저 오라클에 접속이 되는지 확인한다.\r\n",
        "\r\n",
        "아래처럼 sys 유져로 접속하는 방법\r\n",
        "\r\n",
        "    C:\\Users\\jjku0>sqlplus \"/as sysdba\"\r\n",
        "    C:\\Users\\jjku0>sqlplus sys/oracle as sysdba\r\n",
        "\r\n",
        "아래처럼 scott 유져로 접속하는 방법\r\n",
        "\r\n",
        "    C:\\Users\\jjku0>sqlplus scott/tiger\r\n",
        "\r\n",
        "\r\n",
        "에러\r\n",
        "\r\n",
        "    ERROR: ORA-12154: TNS: 지정된접속 식별자를 분석할 수 없음\r\n",
        "--> 오라클 서비스를 올려야함\r\n",
        "\r\n",
        "    윈도우 검색 -> 서비스 -> 아래의 OracleService 중에 실행중으로 실행해야함.\r\n",
        "\r\n",
        "\r\n",
        "SQL>\r\n",
        "\r\n",
        "    select instance_name\r\n",
        "       from v$instance;\r\n"
      ]
    },
    {
      "cell_type": "markdown",
      "metadata": {
        "id": "SiZk8MkSa_KD"
      },
      "source": [
        ""
      ]
    },
    {
      "cell_type": "markdown",
      "metadata": {
        "id": "10Myc7pjbBbI"
      },
      "source": [
        "2. db 와 연동하기 위해서 필요한 패키지를 설치합니다.\r\n"
      ]
    },
    {
      "cell_type": "code",
      "metadata": {
        "id": "CMhAxGChbCAo"
      },
      "source": [
        "install.packages(\"DBI\")\r\n",
        "install.packages(\"RJDBC\")\r\n",
        "\r\n",
        "library(DBI)\r\n",
        "library(rJava)\r\n",
        "library(RJDBC)  # rJava 에 의존적\r\n",
        "\r\n",
        "driver <- JDBC(\"oracle.jdbc.driver.OracleDriver\", \"ojdbc8.jar\")"
      ],
      "execution_count": null,
      "outputs": []
    },
    {
      "cell_type": "markdown",
      "metadata": {
        "id": "kHFMJc-hbFJf"
      },
      "source": [
        "설명: 오라클과 R 을 연동하려면 ojdbc8.jar 파일이 있어야 합니다.\r\n",
        "\t워킹 디렉토리에 ojdbc8.jar 를 가져다 둡니다."
      ]
    },
    {
      "cell_type": "markdown",
      "metadata": {
        "id": "jWjFbyFzbH-v"
      },
      "source": [
        ""
      ]
    },
    {
      "cell_type": "markdown",
      "metadata": {
        "id": "4IrWBIUObH4f"
      },
      "source": [
        " 3. 도스창을 열고 리스너의 상태를 확인합니다.\r\n",
        "\r\n",
        "    C:\\Users\\jjku0>lsnrctl status\r\n",
        "\r\n",
        "여기서 확인할 내용은 포트번호와 서비스 이름입니다.\r\n"
      ]
    },
    {
      "cell_type": "markdown",
      "metadata": {
        "id": "VILpgBxLbO9X"
      },
      "source": [
        ""
      ]
    },
    {
      "cell_type": "markdown",
      "metadata": {
        "id": "WU1j0DTFbPcA"
      },
      "source": [
        " 4. 도스창에서 위의 정보로 오라클에 접속이 되는지 확인합니다.\r\n",
        "\r\n",
        "scott 으로 접속하려면\r\n",
        "\r\n",
        "    C:\\Users\\jjku0> sqlplus scott/tiger@127.0.0.1:1522/orcl2\r\n",
        "\r\n",
        "sys 로 접속하려면\r\n",
        "\r\n",
        "    C:\\Users\\jjku0> sqlplus sys/oracle@127.0.0.1:1522/orcl2 as sysdba\r\n"
      ]
    },
    {
      "cell_type": "markdown",
      "metadata": {
        "id": "7Q5x_EQKbRR_"
      },
      "source": [
        ""
      ]
    },
    {
      "cell_type": "markdown",
      "metadata": {
        "id": "0Dj45M2kbRmn"
      },
      "source": [
        " 5. 아래의 R 명령어로 오라클의 데이터를 쿼리합니다.\r\n",
        "\r\n",
        "-- scott 인 사람\r\n",
        "    \r\n",
        "    oracle_db <- dbConnect( driver, 'jdbc:oracle:thin:@//127.0.0.1:1522/orcl2', 'scott', 'tiger')\r\n",
        "\r\n",
        "-- sys 인 사람\r\n",
        "    \r\n",
        "    oracle_db <- dbConnect( driver, 'jdbc:oracle:thin:@//127.0.0.1:1522/orcl2', 'sys as sysdba', 'oracle')\r\n"
      ]
    },
    {
      "cell_type": "markdown",
      "metadata": {
        "id": "5LsGn46xbWtg"
      },
      "source": [
        ""
      ]
    },
    {
      "cell_type": "code",
      "metadata": {
        "id": "_FmWJt8HbX0v"
      },
      "source": [
        "emp_query <- 'select * from emp'\r\n",
        "emp_data <- dbGetQuery( oracle_db, emp_query)\r\n",
        "emp_data"
      ],
      "execution_count": null,
      "outputs": []
    },
    {
      "cell_type": "markdown",
      "metadata": {
        "id": "USCIdECYbePb"
      },
      "source": [
        ""
      ]
    },
    {
      "cell_type": "markdown",
      "metadata": {
        "id": "vUKIZccBbeJK"
      },
      "source": [
        "**■ R 을 활용한 머신러닝**\r\n",
        "\r\n",
        "  1장. 기계학습이 무엇인지 ? 기계학습의 종류   \r\n",
        "  2장. 머신러닝의 공부하기 위해서 기본적으로 알아야하는 내용  \r\n",
        "   1. factor 가 무엇인지 ?\r\n",
        "   2. R 에서 데이터를 로드하는 방법 4가지 \r\n",
        "   3. 수치변수 탐색 방법 "
      ]
    },
    {
      "cell_type": "markdown",
      "metadata": {
        "id": "odElrgSpbjsI"
      },
      "source": [
        "**■ 3. 수치변수 탐색 방법**\r\n",
        "\r\n",
        "   1. summary 함수로 평균, 중앙, 최소, 최대값을 확인합니다.\r\n",
        "   2. 이상치가 있는지 확인한다.\r\n",
        "   3. 데이터의 편향여부를 확인해야 합니다.\r\n",
        "   4. 히스토그램 그래프를 확인하여 데이터를 시각화해봅니다.\r\n",
        "   5. 사분위 그래프\r\n",
        "   6. 왜도값, 첨도값\r\n",
        "   7. 산포도 그래프"
      ]
    },
    {
      "cell_type": "markdown",
      "metadata": {
        "id": "MT1wyPRccOgZ"
      },
      "source": [
        "**□ 1. summary 함수를 사용한다.**\r\n",
        "\r\n",
        "데이터의 각 변수(컬럼)에 대해서 최대, 최소, 평균, 중앙값을 요약해서 보여줌\r\n",
        "\r\n",
        "이 값들을 살펴보면 데이터의 중심이 어떻게 되는지 확인할 수 있습니다.\r\n",
        "\r\n",
        "예: 중고차 가격의 평균값, 중앙값, 최대값, 최소값이 어떻게 되는지 확인\r\n"
      ]
    },
    {
      "cell_type": "code",
      "metadata": {
        "colab": {
          "base_uri": "https://localhost:8080/",
          "height": 261
        },
        "id": "JbevI0TZcQOg",
        "outputId": "e35cde5c-0848-4f41-d4ec-97854a451ee5"
      },
      "source": [
        "car <- read.csv(\"usedcars.csv\")\r\n",
        "summary(car)"
      ],
      "execution_count": 3,
      "outputs": [
        {
          "output_type": "display_data",
          "data": {
            "text/plain": [
              "      year         model               price          mileage      \n",
              " Min.   :2000   Length:150         Min.   : 3800   Min.   :  4867  \n",
              " 1st Qu.:2008   Class :character   1st Qu.:10995   1st Qu.: 27200  \n",
              " Median :2009   Mode  :character   Median :13592   Median : 36385  \n",
              " Mean   :2009                      Mean   :12962   Mean   : 44261  \n",
              " 3rd Qu.:2010                      3rd Qu.:14904   3rd Qu.: 55124  \n",
              " Max.   :2012                      Max.   :21992   Max.   :151479  \n",
              "    color           transmission      \n",
              " Length:150         Length:150        \n",
              " Class :character   Class :character  \n",
              " Mode  :character   Mode  :character  \n",
              "                                      \n",
              "                                      \n",
              "                                      "
            ]
          },
          "metadata": {
            "tags": []
          }
        }
      ]
    },
    {
      "cell_type": "markdown",
      "metadata": {
        "id": "ajhiynhtclQX"
      },
      "source": [
        "결과에 대한 설명 : \r\n",
        " \r\n",
        "    중고차 가격 최소 : 3800 달러 (456만원)  \r\n",
        "  \t\t      평균 : 12962 달러 (천 5백 5십 5만원)\r\n",
        "\t  \t      최대 : 21992 달러 (2천 6백만원)\r\n"
      ]
    },
    {
      "cell_type": "markdown",
      "metadata": {
        "id": "mf7TxWXadENo"
      },
      "source": [
        ""
      ]
    },
    {
      "cell_type": "markdown",
      "metadata": {
        "id": "631lTFeMdEJ8"
      },
      "source": [
        ""
      ]
    },
    {
      "cell_type": "markdown",
      "metadata": {
        "id": "-t1B00hHdEDJ"
      },
      "source": [
        "**□ 2. 이상치 확인**\r\n",
        "\r\n",
        "이상치를 확인해야 하는 이유는 이상치가 있으면 머신러닝 학습시 학습이 잘 안됩니다.\r\n"
      ]
    },
    {
      "cell_type": "code",
      "metadata": {
        "colab": {
          "base_uri": "https://localhost:8080/",
          "height": 86
        },
        "id": "f6OqipFWdOIx",
        "outputId": "ae067fb2-ab9f-4c56-8050-a3c3d69ee3f4"
      },
      "source": [
        "install.packages(\"outliers\")\r\n",
        "library(outliers)\r\n",
        "\r\n",
        "outlier( car$price )"
      ],
      "execution_count": 4,
      "outputs": [
        {
          "output_type": "stream",
          "text": [
            "Installing package into ‘/usr/local/lib/R/site-library’\n",
            "(as ‘lib’ is unspecified)\n",
            "\n"
          ],
          "name": "stderr"
        },
        {
          "output_type": "display_data",
          "data": {
            "text/plain": [
              "[1] 3800"
            ],
            "text/latex": "3800",
            "text/markdown": "3800",
            "text/html": [
              "3800"
            ]
          },
          "metadata": {
            "tags": []
          }
        }
      ]
    },
    {
      "cell_type": "markdown",
      "metadata": {
        "id": "O3E7WYHHdSeI"
      },
      "source": [
        ""
      ]
    },
    {
      "cell_type": "code",
      "metadata": {
        "colab": {
          "base_uri": "https://localhost:8080/",
          "height": 437
        },
        "id": "7UPkf6GcdSuI",
        "outputId": "036816b1-570c-48ca-ce9b-4f4a76b9330f"
      },
      "source": [
        "x2 <- boxplot(car$price)"
      ],
      "execution_count": 5,
      "outputs": [
        {
          "output_type": "display_data",
          "data": {
            "image/png": "[encoded data removed]",
            "text/plain": [
              "plot without title"
            ]
          },
          "metadata": {
            "tags": [],
            "image/png": {
              "width": 420,
              "height": 420
            }
          }
        }
      ]
    },
    {
      "cell_type": "code",
      "metadata": {
        "colab": {
          "base_uri": "https://localhost:8080/",
          "height": 33
        },
        "id": "s_jbydYudU0I",
        "outputId": "f3763f7b-a7b3-48bb-96d1-898bbe44682d"
      },
      "source": [
        "x2$out"
      ],
      "execution_count": 6,
      "outputs": [
        {
          "output_type": "display_data",
          "data": {
            "text/plain": [
              "[1] 21992 20995  4899  3800"
            ],
            "text/latex": "\\begin{enumerate*}\n\\item 21992\n\\item 20995\n\\item 4899\n\\item 3800\n\\end{enumerate*}\n",
            "text/markdown": "1. 21992\n2. 20995\n3. 4899\n4. 3800\n\n\n",
            "text/html": [
              "<style>\n",
              ".list-inline {list-style: none; margin:0; padding: 0}\n",
              ".list-inline>li {display: inline-block}\n",
              ".list-inline>li:not(:last-child)::after {content: \"\\00b7\"; padding: 0 .5ex}\n",
              "</style>\n",
              "<ol class=list-inline><li>21992</li><li>20995</li><li>4899</li><li>3800</li></ol>\n"
            ]
          },
          "metadata": {
            "tags": []
          }
        }
      ]
    },
    {
      "cell_type": "markdown",
      "metadata": {
        "id": "vp7IK72SdWoo"
      },
      "source": [
        "이상치를 포함시켜서 학습을 시켰는데 모델의 정확도가 높지 않다면\r\n",
        "이상치를 제거하고 학습을 시켜서 모델의 정확도가 올라가는지 확인해야합니다.\r\n"
      ]
    },
    {
      "cell_type": "markdown",
      "metadata": {
        "id": "UdQARrjtdXUj"
      },
      "source": [
        ""
      ]
    },
    {
      "cell_type": "markdown",
      "metadata": {
        "id": "gzl_tOuPdXsc"
      },
      "source": [
        ""
      ]
    },
    {
      "cell_type": "markdown",
      "metadata": {
        "id": "KyX8uDMWdXj3"
      },
      "source": [
        "**□ 3. 편향여부 확인** \r\n",
        "\r\n",
        "평균값과 중앙값을 비교해서 편향여부를 확인할 수 있습니다.\r\n",
        "\r\n",
        "![image.png](data:image/png;base64,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)\r\n",
        "\r\n",
        "그림출처-https://m.blog.naver.com/bluefish850/220696377742\r\n",
        "\r\n",
        "    평균값 > 중앙값 --> 이상치 때문에 평균이 올라간 것입니다.\r\n",
        "\t\t\t        \t데이터가 오른쪽으로 편향이 됩니다.\r\n",
        "\r\n",
        "    평균값 < 중앙값 --> 데이터가 왼쪽으로 편향이 됩니다.\r\n",
        "\r\n",
        "예제: 중고차 가격 데이터의 편향 여부를 확인합니다."
      ]
    },
    {
      "cell_type": "code",
      "metadata": {
        "colab": {
          "base_uri": "https://localhost:8080/",
          "height": 52
        },
        "id": "BWhFN5GDditv",
        "outputId": "c511a018-ff3a-40a6-dfa5-c7eb3b923634"
      },
      "source": [
        "summary(car$price)"
      ],
      "execution_count": 7,
      "outputs": [
        {
          "output_type": "display_data",
          "data": {
            "text/plain": [
              "   Min. 1st Qu.  Median    Mean 3rd Qu.    Max. \n",
              "   3800   10995   13592   12962   14904   21992 "
            ]
          },
          "metadata": {
            "tags": []
          }
        }
      ]
    },
    {
      "cell_type": "markdown",
      "metadata": {
        "id": "y-Pi_u9Bdj8w"
      },
      "source": [
        "평균값 : 12962   <   중앙값 : 13592"
      ]
    },
    {
      "cell_type": "markdown",
      "metadata": {
        "id": "zfrerzb5dpRX"
      },
      "source": [
        ""
      ]
    },
    {
      "cell_type": "markdown",
      "metadata": {
        "id": "sFUJgi3sdpKs"
      },
      "source": [
        ""
      ]
    },
    {
      "cell_type": "markdown",
      "metadata": {
        "id": "CalyXKOIdo2_"
      },
      "source": [
        "예제: 중고차의 마일리지(주행거리) 의 편향여부를 확인합니다."
      ]
    },
    {
      "cell_type": "code",
      "metadata": {
        "colab": {
          "base_uri": "https://localhost:8080/",
          "height": 52
        },
        "id": "dws9zKVEdp8e",
        "outputId": "854edfa8-b652-4903-def5-8c333942ecdc"
      },
      "source": [
        "summary(car$mileage)"
      ],
      "execution_count": 8,
      "outputs": [
        {
          "output_type": "display_data",
          "data": {
            "text/plain": [
              "   Min. 1st Qu.  Median    Mean 3rd Qu.    Max. \n",
              "   4867   27200   36385   44261   55124  151479 "
            ]
          },
          "metadata": {
            "tags": []
          }
        }
      ]
    },
    {
      "cell_type": "markdown",
      "metadata": {
        "id": "S7b_69_JdtCs"
      },
      "source": [
        "평균값 : 44261   >   중앙값 : 36385\r\n",
        "\r\n",
        "설명: 평균값이 중앙값보다 크다면 데이터가 오른쪽으로 편향되었으므로\t이상치가 있는지 확인을 해봐야합니다."
      ]
    },
    {
      "cell_type": "code",
      "metadata": {
        "colab": {
          "base_uri": "https://localhost:8080/",
          "height": 33
        },
        "id": "oKWGAe2Ldyrn",
        "outputId": "640263e2-70c4-4768-f4a9-3b0b16f273dc"
      },
      "source": [
        "outlier(car$mileage)"
      ],
      "execution_count": 9,
      "outputs": [
        {
          "output_type": "display_data",
          "data": {
            "text/plain": [
              "[1] 151479"
            ],
            "text/latex": "151479",
            "text/markdown": "151479",
            "text/html": [
              "151479"
            ]
          },
          "metadata": {
            "tags": []
          }
        }
      ]
    },
    {
      "cell_type": "markdown",
      "metadata": {
        "id": "mjB7sEcBd7yi"
      },
      "source": [
        ""
      ]
    },
    {
      "cell_type": "markdown",
      "metadata": {
        "id": "Hfp-GTRJd7t5"
      },
      "source": [
        ""
      ]
    },
    {
      "cell_type": "markdown",
      "metadata": {
        "id": "4doWC-Nld7oy"
      },
      "source": [
        "**□ 4. 히스토그램 그래프를 확인하여 데이터를 시각화**"
      ]
    },
    {
      "cell_type": "code",
      "metadata": {
        "colab": {
          "base_uri": "https://localhost:8080/",
          "height": 437
        },
        "id": "4QjMTG6zfSBI",
        "outputId": "8043166a-981c-4ee7-e456-029804df71cb"
      },
      "source": [
        "table <- read.csv('usedcars.csv', header=T, stringsAsFactor=F )\r\n",
        "class1 <- sort(table$mileage)\r\n",
        "hist(table$mileage)\r\n",
        "par(new=T)\r\n",
        "plot( class1, dnorm( class1, mean=mean(class1), sd=sd(class1)),type='l', axes=FALSE, ann=FALSE, col=\"red\") "
      ],
      "execution_count": 21,
      "outputs": [
        {
          "output_type": "display_data",
          "data": {
            "image/png": "[encoded data removed]",
            "text/plain": [
              "Plot with title “Histogram of table$mileage”"
            ]
          },
          "metadata": {
            "tags": [],
            "image/png": {
              "width": 420,
              "height": 420
            }
          }
        }
      ]
    },
    {
      "cell_type": "markdown",
      "metadata": {
        "id": "WBLHmZBOeu0c"
      },
      "source": [
        ""
      ]
    },
    {
      "cell_type": "markdown",
      "metadata": {
        "id": "nvLtrkAjf7oy"
      },
      "source": [
        ""
      ]
    },
    {
      "cell_type": "markdown",
      "metadata": {
        "id": "4W87SAu5f7hN"
      },
      "source": [
        "**□ 5. 사분위 그래프**"
      ]
    },
    {
      "cell_type": "code",
      "metadata": {
        "colab": {
          "base_uri": "https://localhost:8080/",
          "height": 437
        },
        "id": "HWF0U1iXf_Zm",
        "outputId": "4299e5b7-1e7e-4482-bcfd-f8380cc14e0b"
      },
      "source": [
        "boxplot(table$mileage, col=\"green\", density=80 )"
      ],
      "execution_count": 22,
      "outputs": [
        {
          "output_type": "display_data",
          "data": {
            "image/png": "[encoded data removed]",
            "text/plain": [
              "plot without title"
            ]
          },
          "metadata": {
            "tags": [],
            "image/png": {
              "width": 420,
              "height": 420
            }
          }
        }
      ]
    },
    {
      "cell_type": "markdown",
      "metadata": {
        "id": "d1eEPquCgWHc"
      },
      "source": [
        ""
      ]
    },
    {
      "cell_type": "markdown",
      "metadata": {
        "id": "yGa6D0lqgV4s"
      },
      "source": [
        ""
      ]
    },
    {
      "cell_type": "markdown",
      "metadata": {
        "id": "Kt9VS2OEgVyM"
      },
      "source": [
        "**□ 6. 왜도값, 첨도값**\r\n",
        "\r\n",
        "\t 1) 왜도 : 데이터의 좌우로 기울어짐 정도\r\n",
        "\t\t왜도값 > 0 : 오른쪽으로 꼬리가 길다\r\n",
        "\t\t왜도값 < 0 : 왼쪽으로 꼬리가 길다\r\n",
        "\t\t\r\n",
        "\t\r\n",
        "\t 2) 첨도 : 위아래 뽀족한 정도\r\n",
        "\t\t첨도값이 3에 가까울수록 정규분포에 해당하고\r\n",
        "\t\t3보다 작은 경우는 완만한 곡선\r\n",
        "\t\t3보다 크면 뾰족한 곡선\r\n",
        "    \r\n",
        "    가급적 데이터가 정규분포 형태를 보여야 학습이 잘 됩니다.\r\n",
        "\r\n",
        "예제: 중고차의 주행거리의 왜도값을 확인하기"
      ]
    },
    {
      "cell_type": "code",
      "metadata": {
        "colab": {
          "base_uri": "https://localhost:8080/",
          "height": 365
        },
        "id": "n029jDaOgZyR",
        "outputId": "8dab82f2-cb6e-4b53-a40d-3573929a0e54"
      },
      "source": [
        "install.packages(\"fBasics\")\r\n",
        "library(fBasics)\r\n",
        "skewness(car$mileage)"
      ],
      "execution_count": 23,
      "outputs": [
        {
          "output_type": "stream",
          "text": [
            "Installing package into ‘/usr/local/lib/R/site-library’\n",
            "(as ‘lib’ is unspecified)\n",
            "\n",
            "also installing the dependencies ‘timeDate’, ‘timeSeries’, ‘gss’, ‘stabledist’\n",
            "\n",
            "\n",
            "Loading required package: timeDate\n",
            "\n",
            "Loading required package: timeSeries\n",
            "\n",
            "\n",
            "Attaching package: ‘timeSeries’\n",
            "\n",
            "\n",
            "The following object is masked from ‘package:outliers’:\n",
            "\n",
            "    outlier\n",
            "\n",
            "\n"
          ],
          "name": "stderr"
        },
        {
          "output_type": "display_data",
          "data": {
            "text/plain": [
              "[1] 1.231805\n",
              "attr(,\"method\")\n",
              "[1] \"moment\""
            ],
            "text/latex": "1.23180499415081",
            "text/markdown": "1.23180499415081",
            "text/html": [
              "1.23180499415081"
            ]
          },
          "metadata": {
            "tags": []
          }
        }
      ]
    },
    {
      "cell_type": "markdown",
      "metadata": {
        "id": "KUUQSX-Qgknc"
      },
      "source": [
        "왜도값=1.23180499415081 > 0 으로 오른쪽으로 꼬리가 긴 경우 입니다.  \r\n",
        "평균값 > 중앙값 경우로 이상치가 평균값을 한쪽 방향으로 잡아끄는 경우입니다.\r\n"
      ]
    },
    {
      "cell_type": "markdown",
      "metadata": {
        "id": "vnS1am8Fgmkb"
      },
      "source": [
        ""
      ]
    },
    {
      "cell_type": "markdown",
      "metadata": {
        "id": "-grDMQQfgme_"
      },
      "source": [
        ""
      ]
    },
    {
      "cell_type": "markdown",
      "metadata": {
        "id": "20QdBw3fgmZI"
      },
      "source": [
        "**□ 7. 산포도 그래프**\r\n",
        "\r\n",
        "두 변수간의 관계를 파악할 때 사용하는 그래프  \r\n",
        "특히 두 변수간의 관계가 양의 관계인지 음의 관계인지 파악할 때 유용합니다.\r\n",
        "\r\n",
        "빅데이터 기사시험: 4-51  \r\n",
        "두 데이터(변량) 간의 상관관계 유무를 xy 평면상에 시각적으로 나타내는 그림입니다.\r\n",
        "\r\n",
        "예제: 사원 테이블의 커미션과 월급과의 관계를 산포도 그래프로 그리시오 !\r\n"
      ]
    },
    {
      "cell_type": "code",
      "metadata": {
        "colab": {
          "base_uri": "https://localhost:8080/",
          "height": 437
        },
        "id": "SrMH9FkTgmF3",
        "outputId": "e430a085-6ca5-412b-87fb-ef8eeeef57c2"
      },
      "source": [
        "plot( emp$comm,  emp$sal, pch=21, col='red', bg='red')"
      ],
      "execution_count": 26,
      "outputs": [
        {
          "output_type": "display_data",
          "data": {
            "image/png": "[encoded data removed]",
            "text/plain": [
              "plot without title"
            ]
          },
          "metadata": {
            "tags": [],
            "image/png": {
              "width": 420,
              "height": 420
            }
          }
        }
      ]
    },
    {
      "cell_type": "markdown",
      "metadata": {
        "id": "aQiVV8angzu3"
      },
      "source": [
        "설명: 그래프를 보면 커미션을 받는 사원들의 월급이 대체적으로 작은것을 확인할 수 있습니다.  \r\n",
        "이 사원들의 직업은 SALESMAN 이라서 커미션으로 수익을 올리기 때문이라고 볼 수 있습니다.\r\n",
        "\t"
      ]
    },
    {
      "cell_type": "markdown",
      "metadata": {
        "id": "7f8RAw7FgxYB"
      },
      "source": [
        ""
      ]
    },
    {
      "cell_type": "markdown",
      "metadata": {
        "id": "iq_7R7lmgxRa"
      },
      "source": [
        ""
      ]
    },
    {
      "cell_type": "markdown",
      "metadata": {
        "id": "p4ldjqMTgxLs"
      },
      "source": [
        "문제166. 중고차의 주행거리가 높으면 중고차의 가격이 낮아지는지 산포도 그래프로 확인하시오 !\r\n"
      ]
    },
    {
      "cell_type": "code",
      "metadata": {
        "colab": {
          "base_uri": "https://localhost:8080/",
          "height": 437
        },
        "id": "0ZPm5PGOg4Ps",
        "outputId": "956b8899-c783-4033-8c42-3033e40ff96a"
      },
      "source": [
        "plot( car$mileage, car$price, pch=21, col='blue', bg='blue')"
      ],
      "execution_count": 27,
      "outputs": [
        {
          "output_type": "display_data",
          "data": {
            "image/png": "[encoded data removed]",
            "text/plain": [
              "plot without title"
            ]
          },
          "metadata": {
            "tags": [],
            "image/png": {
              "width": 420,
              "height": 420
            }
          }
        }
      ]
    },
    {
      "cell_type": "markdown",
      "metadata": {
        "id": "z_anCGk_g8IU"
      },
      "source": [
        "설명: 주행거리가 높을수록 가격이 낮아지는 음의 상관관계를 보이고 있습니다.\r\n"
      ]
    },
    {
      "cell_type": "code",
      "metadata": {
        "colab": {
          "base_uri": "https://localhost:8080/",
          "height": 33
        },
        "id": "bhjOtEfshEXI",
        "outputId": "0970b449-211e-47fe-ce5f-2e4c77786f6e"
      },
      "source": [
        "cor( car$mileage, car$price )   # 상관계수"
      ],
      "execution_count": 28,
      "outputs": [
        {
          "output_type": "display_data",
          "data": {
            "text/plain": [
              "[1] -0.8061494"
            ],
            "text/latex": "-0.806149364138829",
            "text/markdown": "-0.806149364138829",
            "text/html": [
              "-0.806149364138829"
            ]
          },
          "metadata": {
            "tags": []
          }
        }
      ]
    },
    {
      "cell_type": "markdown",
      "metadata": {
        "id": "2IXOMmO9g96T"
      },
      "source": [
        ""
      ]
    },
    {
      "cell_type": "markdown",
      "metadata": {
        "id": "GgKzmmAvhVU7"
      },
      "source": [
        ""
      ]
    },
    {
      "cell_type": "markdown",
      "metadata": {
        "id": "kqdbXM6ohVOb"
      },
      "source": [
        "문제167. 산포도 그래프를 자동화 스크립트 7번에 추가하시오 !\r\n"
      ]
    },
    {
      "cell_type": "code",
      "metadata": {
        "id": "iHyn47NKhclB"
      },
      "source": [
        "sanpodo <- function() {\r\n",
        "       \r\n",
        "       fname <- file.choose()\r\n",
        "       table <- read.csv(fname, header=T, stringsAsFactor=F )\r\n",
        "\r\n",
        "       print(data.table(colnames(table)))\r\n",
        "\r\n",
        "       xcol_num <- as.numeric(readline('x축 컬럼 번호: '))\r\n",
        "       ycol_num <- as.numeric(readline('y축 컬럼 번호: '))      \r\n",
        "\r\n",
        "       xcol <- colnames(table[xcol_num])\r\n",
        "       ycol <- colnames(table[ycol_num])\r\n",
        "\r\n",
        "       xcol2 <- table[,xcol]\r\n",
        "       ycol2 <- table[,ycol]\r\n",
        "\r\n",
        "       plot(xcol2,ycol2,\r\n",
        "       main=paste(xcol,'과',ycol,'의 산포도 그래프'),,lwd=2, xlab=xcol,ylab=ycol,col='blue',pch=21,bg='blue')\r\n",
        "                         }"
      ],
      "execution_count": null,
      "outputs": []
    },
    {
      "cell_type": "markdown",
      "metadata": {
        "id": "K9MGrHpIhjZq"
      },
      "source": [
        "위의 산포도 그래프 스크립트를 자동화 함수에 추가"
      ]
    },
    {
      "cell_type": "markdown",
      "metadata": {
        "id": "s1GiDIUNh_BF"
      },
      "source": [
        ""
      ]
    },
    {
      "cell_type": "markdown",
      "metadata": {
        "id": "FsYh73zrh-8D"
      },
      "source": [
        ""
      ]
    },
    {
      "cell_type": "markdown",
      "metadata": {
        "id": "bi-ecA9Lh-0K"
      },
      "source": [
        "**■ 2장의 내용**\r\n",
        "\r\n",
        " 1. Factor 를 이해\r\n",
        " 2. R 로 데이터를 로드하는 4가지 방법\r\n",
        " 3. 수치형 데이터를 관찰하는 7가지 방법  -->  이상치 확인, 데이터의 정규성 확인, 상관관계 확인\r\n",
        " 4. 이원교차표 확인하는 방법"
      ]
    },
    {
      "cell_type": "markdown",
      "metadata": {
        "id": "fz5Cz5KEiC-I"
      },
      "source": [
        "**■ 관계의 관찰 : 이원교차표 (책 109 page)**\r\n",
        "\r\n",
        "두 명목 변수간의 관계를 관찰하기 위해 이원 교차표를 사용합니다.\r\n",
        "교차표는 하나의 변수값이 다른 변수 값에 의해 어떻게 변하는지 관찰할 수 있다는 점에서\r\n",
        "산포도와 비슷합니다.\r\n",
        "\r\n",
        "예: 두 변수간의 관계를 확인하는 기존 방법"
      ]
    },
    {
      "cell_type": "code",
      "metadata": {
        "colab": {
          "base_uri": "https://localhost:8080/",
          "height": 153
        },
        "id": "whsgq-h1iGQK",
        "outputId": "f680ff6b-f2cf-478f-a566-fcd6d5f36a96"
      },
      "source": [
        "attach(emp)\r\n",
        "tapply( empno, list(deptno, job), length, default=0)"
      ],
      "execution_count": 29,
      "outputs": [
        {
          "output_type": "display_data",
          "data": {
            "text/plain": [
              "   ANALYST CLERK MANAGER PRESIDENT SALESMAN\n",
              "10 0       1     1       1         0       \n",
              "20 2       2     1       0         0       \n",
              "30 0       1     1       0         4       "
            ],
            "text/latex": "A matrix: 3 × 5 of type dbl\n\\begin{tabular}{r|lllll}\n  & ANALYST & CLERK & MANAGER & PRESIDENT & SALESMAN\\\\\n\\hline\n\t10 & 0 & 1 & 1 & 1 & 0\\\\\n\t20 & 2 & 2 & 1 & 0 & 0\\\\\n\t30 & 0 & 1 & 1 & 0 & 4\\\\\n\\end{tabular}\n",
            "text/markdown": "\nA matrix: 3 × 5 of type dbl\n\n| <!--/--> | ANALYST | CLERK | MANAGER | PRESIDENT | SALESMAN |\n|---|---|---|---|---|---|\n| 10 | 0 | 1 | 1 | 1 | 0 |\n| 20 | 2 | 2 | 1 | 0 | 0 |\n| 30 | 0 | 1 | 1 | 0 | 4 |\n\n",
            "text/html": [
              "<table class=\"dataframe\">\n",
              "<caption>A matrix: 3 × 5 of type dbl</caption>\n",
              "<thead>\n",
              "\t<tr><th></th><th scope=col>ANALYST</th><th scope=col>CLERK</th><th scope=col>MANAGER</th><th scope=col>PRESIDENT</th><th scope=col>SALESMAN</th></tr>\n",
              "</thead>\n",
              "<tbody>\n",
              "\t<tr><th scope=row>10</th><td>0</td><td>1</td><td>1</td><td>1</td><td>0</td></tr>\n",
              "\t<tr><th scope=row>20</th><td>2</td><td>2</td><td>1</td><td>0</td><td>0</td></tr>\n",
              "\t<tr><th scope=row>30</th><td>0</td><td>1</td><td>1</td><td>0</td><td>4</td></tr>\n",
              "</tbody>\n",
              "</table>\n"
            ]
          },
          "metadata": {
            "tags": []
          }
        }
      ]
    },
    {
      "cell_type": "markdown",
      "metadata": {
        "id": "0grCnTHGiC33"
      },
      "source": [
        "이원 교차표로 확인하는 방법"
      ]
    },
    {
      "cell_type": "code",
      "metadata": {
        "colab": {
          "base_uri": "https://localhost:8080/"
        },
        "id": "iQDuz2PEiL9s",
        "outputId": "1a9edbbc-bec0-4f71-9bb8-7f6789ca5ba1"
      },
      "source": [
        "install.packages(\"gmodels\")\r\n",
        "library(gmodels)\r\n",
        "CrossTable(x=emp$deptno, y=emp$job)"
      ],
      "execution_count": 30,
      "outputs": [
        {
          "output_type": "stream",
          "text": [
            "Installing package into ‘/usr/local/lib/R/site-library’\n",
            "(as ‘lib’ is unspecified)\n",
            "\n",
            "also installing the dependencies ‘gtools’, ‘gdata’\n",
            "\n",
            "\n"
          ],
          "name": "stderr"
        },
        {
          "output_type": "stream",
          "text": [
            "\n",
            " \n",
            "   Cell Contents\n",
            "|-------------------------|\n",
            "|                       N |\n",
            "| Chi-square contribution |\n",
            "|           N / Row Total |\n",
            "|           N / Col Total |\n",
            "|         N / Table Total |\n",
            "|-------------------------|\n",
            "\n",
            " \n",
            "Total Observations in Table:  14 \n",
            "\n",
            " \n",
            "             | emp$job \n",
            "  emp$deptno |   ANALYST |     CLERK |   MANAGER | PRESIDENT |  SALESMAN | Row Total | \n",
            "-------------|-----------|-----------|-----------|-----------|-----------|-----------|\n",
            "          10 |         0 |         1 |         1 |         1 |         0 |         3 | \n",
            "             |     0.429 |     0.024 |     0.198 |     2.881 |     0.857 |           | \n",
            "             |     0.000 |     0.333 |     0.333 |     0.333 |     0.000 |     0.214 | \n",
            "             |     0.000 |     0.250 |     0.333 |     1.000 |     0.000 |           | \n",
            "             |     0.000 |     0.071 |     0.071 |     0.071 |     0.000 |           | \n",
            "-------------|-----------|-----------|-----------|-----------|-----------|-----------|\n",
            "          20 |         2 |         2 |         1 |         0 |         0 |         5 | \n",
            "             |     2.314 |     0.229 |     0.005 |     0.357 |     1.429 |           | \n",
            "             |     0.400 |     0.400 |     0.200 |     0.000 |     0.000 |     0.357 | \n",
            "             |     1.000 |     0.500 |     0.333 |     0.000 |     0.000 |           | \n",
            "             |     0.143 |     0.143 |     0.071 |     0.000 |     0.000 |           | \n",
            "-------------|-----------|-----------|-----------|-----------|-----------|-----------|\n",
            "          30 |         0 |         1 |         1 |         0 |         4 |         6 | \n",
            "             |     0.857 |     0.298 |     0.063 |     0.429 |     3.048 |           | \n",
            "             |     0.000 |     0.167 |     0.167 |     0.000 |     0.667 |     0.429 | \n",
            "             |     0.000 |     0.250 |     0.333 |     0.000 |     1.000 |           | \n",
            "             |     0.000 |     0.071 |     0.071 |     0.000 |     0.286 |           | \n",
            "-------------|-----------|-----------|-----------|-----------|-----------|-----------|\n",
            "Column Total |         2 |         4 |         3 |         1 |         4 |        14 | \n",
            "             |     0.143 |     0.286 |     0.214 |     0.071 |     0.286 |           | \n",
            "-------------|-----------|-----------|-----------|-----------|-----------|-----------|\n",
            "\n",
            " \n"
          ],
          "name": "stdout"
        }
      ]
    },
    {
      "cell_type": "markdown",
      "metadata": {
        "id": "-Bnnf2bsiR5K"
      },
      "source": [
        "※ Crosstable 해석 ?\r\n",
        "\r\n",
        " 1. 일반횟수\r\n",
        " 2. 카이 제곱 ( 기대치 비율 )\r\n",
        " 3. 행을 기준으로 비율 값 ( 가로로 읽는다. )\r\n",
        " 4. 컬럼을 기준으로 비율 값 ( 세로로 읽는다. )\r\n",
        " 5. 전체를 기준으로 비율 값\r\n",
        "\r\n",
        "해석하는 법 :\r\n",
        "표 결과 위에서 아래 순서대로"
      ]
    },
    {
      "cell_type": "markdown",
      "metadata": {
        "id": "UAvKINfmiVJX"
      },
      "source": [
        ""
      ]
    },
    {
      "cell_type": "markdown",
      "metadata": {
        "id": "dR4_9CjCiVDe"
      },
      "source": [
        ""
      ]
    },
    {
      "cell_type": "markdown",
      "metadata": {
        "id": "kKBqhUAgiU8s"
      },
      "source": [
        "예: "
      ]
    },
    {
      "cell_type": "code",
      "metadata": {
        "colab": {
          "base_uri": "https://localhost:8080/"
        },
        "id": "oFlLnyz1iW7h",
        "outputId": "27ea1306-d3fc-45d1-fab0-ef5a8db68ce4"
      },
      "source": [
        "CrossTable(x=emp$deptno, y=emp$job, chisq=TRUE)"
      ],
      "execution_count": 31,
      "outputs": [
        {
          "output_type": "stream",
          "text": [
            "Warning message in chisq.test(t, correct = FALSE, ...):\n",
            "“Chi-squared approximation may be incorrect”\n"
          ],
          "name": "stderr"
        },
        {
          "output_type": "stream",
          "text": [
            "\n",
            " \n",
            "   Cell Contents\n",
            "|-------------------------|\n",
            "|                       N |\n",
            "| Chi-square contribution |\n",
            "|           N / Row Total |\n",
            "|           N / Col Total |\n",
            "|         N / Table Total |\n",
            "|-------------------------|\n",
            "\n",
            " \n",
            "Total Observations in Table:  14 \n",
            "\n",
            " \n",
            "             | emp$job \n",
            "  emp$deptno |   ANALYST |     CLERK |   MANAGER | PRESIDENT |  SALESMAN | Row Total | \n",
            "-------------|-----------|-----------|-----------|-----------|-----------|-----------|\n",
            "          10 |         0 |         1 |         1 |         1 |         0 |         3 | \n",
            "             |     0.429 |     0.024 |     0.198 |     2.881 |     0.857 |           | \n",
            "             |     0.000 |     0.333 |     0.333 |     0.333 |     0.000 |     0.214 | \n",
            "             |     0.000 |     0.250 |     0.333 |     1.000 |     0.000 |           | \n",
            "             |     0.000 |     0.071 |     0.071 |     0.071 |     0.000 |           | \n",
            "-------------|-----------|-----------|-----------|-----------|-----------|-----------|\n",
            "          20 |         2 |         2 |         1 |         0 |         0 |         5 | \n",
            "             |     2.314 |     0.229 |     0.005 |     0.357 |     1.429 |           | \n",
            "             |     0.400 |     0.400 |     0.200 |     0.000 |     0.000 |     0.357 | \n",
            "             |     1.000 |     0.500 |     0.333 |     0.000 |     0.000 |           | \n",
            "             |     0.143 |     0.143 |     0.071 |     0.000 |     0.000 |           | \n",
            "-------------|-----------|-----------|-----------|-----------|-----------|-----------|\n",
            "          30 |         0 |         1 |         1 |         0 |         4 |         6 | \n",
            "             |     0.857 |     0.298 |     0.063 |     0.429 |     3.048 |           | \n",
            "             |     0.000 |     0.167 |     0.167 |     0.000 |     0.667 |     0.429 | \n",
            "             |     0.000 |     0.250 |     0.333 |     0.000 |     1.000 |           | \n",
            "             |     0.000 |     0.071 |     0.071 |     0.000 |     0.286 |           | \n",
            "-------------|-----------|-----------|-----------|-----------|-----------|-----------|\n",
            "Column Total |         2 |         4 |         3 |         1 |         4 |        14 | \n",
            "             |     0.143 |     0.286 |     0.214 |     0.071 |     0.286 |           | \n",
            "-------------|-----------|-----------|-----------|-----------|-----------|-----------|\n",
            "\n",
            " \n",
            "Statistics for All Table Factors\n",
            "\n",
            "\n",
            "Pearson's Chi-squared test \n",
            "------------------------------------------------------------\n",
            "Chi^2 =  13.41667     d.f. =  8     p =  0.09829496 \n",
            "\n",
            "\n",
            " \n"
          ],
          "name": "stdout"
        }
      ]
    },
    {
      "cell_type": "markdown",
      "metadata": {
        "id": "Y-I3dPZOiZpE"
      },
      "source": [
        ""
      ]
    },
    {
      "cell_type": "markdown",
      "metadata": {
        "id": "_LaqFCZXiZjG"
      },
      "source": [
        ""
      ]
    },
    {
      "cell_type": "markdown",
      "metadata": {
        "id": "FLpiHCrYiZcf"
      },
      "source": [
        "문제168. 관계를 관찰 할 수 있는 또 다른 척도인 이원 교차표를 이용해서 직업과 월급과의 관계를 관찰하여 직업별로 월급의 차이가 존재하는지 확인하시오 !\r\n",
        "\r\n",
        "월급을 2500을 기준으로 직업별로 각각 월급이 2500 이상인 사원들과 월급이 2500 보다 작은 사원들의 분포를 확인합니다.\r\n"
      ]
    },
    {
      "cell_type": "code",
      "metadata": {
        "colab": {
          "base_uri": "https://localhost:8080/",
          "height": 580
        },
        "id": "Dpa70x6gikBy",
        "outputId": "7cb979ac-4af9-412a-bc71-9731396fcdd0"
      },
      "source": [
        "install.packages('data.table')\r\n",
        "library(data.table)\r\n",
        "data.table(emp$sal, emp$sal >= 2500)"
      ],
      "execution_count": 33,
      "outputs": [
        {
          "output_type": "stream",
          "text": [
            "Installing package into ‘/usr/local/lib/R/site-library’\n",
            "(as ‘lib’ is unspecified)\n",
            "\n"
          ],
          "name": "stderr"
        },
        {
          "output_type": "display_data",
          "data": {
            "text/plain": [
              "   V1   V2   \n",
              "1  5000  TRUE\n",
              "2  2850  TRUE\n",
              "3  2450 FALSE\n",
              "4  2975  TRUE\n",
              "5  1250 FALSE\n",
              "6  1600 FALSE\n",
              "7  1500 FALSE\n",
              "8   950 FALSE\n",
              "9  1250 FALSE\n",
              "10 3000  TRUE\n",
              "11  800 FALSE\n",
              "12 3000  TRUE\n",
              "13 1100 FALSE\n",
              "14 1300 FALSE"
            ],
            "text/latex": "A data.table: 14 × 2\n\\begin{tabular}{ll}\n V1 & V2\\\\\n <int> & <lgl>\\\\\n\\hline\n\t 5000 &  TRUE\\\\\n\t 2850 &  TRUE\\\\\n\t 2450 & FALSE\\\\\n\t 2975 &  TRUE\\\\\n\t 1250 & FALSE\\\\\n\t 1600 & FALSE\\\\\n\t 1500 & FALSE\\\\\n\t  950 & FALSE\\\\\n\t 1250 & FALSE\\\\\n\t 3000 &  TRUE\\\\\n\t  800 & FALSE\\\\\n\t 3000 &  TRUE\\\\\n\t 1100 & FALSE\\\\\n\t 1300 & FALSE\\\\\n\\end{tabular}\n",
            "text/markdown": "\nA data.table: 14 × 2\n\n| V1 &lt;int&gt; | V2 &lt;lgl&gt; |\n|---|---|\n| 5000 |  TRUE |\n| 2850 |  TRUE |\n| 2450 | FALSE |\n| 2975 |  TRUE |\n| 1250 | FALSE |\n| 1600 | FALSE |\n| 1500 | FALSE |\n|  950 | FALSE |\n| 1250 | FALSE |\n| 3000 |  TRUE |\n|  800 | FALSE |\n| 3000 |  TRUE |\n| 1100 | FALSE |\n| 1300 | FALSE |\n\n",
            "text/html": [
              "<table class=\"dataframe\">\n",
              "<caption>A data.table: 14 × 2</caption>\n",
              "<thead>\n",
              "\t<tr><th scope=col>V1</th><th scope=col>V2</th></tr>\n",
              "\t<tr><th scope=col>&lt;int&gt;</th><th scope=col>&lt;lgl&gt;</th></tr>\n",
              "</thead>\n",
              "<tbody>\n",
              "\t<tr><td>5000</td><td> TRUE</td></tr>\n",
              "\t<tr><td>2850</td><td> TRUE</td></tr>\n",
              "\t<tr><td>2450</td><td>FALSE</td></tr>\n",
              "\t<tr><td>2975</td><td> TRUE</td></tr>\n",
              "\t<tr><td>1250</td><td>FALSE</td></tr>\n",
              "\t<tr><td>1600</td><td>FALSE</td></tr>\n",
              "\t<tr><td>1500</td><td>FALSE</td></tr>\n",
              "\t<tr><td> 950</td><td>FALSE</td></tr>\n",
              "\t<tr><td>1250</td><td>FALSE</td></tr>\n",
              "\t<tr><td>3000</td><td> TRUE</td></tr>\n",
              "\t<tr><td> 800</td><td>FALSE</td></tr>\n",
              "\t<tr><td>3000</td><td> TRUE</td></tr>\n",
              "\t<tr><td>1100</td><td>FALSE</td></tr>\n",
              "\t<tr><td>1300</td><td>FALSE</td></tr>\n",
              "</tbody>\n",
              "</table>\n"
            ]
          },
          "metadata": {
            "tags": []
          }
        }
      ]
    },
    {
      "cell_type": "markdown",
      "metadata": {
        "id": "xN4d0LK3iwH7"
      },
      "source": [
        "2500 이상이면 TRUE, 미만이면 FALSE\r\n",
        "\r\n"
      ]
    },
    {
      "cell_type": "markdown",
      "metadata": {
        "id": "g1djmDsLixFF"
      },
      "source": [
        ""
      ]
    },
    {
      "cell_type": "code",
      "metadata": {
        "colab": {
          "base_uri": "https://localhost:8080/",
          "height": 511
        },
        "id": "yYyHWtqki1Cu",
        "outputId": "83593b1b-7f67-4117-bea5-5272d8b202f7"
      },
      "source": [
        "# 파생변수 추가\r\n",
        "emp$sal_tf <- emp$sal >= 2500\r\n",
        "emp"
      ],
      "execution_count": 34,
      "outputs": [
        {
          "output_type": "display_data",
          "data": {
            "text/plain": [
              "   index empno ename  job       mgr  hiredate        sal  comm deptno sal_tf\n",
              "1   1    7839  KING   PRESIDENT   NA 1981-11-17 0:00 5000   NA 10      TRUE \n",
              "2   2    7698  BLAKE  MANAGER   7839 1981-05-01 0:00 2850   NA 30      TRUE \n",
              "3   3    7782  CLARK  MANAGER   7839 1981-05-09 0:00 2450   NA 10     FALSE \n",
              "4   4    7566  JONES  MANAGER   7839 1981-04-01 0:00 2975   NA 20      TRUE \n",
              "5   5    7654  MARTIN SALESMAN  7698 1981-09-10 0:00 1250 1400 30     FALSE \n",
              "6   6    7499  ALLEN  SALESMAN  7698 1981-02-11 0:00 1600  300 30     FALSE \n",
              "7   7    7844  TURNER SALESMAN  7698 1981-08-21 0:00 1500    0 30     FALSE \n",
              "8   8    7900  JAMES  CLERK     7698 1981-12-11 0:00  950   NA 30     FALSE \n",
              "9   9    7521  WARD   SALESMAN  7698 1981-02-23 0:00 1250  500 30     FALSE \n",
              "10 10    7902  FORD   ANALYST   7566 1981-12-11 0:00 3000   NA 20      TRUE \n",
              "11 11    7369  SMITH  CLERK     7902 1980-12-09 0:00  800   NA 20     FALSE \n",
              "12 12    7788  SCOTT  ANALYST   7566 1982-12-22 0:00 3000   NA 20      TRUE \n",
              "13 13    7876  ADAMS  CLERK     7788 1983-01-15 0:00 1100   NA 20     FALSE \n",
              "14 14    7934  MILLER CLERK     7782 1982-01-11 0:00 1300   NA 10     FALSE "
            ],
            "text/latex": "A data.frame: 14 × 10\n\\begin{tabular}{llllllllll}\n index & empno & ename & job & mgr & hiredate & sal & comm & deptno & sal\\_tf\\\\\n <int> & <int> & <chr> & <chr> & <int> & <chr> & <int> & <int> & <int> & <lgl>\\\\\n\\hline\n\t  1 & 7839 & KING   & PRESIDENT &   NA & 1981-11-17 0:00 & 5000 &   NA & 10 &  TRUE\\\\\n\t  2 & 7698 & BLAKE  & MANAGER   & 7839 & 1981-05-01 0:00 & 2850 &   NA & 30 &  TRUE\\\\\n\t  3 & 7782 & CLARK  & MANAGER   & 7839 & 1981-05-09 0:00 & 2450 &   NA & 10 & FALSE\\\\\n\t  4 & 7566 & JONES  & MANAGER   & 7839 & 1981-04-01 0:00 & 2975 &   NA & 20 &  TRUE\\\\\n\t  5 & 7654 & MARTIN & SALESMAN  & 7698 & 1981-09-10 0:00 & 1250 & 1400 & 30 & FALSE\\\\\n\t  6 & 7499 & ALLEN  & SALESMAN  & 7698 & 1981-02-11 0:00 & 1600 &  300 & 30 & FALSE\\\\\n\t  7 & 7844 & TURNER & SALESMAN  & 7698 & 1981-08-21 0:00 & 1500 &    0 & 30 & FALSE\\\\\n\t  8 & 7900 & JAMES  & CLERK     & 7698 & 1981-12-11 0:00 &  950 &   NA & 30 & FALSE\\\\\n\t  9 & 7521 & WARD   & SALESMAN  & 7698 & 1981-02-23 0:00 & 1250 &  500 & 30 & FALSE\\\\\n\t 10 & 7902 & FORD   & ANALYST   & 7566 & 1981-12-11 0:00 & 3000 &   NA & 20 &  TRUE\\\\\n\t 11 & 7369 & SMITH  & CLERK     & 7902 & 1980-12-09 0:00 &  800 &   NA & 20 & FALSE\\\\\n\t 12 & 7788 & SCOTT  & ANALYST   & 7566 & 1982-12-22 0:00 & 3000 &   NA & 20 &  TRUE\\\\\n\t 13 & 7876 & ADAMS  & CLERK     & 7788 & 1983-01-15 0:00 & 1100 &   NA & 20 & FALSE\\\\\n\t 14 & 7934 & MILLER & CLERK     & 7782 & 1982-01-11 0:00 & 1300 &   NA & 10 & FALSE\\\\\n\\end{tabular}\n",
            "text/markdown": "\nA data.frame: 14 × 10\n\n| index &lt;int&gt; | empno &lt;int&gt; | ename &lt;chr&gt; | job &lt;chr&gt; | mgr &lt;int&gt; | hiredate &lt;chr&gt; | sal &lt;int&gt; | comm &lt;int&gt; | deptno &lt;int&gt; | sal_tf &lt;lgl&gt; |\n|---|---|---|---|---|---|---|---|---|---|\n|  1 | 7839 | KING   | PRESIDENT |   NA | 1981-11-17 0:00 | 5000 |   NA | 10 |  TRUE |\n|  2 | 7698 | BLAKE  | MANAGER   | 7839 | 1981-05-01 0:00 | 2850 |   NA | 30 |  TRUE |\n|  3 | 7782 | CLARK  | MANAGER   | 7839 | 1981-05-09 0:00 | 2450 |   NA | 10 | FALSE |\n|  4 | 7566 | JONES  | MANAGER   | 7839 | 1981-04-01 0:00 | 2975 |   NA | 20 |  TRUE |\n|  5 | 7654 | MARTIN | SALESMAN  | 7698 | 1981-09-10 0:00 | 1250 | 1400 | 30 | FALSE |\n|  6 | 7499 | ALLEN  | SALESMAN  | 7698 | 1981-02-11 0:00 | 1600 |  300 | 30 | FALSE |\n|  7 | 7844 | TURNER | SALESMAN  | 7698 | 1981-08-21 0:00 | 1500 |    0 | 30 | FALSE |\n|  8 | 7900 | JAMES  | CLERK     | 7698 | 1981-12-11 0:00 |  950 |   NA | 30 | FALSE |\n|  9 | 7521 | WARD   | SALESMAN  | 7698 | 1981-02-23 0:00 | 1250 |  500 | 30 | FALSE |\n| 10 | 7902 | FORD   | ANALYST   | 7566 | 1981-12-11 0:00 | 3000 |   NA | 20 |  TRUE |\n| 11 | 7369 | SMITH  | CLERK     | 7902 | 1980-12-09 0:00 |  800 |   NA | 20 | FALSE |\n| 12 | 7788 | SCOTT  | ANALYST   | 7566 | 1982-12-22 0:00 | 3000 |   NA | 20 |  TRUE |\n| 13 | 7876 | ADAMS  | CLERK     | 7788 | 1983-01-15 0:00 | 1100 |   NA | 20 | FALSE |\n| 14 | 7934 | MILLER | CLERK     | 7782 | 1982-01-11 0:00 | 1300 |   NA | 10 | FALSE |\n\n",
            "text/html": [
              "<table class=\"dataframe\">\n",
              "<caption>A data.frame: 14 × 10</caption>\n",
              "<thead>\n",
              "\t<tr><th scope=col>index</th><th scope=col>empno</th><th scope=col>ename</th><th scope=col>job</th><th scope=col>mgr</th><th scope=col>hiredate</th><th scope=col>sal</th><th scope=col>comm</th><th scope=col>deptno</th><th scope=col>sal_tf</th></tr>\n",
              "\t<tr><th scope=col>&lt;int&gt;</th><th scope=col>&lt;int&gt;</th><th scope=col>&lt;chr&gt;</th><th scope=col>&lt;chr&gt;</th><th scope=col>&lt;int&gt;</th><th scope=col>&lt;chr&gt;</th><th scope=col>&lt;int&gt;</th><th scope=col>&lt;int&gt;</th><th scope=col>&lt;int&gt;</th><th scope=col>&lt;lgl&gt;</th></tr>\n",
              "</thead>\n",
              "<tbody>\n",
              "\t<tr><td> 1</td><td>7839</td><td>KING  </td><td>PRESIDENT</td><td>  NA</td><td>1981-11-17 0:00</td><td>5000</td><td>  NA</td><td>10</td><td> TRUE</td></tr>\n",
              "\t<tr><td> 2</td><td>7698</td><td>BLAKE </td><td>MANAGER  </td><td>7839</td><td>1981-05-01 0:00</td><td>2850</td><td>  NA</td><td>30</td><td> TRUE</td></tr>\n",
              "\t<tr><td> 3</td><td>7782</td><td>CLARK </td><td>MANAGER  </td><td>7839</td><td>1981-05-09 0:00</td><td>2450</td><td>  NA</td><td>10</td><td>FALSE</td></tr>\n",
              "\t<tr><td> 4</td><td>7566</td><td>JONES </td><td>MANAGER  </td><td>7839</td><td>1981-04-01 0:00</td><td>2975</td><td>  NA</td><td>20</td><td> TRUE</td></tr>\n",
              "\t<tr><td> 5</td><td>7654</td><td>MARTIN</td><td>SALESMAN </td><td>7698</td><td>1981-09-10 0:00</td><td>1250</td><td>1400</td><td>30</td><td>FALSE</td></tr>\n",
              "\t<tr><td> 6</td><td>7499</td><td>ALLEN </td><td>SALESMAN </td><td>7698</td><td>1981-02-11 0:00</td><td>1600</td><td> 300</td><td>30</td><td>FALSE</td></tr>\n",
              "\t<tr><td> 7</td><td>7844</td><td>TURNER</td><td>SALESMAN </td><td>7698</td><td>1981-08-21 0:00</td><td>1500</td><td>   0</td><td>30</td><td>FALSE</td></tr>\n",
              "\t<tr><td> 8</td><td>7900</td><td>JAMES </td><td>CLERK    </td><td>7698</td><td>1981-12-11 0:00</td><td> 950</td><td>  NA</td><td>30</td><td>FALSE</td></tr>\n",
              "\t<tr><td> 9</td><td>7521</td><td>WARD  </td><td>SALESMAN </td><td>7698</td><td>1981-02-23 0:00</td><td>1250</td><td> 500</td><td>30</td><td>FALSE</td></tr>\n",
              "\t<tr><td>10</td><td>7902</td><td>FORD  </td><td>ANALYST  </td><td>7566</td><td>1981-12-11 0:00</td><td>3000</td><td>  NA</td><td>20</td><td> TRUE</td></tr>\n",
              "\t<tr><td>11</td><td>7369</td><td>SMITH </td><td>CLERK    </td><td>7902</td><td>1980-12-09 0:00</td><td> 800</td><td>  NA</td><td>20</td><td>FALSE</td></tr>\n",
              "\t<tr><td>12</td><td>7788</td><td>SCOTT </td><td>ANALYST  </td><td>7566</td><td>1982-12-22 0:00</td><td>3000</td><td>  NA</td><td>20</td><td> TRUE</td></tr>\n",
              "\t<tr><td>13</td><td>7876</td><td>ADAMS </td><td>CLERK    </td><td>7788</td><td>1983-01-15 0:00</td><td>1100</td><td>  NA</td><td>20</td><td>FALSE</td></tr>\n",
              "\t<tr><td>14</td><td>7934</td><td>MILLER</td><td>CLERK    </td><td>7782</td><td>1982-01-11 0:00</td><td>1300</td><td>  NA</td><td>10</td><td>FALSE</td></tr>\n",
              "</tbody>\n",
              "</table>\n"
            ]
          },
          "metadata": {
            "tags": []
          }
        }
      ]
    },
    {
      "cell_type": "markdown",
      "metadata": {
        "id": "GUHYum5gi4aa"
      },
      "source": [
        "설명: emp 테이블에 sal_tf 라는 새로운 컬럼과 데이터를 만들었는데 바로 이 sal_tf 는 기존 데이터로 만든 새로운 파생변수 입니다.\r\n"
      ]
    },
    {
      "cell_type": "markdown",
      "metadata": {
        "id": "lU2AcG9qi_qo"
      },
      "source": [
        ""
      ]
    },
    {
      "cell_type": "code",
      "metadata": {
        "colab": {
          "base_uri": "https://localhost:8080/"
        },
        "id": "UapeBxCdjABC",
        "outputId": "7198353f-a41d-46c0-d8f1-a16d29736cb0"
      },
      "source": [
        "library(gmodels)\r\n",
        "CrossTable(emp$job, emp$sal_tf)"
      ],
      "execution_count": 36,
      "outputs": [
        {
          "output_type": "stream",
          "text": [
            "\n",
            " \n",
            "   Cell Contents\n",
            "|-------------------------|\n",
            "|                       N |\n",
            "| Chi-square contribution |\n",
            "|           N / Row Total |\n",
            "|           N / Col Total |\n",
            "|         N / Table Total |\n",
            "|-------------------------|\n",
            "\n",
            " \n",
            "Total Observations in Table:  14 \n",
            "\n",
            " \n",
            "             | emp$sal_tf \n",
            "     emp$job |     FALSE |      TRUE | Row Total | \n",
            "-------------|-----------|-----------|-----------|\n",
            "     ANALYST |         0 |         2 |         2 | \n",
            "             |     1.286 |     2.314 |           | \n",
            "             |     0.000 |     1.000 |     0.143 | \n",
            "             |     0.000 |     0.400 |           | \n",
            "             |     0.000 |     0.143 |           | \n",
            "-------------|-----------|-----------|-----------|\n",
            "       CLERK |         4 |         0 |         4 | \n",
            "             |     0.794 |     1.429 |           | \n",
            "             |     1.000 |     0.000 |     0.286 | \n",
            "             |     0.444 |     0.000 |           | \n",
            "             |     0.286 |     0.000 |           | \n",
            "-------------|-----------|-----------|-----------|\n",
            "     MANAGER |         1 |         2 |         3 | \n",
            "             |     0.447 |     0.805 |           | \n",
            "             |     0.333 |     0.667 |     0.214 | \n",
            "             |     0.111 |     0.400 |           | \n",
            "             |     0.071 |     0.143 |           | \n",
            "-------------|-----------|-----------|-----------|\n",
            "   PRESIDENT |         0 |         1 |         1 | \n",
            "             |     0.643 |     1.157 |           | \n",
            "             |     0.000 |     1.000 |     0.071 | \n",
            "             |     0.000 |     0.200 |           | \n",
            "             |     0.000 |     0.071 |           | \n",
            "-------------|-----------|-----------|-----------|\n",
            "    SALESMAN |         4 |         0 |         4 | \n",
            "             |     0.794 |     1.429 |           | \n",
            "             |     1.000 |     0.000 |     0.286 | \n",
            "             |     0.444 |     0.000 |           | \n",
            "             |     0.286 |     0.000 |           | \n",
            "-------------|-----------|-----------|-----------|\n",
            "Column Total |         9 |         5 |        14 | \n",
            "             |     0.643 |     0.357 |           | \n",
            "-------------|-----------|-----------|-----------|\n",
            "\n",
            " \n"
          ],
          "name": "stdout"
        }
      ]
    },
    {
      "cell_type": "markdown",
      "metadata": {
        "id": "U0JnVnRIjCaa"
      },
      "source": [
        ""
      ]
    },
    {
      "cell_type": "markdown",
      "metadata": {
        "id": "kKBP3_oujCT5"
      },
      "source": [
        ""
      ]
    },
    {
      "cell_type": "markdown",
      "metadata": {
        "id": "VM4ajculjCNQ"
      },
      "source": [
        "문제169. 중고차의 모델별로 색깔이 보수적인 색깔이 많은지 아닌지 이원교차표로 확인하시오 !\r\n",
        "\r\n",
        "    보수적인 색깔 : Black, Gray, Silver, White"
      ]
    },
    {
      "cell_type": "code",
      "metadata": {
        "colab": {
          "base_uri": "https://localhost:8080/"
        },
        "id": "dAAboQP6jF18",
        "outputId": "75403f02-df32-4cc8-d7f0-ceef7a4df77b"
      },
      "source": [
        "car$col_tf <- car$color %in% c(\"Black\", \"Gray\", \"Silver\", \"White\")\r\n",
        "library(gmodels)\r\n",
        "CrossTable(car$model, car$col_tf)"
      ],
      "execution_count": 42,
      "outputs": [
        {
          "output_type": "stream",
          "text": [
            "\n",
            " \n",
            "   Cell Contents\n",
            "|-------------------------|\n",
            "|                       N |\n",
            "| Chi-square contribution |\n",
            "|           N / Row Total |\n",
            "|           N / Col Total |\n",
            "|         N / Table Total |\n",
            "|-------------------------|\n",
            "\n",
            " \n",
            "Total Observations in Table:  150 \n",
            "\n",
            " \n",
            "             | car$col_tf \n",
            "   car$model |     FALSE |      TRUE | Row Total | \n",
            "-------------|-----------|-----------|-----------|\n",
            "          SE |        27 |        51 |        78 | \n",
            "             |     0.009 |     0.004 |           | \n",
            "             |     0.346 |     0.654 |     0.520 | \n",
            "             |     0.529 |     0.515 |           | \n",
            "             |     0.180 |     0.340 |           | \n",
            "-------------|-----------|-----------|-----------|\n",
            "         SEL |         7 |        16 |        23 | \n",
            "             |     0.086 |     0.044 |           | \n",
            "             |     0.304 |     0.696 |     0.153 | \n",
            "             |     0.137 |     0.162 |           | \n",
            "             |     0.047 |     0.107 |           | \n",
            "-------------|-----------|-----------|-----------|\n",
            "         SES |        17 |        32 |        49 | \n",
            "             |     0.007 |     0.004 |           | \n",
            "             |     0.347 |     0.653 |     0.327 | \n",
            "             |     0.333 |     0.323 |           | \n",
            "             |     0.113 |     0.213 |           | \n",
            "-------------|-----------|-----------|-----------|\n",
            "Column Total |        51 |        99 |       150 | \n",
            "             |     0.340 |     0.660 |           | \n",
            "-------------|-----------|-----------|-----------|\n",
            "\n",
            " \n"
          ],
          "name": "stdout"
        }
      ]
    }
  ]
}