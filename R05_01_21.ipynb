{
  "nbformat": 4,
  "nbformat_minor": 0,
  "metadata": {
    "colab": {
      "name": "R05_01_21.ipynb",
      "provenance": [],
      "collapsed_sections": [],
      "authorship_tag": "ABX9TyMsThB5nm7GdOWdB6abtjGe",
      "include_colab_link": true
    },
    "kernelspec": {
      "name": "ir",
      "display_name": "R"
    }
  },
  "cells": [
    {
      "cell_type": "markdown",
      "metadata": {
        "id": "view-in-github",
        "colab_type": "text"
      },
      "source": [
        "<a href=\"https://colab.research.google.com/github/yhy0519/Machine_learning_of_R/blob/main/R05_01_21.ipynb\" target=\"_parent\"><img src=\"https://colab.research.google.com/assets/colab-badge.svg\" alt=\"Open In Colab\"/></a>"
      ]
    },
    {
      "cell_type": "markdown",
      "metadata": {
        "id": "E4k-t_Gy8Z5J"
      },
      "source": [
        "**■ emp3.csv 를 R studio 켜면 자동으로 로드 되도록 하는 방법**\r\n",
        "\r\n",
        "메모장을 관리자 권한으로 실행하고 C:\\Program Files\\R\\R-자신의버전번호\\etc\\Rprofile.site\r\n",
        "파일을 여세요.\r\n",
        "\r\n",
        "그리고 맨 아래줄에 다음의 내용을 추가하고 저장한 다음 Rstudio 를 실행합니다.\r\n"
      ]
    },
    {
      "cell_type": "code",
      "metadata": {
        "id": "1Cve-Qni8QX3"
      },
      "source": [
        "library(utils)\r\n",
        "setwd(\"c:\\\\data\")\r\n",
        "emp <- read.csv(\"emp3.csv\")\r\n",
        "dept <- read.csv(\"dept.csv\")\r\n",
        "library(data.table)\r\n",
        "library(doBy)\r\n",
        "library(dplyr)"
      ],
      "execution_count": null,
      "outputs": []
    },
    {
      "cell_type": "markdown",
      "metadata": {
        "id": "V6mhB7x48ega"
      },
      "source": [
        ""
      ]
    },
    {
      "cell_type": "markdown",
      "metadata": {
        "id": "88szBJTd8eZY"
      },
      "source": [
        ""
      ]
    },
    {
      "cell_type": "markdown",
      "metadata": {
        "id": "YYxsbD1J8hQc"
      },
      "source": [
        "** R studio 에서 Rprofile.site 찾는 코드"
      ]
    },
    {
      "cell_type": "code",
      "metadata": {
        "id": "W3uPD2kj8jmR"
      },
      "source": [
        "candidates <- c( Sys.getenv(\"R_PROFILE\"),\r\n",
        "                 file.path(Sys.getenv(\"R_HOME\"), \"etc\", \"Rprofile.site\"),\r\n",
        "                 Sys.getenv(\"R_PROFILE_USER\"),\r\n",
        "                 file.path(getwd(), \".Rprofile\") )\r\n",
        "\r\n",
        "Filter(file.exists, candidates)"
      ],
      "execution_count": null,
      "outputs": []
    },
    {
      "cell_type": "markdown",
      "metadata": {
        "id": "d1coahZ28eSw"
      },
      "source": [
        ""
      ]
    },
    {
      "cell_type": "markdown",
      "metadata": {
        "id": "rkHXuMMe8nNA"
      },
      "source": [
        ""
      ]
    },
    {
      "cell_type": "markdown",
      "metadata": {
        "id": "Zigf-adX8nHB"
      },
      "source": [
        "**■ 막대 그래프를 자동화 스크립트로 구현하기**\r\n"
      ]
    },
    {
      "cell_type": "code",
      "metadata": {
        "id": "-brATN_q8xfZ"
      },
      "source": [
        "bar <- function() {                            # R 에서 함수 만드는 코드\r\n",
        "  fname <- file.choose()                     # 윈도우 탐색기 여는 코드\r\n",
        "\r\n",
        "  table <- read.csv(fname, header=T, stringsAsFactor=F )\r\n",
        "  \r\n",
        "  print(data.table(colnames(table)))         # 컬럼명을 번호와 함께 출력하는 코드\r\n",
        "  \r\n",
        "  xcol_num <- as.numeric(readline('x축 컬럼 번호: '))   # 번호 물어보기\r\n",
        "  ycol_num <- as.numeric(readline('y축 컬럼 번호: '))   # 번호 물어보기      \r\n",
        "  \r\n",
        "  xcol <- colnames(table[xcol_num])    # x축 컬럼명을 담는 코드\r\n",
        "  ycol <- colnames(table[ycol_num])    # y축 컬럼명을 담는 코드\r\n",
        "  \r\n",
        "  xcol2 <- table[,xcol]       # 예: emp[, \"empno\"]\r\n",
        "  ycol2 <- table[,ycol]       # y 축 컬럼의 데이터를 ycol2 에 넣는다.\r\n",
        "  y_max <- max(ycol2) + 100   \r\n",
        "\r\n",
        "  barplot(ycol2, main=paste(xcol,'과',ycol,'의 막대 그래프'), names.arg=xcol2,\r\n",
        "             col=c('Green Yellow'), density=80, ylim= c(0,y_max) , beside=T)\r\n",
        "  \r\n",
        "}\r\n",
        "\r\n",
        "\r\n",
        "bar()"
      ],
      "execution_count": null,
      "outputs": []
    },
    {
      "cell_type": "markdown",
      "metadata": {
        "id": "Hbx9biiW8ySD"
      },
      "source": [
        ""
      ]
    },
    {
      "cell_type": "markdown",
      "metadata": {
        "id": "BO08qPok8yKI"
      },
      "source": [
        ""
      ]
    },
    {
      "cell_type": "markdown",
      "metadata": {
        "id": "kQHPb8hg8yCB"
      },
      "source": [
        "문제148. 위에 막대그래프 자동화 코드르르 이용해서 원형 그래프 자동화 함수를 생성하시오 !\r\n",
        "\t\t( 함수 이름은 pie2)"
      ]
    },
    {
      "cell_type": "code",
      "metadata": {
        "id": "pvGnk51C8zvJ"
      },
      "source": [
        "pie2 <- function() {                          #  R 에서 함수 만드는 코드 \r\n",
        "\r\n",
        "  fname <- file.choose()                    #  윈도우 탐색기 여는 코드\r\n",
        "\r\n",
        "  table <- read.csv(fname, header=T, stringsAsFactor=F )\r\n",
        "  \r\n",
        "  print(data.table(colnames(table)))        # 컬럼명을 번호와 함께 출력하는 코드\r\n",
        "  \r\n",
        "  xcol_num <- as.numeric(readline('x축 컬럼 번호: '))   # 번호 물어보기\r\n",
        "  ycol_num <- as.numeric(readline('y축 컬럼 번호: '))   # 번호 물어보기 \r\n",
        "  \r\n",
        "  xcol <- colnames(table[xcol_num])   # x축 컬럼명을 담는 코드\r\n",
        "  ycol <- colnames(table[ycol_num])   # y축 컬럼명을 담는 코드 \r\n",
        "  \r\n",
        "  xcol2 <- table[,xcol]           #  x 축 컬럼의 데이터를 xcol2 에 넣는다. \r\n",
        "  ycol2 <- table[,ycol]           #  y 축 컬럼의 데이터를 ycol2 에 넣는다. \r\n",
        "\r\n",
        "  y_labels <- round( ycol2/ sum(ycol2) *100, 1)\r\n",
        "  y_labels2 <-paste(xcol2, y_labels, '%')\r\n",
        " pie( ycol2 , main=paste(ycol ,'의 원형 그래프') , labels=y_labels2, col=rainbow(15) ) \r\n",
        "}\r\n",
        "\r\n",
        "pie2()"
      ],
      "execution_count": null,
      "outputs": []
    },
    {
      "cell_type": "markdown",
      "metadata": {
        "id": "kS_ijdL281ib"
      },
      "source": [
        ""
      ]
    },
    {
      "cell_type": "markdown",
      "metadata": {
        "id": "YBmvO-m181dg"
      },
      "source": [
        ""
      ]
    },
    {
      "cell_type": "markdown",
      "metadata": {
        "id": "GbcMzVsw81XM"
      },
      "source": [
        "문제149. 아래의 메뉴 코드를 실행하시오 !"
      ]
    },
    {
      "cell_type": "code",
      "metadata": {
        "id": "E3YY54OU9omy"
      },
      "source": [
        "x1 <- menu( c('막대 그래프', '원형 그래프') )\r\n",
        "x1"
      ],
      "execution_count": null,
      "outputs": []
    },
    {
      "cell_type": "markdown",
      "metadata": {
        "id": "wZVRexFI9kQ1"
      },
      "source": [
        "R studio 결과\r\n",
        "\r\n",
        "    1: 막대 그래프\r\n",
        "    2: 원형 그래프\r\n",
        "\r\n",
        "    선택:"
      ]
    },
    {
      "cell_type": "markdown",
      "metadata": {
        "id": "OEJ0qhEk9q8d"
      },
      "source": [
        ""
      ]
    },
    {
      "cell_type": "markdown",
      "metadata": {
        "id": "EvR-cdhV9q3Z"
      },
      "source": [
        ""
      ]
    },
    {
      "cell_type": "markdown",
      "metadata": {
        "id": "gDWy61Ji9qxp"
      },
      "source": [
        "문제150. 아래의 switch 코드를 실행하시오 !\r\n"
      ]
    },
    {
      "cell_type": "code",
      "metadata": {
        "id": "9YYxu9QR9sNL"
      },
      "source": [
        "my_func <- function() {\r\n",
        "        \r\n",
        "  bar <- function() {                            # R 에서 함수 만드는 코드\r\n",
        "  fname <- file.choose()                     # 윈도우 탐색기 여는 코드\r\n",
        "\r\n",
        "  table <- read.csv(fname, header=T, stringsAsFactor=F )\r\n",
        "  \r\n",
        "  print(data.table(colnames(table)))         # 컬럼명을 번호와 함께 출력하는 코드\r\n",
        "  \r\n",
        "  xcol_num <- as.numeric(readline('x축 컬럼 번호: '))   # 번호 물어보기\r\n",
        "  ycol_num <- as.numeric(readline('y축 컬럼 번호: '))   # 번호 물어보기      \r\n",
        "  \r\n",
        "  xcol <- colnames(table[xcol_num])    # x축 컬럼명을 담는 코드\r\n",
        "  ycol <- colnames(table[ycol_num])    # y축 컬럼명을 담는 코드\r\n",
        "  \r\n",
        "  xcol2 <- table[,xcol]       # 예: emp[, \"empno\"]\r\n",
        "  ycol2 <- table[,ycol]       # y 축 컬럼의 데이터를 ycol2 에 넣는다.\r\n",
        "  y_max <- max(ycol2) + 100   \r\n",
        "\r\n",
        "  barplot(ycol2, main=paste(xcol,'과',ycol,'의 막대 그래프'), names.arg=xcol2,\r\n",
        "             col=c('Green Yellow'), density=80, ylim= c(0,y_max) , beside=T)\r\n",
        "                       }\r\n",
        "\r\n",
        "   pie2 <- function() {                          #  R 에서 함수 만드는 코드 \r\n",
        "\r\n",
        "  fname <- file.choose()                    #  윈도우 탐색기 여는 코드\r\n",
        "\r\n",
        "  table <- read.csv(fname, header=T, stringsAsFactor=F )\r\n",
        "  \r\n",
        "  print(data.table(colnames(table)))        # 컬럼명을 번호와 함께 출력하는 코드\r\n",
        "  \r\n",
        "  xcol_num <- as.numeric(readline('x축 컬럼 번호: '))   # 번호 물어보기\r\n",
        "  ycol_num <- as.numeric(readline('y축 컬럼 번호: '))   # 번호 물어보기 \r\n",
        "  \r\n",
        "  xcol <- colnames(table[xcol_num])   # x축 컬럼명을 담는 코드\r\n",
        "  ycol <- colnames(table[ycol_num])   # y축 컬럼명을 담는 코드 \r\n",
        "  \r\n",
        "  xcol2 <- table[,xcol]           #  x 축 컬럼의 데이터를 xcol2 에 넣는다. \r\n",
        "  ycol2 <- table[,ycol]           #  y 축 컬럼의 데이터를 ycol2 에 넣는다. \r\n",
        "\r\n",
        "  y_labels <- round( ycol2/ sum(ycol2) *100, 1)\r\n",
        "  y_labels2 <-paste(xcol2, y_labels, '%')\r\n",
        " pie( ycol2 , main=paste(ycol ,'의 원형 그래프') , labels=y_labels2, col=rainbow(15) ) \r\n",
        "                            }\r\n",
        "\r\n",
        "    x1 <- menu( c('막대 그래프', '원형 그래프'),\r\n",
        "                      title=\"숫자를 선택하세요 ~ \" )\r\n",
        "\r\n",
        "    switch( x1,\r\n",
        "               gp1 = { bar() },\r\n",
        "               gp2 = { pie2() },\r\n",
        "            )\r\n",
        "                             }\r\n",
        "\r\n",
        "my_func()"
      ],
      "execution_count": null,
      "outputs": []
    },
    {
      "cell_type": "markdown",
      "metadata": {
        "id": "nUMkY14S9vX5"
      },
      "source": [
        ""
      ]
    },
    {
      "cell_type": "markdown",
      "metadata": {
        "id": "CeBZDOEX9vR0"
      },
      "source": [
        ""
      ]
    },
    {
      "cell_type": "markdown",
      "metadata": {
        "id": "AZhewcfL9vMD"
      },
      "source": [
        "문제151. cars.csv 를 생성하고 cars.csv 의 시계열 데이터로 라인 그래프를 그리시오 !\r\n"
      ]
    },
    {
      "cell_type": "code",
      "metadata": {
        "colab": {
          "base_uri": "https://localhost:8080/",
          "height": 437
        },
        "id": "k2B5bXkl96eR",
        "outputId": "5089b16d-0d8a-4a3c-fcbf-e97e466e2a37"
      },
      "source": [
        "setwd('/content/data')\r\n",
        "cars <- read.csv(\"cars.csv\")\r\n",
        "y_max <- max(cars$cnt2) + 3\r\n",
        "plot( cars$cnt2, type='o', col='blue', ylim=c(0,y_max), axes=FALSE, ann=FALSE )\r\n",
        "axis( 1, at=1:5, lab=cars$date2 )\r\n",
        "axis(2)\r\n",
        "legend( 2, 10, 'car', col='blue', cex=0.8, pch=21, lty=1 )"
      ],
      "execution_count": 5,
      "outputs": [
        {
          "output_type": "display_data",
          "data": {
            "image/png": "[encoded data removed]",
            "text/plain": [
              "plot without title"
            ]
          },
          "metadata": {
            "tags": [],
            "image/png": {
              "width": 420,
              "height": 420
            }
          }
        }
      ]
    },
    {
      "cell_type": "markdown",
      "metadata": {
        "id": "zENntlH2-YlJ"
      },
      "source": [
        ""
      ]
    },
    {
      "cell_type": "markdown",
      "metadata": {
        "id": "ywBF3quv-Ye2"
      },
      "source": [
        ""
      ]
    },
    {
      "cell_type": "markdown",
      "metadata": {
        "id": "9R1uZuN8-YZg"
      },
      "source": [
        "문제152. 위의 스크립트를 이용해서 윈도우에서 csv 파일을 불러와서 라인 그래프를 그리는 함수를 line2 라는 이름을 생성하시오 !"
      ]
    },
    {
      "cell_type": "code",
      "metadata": {
        "id": "ywiuveCd-Z8V"
      },
      "source": [
        "line2 <- function() {                          #  R 에서 함수 만드는 코드 \r\n",
        "\r\n",
        "  fname <- file.choose()                    #  윈도우 탐색기 여는 코드\r\n",
        "\r\n",
        "  table <- read.csv(fname, header=T, stringsAsFactor=F )\r\n",
        "  print(data.table(colnames(table)))        # 컬럼명을 번호와 함께 출력하는 코드\r\n",
        "  \r\n",
        "  xcol_num <- as.numeric(readline('x축 컬럼 번호: '))   # 번호 물어보기\r\n",
        "  ycol_num <- as.numeric(readline('y축 컬럼 번호: '))   # 번호 물어보기 \r\n",
        "  \r\n",
        "  xcol <- colnames(table[xcol_num])   # x축 컬럼명을 담는 코드\r\n",
        "  ycol <- colnames(table[ycol_num])   # y축 컬럼명을 담는 코드 \r\n",
        "  \r\n",
        "  xcol2 <- table[,xcol]           #  x 축 컬럼의 데이터를 xcol2 에 넣는다. \r\n",
        "  ycol2 <- table[,ycol]           #  y 축 컬럼의 데이터를 ycol2 에 넣는다. \r\n",
        "\r\n",
        "  y_max <- max(ycol2) + 3\r\n",
        "  plot( ycol2, type='o', col='blue', ylim=c(0,y_max), axes=FALSE, ann=FALSE )\r\n",
        "  axis( 1, at=1:5, lab=xcol2 )\r\n",
        "  axis(2)\r\n",
        "  legend( 2, 10, table, col='blue', cex=0.8, pch=21, lty=1 )\r\n",
        "}\r\n",
        "\r\n",
        "line2()"
      ],
      "execution_count": null,
      "outputs": []
    },
    {
      "cell_type": "markdown",
      "metadata": {
        "id": "znJdE-XO-b3R"
      },
      "source": [
        ""
      ]
    },
    {
      "cell_type": "markdown",
      "metadata": {
        "id": "P7mc4snR-byK"
      },
      "source": [
        ""
      ]
    },
    {
      "cell_type": "markdown",
      "metadata": {
        "id": "LCoVwKnI-bsJ"
      },
      "source": [
        "문제153. my_func 함수(그래프 통합 코드 함수) 에 line2 함수로 만든 라인 그래프를 세번째로 추가 시키시오 ~  \r\n",
        "(문제150번 코드 전체를 가져옵니다.)"
      ]
    },
    {
      "cell_type": "code",
      "metadata": {
        "id": "SrfPN8KT-fds"
      },
      "source": [
        "my_func <- function() {\r\n",
        "        \r\n",
        "  bar <- function() {                            # R 에서 함수 만드는 코드\r\n",
        "  fname <- file.choose()                     # 윈도우 탐색기 여는 코드\r\n",
        "\r\n",
        "  table <- read.csv(fname, header=T, stringsAsFactor=F )\r\n",
        "  \r\n",
        "  print(data.table(colnames(table)))         # 컬럼명을 번호와 함께 출력하는 코드\r\n",
        "  \r\n",
        "  xcol_num <- as.numeric(readline('x축 컬럼 번호: '))   # 번호 물어보기\r\n",
        "  ycol_num <- as.numeric(readline('y축 컬럼 번호: '))   # 번호 물어보기      \r\n",
        "  \r\n",
        "  xcol <- colnames(table[xcol_num])    # x축 컬럼명을 담는 코드\r\n",
        "  ycol <- colnames(table[ycol_num])    # y축 컬럼명을 담는 코드\r\n",
        "  \r\n",
        "  xcol2 <- table[,xcol]       # 예: emp[, \"empno\"]\r\n",
        "  ycol2 <- table[,ycol]       # y 축 컬럼의 데이터를 ycol2 에 넣는다.\r\n",
        "  y_max <- max(ycol2) + 100   \r\n",
        "\r\n",
        "  barplot(ycol2, main=paste(xcol,'과',ycol,'의 막대 그래프'), names.arg=xcol2,\r\n",
        "             col=c('Green Yellow'), density=80, ylim= c(0,y_max) , beside=T)\r\n",
        "                       }\r\n",
        "\r\n",
        "   pie2 <- function() {                          #  R 에서 함수 만드는 코드 \r\n",
        "\r\n",
        "  fname <- file.choose()                    #  윈도우 탐색기 여는 코드\r\n",
        "\r\n",
        "  table <- read.csv(fname, header=T, stringsAsFactor=F )\r\n",
        "  \r\n",
        "  print(data.table(colnames(table)))        # 컬럼명을 번호와 함께 출력하는 코드\r\n",
        "  \r\n",
        "  xcol_num <- as.numeric(readline('x축 컬럼 번호: '))   # 번호 물어보기\r\n",
        "  ycol_num <- as.numeric(readline('y축 컬럼 번호: '))   # 번호 물어보기 \r\n",
        "  \r\n",
        "  xcol <- colnames(table[xcol_num])   # x축 컬럼명을 담는 코드\r\n",
        "  ycol <- colnames(table[ycol_num])   # y축 컬럼명을 담는 코드 \r\n",
        "  \r\n",
        "  xcol2 <- table[,xcol]           #  x 축 컬럼의 데이터를 xcol2 에 넣는다. \r\n",
        "  ycol2 <- table[,ycol]           #  y 축 컬럼의 데이터를 ycol2 에 넣는다. \r\n",
        "\r\n",
        "  y_labels <- round( ycol2/ sum(ycol2) *100, 1)\r\n",
        "  y_labels2 <-paste(xcol2, y_labels, '%')\r\n",
        " pie( ycol2 , main=paste(ycol ,'의 원형 그래프') , labels=y_labels2, col=rainbow(15) ) \r\n",
        "                            }\r\n",
        "\r\n",
        "line2 <- function() {                          #  R 에서 함수 만드는 코드 \r\n",
        "\r\n",
        "  fname <- file.choose()                    #  윈도우 탐색기 여는 코드\r\n",
        "\r\n",
        "  table <- read.csv(fname, header=T, stringsAsFactor=F )\r\n",
        "  print(data.table(colnames(table)))        # 컬럼명을 번호와 함께 출력하는 코드\r\n",
        "  \r\n",
        "  xcol_num <- as.numeric(readline('x축 컬럼 번호: '))   # 번호 물어보기\r\n",
        "  ycol_num <- as.numeric(readline('y축 컬럼 번호: '))   # 번호 물어보기 \r\n",
        "  \r\n",
        "  xcol <- colnames(table[xcol_num])   # x축 컬럼명을 담는 코드\r\n",
        "  ycol <- colnames(table[ycol_num])   # y축 컬럼명을 담는 코드 \r\n",
        "  \r\n",
        "  xcol2 <- table[,xcol]           #  x 축 컬럼의 데이터를 xcol2 에 넣는다. \r\n",
        "  ycol2 <- table[,ycol]           #  y 축 컬럼의 데이터를 ycol2 에 넣는다. \r\n",
        "\r\n",
        "  y_max <- max(ycol2) + 3\r\n",
        "  plot( ycol2, type='o', col='blue', ylim=c(0,y_max), axes=FALSE, ann=FALSE )\r\n",
        "  axis( 1, at=1:5, lab=xcol2 )\r\n",
        "  axis(2)\r\n",
        "  legend( 2, 10, table, col='blue', cex=0.8, pch=21, lty=1 )\r\n",
        "                          }\r\n",
        "\r\n",
        "    x1 <- menu( c('막대 그래프', '원형 그래프', '라인 그래프'),\r\n",
        "                      title=\"숫자를 선택하세요 ~ \" )\r\n",
        "\r\n",
        "    switch( x1,\r\n",
        "               gp1 = { bar() },\r\n",
        "               gp2 = { pie2() },\r\n",
        "               gp3 = { line2() }\r\n",
        "            )\r\n",
        "                             }\r\n",
        "\r\n",
        "my_func()"
      ],
      "execution_count": null,
      "outputs": []
    },
    {
      "cell_type": "markdown",
      "metadata": {
        "id": "qyHYBc49-kTN"
      },
      "source": [
        ""
      ]
    },
    {
      "cell_type": "markdown",
      "metadata": {
        "id": "o6hPwl1J-kPA"
      },
      "source": [
        ""
      ]
    },
    {
      "cell_type": "markdown",
      "metadata": {
        "id": "Nl79O7Du-kJq"
      },
      "source": [
        "**■ R 에서 히스토그램 그래프 그리기**\r\n",
        "\r\n",
        "히스토그램 그래프의 정의 ?\r\n",
        "\r\n",
        "    히스토그램은 하나의 속성에 대한 데이터의 분포를 시각적으로 표현하는 그래프입니다. - 수제비 2권 3-9 참고\r\n",
        "\r\n",
        "예제: 머신러닝 R 책의 2장의 히스토그램 그래프 설명의 예제"
      ]
    },
    {
      "cell_type": "code",
      "metadata": {
        "colab": {
          "base_uri": "https://localhost:8080/",
          "height": 33
        },
        "id": "jAlkCjmm-s-h",
        "outputId": "855978b0-c1b8-4606-9cbf-5d0a3163dc5d"
      },
      "source": [
        "# 중고차 가격 데이터 : usedcars.csv\r\n",
        "\r\n",
        "# 1. 데이터를 로드하고 전체 건수를 확인합니다.\r\n",
        "usedcars <- read.csv(\"usedcars.csv\")\r\n",
        "nrow(usedcars)"
      ],
      "execution_count": 7,
      "outputs": [
        {
          "output_type": "display_data",
          "data": {
            "text/plain": [
              "[1] 150"
            ],
            "text/latex": "150",
            "text/markdown": "150",
            "text/html": [
              "150"
            ]
          },
          "metadata": {
            "tags": []
          }
        }
      ]
    },
    {
      "cell_type": "code",
      "metadata": {
        "colab": {
          "base_uri": "https://localhost:8080/",
          "height": 33
        },
        "id": "ofFsXMEc-7Yh",
        "outputId": "9d659355-c6ba-479d-987f-ce76b97a236b"
      },
      "source": [
        "# 2. 컬럼이 몇개인지 확인합니다.\r\n",
        "ncol(usedcars)"
      ],
      "execution_count": 8,
      "outputs": [
        {
          "output_type": "display_data",
          "data": {
            "text/plain": [
              "[1] 6"
            ],
            "text/latex": "6",
            "text/markdown": "6",
            "text/html": [
              "6"
            ]
          },
          "metadata": {
            "tags": []
          }
        }
      ]
    },
    {
      "cell_type": "code",
      "metadata": {
        "colab": {
          "base_uri": "https://localhost:8080/",
          "height": 261
        },
        "id": "sdSMq4wd_FBM",
        "outputId": "41c2e20c-5612-4f90-cfeb-fab7b36f5608"
      },
      "source": [
        "# 3. 각 컬럼들의 데이터에 대한 통계정보를 확인하시오.\r\n",
        "summary(usedcars)"
      ],
      "execution_count": 9,
      "outputs": [
        {
          "output_type": "display_data",
          "data": {
            "text/plain": [
              "      year         model               price          mileage      \n",
              " Min.   :2000   Length:150         Min.   : 3800   Min.   :  4867  \n",
              " 1st Qu.:2008   Class :character   1st Qu.:10995   1st Qu.: 27200  \n",
              " Median :2009   Mode  :character   Median :13592   Median : 36385  \n",
              " Mean   :2009                      Mean   :12962   Mean   : 44261  \n",
              " 3rd Qu.:2010                      3rd Qu.:14904   3rd Qu.: 55124  \n",
              " Max.   :2012                      Max.   :21992   Max.   :151479  \n",
              "    color           transmission      \n",
              " Length:150         Length:150        \n",
              " Class :character   Class :character  \n",
              " Mode  :character   Mode  :character  \n",
              "                                      \n",
              "                                      \n",
              "                                      "
            ]
          },
          "metadata": {
            "tags": []
          }
        }
      ]
    },
    {
      "cell_type": "code",
      "metadata": {
        "colab": {
          "base_uri": "https://localhost:8080/",
          "height": 437
        },
        "id": "ts1fnFiH_E7u",
        "outputId": "61261435-1362-44de-ad73-c2279829cdc1"
      },
      "source": [
        "# 4. 중고차 가격에 대해서 히스토그램 그래프를 그리시오 !\r\n",
        "hist(usedcars$price)"
      ],
      "execution_count": 10,
      "outputs": [
        {
          "output_type": "display_data",
          "data": {
            "image/png": "[encoded data removed]",
            "text/plain": [
              "Plot with title “Histogram of usedcars$price”"
            ]
          },
          "metadata": {
            "tags": [],
            "image/png": {
              "width": 420,
              "height": 420
            }
          }
        }
      ]
    },
    {
      "cell_type": "code",
      "metadata": {
        "colab": {
          "base_uri": "https://localhost:8080/",
          "height": 507
        },
        "id": "0Ogg9MB9_Ez6",
        "outputId": "fa9f9ebb-dcf7-4182-aae9-5f633d278043"
      },
      "source": [
        "# 5. 히스토그램 x 축의 간격이 좀 더 이해하기 쉽게 나올 수 있도록 그래프를 조정하시오 \r\n",
        "hist( usedcars$price, at=seq(0, 24000, by=2000), breaks=seq(0, 26000, by=2000) )"
      ],
      "execution_count": 11,
      "outputs": [
        {
          "output_type": "stream",
          "text": [
            "Warning message in plot.window(xlim, ylim, \"\", ...):\n",
            "“\"at\" is not a graphical parameter”\n",
            "Warning message in title(main = main, sub = sub, xlab = xlab, ylab = ylab, ...):\n",
            "“\"at\" is not a graphical parameter”\n"
          ],
          "name": "stderr"
        },
        {
          "output_type": "display_data",
          "data": {
            "image/png": "[encoded data removed]",
            "text/plain": [
              "Plot with title “Histogram of usedcars$price”"
            ]
          },
          "metadata": {
            "tags": [],
            "image/png": {
              "width": 420,
              "height": 420
            }
          }
        }
      ]
    },
    {
      "cell_type": "markdown",
      "metadata": {
        "id": "3ZqjMYuZ_ELi"
      },
      "source": [
        ""
      ]
    },
    {
      "cell_type": "markdown",
      "metadata": {
        "id": "v5vvkk7P_N_R"
      },
      "source": [
        ""
      ]
    },
    {
      "cell_type": "markdown",
      "metadata": {
        "id": "2S-NGBsR_N5N"
      },
      "source": [
        "문제154. 중고차의 마일리지로 히스토그램 그래프를 그리시오 ~\r\n",
        "\t"
      ]
    },
    {
      "cell_type": "code",
      "metadata": {
        "colab": {
          "base_uri": "https://localhost:8080/",
          "height": 507
        },
        "id": "64Wg2hzy_oX8",
        "outputId": "0c1a3e50-7a5e-4f9b-ba49-5a9f296adc3e"
      },
      "source": [
        "usedcars <- read.csv(\"usedcars.csv\")\r\n",
        "max_m <- max(usedcars$mileage)*1.1\r\n",
        "\r\n",
        "hist(usedcars$mileage, main=paste(\"Usedcars mileage's histogram plot\"), col='orchid',\r\n",
        "            breaks=seq(0, max_m, by=10000), at=seq(0, max_m, by=10000) )   # breaks : 막대그래프 두께, at : x축 간격 설정\r\n",
        "axis(side=2,at=seq(0,50,5))"
      ],
      "execution_count": 27,
      "outputs": [
        {
          "output_type": "stream",
          "text": [
            "Warning message in plot.window(xlim, ylim, \"\", ...):\n",
            "“\"at\" is not a graphical parameter”\n",
            "Warning message in title(main = main, sub = sub, xlab = xlab, ylab = ylab, ...):\n",
            "“\"at\" is not a graphical parameter”\n"
          ],
          "name": "stderr"
        },
        {
          "output_type": "display_data",
          "data": {
            "image/png": "[encoded data removed]",
            "text/plain": [
              "Plot with title “Usedcars mileage's histogram plot”"
            ]
          },
          "metadata": {
            "tags": [],
            "image/png": {
              "width": 420,
              "height": 420
            }
          }
        }
      ]
    },
    {
      "cell_type": "markdown",
      "metadata": {
        "id": "IaBSpHCDAQxg"
      },
      "source": [
        ""
      ]
    },
    {
      "cell_type": "markdown",
      "metadata": {
        "id": "Ot7pu6AYAQs0"
      },
      "source": [
        ""
      ]
    },
    {
      "cell_type": "markdown",
      "metadata": {
        "id": "wPxutB1WAQna"
      },
      "source": [
        "문제155. 위의 그래프 코드를 함수로 생성해서 윈도우 탐색기가 열리게 하면서 데이터를 불러와서 히스토그램 그래프가 그려지게 하시오 ! ( 함수이름:  hist2  )\r\n"
      ]
    },
    {
      "cell_type": "code",
      "metadata": {
        "id": "31yk3PIzAUPe"
      },
      "source": [
        "hist2 <- function() {      # R 에서 함수 만드는 코드 \r\n",
        "\r\n",
        "   fname <- file.choose()  #  윈도우 탐색기 여는 코드\r\n",
        "\r\n",
        "   table <- read.csv(fname, header=T, stringsAsFactor=F )\r\n",
        "\r\n",
        "   print(data.table(colnames(table))) # 컬럼명을 번호와 함께 출력하는 코드\r\n",
        "   \r\n",
        "   xcol_num <- as.numeric(readline('x축 컬럼 번호: ')) # 번호 물어보기\r\n",
        "\r\n",
        "   xcol <- colnames(table[xcol_num])   # x축 컬럼명을 담는 코드\r\n",
        "\r\n",
        "   xcol2 <- table[,xcol] #  x 축 컬럼의 데이터를 xcol2 에 넣는다. \r\n",
        "   \r\n",
        "   max_m = max(xcol2)*1.1 \r\n",
        "\r\n",
        "    hist( xcol2 , main= paste(xcol,'의 히스토그램 그래프') , col='orange', density=80 )\r\n",
        "\r\n",
        "}"
      ],
      "execution_count": null,
      "outputs": []
    },
    {
      "cell_type": "markdown",
      "metadata": {
        "id": "lB1_xFntAc4Q"
      },
      "source": [
        ""
      ]
    },
    {
      "cell_type": "markdown",
      "metadata": {
        "id": "4HlVa56hAcz5"
      },
      "source": [
        ""
      ]
    },
    {
      "cell_type": "markdown",
      "metadata": {
        "id": "_g_fND1TAcup"
      },
      "source": [
        "**■ 사분위수 그래프  (박스 플롯 그래프)**\r\n",
        "\r\n",
        "\r\n",
        "    박스플롯은 많은 데이터를 그림을 이용하여 집합의 범위와 중앙값을 빠르게 확인할 수 있으며  \r\n",
        "    또한 통계적으로 이상치 값이 있는지 빠르게 확인이 가능한 시각화 기법입니다.  \r\n",
        "    - 빅데이터 기사 시험 수제비 2권 3-9 페이지\r\n",
        "\r\n",
        "평균값과 중앙값과 최빈값만으로는 데이터 분석을 하기 부족한 경우가 있다.  \r\n",
        "평균 데이터는 데이터의 중심이 어디쯤인지 알려주지만 특정 데이터가 평균을 중심으로 어떻게 분포가 되어있는지는  \r\n",
        "알려주지 않습니다.\r\n",
        "\r\n",
        "예제: 어느 농구단의 감독이 아래의 3명의 농구선수 중에 한명을 성택하려고 합니다.  \r\n",
        "\t아래의 3명의 선수의 게임별 점수를 가지고 한명을 고른다면 어떤 선수를 골라야 하나 ?\r\n",
        "\r\n",
        "\r\n",
        "▩ 농구 선수 3명이 각각의 게임당 득점한 점수\r\n",
        "\r\n",
        "    x1 <- c(7,8,9,9,10,10,11,11,12,13)  \r\n",
        "    x2 <- c(7,9,9,10,10,10,10,11,11,13 )  \r\n",
        "    x3 <- c(1,1,7,7,10,10,10,11,13,30 )\r\n"
      ]
    },
    {
      "cell_type": "markdown",
      "metadata": {
        "id": "CWZeqToIA1Ep"
      },
      "source": [
        ""
      ]
    },
    {
      "cell_type": "markdown",
      "metadata": {
        "id": "wAa7L4dIA0-K"
      },
      "source": [
        "문제156. 위의 농구선수 3명의 득점 점수의 평균값, 중앙값, 최빈값을 각각 구하시오 !\r\n"
      ]
    },
    {
      "cell_type": "code",
      "metadata": {
        "colab": {
          "base_uri": "https://localhost:8080/",
          "height": 67
        },
        "id": "eeL00HgyAon-",
        "outputId": "beb1dbb4-f71c-4f24-d8df-76fe0a3c397c"
      },
      "source": [
        "x1 <- c(7,8,9,9,10,10,11,11,12,13)\r\n",
        "x2 <- c(7,9,9,10,10,10,10,11,11,13 )\r\n",
        "x3 <- c(1,1,7,7,10,10,10,11,13,30 )\r\n",
        "\r\n",
        "mean(x1)\r\n",
        "mean(x2)\r\n",
        "mean(x3)"
      ],
      "execution_count": 28,
      "outputs": [
        {
          "output_type": "display_data",
          "data": {
            "text/plain": [
              "[1] 10"
            ],
            "text/latex": "10",
            "text/markdown": "10",
            "text/html": [
              "10"
            ]
          },
          "metadata": {
            "tags": []
          }
        },
        {
          "output_type": "display_data",
          "data": {
            "text/plain": [
              "[1] 10"
            ],
            "text/latex": "10",
            "text/markdown": "10",
            "text/html": [
              "10"
            ]
          },
          "metadata": {
            "tags": []
          }
        },
        {
          "output_type": "display_data",
          "data": {
            "text/plain": [
              "[1] 10"
            ],
            "text/latex": "10",
            "text/markdown": "10",
            "text/html": [
              "10"
            ]
          },
          "metadata": {
            "tags": []
          }
        }
      ]
    },
    {
      "cell_type": "code",
      "metadata": {
        "colab": {
          "base_uri": "https://localhost:8080/",
          "height": 67
        },
        "id": "FITz4S_hA4V8",
        "outputId": "ef9dad9e-df74-4ae7-9bf4-eae1618d8066"
      },
      "source": [
        "median(x1)\r\n",
        "median(x2)\r\n",
        "median(x3)"
      ],
      "execution_count": 29,
      "outputs": [
        {
          "output_type": "display_data",
          "data": {
            "text/plain": [
              "[1] 10"
            ],
            "text/latex": "10",
            "text/markdown": "10",
            "text/html": [
              "10"
            ]
          },
          "metadata": {
            "tags": []
          }
        },
        {
          "output_type": "display_data",
          "data": {
            "text/plain": [
              "[1] 10"
            ],
            "text/latex": "10",
            "text/markdown": "10",
            "text/html": [
              "10"
            ]
          },
          "metadata": {
            "tags": []
          }
        },
        {
          "output_type": "display_data",
          "data": {
            "text/plain": [
              "[1] 10"
            ],
            "text/latex": "10",
            "text/markdown": "10",
            "text/html": [
              "10"
            ]
          },
          "metadata": {
            "tags": []
          }
        }
      ]
    },
    {
      "cell_type": "code",
      "metadata": {
        "colab": {
          "base_uri": "https://localhost:8080/",
          "height": 67
        },
        "id": "cpsyRcBjA4QS",
        "outputId": "ec40e269-5424-4b26-a700-8f0c784b5760"
      },
      "source": [
        "names( table(x1) ) [ table(x1) == max(table(x1)) ] \r\n",
        "names( table(x2) ) [ table(x2) == max(table(x2)) ]\r\n",
        "names( table(x3) ) [ table(x3) == max(table(x3)) ] "
      ],
      "execution_count": 31,
      "outputs": [
        {
          "output_type": "display_data",
          "data": {
            "text/plain": [
              "[1] \"9\"  \"10\" \"11\""
            ],
            "text/latex": "\\begin{enumerate*}\n\\item '9'\n\\item '10'\n\\item '11'\n\\end{enumerate*}\n",
            "text/markdown": "1. '9'\n2. '10'\n3. '11'\n\n\n",
            "text/html": [
              "<style>\n",
              ".list-inline {list-style: none; margin:0; padding: 0}\n",
              ".list-inline>li {display: inline-block}\n",
              ".list-inline>li:not(:last-child)::after {content: \"\\00b7\"; padding: 0 .5ex}\n",
              "</style>\n",
              "<ol class=list-inline><li>'9'</li><li>'10'</li><li>'11'</li></ol>\n"
            ]
          },
          "metadata": {
            "tags": []
          }
        },
        {
          "output_type": "display_data",
          "data": {
            "text/plain": [
              "[1] \"10\""
            ],
            "text/latex": "'10'",
            "text/markdown": "'10'",
            "text/html": [
              "'10'"
            ]
          },
          "metadata": {
            "tags": []
          }
        },
        {
          "output_type": "display_data",
          "data": {
            "text/plain": [
              "[1] \"10\""
            ],
            "text/latex": "'10'",
            "text/markdown": "'10'",
            "text/html": [
              "'10'"
            ]
          },
          "metadata": {
            "tags": []
          }
        }
      ]
    },
    {
      "cell_type": "markdown",
      "metadata": {
        "id": "R9vIGeALA-nV"
      },
      "source": [
        "설명: 보통은 위의 3개의 통계치로 한명의 선수를 선택할 수 있는데 위와 같은 경우는\t평균값, 중앙값, 최빈값으로는 특정 선수를 선택하기가 곤란한 경우입니다.\r\n",
        "\t\r\n",
        "이런 경우에 필요한 데이터 분석 방법은 ?\r\n",
        "\t\r\n",
        "\t각 선수의 점수의 데이터의 분포가 어떻게 분포 되었는지 분포 방식을 측정할 수 있으면 결정을 내릴 때 크게 도움을 줄 수 있습니다.\r\n",
        "\t"
      ]
    },
    {
      "cell_type": "markdown",
      "metadata": {
        "id": "jSOdaEQVA-iH"
      },
      "source": [
        ""
      ]
    },
    {
      "cell_type": "markdown",
      "metadata": {
        "id": "rQXLo25FA-cT"
      },
      "source": [
        ""
      ]
    },
    {
      "cell_type": "markdown",
      "metadata": {
        "id": "8MLa9_GCBFSQ"
      },
      "source": [
        "**■ 데이터의 분포를 확인하는 방법**\r\n",
        "\r\n",
        " 1. 범위\r\n",
        " 2. 사분위수 범위\r\n",
        " 3. 히스토그램 그래프"
      ]
    },
    {
      "cell_type": "markdown",
      "metadata": {
        "id": "WvjzzF3SBHTV"
      },
      "source": [
        ""
      ]
    },
    {
      "cell_type": "markdown",
      "metadata": {
        "id": "5uiH59eGBHxJ"
      },
      "source": [
        "**■ 범위**\r\n",
        "\r\n",
        "  데이터의 폭을 확인할 때 사용합니다."
      ]
    },
    {
      "cell_type": "code",
      "metadata": {
        "colab": {
          "base_uri": "https://localhost:8080/",
          "height": 67
        },
        "id": "xmgf_3xOA4LK",
        "outputId": "905ea88a-694d-4656-9eed-ef094ff89480"
      },
      "source": [
        "range(x1) \r\n",
        "range(x2)  \r\n",
        "range(x3)"
      ],
      "execution_count": 32,
      "outputs": [
        {
          "output_type": "display_data",
          "data": {
            "text/plain": [
              "[1]  7 13"
            ],
            "text/latex": "\\begin{enumerate*}\n\\item 7\n\\item 13\n\\end{enumerate*}\n",
            "text/markdown": "1. 7\n2. 13\n\n\n",
            "text/html": [
              "<style>\n",
              ".list-inline {list-style: none; margin:0; padding: 0}\n",
              ".list-inline>li {display: inline-block}\n",
              ".list-inline>li:not(:last-child)::after {content: \"\\00b7\"; padding: 0 .5ex}\n",
              "</style>\n",
              "<ol class=list-inline><li>7</li><li>13</li></ol>\n"
            ]
          },
          "metadata": {
            "tags": []
          }
        },
        {
          "output_type": "display_data",
          "data": {
            "text/plain": [
              "[1]  7 13"
            ],
            "text/latex": "\\begin{enumerate*}\n\\item 7\n\\item 13\n\\end{enumerate*}\n",
            "text/markdown": "1. 7\n2. 13\n\n\n",
            "text/html": [
              "<style>\n",
              ".list-inline {list-style: none; margin:0; padding: 0}\n",
              ".list-inline>li {display: inline-block}\n",
              ".list-inline>li:not(:last-child)::after {content: \"\\00b7\"; padding: 0 .5ex}\n",
              "</style>\n",
              "<ol class=list-inline><li>7</li><li>13</li></ol>\n"
            ]
          },
          "metadata": {
            "tags": []
          }
        },
        {
          "output_type": "display_data",
          "data": {
            "text/plain": [
              "[1]  1 30"
            ],
            "text/latex": "\\begin{enumerate*}\n\\item 1\n\\item 30\n\\end{enumerate*}\n",
            "text/markdown": "1. 1\n2. 30\n\n\n",
            "text/html": [
              "<style>\n",
              ".list-inline {list-style: none; margin:0; padding: 0}\n",
              ".list-inline>li {display: inline-block}\n",
              ".list-inline>li:not(:last-child)::after {content: \"\\00b7\"; padding: 0 .5ex}\n",
              "</style>\n",
              "<ol class=list-inline><li>1</li><li>30</li></ol>\n"
            ]
          },
          "metadata": {
            "tags": []
          }
        }
      ]
    },
    {
      "cell_type": "markdown",
      "metadata": {
        "id": "sV4dxWd7BNKK"
      },
      "source": [
        "범위는 그 자체로는 데이터의 폭만 설명할 뿐 그 안에서 데이터가 분포되는 방식은 설명해주지 않는다. 특히 이상치에 민감하다.  \r\n",
        "3번째 선수의 경우 어쩌다 한번 잘한 게임(30점) 인 이상치 때문에 범위가 넓어져 버렸다.  \r\n",
        "그래서 분석하기가 어려워 졌다. 그러므로 이상치로 부터 멀어질 필요가 있습니다.  \r\n",
        "이상치로 부터 멀어지고 가운데 있는 데이터에만 집중하게 해주는게 사분위수 범위입니다. \r\n"
      ]
    },
    {
      "cell_type": "markdown",
      "metadata": {
        "id": "ehz8EGv-BXLt"
      },
      "source": [
        ""
      ]
    },
    {
      "cell_type": "markdown",
      "metadata": {
        "id": "e0F16IsNBXHd"
      },
      "source": [
        ""
      ]
    },
    {
      "cell_type": "markdown",
      "metadata": {
        "id": "2Y5VNGSDBXDx"
      },
      "source": [
        "문제157. 이상치 데이터(30점)을 가지고 있는 3번째 선수의 점수 데이터로 4분위수 그래프를 그리시오\r\n"
      ]
    },
    {
      "cell_type": "code",
      "metadata": {
        "colab": {
          "base_uri": "https://localhost:8080/",
          "height": 686
        },
        "id": "neaQUTTPBX21",
        "outputId": "62f704fd-f01c-4d07-a2aa-2b8786b3ad2c"
      },
      "source": [
        "boxplot(x3)\r\n",
        "a <- boxplot(x3)\r\n",
        "a$stats"
      ],
      "execution_count": 34,
      "outputs": [
        {
          "output_type": "display_data",
          "data": {
            "text/plain": [
              "     [,1]\n",
              "[1,]  1  \n",
              "[2,]  7  \n",
              "[3,] 10  \n",
              "[4,] 11  \n",
              "[5,] 13  "
            ],
            "text/latex": "A matrix: 5 × 1 of type dbl\n\\begin{tabular}{l}\n\t  1\\\\\n\t  7\\\\\n\t 10\\\\\n\t 11\\\\\n\t 13\\\\\n\\end{tabular}\n",
            "text/markdown": "\nA matrix: 5 × 1 of type dbl\n\n|  1 |\n|  7 |\n| 10 |\n| 11 |\n| 13 |\n\n",
            "text/html": [
              "<table class=\"dataframe\">\n",
              "<caption>A matrix: 5 × 1 of type dbl</caption>\n",
              "<tbody>\n",
              "\t<tr><td> 1</td></tr>\n",
              "\t<tr><td> 7</td></tr>\n",
              "\t<tr><td>10</td></tr>\n",
              "\t<tr><td>11</td></tr>\n",
              "\t<tr><td>13</td></tr>\n",
              "</tbody>\n",
              "</table>\n"
            ]
          },
          "metadata": {
            "tags": []
          }
        },
        {
          "output_type": "display_data",
          "data": {
            "image/png": "[encoded data removed]",
            "text/plain": [
              "plot without title"
            ]
          },
          "metadata": {
            "tags": [],
            "image/png": {
              "width": 420,
              "height": 420
            }
          }
        }
      ]
    },
    {
      "cell_type": "markdown",
      "metadata": {
        "id": "dCC42W6UBcjG"
      },
      "source": [
        ""
      ]
    },
    {
      "cell_type": "markdown",
      "metadata": {
        "id": "Ak-osALoBceH"
      },
      "source": [
        ""
      ]
    },
    {
      "cell_type": "markdown",
      "metadata": {
        "id": "FKL8Q7SIBcbB"
      },
      "source": [
        "문제158. 위와 같이 사분위수 그래프를 그리면서 위의 통계치를 확인하는 이유가 무엇인가 ?\r\n"
      ]
    },
    {
      "cell_type": "markdown",
      "metadata": {
        "id": "jvAk52lxBe2f"
      },
      "source": [
        "답: \r\n",
        "\r\n",
        "    이상치 때문이다. \r\n",
        "    이상치를 제거하고 가운데 50% 의 데이터에만 집중함으로써 문제를 우회할 수 있다.\r\n",
        "\r\n",
        "머신러닝 모델을 학습 시킬때도 이상치를 제거하고 머신러닝 모델을 학습시킨 결과가\r\n",
        "훨씬 더 학습률이 좋아서 모델의 판별 정도가 더 높은 경우가 많습니다.\r\n"
      ]
    },
    {
      "cell_type": "markdown",
      "metadata": {
        "id": "TKRVVQJ5Bi6t"
      },
      "source": [
        ""
      ]
    },
    {
      "cell_type": "markdown",
      "metadata": {
        "id": "xkb131fKBjZk"
      },
      "source": [
        ""
      ]
    },
    {
      "cell_type": "markdown",
      "metadata": {
        "id": "Ah6ovRLjBjuG"
      },
      "source": [
        "문제159. 3명의 농구 선수들의 점수를 가지고 사분위스 그래프를 그리는데\r\n",
        "\t\t1번, 2번, 3번 선수의 그래프를 하나의 결과로 나오게 출력하시오 !\r\n",
        "\t\t"
      ]
    },
    {
      "cell_type": "code",
      "metadata": {
        "colab": {
          "base_uri": "https://localhost:8080/",
          "height": 437
        },
        "id": "95m-hd2DBluG",
        "outputId": "9c49cb1a-4319-4a4f-cb94-d74dfb600414"
      },
      "source": [
        "boxplot(x1, x2, x3)"
      ],
      "execution_count": 35,
      "outputs": [
        {
          "output_type": "display_data",
          "data": {
            "image/png": "[encoded data removed]",
            "text/plain": [
              "plot without title"
            ]
          },
          "metadata": {
            "tags": [],
            "image/png": {
              "width": 420,
              "height": 420
            }
          }
        }
      ]
    },
    {
      "cell_type": "markdown",
      "metadata": {
        "id": "wIIO39yXBoRJ"
      },
      "source": [
        "설명: 그래프를 보면 1, 2번 선수가 3번 선수보다 상대적으로 좁은 범위를 가지고 있습니다.  \r\n",
        "\t3번 선수는 넓은 범위를 가지고 있고 3번 선수는 2번 선수에 비해 훨씬 높은 점수(30점) 을\r\n",
        "\t득점했지만 다른 경우에는 훨씬 낮은 점수에 대한 기록도 보입니다.  \r\n",
        "  그래서 1, 2번 선수가 더 일관성이 있고 대부분의 경우에 3번 선수보다 더 높은 점수를 기록했습니다.  \r\n",
        "\t그래서 만약 세명의 선수중에 한명의 선수를 고른다면 1번과 2번 선수에서 고를 것입니다.\r\n"
      ]
    },
    {
      "cell_type": "markdown",
      "metadata": {
        "id": "UptNe1EZBsLn"
      },
      "source": [
        ""
      ]
    },
    {
      "cell_type": "markdown",
      "metadata": {
        "id": "scEm0VhMBs7v"
      },
      "source": [
        ""
      ]
    },
    {
      "cell_type": "markdown",
      "metadata": {
        "id": "hkHs75qdBsvd"
      },
      "source": [
        "** 데이터를 통계치로 분석하는 순서\r\n",
        "\r\n",
        "    평균값 ---> 중앙값 ---> 최빈값 ---> 범위 ---> 사분위수 범위 ---> 분산값 ---> 표준편차\r\n",
        "      ↓          ↓          ↓         ↓             ↓              ↓           ↓\r\n",
        "    mean        median     약간 긴코드   range       boxplot           var           std\r\n",
        "\r\n"
      ]
    },
    {
      "cell_type": "markdown",
      "metadata": {
        "id": "hwccAXpcCAtd"
      },
      "source": [
        ""
      ]
    },
    {
      "cell_type": "markdown",
      "metadata": {
        "id": "Ko3kwdqGCC4V"
      },
      "source": [
        ""
      ]
    },
    {
      "cell_type": "markdown",
      "metadata": {
        "id": "HdoqjqShCCsG"
      },
      "source": [
        "문제160. 위의 3명의 선수들 중에 3번째 선수는 제외했고 1번과 2번 선수 중 한명을 선택해야 한다면 어떻게 해야 되나요 ?\r\n",
        "\r\n",
        "    분산 : 데이터의 퍼짐정도를 수치화 한 것 확률변수가 기댓값으로 부터 얼마나 떨어진 곳에 분포하는지 가늠하는 숫자\r\n",
        "    표준편차 : 분산의 제곱근 값으로 이 값을 통하여 평균에 흩어진 정도를 확인할 수 있습니다. \r\n",
        "    - 빅데이터 기사시험 수제비2권 4-16"
      ]
    },
    {
      "cell_type": "code",
      "metadata": {
        "colab": {
          "base_uri": "https://localhost:8080/",
          "height": 50
        },
        "id": "WbDg5uK9CS2j",
        "outputId": "ee7433f5-6704-4df7-a56a-107dc90a0c90"
      },
      "source": [
        "var(x1)\r\n",
        "var(x2)  "
      ],
      "execution_count": 36,
      "outputs": [
        {
          "output_type": "display_data",
          "data": {
            "text/plain": [
              "[1] 3.333333"
            ],
            "text/latex": "3.33333333333333",
            "text/markdown": "3.33333333333333",
            "text/html": [
              "3.33333333333333"
            ]
          },
          "metadata": {
            "tags": []
          }
        },
        {
          "output_type": "display_data",
          "data": {
            "text/plain": [
              "[1] 2.444444"
            ],
            "text/latex": "2.44444444444444",
            "text/markdown": "2.44444444444444",
            "text/html": [
              "2.44444444444444"
            ]
          },
          "metadata": {
            "tags": []
          }
        }
      ]
    },
    {
      "cell_type": "code",
      "metadata": {
        "colab": {
          "base_uri": "https://localhost:8080/",
          "height": 50
        },
        "id": "KeIGpcEpCT-l",
        "outputId": "573e13a5-79fa-4572-8337-621b62e19f62"
      },
      "source": [
        "sd(x1)\r\n",
        "sd(x2)"
      ],
      "execution_count": 37,
      "outputs": [
        {
          "output_type": "display_data",
          "data": {
            "text/plain": [
              "[1] 1.825742"
            ],
            "text/latex": "1.82574185835055",
            "text/markdown": "1.82574185835055",
            "text/html": [
              "1.82574185835055"
            ]
          },
          "metadata": {
            "tags": []
          }
        },
        {
          "output_type": "display_data",
          "data": {
            "text/plain": [
              "[1] 1.563472"
            ],
            "text/latex": "1.56347191994114",
            "text/markdown": "1.56347191994114",
            "text/html": [
              "1.56347191994114"
            ]
          },
          "metadata": {
            "tags": []
          }
        }
      ]
    },
    {
      "cell_type": "markdown",
      "metadata": {
        "id": "XfNZNqcPCN8u"
      },
      "source": [
        "설명: 두번째 선수가 첫번째 선수보다 점수의 폭이 크지 않고 일관된 형태를 보이고 있다.\r\n",
        "\r\n",
        "표준편차는 데이터가 정규분포를 따른다는 가정하에 주어진 값이 얼마나 평균으로부터 멀리 떨어졌는지를 빠르게 평가할 때 사용합니다.\r\n",
        "\r\n",
        "    정규분포 68%  --->  평균으로부터 1 표준편차\r\n",
        "    정규분포 95%  --->  평균으로부터 2 표준편차\r\n",
        "    정규분포 99.7%  --->  평균으로부터 3 표준편차"
      ]
    },
    {
      "cell_type": "markdown",
      "metadata": {
        "id": "xoVgF7vdCZSD"
      },
      "source": [
        ""
      ]
    },
    {
      "cell_type": "markdown",
      "metadata": {
        "id": "mI8aCwNJCZK7"
      },
      "source": [
        ""
      ]
    },
    {
      "cell_type": "markdown",
      "metadata": {
        "id": "4omMyWhZCY8N"
      },
      "source": [
        "문제161. 중고차 가격(price) 에 대한 사분위수 그래프를 그리고 사분위수 통계치를 확인하시오 !\r\n"
      ]
    },
    {
      "cell_type": "code",
      "metadata": {
        "colab": {
          "base_uri": "https://localhost:8080/",
          "height": 758
        },
        "id": "sP2f0rrjCbZU",
        "outputId": "772f3e02-bd15-48b5-aa1a-e334db0cad80"
      },
      "source": [
        "usedcar <- read.csv(\"usedcars.csv\")\r\n",
        "a <- boxplot( usedcar$price )\r\n",
        "a"
      ],
      "execution_count": 38,
      "outputs": [
        {
          "output_type": "display_data",
          "data": {
            "text/plain": [
              "$stats\n",
              "        [,1]\n",
              "[1,]  5980.0\n",
              "[2,] 10995.0\n",
              "[3,] 13591.5\n",
              "[4,] 14906.0\n",
              "[5,] 19995.0\n",
              "attr(,\"class\")\n",
              "        1 \n",
              "\"integer\" \n",
              "\n",
              "$n\n",
              "[1] 150\n",
              "\n",
              "$conf\n",
              "         [,1]\n",
              "[1,] 13086.96\n",
              "[2,] 14096.04\n",
              "\n",
              "$out\n",
              "[1] 21992 20995  4899  3800\n",
              "\n",
              "$group\n",
              "[1] 1 1 1 1\n",
              "\n",
              "$names\n",
              "[1] \"1\"\n"
            ],
            "text/latex": "\\begin{description}\n\\item[\\$stats] \\begin{enumerate*}\n\\item 5980\n\\item 10995\n\\item 13591.5\n\\item 14906\n\\item 19995\n\\end{enumerate*}\n\n\\item[\\$n] 150\n\\item[\\$conf] A matrix: 2 × 1 of type dbl\n\\begin{tabular}{l}\n\t 13086.96\\\\\n\t 14096.04\\\\\n\\end{tabular}\n\n\\item[\\$out] \\begin{enumerate*}\n\\item 21992\n\\item 20995\n\\item 4899\n\\item 3800\n\\end{enumerate*}\n\n\\item[\\$group] \\begin{enumerate*}\n\\item 1\n\\item 1\n\\item 1\n\\item 1\n\\end{enumerate*}\n\n\\item[\\$names] '1'\n\\end{description}\n",
            "text/markdown": "$stats\n:   1. 5980\n2. 10995\n3. 13591.5\n4. 14906\n5. 19995\n\n\n\n$n\n:   150\n$conf\n:   \nA matrix: 2 × 1 of type dbl\n\n| 13086.96 |\n| 14096.04 |\n\n\n$out\n:   1. 21992\n2. 20995\n3. 4899\n4. 3800\n\n\n\n$group\n:   1. 1\n2. 1\n3. 1\n4. 1\n\n\n\n$names\n:   '1'\n\n\n",
            "text/html": [
              "<dl>\n",
              "\t<dt>$stats</dt>\n",
              "\t\t<dd><style>\n",
              ".list-inline {list-style: none; margin:0; padding: 0}\n",
              ".list-inline>li {display: inline-block}\n",
              ".list-inline>li:not(:last-child)::after {content: \"\\00b7\"; padding: 0 .5ex}\n",
              "</style>\n",
              "<ol class=list-inline><li>5980</li><li>10995</li><li>13591.5</li><li>14906</li><li>19995</li></ol>\n",
              "</dd>\n",
              "\t<dt>$n</dt>\n",
              "\t\t<dd>150</dd>\n",
              "\t<dt>$conf</dt>\n",
              "\t\t<dd><table class=\"dataframe\">\n",
              "<caption>A matrix: 2 × 1 of type dbl</caption>\n",
              "<tbody>\n",
              "\t<tr><td>13086.96</td></tr>\n",
              "\t<tr><td>14096.04</td></tr>\n",
              "</tbody>\n",
              "</table>\n",
              "</dd>\n",
              "\t<dt>$out</dt>\n",
              "\t\t<dd><style>\n",
              ".list-inline {list-style: none; margin:0; padding: 0}\n",
              ".list-inline>li {display: inline-block}\n",
              ".list-inline>li:not(:last-child)::after {content: \"\\00b7\"; padding: 0 .5ex}\n",
              "</style>\n",
              "<ol class=list-inline><li>21992</li><li>20995</li><li>4899</li><li>3800</li></ol>\n",
              "</dd>\n",
              "\t<dt>$group</dt>\n",
              "\t\t<dd><style>\n",
              ".list-inline {list-style: none; margin:0; padding: 0}\n",
              ".list-inline>li {display: inline-block}\n",
              ".list-inline>li:not(:last-child)::after {content: \"\\00b7\"; padding: 0 .5ex}\n",
              "</style>\n",
              "<ol class=list-inline><li>1</li><li>1</li><li>1</li><li>1</li></ol>\n",
              "</dd>\n",
              "\t<dt>$names</dt>\n",
              "\t\t<dd>'1'</dd>\n",
              "</dl>\n"
            ]
          },
          "metadata": {
            "tags": []
          }
        },
        {
          "output_type": "display_data",
          "data": {
            "image/png": "[encoded data removed]",
            "text/plain": [
              "plot without title"
            ]
          },
          "metadata": {
            "tags": [],
            "image/png": {
              "width": 420,
              "height": 420
            }
          }
        }
      ]
    },
    {
      "cell_type": "code",
      "metadata": {
        "id": "1UCLSbsxCd9S"
      },
      "source": [
        "a$stats    # boxplot 값 확인"
      ],
      "execution_count": null,
      "outputs": []
    },
    {
      "cell_type": "markdown",
      "metadata": {
        "id": "GbtBDGCjCiR-"
      },
      "source": [
        "R studio 결과\r\n",
        "\r\n",
        "            [,1]\r\n",
        "    [1,]  5980.0      →   하한값\r\n",
        "    [2,] 10995.0      →  하한 사분위수값\r\n",
        "    [3,] 13591.5      →  중앙값\r\n",
        "    [4,] 14906.0      →  상한 사분위수값\r\n",
        "    [5,] 19995.0      →  상한값\r\n"
      ]
    },
    {
      "cell_type": "markdown",
      "metadata": {
        "id": "xxb0Jh8kCtYq"
      },
      "source": [
        ""
      ]
    },
    {
      "cell_type": "code",
      "metadata": {
        "colab": {
          "base_uri": "https://localhost:8080/",
          "height": 33
        },
        "id": "sEKpDhW-CqQZ",
        "outputId": "1a929685-59eb-4953-bfad-7f05653bd9be"
      },
      "source": [
        "a$out    # 이상치 확인"
      ],
      "execution_count": 40,
      "outputs": [
        {
          "output_type": "display_data",
          "data": {
            "text/plain": [
              "[1] 21992 20995  4899  3800"
            ],
            "text/latex": "\\begin{enumerate*}\n\\item 21992\n\\item 20995\n\\item 4899\n\\item 3800\n\\end{enumerate*}\n",
            "text/markdown": "1. 21992\n2. 20995\n3. 4899\n4. 3800\n\n\n",
            "text/html": [
              "<style>\n",
              ".list-inline {list-style: none; margin:0; padding: 0}\n",
              ".list-inline>li {display: inline-block}\n",
              ".list-inline>li:not(:last-child)::after {content: \"\\00b7\"; padding: 0 .5ex}\n",
              "</style>\n",
              "<ol class=list-inline><li>21992</li><li>20995</li><li>4899</li><li>3800</li></ol>\n"
            ]
          },
          "metadata": {
            "tags": []
          }
        }
      ]
    },
    {
      "cell_type": "markdown",
      "metadata": {
        "id": "ii4uYa0wCojn"
      },
      "source": [
        ""
      ]
    },
    {
      "cell_type": "markdown",
      "metadata": {
        "id": "_CmZnBCZCoeE"
      },
      "source": [
        ""
      ]
    },
    {
      "cell_type": "markdown",
      "metadata": {
        "id": "3LAe-WG9CoXD"
      },
      "source": [
        "문제162. 중고차 가격의 가운데 50% 에 해당하는 데이터에 집중하기 위해서 사분위수 범위의 Q1 과 Q3 값을 확인하시오 !"
      ]
    },
    {
      "cell_type": "code",
      "metadata": {
        "id": "ULf7fXhdCxLJ"
      },
      "source": [
        "quantile( usedcar$price )"
      ],
      "execution_count": null,
      "outputs": []
    },
    {
      "cell_type": "markdown",
      "metadata": {
        "id": "wPHT8qyGCwZY"
      },
      "source": [
        "R studio 결과\r\n",
        "\r\n",
        "       0%      25%      50%      75%     100% \r\n",
        "     3800.0  10995.0  13591.5  14904.5  21992.0 \r\n",
        "               ↑        ↑       ↑\r\n",
        "               Q1        Q2       Q3\r\n",
        "        하한 사분위수  중앙값  상한 사분위수"
      ]
    },
    {
      "cell_type": "markdown",
      "metadata": {
        "id": "vM7kpvDpDA6V"
      },
      "source": [
        ""
      ]
    },
    {
      "cell_type": "markdown",
      "metadata": {
        "id": "-oRE9EqVDAzk"
      },
      "source": [
        "※ IQR ? \r\n",
        "\r\n",
        "    Q1 과 Q3 의 차이인 사분위수 범위\r\n",
        "\r\n"
      ]
    },
    {
      "cell_type": "code",
      "metadata": {
        "colab": {
          "base_uri": "https://localhost:8080/",
          "height": 33
        },
        "id": "CNi7Nr_oDDvu",
        "outputId": "976eb2ec-751d-4b41-e0e8-9476ff026c3b"
      },
      "source": [
        "IQR(usedcar$price)    # 3909.5 = 14904.5 - 10995.0"
      ],
      "execution_count": 42,
      "outputs": [
        {
          "output_type": "display_data",
          "data": {
            "text/plain": [
              "[1] 3909.5"
            ],
            "text/latex": "3909.5",
            "text/markdown": "3909.5",
            "text/html": [
              "3909.5"
            ]
          },
          "metadata": {
            "tags": []
          }
        }
      ]
    },
    {
      "cell_type": "markdown",
      "metadata": {
        "id": "vPC3q776DAm6"
      },
      "source": [
        "Inter Quartile Range (사분위수 범위)\r\n",
        "    \r\n",
        "    사분위수 범위는 자료들의 중간 50%에 포함되는 자료의 산포도를 나타냅니다.  \r\n",
        "    사분위수 범위는 1사분위수와 3사분위수 사이의 차이입니다.\r\n",
        "    - 빅데이터 기사시험 1권 2-51 "
      ]
    },
    {
      "cell_type": "markdown",
      "metadata": {
        "id": "ic0LMeaSDRnG"
      },
      "source": [
        ""
      ]
    },
    {
      "cell_type": "markdown",
      "metadata": {
        "id": "vsCQDc_8DRhR"
      },
      "source": [
        ""
      ]
    },
    {
      "cell_type": "markdown",
      "metadata": {
        "id": "bWDAjhRJDRYm"
      },
      "source": [
        "**■ 지도 그래프**\r\n",
        "\r\n",
        "map 패키지를 설치하고 중국지도만 확대해서 출력하시오 !"
      ]
    },
    {
      "cell_type": "code",
      "metadata": {
        "colab": {
          "base_uri": "https://localhost:8080/",
          "height": 542
        },
        "id": "zyyj2NbODXvd",
        "outputId": "fdeafe9e-7970-40ee-f420-3f69ae5d4066"
      },
      "source": [
        "install.packages(\"maps\")\r\n",
        "install.packages(\"mapproj\")\r\n",
        "library(maps)\r\n",
        "library(mapproj)\r\n",
        "\r\n",
        "map(\"world\", \"china\")"
      ],
      "execution_count": 43,
      "outputs": [
        {
          "output_type": "stream",
          "text": [
            "Installing package into ‘/usr/local/lib/R/site-library’\n",
            "(as ‘lib’ is unspecified)\n",
            "\n",
            "Installing package into ‘/usr/local/lib/R/site-library’\n",
            "(as ‘lib’ is unspecified)\n",
            "\n"
          ],
          "name": "stderr"
        },
        {
          "output_type": "display_data",
          "data": {
            "image/png": "[encoded data removed]",
            "text/plain": [
              "plot without title"
            ]
          },
          "metadata": {
            "tags": [],
            "image/png": {
              "width": 420,
              "height": 420
            }
          }
        }
      ]
    },
    {
      "cell_type": "markdown",
      "metadata": {
        "id": "Kmxp6dLHDZf6"
      },
      "source": [
        ""
      ]
    },
    {
      "cell_type": "markdown",
      "metadata": {
        "id": "5p0xHSFkDZa3"
      },
      "source": [
        ""
      ]
    },
    {
      "cell_type": "markdown",
      "metadata": {
        "id": "tTiV_YNDDZUa"
      },
      "source": [
        "문제163. 미국지도를 시각화 하시오 !\r\n"
      ]
    },
    {
      "cell_type": "code",
      "metadata": {
        "colab": {
          "base_uri": "https://localhost:8080/",
          "height": 437
        },
        "id": "IKf3P4_qDa_u",
        "outputId": "f83f9d61-7cf8-4b13-baf0-74ca129634d1"
      },
      "source": [
        "map(\"world\", \"USA\")"
      ],
      "execution_count": 44,
      "outputs": [
        {
          "output_type": "display_data",
          "data": {
            "image/png": "[encoded data removed]",
            "text/plain": [
              "plot without title"
            ]
          },
          "metadata": {
            "tags": [],
            "image/png": {
              "width": 420,
              "height": 420
            }
          }
        }
      ]
    },
    {
      "cell_type": "markdown",
      "metadata": {
        "id": "KUOgAS6qDgnd"
      },
      "source": [
        ""
      ]
    },
    {
      "cell_type": "markdown",
      "metadata": {
        "id": "ed1CFPEjDgih"
      },
      "source": [
        ""
      ]
    },
    {
      "cell_type": "markdown",
      "metadata": {
        "id": "uY7gnMh6Dgdl"
      },
      "source": [
        "**■ 워드 클라우드 그리기**\r\n",
        "\r\n",
        "감정분석을 위한 시각화로 워드 클라우드를 사용합니다.\r\n",
        "\r\n",
        "※ R 로 워드클라우드를 그리려면 R java 를 설치해야합니다.\r\n",
        "(install.packages(\"rJava\")  \r\n",
        "library(rJava)  해보고 안되면 설치)\r\n",
        "\r\n",
        " 1. 아래의 사이트에서 java 64비트를 다운로드 받습니다.\r\n",
        "http://www.java.com/en/download/manual.jsp - 세번째것인 offline 으로 받아서 설치\r\n",
        "\r\n",
        " 2. 자바 설치시 대상 폴더 변경으로 설치\r\n",
        " 3. 아래와 같이 환경 설정을 합니다.\r\n",
        "\r\n",
        "        Sys.setenv(JAVA_HOME=\"C:\\\\Programs Files\\\\Java\\\\jre1.8.0_251\")   # 깔아논 위치로 설정\r\n",
        "\r\n",
        " 4. R java 를 설치합니다."
      ]
    },
    {
      "cell_type": "markdown",
      "metadata": {
        "id": "VlKAdj7TDpF1"
      },
      "source": [
        ""
      ]
    },
    {
      "cell_type": "markdown",
      "metadata": {
        "id": "d7-y1IRZDp41"
      },
      "source": [
        ""
      ]
    },
    {
      "cell_type": "code",
      "metadata": {
        "id": "e-aVttx0Dw_a"
      },
      "source": [
        "install.packages(c('stringr', 'hash', 'tau', 'Sejong', 'RSQLite', 'devtools'), type = \"binary\")\r\n",
        "install.packages(\"remotes\")\r\n",
        "remotes::install_github('haven-jeon/KoNLP', upgrade = \"never\", INSTALL_opts=c(\"--no-multiarch\"), force=TRUE)\r\n",
        "library(KoNLP)\r\n",
        "useSejongDic() # 3:none\r\n",
        "\r\n",
        "install.packages(\"rJava\")\r\n",
        "library(rJava) \r\n",
        "\r\n",
        "library(rJava)\r\n",
        "install.packages(\"KoNLP\")  \r\n",
        "install.packages(\"wordcloud\")\r\n",
        "install.packages(\"plyr\") \r\n",
        "\r\n",
        "library(KoNLP)\r\n",
        "library(wordcloud)\r\n",
        "library(plyr)\r\n",
        "\r\n",
        "useSejongDic()   # 세종 사전에 있는 한글을 R 로 로드하는 명령어 \r\n",
        "\r\n",
        "setwd(\"c:\\\\data\")    # 워킹디렉토리를 소환 \r\n",
        "winter <- readLines('winter.txt')\r\n",
        "\r\n",
        "nouns <- extractNoun(winter)   # 명사 단어만 추출 \r\n",
        "nouns <- unlist(nouns)  \r\n",
        "nouns <- nouns[nchar(nouns)>=2]  #  단어중에 2철자 이상인것만 \r\n",
        "cnouns <- count(nouns)  # 단어별 건수를 출력한다.\r\n",
        "\r\n",
        "# 색깔 추가 \r\n",
        "pal <- brewer.pal(6,\"Dark2\")\r\n",
        "pal <- pal[-(1)]\r\n",
        "\r\n",
        "# 글씨 폰트 설정 \r\n",
        "windowsFonts(malgun=windowsFont(\"맑은 고딕\"))\r\n",
        "\r\n",
        "wordcloud( words=cnouns$x,   # 단어\r\n",
        "           freq=cnouns$freq,      # 단어 빈도수\r\n",
        "           colors=pal,               # 색깔\r\n",
        "           min.freq=3,              # 빈도수가 3개 이상인것만 시각화 \r\n",
        "           random.order=F,       # F 로 하게 되면 큰글씨부터 출력이 되면서\r\n",
        "           family=\"malgun\")      # 중앙에서 퍼지게 한다. \r\n",
        "                                       # 맑음 글씨체로 시각화 하겠다. "
      ],
      "execution_count": null,
      "outputs": []
    },
    {
      "cell_type": "markdown",
      "metadata": {
        "id": "QCQ8akltDprQ"
      },
      "source": [
        ""
      ]
    },
    {
      "cell_type": "markdown",
      "metadata": {
        "id": "v0G7MciUD6Ku"
      },
      "source": [
        ""
      ]
    },
    {
      "cell_type": "markdown",
      "metadata": {
        "id": "Nxlwnfl-D6ET"
      },
      "source": [
        "문제164. jobs.txt 를 워드 클라우드로 시각화 하시오 !\r\n"
      ]
    },
    {
      "cell_type": "code",
      "metadata": {
        "id": "F47_8ZM_EteS"
      },
      "source": [
        "library(rJava)\r\n",
        "library(KoNLP)\r\n",
        "library(wordcloud)\r\n",
        "library(plyr)\r\n",
        "\r\n",
        "useSejongDic()\r\n",
        "setwd(\"c:\\\\data\")          # 워킹디렉토리를 소환 \r\n",
        "jobs <- readLines('jobs.txt')\r\n",
        "\r\n",
        "nouns <- extractNoun(jobs)   # 명사 단어만 추출 \r\n",
        "nouns <- unlist(nouns)  \r\n",
        "nouns <- nouns[nchar(nouns)>=2]  #  단어중에 2철자 이상인것만 \r\n",
        "cnouns <- count(nouns)  # 단어별 건수를 출력한다.\r\n",
        "\r\n",
        "# 색깔 추가 \r\n",
        "pal <- brewer.pal(6,\"Dark2\")\r\n",
        "pal <- pal[-(1)]\r\n",
        "\r\n",
        "# 글씨 폰트 설정 \r\n",
        "windowsFonts(malgun=windowsFont(\"맑은 고딕\"))\r\n",
        "\r\n",
        "wordcloud( words=cnouns$x,       # 단어\r\n",
        "           freq=cnouns$freq,     # 단어 빈도수\r\n",
        "           colors=pal,           # 색깔\r\n",
        "           min.freq=3,           # 빈도수가 3개 이상인것만 시각화 \r\n",
        "           random.order=F,       # F 로 하게 되면 큰글씨부터 출력이 되면서\r\n",
        "           family=\"malgun\")      # 중앙에서 퍼지게 한다. \r\n",
        "                                 # 맑음 글씨체로 시각화 하겠다. "
      ],
      "execution_count": null,
      "outputs": []
    },
    {
      "cell_type": "markdown",
      "metadata": {
        "id": "Yze_3OpBELeN"
      },
      "source": [
        "R studio 결과\r\n",
        "\r\n",
        "\r\n",
        "![image.png](data:image/png;base64,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)"
      ]
    }
  ]
}