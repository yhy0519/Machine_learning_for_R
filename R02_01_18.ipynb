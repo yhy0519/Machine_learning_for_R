{
  "nbformat": 4,
  "nbformat_minor": 0,
  "metadata": {
    "colab": {
      "name": "R02_01_18.ipynb",
      "provenance": [],
      "collapsed_sections": [],
      "authorship_tag": "ABX9TyOYImZsLrjhcuPtDyyOqwzF",
      "include_colab_link": true
    },
    "kernelspec": {
      "name": "ir",
      "display_name": "R"
    }
  },
  "cells": [
    {
      "cell_type": "markdown",
      "metadata": {
        "id": "view-in-github",
        "colab_type": "text"
      },
      "source": [
        "<a href=\"https://colab.research.google.com/github/yhy0519/Machine_learning_of_R/blob/main/R02_01_18.ipynb\" target=\"_parent\"><img src=\"https://colab.research.google.com/assets/colab-badge.svg\" alt=\"Open In Colab\"/></a>"
      ]
    },
    {
      "cell_type": "markdown",
      "metadata": {
        "id": "xt4mFMBRpzcf"
      },
      "source": [
        "**■ R 이란 무엇인가?**\r\n",
        "\r\n",
        "뉴질랜드의 AUKLAND 대학의 robert gentleman 과 Ross ihaka 가 1955년에 개발한\r\n",
        "소프트웨어 입니다. 데이터 분석을 위한 통계 및 시각화를 지원하는 무료 소프트웨어 입니다.\r\n",
        "\r\n",
        "파이썬과 비교해서 장점 ? 데이터 시각화가 R 이 더 예쁘다.\r\n"
      ]
    },
    {
      "cell_type": "markdown",
      "metadata": {
        "id": "OkDkT9uNwF__"
      },
      "source": [
        ""
      ]
    },
    {
      "cell_type": "markdown",
      "metadata": {
        "id": "TK0In9YEqroQ"
      },
      "source": [
        "**■ R 을 왜 사용해야 하는가 ?**\r\n",
        "\r\n",
        " 1. R is free\r\n",
        " 2. data 분석을 위해서 가장 많이 사용하는 통계 플랫폼\r\n",
        " 3. 복잡한 데이터를 다양한 그래프로 표현할 수 있따.\r\n",
        " 4. 분석을 위한 데이터를 쉽게 저장하고 조작할 수 있다.\r\n",
        " 5. 누구든지 유용한 패키지를 생성해서 공유할 수 있고 새로궁 기능에 대한 전파가 빠르다.\r\n",
        " 6. 어떠한 os 에도 설치가 가능하다. 심지어 아이폰에도 설치할 수 있다.\r\n",
        "\r\n"
      ]
    },
    {
      "cell_type": "markdown",
      "metadata": {
        "id": "9TnhdyeGwFYr"
      },
      "source": [
        ""
      ]
    },
    {
      "cell_type": "markdown",
      "metadata": {
        "id": "2pINr1ep0Pre"
      },
      "source": [
        "# **1장. R 기본 문법과 시각화**"
      ]
    },
    {
      "cell_type": "markdown",
      "metadata": {
        "id": "Ym3dgDOVqych"
      },
      "source": [
        "**■ R 의 자료구조**\r\n",
        "\r\n",
        " 1. vector : 같은 데이터 타입을 갖는 1차원 배열 구조\r\n",
        " 2. matrix : 같은 데이터 타입을 갖는 2차원 배열 구조\r\n",
        " 3. array   : 같은 데이터 타입을 갖는 다차원 배열 구조\r\n",
        " 4. data.frame : 각각의 데이터 타입을 갖는 컬럼으로 이루어진 2차원 배열구조  \r\n",
        "  예: rdbms 의 테이블과 유사하다.\r\n",
        " 5. list  :  서로 다른 데이터 구조(vector, matrix, array, data frame) 인 데이터 타입이 중첩된 구조\r\n"
      ]
    },
    {
      "cell_type": "markdown",
      "metadata": {
        "id": "IlJYvDcKwEyk"
      },
      "source": [
        ""
      ]
    },
    {
      "cell_type": "markdown",
      "metadata": {
        "id": "VT45qMGgwHIx"
      },
      "source": [
        "**■ R 을 사용하여 기본 데이터 검색**"
      ]
    },
    {
      "cell_type": "markdown",
      "metadata": {
        "id": "FTKCAvgOwHDj"
      },
      "source": [
        ""
      ]
    },
    {
      "cell_type": "markdown",
      "metadata": {
        "id": "9UuA4n7DrF5g"
      },
      "source": [
        "문제2. emp.csv 를 리눅스 /home/scott 에 올리고 emp.csv 를 로드해서 emp 데이터 프레임을 만드시오 ! (mobaxterm 으로 데이터 올리기)\r\n",
        "\r\n",
        "리눅스에서\r\n",
        "\r\n",
        "    setwd('/home/scott')\r\n",
        "    emp <- read.csv('/home/oracle/emp.csv')\r\n",
        "    emp\r\n",
        "\r\n",
        "윈도우에서"
      ]
    },
    {
      "cell_type": "code",
      "metadata": {
        "colab": {
          "base_uri": "https://localhost:8080/",
          "height": 511
        },
        "id": "pWyI3BzQwXbs",
        "outputId": "bf94f71a-f25d-4025-8770-b71ef32c2f39"
      },
      "source": [
        "setwd(\"/content/data/\")\r\n",
        "emp <- read.csv(\"emp3.csv\", header=T)\r\n",
        "emp"
      ],
      "execution_count": 2,
      "outputs": [
        {
          "output_type": "display_data",
          "data": {
            "text/plain": [
              "   index empno ename  job       mgr  hiredate        sal  comm deptno\n",
              "1   1    7839  KING   PRESIDENT   NA 1981-11-17 0:00 5000   NA 10    \n",
              "2   2    7698  BLAKE  MANAGER   7839 1981-05-01 0:00 2850   NA 30    \n",
              "3   3    7782  CLARK  MANAGER   7839 1981-05-09 0:00 2450   NA 10    \n",
              "4   4    7566  JONES  MANAGER   7839 1981-04-01 0:00 2975   NA 20    \n",
              "5   5    7654  MARTIN SALESMAN  7698 1981-09-10 0:00 1250 1400 30    \n",
              "6   6    7499  ALLEN  SALESMAN  7698 1981-02-11 0:00 1600  300 30    \n",
              "7   7    7844  TURNER SALESMAN  7698 1981-08-21 0:00 1500    0 30    \n",
              "8   8    7900  JAMES  CLERK     7698 1981-12-11 0:00  950   NA 30    \n",
              "9   9    7521  WARD   SALESMAN  7698 1981-02-23 0:00 1250  500 30    \n",
              "10 10    7902  FORD   ANALYST   7566 1981-12-11 0:00 3000   NA 20    \n",
              "11 11    7369  SMITH  CLERK     7902 1980-12-09 0:00  800   NA 20    \n",
              "12 12    7788  SCOTT  ANALYST   7566 1982-12-22 0:00 3000   NA 20    \n",
              "13 13    7876  ADAMS  CLERK     7788 1983-01-15 0:00 1100   NA 20    \n",
              "14 14    7934  MILLER CLERK     7782 1982-01-11 0:00 1300   NA 10    "
            ],
            "text/latex": "A data.frame: 14 × 9\n\\begin{tabular}{lllllllll}\n index & empno & ename & job & mgr & hiredate & sal & comm & deptno\\\\\n <int> & <int> & <chr> & <chr> & <int> & <chr> & <int> & <int> & <int>\\\\\n\\hline\n\t  1 & 7839 & KING   & PRESIDENT &   NA & 1981-11-17 0:00 & 5000 &   NA & 10\\\\\n\t  2 & 7698 & BLAKE  & MANAGER   & 7839 & 1981-05-01 0:00 & 2850 &   NA & 30\\\\\n\t  3 & 7782 & CLARK  & MANAGER   & 7839 & 1981-05-09 0:00 & 2450 &   NA & 10\\\\\n\t  4 & 7566 & JONES  & MANAGER   & 7839 & 1981-04-01 0:00 & 2975 &   NA & 20\\\\\n\t  5 & 7654 & MARTIN & SALESMAN  & 7698 & 1981-09-10 0:00 & 1250 & 1400 & 30\\\\\n\t  6 & 7499 & ALLEN  & SALESMAN  & 7698 & 1981-02-11 0:00 & 1600 &  300 & 30\\\\\n\t  7 & 7844 & TURNER & SALESMAN  & 7698 & 1981-08-21 0:00 & 1500 &    0 & 30\\\\\n\t  8 & 7900 & JAMES  & CLERK     & 7698 & 1981-12-11 0:00 &  950 &   NA & 30\\\\\n\t  9 & 7521 & WARD   & SALESMAN  & 7698 & 1981-02-23 0:00 & 1250 &  500 & 30\\\\\n\t 10 & 7902 & FORD   & ANALYST   & 7566 & 1981-12-11 0:00 & 3000 &   NA & 20\\\\\n\t 11 & 7369 & SMITH  & CLERK     & 7902 & 1980-12-09 0:00 &  800 &   NA & 20\\\\\n\t 12 & 7788 & SCOTT  & ANALYST   & 7566 & 1982-12-22 0:00 & 3000 &   NA & 20\\\\\n\t 13 & 7876 & ADAMS  & CLERK     & 7788 & 1983-01-15 0:00 & 1100 &   NA & 20\\\\\n\t 14 & 7934 & MILLER & CLERK     & 7782 & 1982-01-11 0:00 & 1300 &   NA & 10\\\\\n\\end{tabular}\n",
            "text/markdown": "\nA data.frame: 14 × 9\n\n| index &lt;int&gt; | empno &lt;int&gt; | ename &lt;chr&gt; | job &lt;chr&gt; | mgr &lt;int&gt; | hiredate &lt;chr&gt; | sal &lt;int&gt; | comm &lt;int&gt; | deptno &lt;int&gt; |\n|---|---|---|---|---|---|---|---|---|\n|  1 | 7839 | KING   | PRESIDENT |   NA | 1981-11-17 0:00 | 5000 |   NA | 10 |\n|  2 | 7698 | BLAKE  | MANAGER   | 7839 | 1981-05-01 0:00 | 2850 |   NA | 30 |\n|  3 | 7782 | CLARK  | MANAGER   | 7839 | 1981-05-09 0:00 | 2450 |   NA | 10 |\n|  4 | 7566 | JONES  | MANAGER   | 7839 | 1981-04-01 0:00 | 2975 |   NA | 20 |\n|  5 | 7654 | MARTIN | SALESMAN  | 7698 | 1981-09-10 0:00 | 1250 | 1400 | 30 |\n|  6 | 7499 | ALLEN  | SALESMAN  | 7698 | 1981-02-11 0:00 | 1600 |  300 | 30 |\n|  7 | 7844 | TURNER | SALESMAN  | 7698 | 1981-08-21 0:00 | 1500 |    0 | 30 |\n|  8 | 7900 | JAMES  | CLERK     | 7698 | 1981-12-11 0:00 |  950 |   NA | 30 |\n|  9 | 7521 | WARD   | SALESMAN  | 7698 | 1981-02-23 0:00 | 1250 |  500 | 30 |\n| 10 | 7902 | FORD   | ANALYST   | 7566 | 1981-12-11 0:00 | 3000 |   NA | 20 |\n| 11 | 7369 | SMITH  | CLERK     | 7902 | 1980-12-09 0:00 |  800 |   NA | 20 |\n| 12 | 7788 | SCOTT  | ANALYST   | 7566 | 1982-12-22 0:00 | 3000 |   NA | 20 |\n| 13 | 7876 | ADAMS  | CLERK     | 7788 | 1983-01-15 0:00 | 1100 |   NA | 20 |\n| 14 | 7934 | MILLER | CLERK     | 7782 | 1982-01-11 0:00 | 1300 |   NA | 10 |\n\n",
            "text/html": [
              "<table class=\"dataframe\">\n",
              "<caption>A data.frame: 14 × 9</caption>\n",
              "<thead>\n",
              "\t<tr><th scope=col>index</th><th scope=col>empno</th><th scope=col>ename</th><th scope=col>job</th><th scope=col>mgr</th><th scope=col>hiredate</th><th scope=col>sal</th><th scope=col>comm</th><th scope=col>deptno</th></tr>\n",
              "\t<tr><th scope=col>&lt;int&gt;</th><th scope=col>&lt;int&gt;</th><th scope=col>&lt;chr&gt;</th><th scope=col>&lt;chr&gt;</th><th scope=col>&lt;int&gt;</th><th scope=col>&lt;chr&gt;</th><th scope=col>&lt;int&gt;</th><th scope=col>&lt;int&gt;</th><th scope=col>&lt;int&gt;</th></tr>\n",
              "</thead>\n",
              "<tbody>\n",
              "\t<tr><td> 1</td><td>7839</td><td>KING  </td><td>PRESIDENT</td><td>  NA</td><td>1981-11-17 0:00</td><td>5000</td><td>  NA</td><td>10</td></tr>\n",
              "\t<tr><td> 2</td><td>7698</td><td>BLAKE </td><td>MANAGER  </td><td>7839</td><td>1981-05-01 0:00</td><td>2850</td><td>  NA</td><td>30</td></tr>\n",
              "\t<tr><td> 3</td><td>7782</td><td>CLARK </td><td>MANAGER  </td><td>7839</td><td>1981-05-09 0:00</td><td>2450</td><td>  NA</td><td>10</td></tr>\n",
              "\t<tr><td> 4</td><td>7566</td><td>JONES </td><td>MANAGER  </td><td>7839</td><td>1981-04-01 0:00</td><td>2975</td><td>  NA</td><td>20</td></tr>\n",
              "\t<tr><td> 5</td><td>7654</td><td>MARTIN</td><td>SALESMAN </td><td>7698</td><td>1981-09-10 0:00</td><td>1250</td><td>1400</td><td>30</td></tr>\n",
              "\t<tr><td> 6</td><td>7499</td><td>ALLEN </td><td>SALESMAN </td><td>7698</td><td>1981-02-11 0:00</td><td>1600</td><td> 300</td><td>30</td></tr>\n",
              "\t<tr><td> 7</td><td>7844</td><td>TURNER</td><td>SALESMAN </td><td>7698</td><td>1981-08-21 0:00</td><td>1500</td><td>   0</td><td>30</td></tr>\n",
              "\t<tr><td> 8</td><td>7900</td><td>JAMES </td><td>CLERK    </td><td>7698</td><td>1981-12-11 0:00</td><td> 950</td><td>  NA</td><td>30</td></tr>\n",
              "\t<tr><td> 9</td><td>7521</td><td>WARD  </td><td>SALESMAN </td><td>7698</td><td>1981-02-23 0:00</td><td>1250</td><td> 500</td><td>30</td></tr>\n",
              "\t<tr><td>10</td><td>7902</td><td>FORD  </td><td>ANALYST  </td><td>7566</td><td>1981-12-11 0:00</td><td>3000</td><td>  NA</td><td>20</td></tr>\n",
              "\t<tr><td>11</td><td>7369</td><td>SMITH </td><td>CLERK    </td><td>7902</td><td>1980-12-09 0:00</td><td> 800</td><td>  NA</td><td>20</td></tr>\n",
              "\t<tr><td>12</td><td>7788</td><td>SCOTT </td><td>ANALYST  </td><td>7566</td><td>1982-12-22 0:00</td><td>3000</td><td>  NA</td><td>20</td></tr>\n",
              "\t<tr><td>13</td><td>7876</td><td>ADAMS </td><td>CLERK    </td><td>7788</td><td>1983-01-15 0:00</td><td>1100</td><td>  NA</td><td>20</td></tr>\n",
              "\t<tr><td>14</td><td>7934</td><td>MILLER</td><td>CLERK    </td><td>7782</td><td>1982-01-11 0:00</td><td>1300</td><td>  NA</td><td>10</td></tr>\n",
              "</tbody>\n",
              "</table>\n"
            ]
          },
          "metadata": {
            "tags": []
          }
        }
      ]
    },
    {
      "cell_type": "markdown",
      "metadata": {
        "id": "XqjHb09_q7ae"
      },
      "source": [
        ""
      ]
    },
    {
      "cell_type": "markdown",
      "metadata": {
        "id": "zbF1vdqDwLn0"
      },
      "source": [
        ""
      ]
    },
    {
      "cell_type": "markdown",
      "metadata": {
        "id": "UT7TmQQZwLkM"
      },
      "source": [
        "문제3. emp 데이터 프레임에서 이름과 월급을 출력하시오 !\r\n",
        "\r\n",
        "    문법: emp[행, 열]"
      ]
    },
    {
      "cell_type": "code",
      "metadata": {
        "colab": {
          "base_uri": "https://localhost:8080/",
          "height": 528
        },
        "id": "kFS8lLqywMyc",
        "outputId": "bc2703e6-326b-47b0-c55f-6f31ecab3b6c"
      },
      "source": [
        "emp[ , c(\"ename\", \"sal\")]   \r\n",
        "#      ↑\r\n",
        "#    combine"
      ],
      "execution_count": 3,
      "outputs": [
        {
          "output_type": "display_data",
          "data": {
            "text/plain": [
              "   ename  sal \n",
              "1  KING   5000\n",
              "2  BLAKE  2850\n",
              "3  CLARK  2450\n",
              "4  JONES  2975\n",
              "5  MARTIN 1250\n",
              "6  ALLEN  1600\n",
              "7  TURNER 1500\n",
              "8  JAMES   950\n",
              "9  WARD   1250\n",
              "10 FORD   3000\n",
              "11 SMITH   800\n",
              "12 SCOTT  3000\n",
              "13 ADAMS  1100\n",
              "14 MILLER 1300"
            ],
            "text/latex": "A data.frame: 14 × 2\n\\begin{tabular}{ll}\n ename & sal\\\\\n <chr> & <int>\\\\\n\\hline\n\t KING   & 5000\\\\\n\t BLAKE  & 2850\\\\\n\t CLARK  & 2450\\\\\n\t JONES  & 2975\\\\\n\t MARTIN & 1250\\\\\n\t ALLEN  & 1600\\\\\n\t TURNER & 1500\\\\\n\t JAMES  &  950\\\\\n\t WARD   & 1250\\\\\n\t FORD   & 3000\\\\\n\t SMITH  &  800\\\\\n\t SCOTT  & 3000\\\\\n\t ADAMS  & 1100\\\\\n\t MILLER & 1300\\\\\n\\end{tabular}\n",
            "text/markdown": "\nA data.frame: 14 × 2\n\n| ename &lt;chr&gt; | sal &lt;int&gt; |\n|---|---|\n| KING   | 5000 |\n| BLAKE  | 2850 |\n| CLARK  | 2450 |\n| JONES  | 2975 |\n| MARTIN | 1250 |\n| ALLEN  | 1600 |\n| TURNER | 1500 |\n| JAMES  |  950 |\n| WARD   | 1250 |\n| FORD   | 3000 |\n| SMITH  |  800 |\n| SCOTT  | 3000 |\n| ADAMS  | 1100 |\n| MILLER | 1300 |\n\n",
            "text/html": [
              "<table class=\"dataframe\">\n",
              "<caption>A data.frame: 14 × 2</caption>\n",
              "<thead>\n",
              "\t<tr><th scope=col>ename</th><th scope=col>sal</th></tr>\n",
              "\t<tr><th scope=col>&lt;chr&gt;</th><th scope=col>&lt;int&gt;</th></tr>\n",
              "</thead>\n",
              "<tbody>\n",
              "\t<tr><td>KING  </td><td>5000</td></tr>\n",
              "\t<tr><td>BLAKE </td><td>2850</td></tr>\n",
              "\t<tr><td>CLARK </td><td>2450</td></tr>\n",
              "\t<tr><td>JONES </td><td>2975</td></tr>\n",
              "\t<tr><td>MARTIN</td><td>1250</td></tr>\n",
              "\t<tr><td>ALLEN </td><td>1600</td></tr>\n",
              "\t<tr><td>TURNER</td><td>1500</td></tr>\n",
              "\t<tr><td>JAMES </td><td> 950</td></tr>\n",
              "\t<tr><td>WARD  </td><td>1250</td></tr>\n",
              "\t<tr><td>FORD  </td><td>3000</td></tr>\n",
              "\t<tr><td>SMITH </td><td> 800</td></tr>\n",
              "\t<tr><td>SCOTT </td><td>3000</td></tr>\n",
              "\t<tr><td>ADAMS </td><td>1100</td></tr>\n",
              "\t<tr><td>MILLER</td><td>1300</td></tr>\n",
              "</tbody>\n",
              "</table>\n"
            ]
          },
          "metadata": {
            "tags": []
          }
        }
      ]
    },
    {
      "cell_type": "markdown",
      "metadata": {
        "id": "XoFqmHNrwLhF"
      },
      "source": [
        ""
      ]
    },
    {
      "cell_type": "markdown",
      "metadata": {
        "id": "dCODLFGnwidj"
      },
      "source": [
        ""
      ]
    },
    {
      "cell_type": "markdown",
      "metadata": {
        "id": "0y1851SHwiZu"
      },
      "source": [
        "문제4. 월급이 3000 인 사원들의 이름과 월급을 출력하시오 !"
      ]
    },
    {
      "cell_type": "code",
      "metadata": {
        "colab": {
          "base_uri": "https://localhost:8080/",
          "height": 153
        },
        "id": "O6hs1fMzpstG",
        "outputId": "dace0f46-a11a-4b31-c077-62b61abc72ff"
      },
      "source": [
        "emp[ emp$sal==3000, c(\"ename\",\"sal\") ]"
      ],
      "execution_count": 4,
      "outputs": [
        {
          "output_type": "display_data",
          "data": {
            "text/plain": [
              "   ename sal \n",
              "10 FORD  3000\n",
              "12 SCOTT 3000"
            ],
            "text/latex": "A data.frame: 2 × 2\n\\begin{tabular}{r|ll}\n  & ename & sal\\\\\n  & <chr> & <int>\\\\\n\\hline\n\t10 & FORD  & 3000\\\\\n\t12 & SCOTT & 3000\\\\\n\\end{tabular}\n",
            "text/markdown": "\nA data.frame: 2 × 2\n\n| <!--/--> | ename &lt;chr&gt; | sal &lt;int&gt; |\n|---|---|---|\n| 10 | FORD  | 3000 |\n| 12 | SCOTT | 3000 |\n\n",
            "text/html": [
              "<table class=\"dataframe\">\n",
              "<caption>A data.frame: 2 × 2</caption>\n",
              "<thead>\n",
              "\t<tr><th></th><th scope=col>ename</th><th scope=col>sal</th></tr>\n",
              "\t<tr><th></th><th scope=col>&lt;chr&gt;</th><th scope=col>&lt;int&gt;</th></tr>\n",
              "</thead>\n",
              "<tbody>\n",
              "\t<tr><th scope=row>10</th><td>FORD </td><td>3000</td></tr>\n",
              "\t<tr><th scope=row>12</th><td>SCOTT</td><td>3000</td></tr>\n",
              "</tbody>\n",
              "</table>\n"
            ]
          },
          "metadata": {
            "tags": []
          }
        }
      ]
    },
    {
      "cell_type": "markdown",
      "metadata": {
        "id": "XKb-nqfMww3n"
      },
      "source": [
        ""
      ]
    },
    {
      "cell_type": "markdown",
      "metadata": {
        "id": "0YigrFeawwz7"
      },
      "source": [
        ""
      ]
    },
    {
      "cell_type": "markdown",
      "metadata": {
        "id": "q1z5pKDDwwwr"
      },
      "source": [
        "문제5. 월급이 2000 이상인 사원들의 이름과 월급을 출력하시오 !"
      ]
    },
    {
      "cell_type": "code",
      "metadata": {
        "colab": {
          "base_uri": "https://localhost:8080/",
          "height": 273
        },
        "id": "x_r8-ZJQwyg7",
        "outputId": "470689be-b7b0-4390-c2ff-1adda9779541"
      },
      "source": [
        "emp[ emp$sal>=2000, c(\"ename\",\"sal\") ]"
      ],
      "execution_count": 5,
      "outputs": [
        {
          "output_type": "display_data",
          "data": {
            "text/plain": [
              "   ename sal \n",
              "1  KING  5000\n",
              "2  BLAKE 2850\n",
              "3  CLARK 2450\n",
              "4  JONES 2975\n",
              "10 FORD  3000\n",
              "12 SCOTT 3000"
            ],
            "text/latex": "A data.frame: 6 × 2\n\\begin{tabular}{r|ll}\n  & ename & sal\\\\\n  & <chr> & <int>\\\\\n\\hline\n\t1 & KING  & 5000\\\\\n\t2 & BLAKE & 2850\\\\\n\t3 & CLARK & 2450\\\\\n\t4 & JONES & 2975\\\\\n\t10 & FORD  & 3000\\\\\n\t12 & SCOTT & 3000\\\\\n\\end{tabular}\n",
            "text/markdown": "\nA data.frame: 6 × 2\n\n| <!--/--> | ename &lt;chr&gt; | sal &lt;int&gt; |\n|---|---|---|\n| 1 | KING  | 5000 |\n| 2 | BLAKE | 2850 |\n| 3 | CLARK | 2450 |\n| 4 | JONES | 2975 |\n| 10 | FORD  | 3000 |\n| 12 | SCOTT | 3000 |\n\n",
            "text/html": [
              "<table class=\"dataframe\">\n",
              "<caption>A data.frame: 6 × 2</caption>\n",
              "<thead>\n",
              "\t<tr><th></th><th scope=col>ename</th><th scope=col>sal</th></tr>\n",
              "\t<tr><th></th><th scope=col>&lt;chr&gt;</th><th scope=col>&lt;int&gt;</th></tr>\n",
              "</thead>\n",
              "<tbody>\n",
              "\t<tr><th scope=row>1</th><td>KING </td><td>5000</td></tr>\n",
              "\t<tr><th scope=row>2</th><td>BLAKE</td><td>2850</td></tr>\n",
              "\t<tr><th scope=row>3</th><td>CLARK</td><td>2450</td></tr>\n",
              "\t<tr><th scope=row>4</th><td>JONES</td><td>2975</td></tr>\n",
              "\t<tr><th scope=row>10</th><td>FORD </td><td>3000</td></tr>\n",
              "\t<tr><th scope=row>12</th><td>SCOTT</td><td>3000</td></tr>\n",
              "</tbody>\n",
              "</table>\n"
            ]
          },
          "metadata": {
            "tags": []
          }
        }
      ]
    },
    {
      "cell_type": "markdown",
      "metadata": {
        "id": "PoTLNnVLw1Ci"
      },
      "source": [
        ""
      ]
    },
    {
      "cell_type": "markdown",
      "metadata": {
        "id": "gNoVDlurw0-r"
      },
      "source": [
        ""
      ]
    },
    {
      "cell_type": "markdown",
      "metadata": {
        "id": "x7tvtQYVw07Y"
      },
      "source": [
        "문제6. 직업이 SALESMAN 인 사원들의 이름과 월급과 직업을 출력하시오 !"
      ]
    },
    {
      "cell_type": "code",
      "metadata": {
        "colab": {
          "base_uri": "https://localhost:8080/",
          "height": 213
        },
        "id": "0d40cd9tw2L0",
        "outputId": "bb0d43be-6bc8-47fb-b8a7-225778228cf5"
      },
      "source": [
        "emp[ emp$job=='SALESMAN', c(\"ename\",\"sal\",\"job\") ]"
      ],
      "execution_count": 6,
      "outputs": [
        {
          "output_type": "display_data",
          "data": {
            "text/plain": [
              "  ename  sal  job     \n",
              "5 MARTIN 1250 SALESMAN\n",
              "6 ALLEN  1600 SALESMAN\n",
              "7 TURNER 1500 SALESMAN\n",
              "9 WARD   1250 SALESMAN"
            ],
            "text/latex": "A data.frame: 4 × 3\n\\begin{tabular}{r|lll}\n  & ename & sal & job\\\\\n  & <chr> & <int> & <chr>\\\\\n\\hline\n\t5 & MARTIN & 1250 & SALESMAN\\\\\n\t6 & ALLEN  & 1600 & SALESMAN\\\\\n\t7 & TURNER & 1500 & SALESMAN\\\\\n\t9 & WARD   & 1250 & SALESMAN\\\\\n\\end{tabular}\n",
            "text/markdown": "\nA data.frame: 4 × 3\n\n| <!--/--> | ename &lt;chr&gt; | sal &lt;int&gt; | job &lt;chr&gt; |\n|---|---|---|---|\n| 5 | MARTIN | 1250 | SALESMAN |\n| 6 | ALLEN  | 1600 | SALESMAN |\n| 7 | TURNER | 1500 | SALESMAN |\n| 9 | WARD   | 1250 | SALESMAN |\n\n",
            "text/html": [
              "<table class=\"dataframe\">\n",
              "<caption>A data.frame: 4 × 3</caption>\n",
              "<thead>\n",
              "\t<tr><th></th><th scope=col>ename</th><th scope=col>sal</th><th scope=col>job</th></tr>\n",
              "\t<tr><th></th><th scope=col>&lt;chr&gt;</th><th scope=col>&lt;int&gt;</th><th scope=col>&lt;chr&gt;</th></tr>\n",
              "</thead>\n",
              "<tbody>\n",
              "\t<tr><th scope=row>5</th><td>MARTIN</td><td>1250</td><td>SALESMAN</td></tr>\n",
              "\t<tr><th scope=row>6</th><td>ALLEN </td><td>1600</td><td>SALESMAN</td></tr>\n",
              "\t<tr><th scope=row>7</th><td>TURNER</td><td>1500</td><td>SALESMAN</td></tr>\n",
              "\t<tr><th scope=row>9</th><td>WARD  </td><td>1250</td><td>SALESMAN</td></tr>\n",
              "</tbody>\n",
              "</table>\n"
            ]
          },
          "metadata": {
            "tags": []
          }
        }
      ]
    },
    {
      "cell_type": "markdown",
      "metadata": {
        "id": "ZyRZfh7fw39z"
      },
      "source": [
        ""
      ]
    },
    {
      "cell_type": "markdown",
      "metadata": {
        "id": "KF-AAJAKw36Y"
      },
      "source": [
        ""
      ]
    },
    {
      "cell_type": "markdown",
      "metadata": {
        "id": "hoEKT6b7w32_"
      },
      "source": [
        "문제7. 1981년 12월 11일에 입사한 사원들의 이름과 입사일을 출력하시오 !"
      ]
    },
    {
      "cell_type": "code",
      "metadata": {
        "colab": {
          "base_uri": "https://localhost:8080/",
          "height": 153
        },
        "id": "fLt0PIJXw6BQ",
        "outputId": "564be103-bd63-439d-8e1f-1693b36befe9"
      },
      "source": [
        "emp[ emp$hiredate=='1981-12-11 0:00', c(\"ename\",\"hiredate\") ]"
      ],
      "execution_count": 7,
      "outputs": [
        {
          "output_type": "display_data",
          "data": {
            "text/plain": [
              "   ename hiredate       \n",
              "8  JAMES 1981-12-11 0:00\n",
              "10 FORD  1981-12-11 0:00"
            ],
            "text/latex": "A data.frame: 2 × 2\n\\begin{tabular}{r|ll}\n  & ename & hiredate\\\\\n  & <chr> & <chr>\\\\\n\\hline\n\t8 & JAMES & 1981-12-11 0:00\\\\\n\t10 & FORD  & 1981-12-11 0:00\\\\\n\\end{tabular}\n",
            "text/markdown": "\nA data.frame: 2 × 2\n\n| <!--/--> | ename &lt;chr&gt; | hiredate &lt;chr&gt; |\n|---|---|---|\n| 8 | JAMES | 1981-12-11 0:00 |\n| 10 | FORD  | 1981-12-11 0:00 |\n\n",
            "text/html": [
              "<table class=\"dataframe\">\n",
              "<caption>A data.frame: 2 × 2</caption>\n",
              "<thead>\n",
              "\t<tr><th></th><th scope=col>ename</th><th scope=col>hiredate</th></tr>\n",
              "\t<tr><th></th><th scope=col>&lt;chr&gt;</th><th scope=col>&lt;chr&gt;</th></tr>\n",
              "</thead>\n",
              "<tbody>\n",
              "\t<tr><th scope=row>8</th><td>JAMES</td><td>1981-12-11 0:00</td></tr>\n",
              "\t<tr><th scope=row>10</th><td>FORD </td><td>1981-12-11 0:00</td></tr>\n",
              "</tbody>\n",
              "</table>\n"
            ]
          },
          "metadata": {
            "tags": []
          }
        }
      ]
    },
    {
      "cell_type": "markdown",
      "metadata": {
        "id": "0cLYev-cw9TU"
      },
      "source": [
        ""
      ]
    },
    {
      "cell_type": "markdown",
      "metadata": {
        "id": "57Bg0ELOw9P7"
      },
      "source": [
        ""
      ]
    },
    {
      "cell_type": "markdown",
      "metadata": {
        "id": "7Wg4OjJAw9NK"
      },
      "source": [
        "문제8. emp 데이터 프레임의 구조를 확인하시오 ! (str : structure 의 뜻)"
      ]
    },
    {
      "cell_type": "code",
      "metadata": {
        "colab": {
          "base_uri": "https://localhost:8080/"
        },
        "id": "c2H1feXDw_jc",
        "outputId": "c92dff6e-b398-4e1a-b70f-f4e69dce45f4"
      },
      "source": [
        "str(emp)"
      ],
      "execution_count": 8,
      "outputs": [
        {
          "output_type": "stream",
          "text": [
            "'data.frame':\t14 obs. of  9 variables:\n",
            " $ index   : int  1 2 3 4 5 6 7 8 9 10 ...\n",
            " $ empno   : int  7839 7698 7782 7566 7654 7499 7844 7900 7521 7902 ...\n",
            " $ ename   : chr  \"KING\" \"BLAKE\" \"CLARK\" \"JONES\" ...\n",
            " $ job     : chr  \"PRESIDENT\" \"MANAGER\" \"MANAGER\" \"MANAGER\" ...\n",
            " $ mgr     : int  NA 7839 7839 7839 7698 7698 7698 7698 7698 7566 ...\n",
            " $ hiredate: chr  \"1981-11-17 0:00\" \"1981-05-01 0:00\" \"1981-05-09 0:00\" \"1981-04-01 0:00\" ...\n",
            " $ sal     : int  5000 2850 2450 2975 1250 1600 1500 950 1250 3000 ...\n",
            " $ comm    : int  NA NA NA NA 1400 300 0 NA 500 NA ...\n",
            " $ deptno  : int  10 30 10 20 30 30 30 30 30 20 ...\n"
          ],
          "name": "stdout"
        }
      ]
    },
    {
      "cell_type": "markdown",
      "metadata": {
        "id": "-ZO5C7dixA09"
      },
      "source": [
        "설명: emp 데이터 프레임의 hiredate 가 chr(문자형) 이므로 검색할 때 문자 그대로 검색하면 됩니다."
      ]
    },
    {
      "cell_type": "markdown",
      "metadata": {
        "id": "vZKyVUi2xAw0"
      },
      "source": [
        ""
      ]
    },
    {
      "cell_type": "markdown",
      "metadata": {
        "id": "Jnv9ZkhoxAsW"
      },
      "source": [
        ""
      ]
    },
    {
      "cell_type": "markdown",
      "metadata": {
        "id": "DWNqsxLbxDU8"
      },
      "source": [
        "**■ 연산자 총정리**\r\n",
        "\r\n",
        " 1. 산술 연산자\r\n",
        "        * / + -\r\n",
        " 2. 비교 연산자\r\n",
        "        >, <, >=, <=, ==, !=\r\n",
        " 3. 논리 연산자\r\n",
        "        &  : and (백터화 된 연산) \r\n",
        "\t\t&& : and (백터화 되지 않은 연산)\r\n",
        "\t\t|  : or (백터화 된 연산)\r\n",
        "\t\t|| : or (백터화 되지 않은 연산)\r\n",
        "\t\t!  : not\r\n",
        "\r\n",
        "예:"
      ]
    },
    {
      "cell_type": "code",
      "metadata": {
        "colab": {
          "base_uri": "https://localhost:8080/",
          "height": 33
        },
        "id": "Fex8QntFxKUX",
        "outputId": "c956cad3-5f0d-4e33-cb21-7c9da0b9b9f2"
      },
      "source": [
        "x <- c(1,2,3)\r\n",
        "x"
      ],
      "execution_count": 9,
      "outputs": [
        {
          "output_type": "display_data",
          "data": {
            "text/plain": [
              "[1] 1 2 3"
            ],
            "text/latex": "\\begin{enumerate*}\n\\item 1\n\\item 2\n\\item 3\n\\end{enumerate*}\n",
            "text/markdown": "1. 1\n2. 2\n3. 3\n\n\n",
            "text/html": [
              "<style>\n",
              ".list-inline {list-style: none; margin:0; padding: 0}\n",
              ".list-inline>li {display: inline-block}\n",
              ".list-inline>li:not(:last-child)::after {content: \"\\00b7\"; padding: 0 .5ex}\n",
              "</style>\n",
              "<ol class=list-inline><li>1</li><li>2</li><li>3</li></ol>\n"
            ]
          },
          "metadata": {
            "tags": []
          }
        }
      ]
    },
    {
      "cell_type": "code",
      "metadata": {
        "colab": {
          "base_uri": "https://localhost:8080/"
        },
        "id": "F_bW18Y5xPGc",
        "outputId": "aecb0165-22ab-443b-f9a8-a39b1e2d8651"
      },
      "source": [
        "str(x)"
      ],
      "execution_count": 10,
      "outputs": [
        {
          "output_type": "stream",
          "text": [
            " num [1:3] 1 2 3\n"
          ],
          "name": "stdout"
        }
      ]
    },
    {
      "cell_type": "code",
      "metadata": {
        "colab": {
          "base_uri": "https://localhost:8080/",
          "height": 33
        },
        "id": "Wd_Vo8FqxRZI",
        "outputId": "0b6a559d-73b9-49cd-af94-ebf38aab98a4"
      },
      "source": [
        "( x > c(1,1,1) ) & ( x < c(3,3,3) )"
      ],
      "execution_count": 11,
      "outputs": [
        {
          "output_type": "display_data",
          "data": {
            "text/plain": [
              "[1] FALSE  TRUE FALSE"
            ],
            "text/latex": "\\begin{enumerate*}\n\\item FALSE\n\\item TRUE\n\\item FALSE\n\\end{enumerate*}\n",
            "text/markdown": "1. FALSE\n2. TRUE\n3. FALSE\n\n\n",
            "text/html": [
              "<style>\n",
              ".list-inline {list-style: none; margin:0; padding: 0}\n",
              ".list-inline>li {display: inline-block}\n",
              ".list-inline>li:not(:last-child)::after {content: \"\\00b7\"; padding: 0 .5ex}\n",
              "</style>\n",
              "<ol class=list-inline><li>FALSE</li><li>TRUE</li><li>FALSE</li></ol>\n"
            ]
          },
          "metadata": {
            "tags": []
          }
        }
      ]
    },
    {
      "cell_type": "markdown",
      "metadata": {
        "id": "f7gI7CyFxQ1M"
      },
      "source": [
        ""
      ]
    },
    {
      "cell_type": "markdown",
      "metadata": {
        "id": "ayx5gOFixTHW"
      },
      "source": [
        ""
      ]
    },
    {
      "cell_type": "markdown",
      "metadata": {
        "id": "DlWsqBRvxTDc"
      },
      "source": [
        "예:"
      ]
    },
    {
      "cell_type": "code",
      "metadata": {
        "colab": {
          "base_uri": "https://localhost:8080/",
          "height": 33
        },
        "id": "hXIeytwmxU7d",
        "outputId": "0ef5d306-e387-4c66-cf0e-9c17dd8fd690"
      },
      "source": [
        "x <- 1\r\n",
        "x"
      ],
      "execution_count": 12,
      "outputs": [
        {
          "output_type": "display_data",
          "data": {
            "text/plain": [
              "[1] 1"
            ],
            "text/latex": "1",
            "text/markdown": "1",
            "text/html": [
              "1"
            ]
          },
          "metadata": {
            "tags": []
          }
        }
      ]
    },
    {
      "cell_type": "code",
      "metadata": {
        "colab": {
          "base_uri": "https://localhost:8080/",
          "height": 33
        },
        "id": "RWviwUhFxWps",
        "outputId": "50ddf80c-24cb-4ce2-a2b2-43e2b68fd51f"
      },
      "source": [
        "( (x>-2) && (x<2) )"
      ],
      "execution_count": 13,
      "outputs": [
        {
          "output_type": "display_data",
          "data": {
            "text/plain": [
              "[1] TRUE"
            ],
            "text/latex": "TRUE",
            "text/markdown": "TRUE",
            "text/html": [
              "TRUE"
            ]
          },
          "metadata": {
            "tags": []
          }
        }
      ]
    },
    {
      "cell_type": "markdown",
      "metadata": {
        "id": "Fj0NFAJpxrhV"
      },
      "source": [
        "설명: combine 을 사용하면 백터화 된 것입니다."
      ]
    },
    {
      "cell_type": "markdown",
      "metadata": {
        "id": "vLvgNEFMxr7b"
      },
      "source": [
        ""
      ]
    },
    {
      "cell_type": "markdown",
      "metadata": {
        "id": "DGcDp6VBxsan"
      },
      "source": [
        ""
      ]
    },
    {
      "cell_type": "markdown",
      "metadata": {
        "id": "erkDKQdTxsPI"
      },
      "source": [
        "**■ 연결 연산자**\r\n",
        "\r\n",
        "     오라클   -------------------------   R\r\n",
        "       ||                               paste\r\n"
      ]
    },
    {
      "cell_type": "markdown",
      "metadata": {
        "id": "c2aOVxqOx9eL"
      },
      "source": [
        ""
      ]
    },
    {
      "cell_type": "markdown",
      "metadata": {
        "id": "hPS67x1Fx9WO"
      },
      "source": [
        "문제9. 아래의  SQL 을 R 로 구현하시오 !\r\n",
        "\r\n",
        "SQL>\r\n",
        "\r\n",
        "    select ename || '의 직업은 ' || job\r\n",
        "       from emp;"
      ]
    },
    {
      "cell_type": "code",
      "metadata": {
        "colab": {
          "base_uri": "https://localhost:8080/",
          "height": 84
        },
        "id": "qn3yYrQHx9EU",
        "outputId": "42b71893-ad21-4850-a830-ecc7e6a90ef9"
      },
      "source": [
        "paste( emp$ename, '의 직업은 ', emp$job )"
      ],
      "execution_count": 15,
      "outputs": [
        {
          "output_type": "display_data",
          "data": {
            "text/plain": [
              " [1] \"KING 의 직업은  PRESIDENT\"  \"BLAKE 의 직업은  MANAGER\"  \n",
              " [3] \"CLARK 의 직업은  MANAGER\"   \"JONES 의 직업은  MANAGER\"  \n",
              " [5] \"MARTIN 의 직업은  SALESMAN\" \"ALLEN 의 직업은  SALESMAN\" \n",
              " [7] \"TURNER 의 직업은  SALESMAN\" \"JAMES 의 직업은  CLERK\"    \n",
              " [9] \"WARD 의 직업은  SALESMAN\"   \"FORD 의 직업은  ANALYST\"   \n",
              "[11] \"SMITH 의 직업은  CLERK\"     \"SCOTT 의 직업은  ANALYST\"  \n",
              "[13] \"ADAMS 의 직업은  CLERK\"     \"MILLER 의 직업은  CLERK\"   "
            ],
            "text/latex": "\\begin{enumerate*}\n\\item 'KING 의 직업은  PRESIDENT'\n\\item 'BLAKE 의 직업은  MANAGER'\n\\item 'CLARK 의 직업은  MANAGER'\n\\item 'JONES 의 직업은  MANAGER'\n\\item 'MARTIN 의 직업은  SALESMAN'\n\\item 'ALLEN 의 직업은  SALESMAN'\n\\item 'TURNER 의 직업은  SALESMAN'\n\\item 'JAMES 의 직업은  CLERK'\n\\item 'WARD 의 직업은  SALESMAN'\n\\item 'FORD 의 직업은  ANALYST'\n\\item 'SMITH 의 직업은  CLERK'\n\\item 'SCOTT 의 직업은  ANALYST'\n\\item 'ADAMS 의 직업은  CLERK'\n\\item 'MILLER 의 직업은  CLERK'\n\\end{enumerate*}\n",
            "text/markdown": "1. <span style=white-space:pre-wrap>'KING 의 직업은  PRESIDENT'</span>\n2. <span style=white-space:pre-wrap>'BLAKE 의 직업은  MANAGER'</span>\n3. <span style=white-space:pre-wrap>'CLARK 의 직업은  MANAGER'</span>\n4. <span style=white-space:pre-wrap>'JONES 의 직업은  MANAGER'</span>\n5. <span style=white-space:pre-wrap>'MARTIN 의 직업은  SALESMAN'</span>\n6. <span style=white-space:pre-wrap>'ALLEN 의 직업은  SALESMAN'</span>\n7. <span style=white-space:pre-wrap>'TURNER 의 직업은  SALESMAN'</span>\n8. <span style=white-space:pre-wrap>'JAMES 의 직업은  CLERK'</span>\n9. <span style=white-space:pre-wrap>'WARD 의 직업은  SALESMAN'</span>\n10. <span style=white-space:pre-wrap>'FORD 의 직업은  ANALYST'</span>\n11. <span style=white-space:pre-wrap>'SMITH 의 직업은  CLERK'</span>\n12. <span style=white-space:pre-wrap>'SCOTT 의 직업은  ANALYST'</span>\n13. <span style=white-space:pre-wrap>'ADAMS 의 직업은  CLERK'</span>\n14. <span style=white-space:pre-wrap>'MILLER 의 직업은  CLERK'</span>\n\n\n",
            "text/html": [
              "<style>\n",
              ".list-inline {list-style: none; margin:0; padding: 0}\n",
              ".list-inline>li {display: inline-block}\n",
              ".list-inline>li:not(:last-child)::after {content: \"\\00b7\"; padding: 0 .5ex}\n",
              "</style>\n",
              "<ol class=list-inline><li><span style=white-space:pre-wrap>'KING 의 직업은  PRESIDENT'</span></li><li><span style=white-space:pre-wrap>'BLAKE 의 직업은  MANAGER'</span></li><li><span style=white-space:pre-wrap>'CLARK 의 직업은  MANAGER'</span></li><li><span style=white-space:pre-wrap>'JONES 의 직업은  MANAGER'</span></li><li><span style=white-space:pre-wrap>'MARTIN 의 직업은  SALESMAN'</span></li><li><span style=white-space:pre-wrap>'ALLEN 의 직업은  SALESMAN'</span></li><li><span style=white-space:pre-wrap>'TURNER 의 직업은  SALESMAN'</span></li><li><span style=white-space:pre-wrap>'JAMES 의 직업은  CLERK'</span></li><li><span style=white-space:pre-wrap>'WARD 의 직업은  SALESMAN'</span></li><li><span style=white-space:pre-wrap>'FORD 의 직업은  ANALYST'</span></li><li><span style=white-space:pre-wrap>'SMITH 의 직업은  CLERK'</span></li><li><span style=white-space:pre-wrap>'SCOTT 의 직업은  ANALYST'</span></li><li><span style=white-space:pre-wrap>'ADAMS 의 직업은  CLERK'</span></li><li><span style=white-space:pre-wrap>'MILLER 의 직업은  CLERK'</span></li></ol>\n"
            ]
          },
          "metadata": {
            "tags": []
          }
        }
      ]
    },
    {
      "cell_type": "markdown",
      "metadata": {
        "id": "90OD_VLTyHoF"
      },
      "source": [
        ""
      ]
    },
    {
      "cell_type": "code",
      "metadata": {
        "colab": {
          "base_uri": "https://localhost:8080/",
          "height": 564
        },
        "id": "ZVLtmOgfyJrs",
        "outputId": "49d454b5-0648-4b7e-bd53-dd1c7071b6b0"
      },
      "source": [
        "# 1. data.table 패키지를 설치한다.\r\n",
        "install.packages(\"data.table\")\r\n",
        "\r\n",
        "# 2. data.table 을 사용하겠다고 지정한다.\r\n",
        "library(data.table)\r\n",
        "\r\n",
        "# 3. data.table 을 사용한다.\r\n",
        "data.table( emp$ename, '의 직업은 ', emp$job )"
      ],
      "execution_count": 16,
      "outputs": [
        {
          "output_type": "stream",
          "text": [
            "Installing package into ‘/usr/local/lib/R/site-library’\n",
            "(as ‘lib’ is unspecified)\n",
            "\n"
          ],
          "name": "stderr"
        },
        {
          "output_type": "display_data",
          "data": {
            "text/plain": [
              "   V1     V2         V3       \n",
              "1  KING   의 직업은  PRESIDENT\n",
              "2  BLAKE  의 직업은  MANAGER  \n",
              "3  CLARK  의 직업은  MANAGER  \n",
              "4  JONES  의 직업은  MANAGER  \n",
              "5  MARTIN 의 직업은  SALESMAN \n",
              "6  ALLEN  의 직업은  SALESMAN \n",
              "7  TURNER 의 직업은  SALESMAN \n",
              "8  JAMES  의 직업은  CLERK    \n",
              "9  WARD   의 직업은  SALESMAN \n",
              "10 FORD   의 직업은  ANALYST  \n",
              "11 SMITH  의 직업은  CLERK    \n",
              "12 SCOTT  의 직업은  ANALYST  \n",
              "13 ADAMS  의 직업은  CLERK    \n",
              "14 MILLER 의 직업은  CLERK    "
            ],
            "text/latex": "A data.table: 14 × 3\n\\begin{tabular}{lll}\n V1 & V2 & V3\\\\\n <chr> & <chr> & <chr>\\\\\n\\hline\n\t KING   & 의 직업은  & PRESIDENT\\\\\n\t BLAKE  & 의 직업은  & MANAGER  \\\\\n\t CLARK  & 의 직업은  & MANAGER  \\\\\n\t JONES  & 의 직업은  & MANAGER  \\\\\n\t MARTIN & 의 직업은  & SALESMAN \\\\\n\t ALLEN  & 의 직업은  & SALESMAN \\\\\n\t TURNER & 의 직업은  & SALESMAN \\\\\n\t JAMES  & 의 직업은  & CLERK    \\\\\n\t WARD   & 의 직업은  & SALESMAN \\\\\n\t FORD   & 의 직업은  & ANALYST  \\\\\n\t SMITH  & 의 직업은  & CLERK    \\\\\n\t SCOTT  & 의 직업은  & ANALYST  \\\\\n\t ADAMS  & 의 직업은  & CLERK    \\\\\n\t MILLER & 의 직업은  & CLERK    \\\\\n\\end{tabular}\n",
            "text/markdown": "\nA data.table: 14 × 3\n\n| V1 &lt;chr&gt; | V2 &lt;chr&gt; | V3 &lt;chr&gt; |\n|---|---|---|\n| KING   | 의 직업은  | PRESIDENT |\n| BLAKE  | 의 직업은  | MANAGER   |\n| CLARK  | 의 직업은  | MANAGER   |\n| JONES  | 의 직업은  | MANAGER   |\n| MARTIN | 의 직업은  | SALESMAN  |\n| ALLEN  | 의 직업은  | SALESMAN  |\n| TURNER | 의 직업은  | SALESMAN  |\n| JAMES  | 의 직업은  | CLERK     |\n| WARD   | 의 직업은  | SALESMAN  |\n| FORD   | 의 직업은  | ANALYST   |\n| SMITH  | 의 직업은  | CLERK     |\n| SCOTT  | 의 직업은  | ANALYST   |\n| ADAMS  | 의 직업은  | CLERK     |\n| MILLER | 의 직업은  | CLERK     |\n\n",
            "text/html": [
              "<table class=\"dataframe\">\n",
              "<caption>A data.table: 14 × 3</caption>\n",
              "<thead>\n",
              "\t<tr><th scope=col>V1</th><th scope=col>V2</th><th scope=col>V3</th></tr>\n",
              "\t<tr><th scope=col>&lt;chr&gt;</th><th scope=col>&lt;chr&gt;</th><th scope=col>&lt;chr&gt;</th></tr>\n",
              "</thead>\n",
              "<tbody>\n",
              "\t<tr><td>KING  </td><td>의 직업은 </td><td>PRESIDENT</td></tr>\n",
              "\t<tr><td>BLAKE </td><td>의 직업은 </td><td>MANAGER  </td></tr>\n",
              "\t<tr><td>CLARK </td><td>의 직업은 </td><td>MANAGER  </td></tr>\n",
              "\t<tr><td>JONES </td><td>의 직업은 </td><td>MANAGER  </td></tr>\n",
              "\t<tr><td>MARTIN</td><td>의 직업은 </td><td>SALESMAN </td></tr>\n",
              "\t<tr><td>ALLEN </td><td>의 직업은 </td><td>SALESMAN </td></tr>\n",
              "\t<tr><td>TURNER</td><td>의 직업은 </td><td>SALESMAN </td></tr>\n",
              "\t<tr><td>JAMES </td><td>의 직업은 </td><td>CLERK    </td></tr>\n",
              "\t<tr><td>WARD  </td><td>의 직업은 </td><td>SALESMAN </td></tr>\n",
              "\t<tr><td>FORD  </td><td>의 직업은 </td><td>ANALYST  </td></tr>\n",
              "\t<tr><td>SMITH </td><td>의 직업은 </td><td>CLERK    </td></tr>\n",
              "\t<tr><td>SCOTT </td><td>의 직업은 </td><td>ANALYST  </td></tr>\n",
              "\t<tr><td>ADAMS </td><td>의 직업은 </td><td>CLERK    </td></tr>\n",
              "\t<tr><td>MILLER</td><td>의 직업은 </td><td>CLERK    </td></tr>\n",
              "</tbody>\n",
              "</table>\n"
            ]
          },
          "metadata": {
            "tags": []
          }
        }
      ]
    },
    {
      "cell_type": "markdown",
      "metadata": {
        "id": "p4e-VraRyRqU"
      },
      "source": [
        ""
      ]
    },
    {
      "cell_type": "markdown",
      "metadata": {
        "id": "TzYjJS_-yc9T"
      },
      "source": [
        ""
      ]
    },
    {
      "cell_type": "markdown",
      "metadata": {
        "id": "tC00_DQ4yc4P"
      },
      "source": [
        "**■ 기타 비교 연산자**\r\n",
        "\r\n",
        "      오라클   ----------------------------------   R\r\n",
        "     1. in                                         %in%\r\n",
        "     2. like                                       grep\r\n",
        "     3. is null                                   is.na\r\n",
        "     4. between .. and                 emp$sal >= 1000 & emp$sal <= 3000\r\n"
      ]
    },
    {
      "cell_type": "markdown",
      "metadata": {
        "id": "RVbLVy14yv2d"
      },
      "source": [
        ""
      ]
    },
    {
      "cell_type": "markdown",
      "metadata": {
        "id": "LCn0HNfsywLj"
      },
      "source": [
        "문제10. 직업이 SALESMAN, ANALYST 인 사원들의 이름과 월급과 직업을 출력하시오 !\r\n"
      ]
    },
    {
      "cell_type": "code",
      "metadata": {
        "colab": {
          "base_uri": "https://localhost:8080/",
          "height": 273
        },
        "id": "m3__S-duyxJJ",
        "outputId": "aa4236dd-fbcc-4b75-a071-06f4ee5be491"
      },
      "source": [
        "emp[ emp$job %in% c(\"SALESMAN\", \"ANALYST\"), c(\"ename\", \"sal\", \"job\") ]"
      ],
      "execution_count": 19,
      "outputs": [
        {
          "output_type": "display_data",
          "data": {
            "text/plain": [
              "   ename  sal  job     \n",
              "5  MARTIN 1250 SALESMAN\n",
              "6  ALLEN  1600 SALESMAN\n",
              "7  TURNER 1500 SALESMAN\n",
              "9  WARD   1250 SALESMAN\n",
              "10 FORD   3000 ANALYST \n",
              "12 SCOTT  3000 ANALYST "
            ],
            "text/latex": "A data.frame: 6 × 3\n\\begin{tabular}{r|lll}\n  & ename & sal & job\\\\\n  & <chr> & <int> & <chr>\\\\\n\\hline\n\t5 & MARTIN & 1250 & SALESMAN\\\\\n\t6 & ALLEN  & 1600 & SALESMAN\\\\\n\t7 & TURNER & 1500 & SALESMAN\\\\\n\t9 & WARD   & 1250 & SALESMAN\\\\\n\t10 & FORD   & 3000 & ANALYST \\\\\n\t12 & SCOTT  & 3000 & ANALYST \\\\\n\\end{tabular}\n",
            "text/markdown": "\nA data.frame: 6 × 3\n\n| <!--/--> | ename &lt;chr&gt; | sal &lt;int&gt; | job &lt;chr&gt; |\n|---|---|---|---|\n| 5 | MARTIN | 1250 | SALESMAN |\n| 6 | ALLEN  | 1600 | SALESMAN |\n| 7 | TURNER | 1500 | SALESMAN |\n| 9 | WARD   | 1250 | SALESMAN |\n| 10 | FORD   | 3000 | ANALYST  |\n| 12 | SCOTT  | 3000 | ANALYST  |\n\n",
            "text/html": [
              "<table class=\"dataframe\">\n",
              "<caption>A data.frame: 6 × 3</caption>\n",
              "<thead>\n",
              "\t<tr><th></th><th scope=col>ename</th><th scope=col>sal</th><th scope=col>job</th></tr>\n",
              "\t<tr><th></th><th scope=col>&lt;chr&gt;</th><th scope=col>&lt;int&gt;</th><th scope=col>&lt;chr&gt;</th></tr>\n",
              "</thead>\n",
              "<tbody>\n",
              "\t<tr><th scope=row>5</th><td>MARTIN</td><td>1250</td><td>SALESMAN</td></tr>\n",
              "\t<tr><th scope=row>6</th><td>ALLEN </td><td>1600</td><td>SALESMAN</td></tr>\n",
              "\t<tr><th scope=row>7</th><td>TURNER</td><td>1500</td><td>SALESMAN</td></tr>\n",
              "\t<tr><th scope=row>9</th><td>WARD  </td><td>1250</td><td>SALESMAN</td></tr>\n",
              "\t<tr><th scope=row>10</th><td>FORD  </td><td>3000</td><td>ANALYST </td></tr>\n",
              "\t<tr><th scope=row>12</th><td>SCOTT </td><td>3000</td><td>ANALYST </td></tr>\n",
              "</tbody>\n",
              "</table>\n"
            ]
          },
          "metadata": {
            "tags": []
          }
        }
      ]
    },
    {
      "cell_type": "markdown",
      "metadata": {
        "id": "ioJ-TfFhy0x0"
      },
      "source": [
        ""
      ]
    },
    {
      "cell_type": "markdown",
      "metadata": {
        "id": "t6BxON7Zy0at"
      },
      "source": [
        ""
      ]
    },
    {
      "cell_type": "markdown",
      "metadata": {
        "id": "Qfi9tGPDy1KE"
      },
      "source": [
        "문제11. 직업이 SALESMAN, ANALYST 가 아닌 사원들의 이름과 월급과 직업을 출력하시오 !"
      ]
    },
    {
      "cell_type": "code",
      "metadata": {
        "colab": {
          "base_uri": "https://localhost:8080/",
          "height": 332
        },
        "id": "xjLKaKiSy1yn",
        "outputId": "e21e0b54-7627-485d-e75b-ebdab7cff028"
      },
      "source": [
        "emp[ ! emp$job %in% c(\"SALESMAN\", \"ANALYST\"), c(\"ename\", \"sal\", \"job\") ]"
      ],
      "execution_count": 20,
      "outputs": [
        {
          "output_type": "display_data",
          "data": {
            "text/plain": [
              "   ename  sal  job      \n",
              "1  KING   5000 PRESIDENT\n",
              "2  BLAKE  2850 MANAGER  \n",
              "3  CLARK  2450 MANAGER  \n",
              "4  JONES  2975 MANAGER  \n",
              "8  JAMES   950 CLERK    \n",
              "11 SMITH   800 CLERK    \n",
              "13 ADAMS  1100 CLERK    \n",
              "14 MILLER 1300 CLERK    "
            ],
            "text/latex": "A data.frame: 8 × 3\n\\begin{tabular}{r|lll}\n  & ename & sal & job\\\\\n  & <chr> & <int> & <chr>\\\\\n\\hline\n\t1 & KING   & 5000 & PRESIDENT\\\\\n\t2 & BLAKE  & 2850 & MANAGER  \\\\\n\t3 & CLARK  & 2450 & MANAGER  \\\\\n\t4 & JONES  & 2975 & MANAGER  \\\\\n\t8 & JAMES  &  950 & CLERK    \\\\\n\t11 & SMITH  &  800 & CLERK    \\\\\n\t13 & ADAMS  & 1100 & CLERK    \\\\\n\t14 & MILLER & 1300 & CLERK    \\\\\n\\end{tabular}\n",
            "text/markdown": "\nA data.frame: 8 × 3\n\n| <!--/--> | ename &lt;chr&gt; | sal &lt;int&gt; | job &lt;chr&gt; |\n|---|---|---|---|\n| 1 | KING   | 5000 | PRESIDENT |\n| 2 | BLAKE  | 2850 | MANAGER   |\n| 3 | CLARK  | 2450 | MANAGER   |\n| 4 | JONES  | 2975 | MANAGER   |\n| 8 | JAMES  |  950 | CLERK     |\n| 11 | SMITH  |  800 | CLERK     |\n| 13 | ADAMS  | 1100 | CLERK     |\n| 14 | MILLER | 1300 | CLERK     |\n\n",
            "text/html": [
              "<table class=\"dataframe\">\n",
              "<caption>A data.frame: 8 × 3</caption>\n",
              "<thead>\n",
              "\t<tr><th></th><th scope=col>ename</th><th scope=col>sal</th><th scope=col>job</th></tr>\n",
              "\t<tr><th></th><th scope=col>&lt;chr&gt;</th><th scope=col>&lt;int&gt;</th><th scope=col>&lt;chr&gt;</th></tr>\n",
              "</thead>\n",
              "<tbody>\n",
              "\t<tr><th scope=row>1</th><td>KING  </td><td>5000</td><td>PRESIDENT</td></tr>\n",
              "\t<tr><th scope=row>2</th><td>BLAKE </td><td>2850</td><td>MANAGER  </td></tr>\n",
              "\t<tr><th scope=row>3</th><td>CLARK </td><td>2450</td><td>MANAGER  </td></tr>\n",
              "\t<tr><th scope=row>4</th><td>JONES </td><td>2975</td><td>MANAGER  </td></tr>\n",
              "\t<tr><th scope=row>8</th><td>JAMES </td><td> 950</td><td>CLERK    </td></tr>\n",
              "\t<tr><th scope=row>11</th><td>SMITH </td><td> 800</td><td>CLERK    </td></tr>\n",
              "\t<tr><th scope=row>13</th><td>ADAMS </td><td>1100</td><td>CLERK    </td></tr>\n",
              "\t<tr><th scope=row>14</th><td>MILLER</td><td>1300</td><td>CLERK    </td></tr>\n",
              "</tbody>\n",
              "</table>\n"
            ]
          },
          "metadata": {
            "tags": []
          }
        }
      ]
    },
    {
      "cell_type": "markdown",
      "metadata": {
        "id": "QXyohf4Ky8YN"
      },
      "source": [
        ""
      ]
    },
    {
      "cell_type": "markdown",
      "metadata": {
        "id": "5JmO5veqy8Sw"
      },
      "source": [
        ""
      ]
    },
    {
      "cell_type": "markdown",
      "metadata": {
        "id": "ma5IWb47y8Oj"
      },
      "source": [
        "문제12. 부서번호가 10번, 20번인 사원들의 이름과 월급과 부서번호를 출력하시오 !\r\n"
      ]
    },
    {
      "cell_type": "code",
      "metadata": {
        "colab": {
          "base_uri": "https://localhost:8080/",
          "height": 332
        },
        "id": "S0_4A4Pcy9Ed",
        "outputId": "cd80c7ad-b005-4e9d-ae4c-6d2695a6c2c2"
      },
      "source": [
        "emp[ emp$deptno %in% c(10, 20), c(\"ename\", \"sal\", \"deptno\") ]"
      ],
      "execution_count": 21,
      "outputs": [
        {
          "output_type": "display_data",
          "data": {
            "text/plain": [
              "   ename  sal  deptno\n",
              "1  KING   5000 10    \n",
              "3  CLARK  2450 10    \n",
              "4  JONES  2975 20    \n",
              "10 FORD   3000 20    \n",
              "11 SMITH   800 20    \n",
              "12 SCOTT  3000 20    \n",
              "13 ADAMS  1100 20    \n",
              "14 MILLER 1300 10    "
            ],
            "text/latex": "A data.frame: 8 × 3\n\\begin{tabular}{r|lll}\n  & ename & sal & deptno\\\\\n  & <chr> & <int> & <int>\\\\\n\\hline\n\t1 & KING   & 5000 & 10\\\\\n\t3 & CLARK  & 2450 & 10\\\\\n\t4 & JONES  & 2975 & 20\\\\\n\t10 & FORD   & 3000 & 20\\\\\n\t11 & SMITH  &  800 & 20\\\\\n\t12 & SCOTT  & 3000 & 20\\\\\n\t13 & ADAMS  & 1100 & 20\\\\\n\t14 & MILLER & 1300 & 10\\\\\n\\end{tabular}\n",
            "text/markdown": "\nA data.frame: 8 × 3\n\n| <!--/--> | ename &lt;chr&gt; | sal &lt;int&gt; | deptno &lt;int&gt; |\n|---|---|---|---|\n| 1 | KING   | 5000 | 10 |\n| 3 | CLARK  | 2450 | 10 |\n| 4 | JONES  | 2975 | 20 |\n| 10 | FORD   | 3000 | 20 |\n| 11 | SMITH  |  800 | 20 |\n| 12 | SCOTT  | 3000 | 20 |\n| 13 | ADAMS  | 1100 | 20 |\n| 14 | MILLER | 1300 | 10 |\n\n",
            "text/html": [
              "<table class=\"dataframe\">\n",
              "<caption>A data.frame: 8 × 3</caption>\n",
              "<thead>\n",
              "\t<tr><th></th><th scope=col>ename</th><th scope=col>sal</th><th scope=col>deptno</th></tr>\n",
              "\t<tr><th></th><th scope=col>&lt;chr&gt;</th><th scope=col>&lt;int&gt;</th><th scope=col>&lt;int&gt;</th></tr>\n",
              "</thead>\n",
              "<tbody>\n",
              "\t<tr><th scope=row>1</th><td>KING  </td><td>5000</td><td>10</td></tr>\n",
              "\t<tr><th scope=row>3</th><td>CLARK </td><td>2450</td><td>10</td></tr>\n",
              "\t<tr><th scope=row>4</th><td>JONES </td><td>2975</td><td>20</td></tr>\n",
              "\t<tr><th scope=row>10</th><td>FORD  </td><td>3000</td><td>20</td></tr>\n",
              "\t<tr><th scope=row>11</th><td>SMITH </td><td> 800</td><td>20</td></tr>\n",
              "\t<tr><th scope=row>12</th><td>SCOTT </td><td>3000</td><td>20</td></tr>\n",
              "\t<tr><th scope=row>13</th><td>ADAMS </td><td>1100</td><td>20</td></tr>\n",
              "\t<tr><th scope=row>14</th><td>MILLER</td><td>1300</td><td>10</td></tr>\n",
              "</tbody>\n",
              "</table>\n"
            ]
          },
          "metadata": {
            "tags": []
          }
        }
      ]
    },
    {
      "cell_type": "markdown",
      "metadata": {
        "id": "WvwR__85y_GZ"
      },
      "source": [
        ""
      ]
    },
    {
      "cell_type": "markdown",
      "metadata": {
        "id": "PEnB-jC9y_Cj"
      },
      "source": [
        ""
      ]
    },
    {
      "cell_type": "markdown",
      "metadata": {
        "id": "9JwXvCapy--7"
      },
      "source": [
        "문제13. 커미션이 null 인 사원들의 이름과 월급과 커미션을 출력하시오 !\r\n"
      ]
    },
    {
      "cell_type": "code",
      "metadata": {
        "colab": {
          "base_uri": "https://localhost:8080/",
          "height": 392
        },
        "id": "zKRTVdeGzAd6",
        "outputId": "a63669e5-2bfc-41d7-9049-33da0559614e"
      },
      "source": [
        "emp[ is.na(emp$comm), c(\"ename\", \"sal\", \"comm\") ]"
      ],
      "execution_count": 22,
      "outputs": [
        {
          "output_type": "display_data",
          "data": {
            "text/plain": [
              "   ename  sal  comm\n",
              "1  KING   5000 NA  \n",
              "2  BLAKE  2850 NA  \n",
              "3  CLARK  2450 NA  \n",
              "4  JONES  2975 NA  \n",
              "8  JAMES   950 NA  \n",
              "10 FORD   3000 NA  \n",
              "11 SMITH   800 NA  \n",
              "12 SCOTT  3000 NA  \n",
              "13 ADAMS  1100 NA  \n",
              "14 MILLER 1300 NA  "
            ],
            "text/latex": "A data.frame: 10 × 3\n\\begin{tabular}{r|lll}\n  & ename & sal & comm\\\\\n  & <chr> & <int> & <int>\\\\\n\\hline\n\t1 & KING   & 5000 & NA\\\\\n\t2 & BLAKE  & 2850 & NA\\\\\n\t3 & CLARK  & 2450 & NA\\\\\n\t4 & JONES  & 2975 & NA\\\\\n\t8 & JAMES  &  950 & NA\\\\\n\t10 & FORD   & 3000 & NA\\\\\n\t11 & SMITH  &  800 & NA\\\\\n\t12 & SCOTT  & 3000 & NA\\\\\n\t13 & ADAMS  & 1100 & NA\\\\\n\t14 & MILLER & 1300 & NA\\\\\n\\end{tabular}\n",
            "text/markdown": "\nA data.frame: 10 × 3\n\n| <!--/--> | ename &lt;chr&gt; | sal &lt;int&gt; | comm &lt;int&gt; |\n|---|---|---|---|\n| 1 | KING   | 5000 | NA |\n| 2 | BLAKE  | 2850 | NA |\n| 3 | CLARK  | 2450 | NA |\n| 4 | JONES  | 2975 | NA |\n| 8 | JAMES  |  950 | NA |\n| 10 | FORD   | 3000 | NA |\n| 11 | SMITH  |  800 | NA |\n| 12 | SCOTT  | 3000 | NA |\n| 13 | ADAMS  | 1100 | NA |\n| 14 | MILLER | 1300 | NA |\n\n",
            "text/html": [
              "<table class=\"dataframe\">\n",
              "<caption>A data.frame: 10 × 3</caption>\n",
              "<thead>\n",
              "\t<tr><th></th><th scope=col>ename</th><th scope=col>sal</th><th scope=col>comm</th></tr>\n",
              "\t<tr><th></th><th scope=col>&lt;chr&gt;</th><th scope=col>&lt;int&gt;</th><th scope=col>&lt;int&gt;</th></tr>\n",
              "</thead>\n",
              "<tbody>\n",
              "\t<tr><th scope=row>1</th><td>KING  </td><td>5000</td><td>NA</td></tr>\n",
              "\t<tr><th scope=row>2</th><td>BLAKE </td><td>2850</td><td>NA</td></tr>\n",
              "\t<tr><th scope=row>3</th><td>CLARK </td><td>2450</td><td>NA</td></tr>\n",
              "\t<tr><th scope=row>4</th><td>JONES </td><td>2975</td><td>NA</td></tr>\n",
              "\t<tr><th scope=row>8</th><td>JAMES </td><td> 950</td><td>NA</td></tr>\n",
              "\t<tr><th scope=row>10</th><td>FORD  </td><td>3000</td><td>NA</td></tr>\n",
              "\t<tr><th scope=row>11</th><td>SMITH </td><td> 800</td><td>NA</td></tr>\n",
              "\t<tr><th scope=row>12</th><td>SCOTT </td><td>3000</td><td>NA</td></tr>\n",
              "\t<tr><th scope=row>13</th><td>ADAMS </td><td>1100</td><td>NA</td></tr>\n",
              "\t<tr><th scope=row>14</th><td>MILLER</td><td>1300</td><td>NA</td></tr>\n",
              "</tbody>\n",
              "</table>\n"
            ]
          },
          "metadata": {
            "tags": []
          }
        }
      ]
    },
    {
      "cell_type": "markdown",
      "metadata": {
        "id": "WPxZ4_SlzCLb"
      },
      "source": [
        "설명:\r\n",
        " \r\n",
        "     1. NA (결손값)  -----> is.na()\r\n",
        "     2. NaN (비수치) -----> is.nan()\r\n",
        "         ↓\r\n",
        "      Not a Number\r\n",
        "\r\n",
        "     3. NULL (아무것도 없다) ------> is.null() \r\n"
      ]
    },
    {
      "cell_type": "markdown",
      "metadata": {
        "id": "iQvzPxthzKk_"
      },
      "source": [
        "설명: 머신러닝 학습시에는 결손값을 다른 값으로 대체하는 것이 아주 중요합니다.\r\n"
      ]
    },
    {
      "cell_type": "markdown",
      "metadata": {
        "id": "UXi-JppJzLV3"
      },
      "source": [
        ""
      ]
    },
    {
      "cell_type": "markdown",
      "metadata": {
        "id": "UWylOtM4zKeT"
      },
      "source": [
        ""
      ]
    },
    {
      "cell_type": "markdown",
      "metadata": {
        "id": "maBGriVtzKXT"
      },
      "source": [
        "문제14. 커미션이 NA 가 아닌 사원들의 이름과 월급과 커미션을 출력하시오 !\r\n"
      ]
    },
    {
      "cell_type": "code",
      "metadata": {
        "colab": {
          "base_uri": "https://localhost:8080/",
          "height": 213
        },
        "id": "3sItBik8zKIk",
        "outputId": "86d55afd-4d12-4722-c6d3-77cb84f3b764"
      },
      "source": [
        "emp[ ! is.na(emp$comm), c(\"ename\", \"sal\", \"comm\") ]"
      ],
      "execution_count": 23,
      "outputs": [
        {
          "output_type": "display_data",
          "data": {
            "text/plain": [
              "  ename  sal  comm\n",
              "5 MARTIN 1250 1400\n",
              "6 ALLEN  1600  300\n",
              "7 TURNER 1500    0\n",
              "9 WARD   1250  500"
            ],
            "text/latex": "A data.frame: 4 × 3\n\\begin{tabular}{r|lll}\n  & ename & sal & comm\\\\\n  & <chr> & <int> & <int>\\\\\n\\hline\n\t5 & MARTIN & 1250 & 1400\\\\\n\t6 & ALLEN  & 1600 &  300\\\\\n\t7 & TURNER & 1500 &    0\\\\\n\t9 & WARD   & 1250 &  500\\\\\n\\end{tabular}\n",
            "text/markdown": "\nA data.frame: 4 × 3\n\n| <!--/--> | ename &lt;chr&gt; | sal &lt;int&gt; | comm &lt;int&gt; |\n|---|---|---|---|\n| 5 | MARTIN | 1250 | 1400 |\n| 6 | ALLEN  | 1600 |  300 |\n| 7 | TURNER | 1500 |    0 |\n| 9 | WARD   | 1250 |  500 |\n\n",
            "text/html": [
              "<table class=\"dataframe\">\n",
              "<caption>A data.frame: 4 × 3</caption>\n",
              "<thead>\n",
              "\t<tr><th></th><th scope=col>ename</th><th scope=col>sal</th><th scope=col>comm</th></tr>\n",
              "\t<tr><th></th><th scope=col>&lt;chr&gt;</th><th scope=col>&lt;int&gt;</th><th scope=col>&lt;int&gt;</th></tr>\n",
              "</thead>\n",
              "<tbody>\n",
              "\t<tr><th scope=row>5</th><td>MARTIN</td><td>1250</td><td>1400</td></tr>\n",
              "\t<tr><th scope=row>6</th><td>ALLEN </td><td>1600</td><td> 300</td></tr>\n",
              "\t<tr><th scope=row>7</th><td>TURNER</td><td>1500</td><td>   0</td></tr>\n",
              "\t<tr><th scope=row>9</th><td>WARD  </td><td>1250</td><td> 500</td></tr>\n",
              "</tbody>\n",
              "</table>\n"
            ]
          },
          "metadata": {
            "tags": []
          }
        }
      ]
    },
    {
      "cell_type": "markdown",
      "metadata": {
        "id": "sM3FfyxZzQin"
      },
      "source": [
        ""
      ]
    },
    {
      "cell_type": "markdown",
      "metadata": {
        "id": "8uF589RezQes"
      },
      "source": [
        ""
      ]
    },
    {
      "cell_type": "markdown",
      "metadata": {
        "id": "-k_nrdPDzQbU"
      },
      "source": [
        "문제15. 월급이 1000에서 3000 사이인 사원들의 이름과 월급을 출력하시오 !\r\n",
        "\r\n",
        "SQL>\r\n",
        "\r\n",
        "    select ename, sal\r\n",
        "       from emp\r\n",
        "       where between 1000 and 3000;\r\n"
      ]
    },
    {
      "cell_type": "code",
      "metadata": {
        "colab": {
          "base_uri": "https://localhost:8080/",
          "height": 422
        },
        "id": "xBlrDCVWzROj",
        "outputId": "492e24d4-1c6d-4170-e05d-1e409de293cc"
      },
      "source": [
        "emp [ emp$sal >= 1000 & emp$sal <= 3000, c(\"ename\", \"sal\") ]"
      ],
      "execution_count": 26,
      "outputs": [
        {
          "output_type": "display_data",
          "data": {
            "text/plain": [
              "   ename  sal \n",
              "2  BLAKE  2850\n",
              "3  CLARK  2450\n",
              "4  JONES  2975\n",
              "5  MARTIN 1250\n",
              "6  ALLEN  1600\n",
              "7  TURNER 1500\n",
              "9  WARD   1250\n",
              "10 FORD   3000\n",
              "12 SCOTT  3000\n",
              "13 ADAMS  1100\n",
              "14 MILLER 1300"
            ],
            "text/latex": "A data.frame: 11 × 2\n\\begin{tabular}{r|ll}\n  & ename & sal\\\\\n  & <chr> & <int>\\\\\n\\hline\n\t2 & BLAKE  & 2850\\\\\n\t3 & CLARK  & 2450\\\\\n\t4 & JONES  & 2975\\\\\n\t5 & MARTIN & 1250\\\\\n\t6 & ALLEN  & 1600\\\\\n\t7 & TURNER & 1500\\\\\n\t9 & WARD   & 1250\\\\\n\t10 & FORD   & 3000\\\\\n\t12 & SCOTT  & 3000\\\\\n\t13 & ADAMS  & 1100\\\\\n\t14 & MILLER & 1300\\\\\n\\end{tabular}\n",
            "text/markdown": "\nA data.frame: 11 × 2\n\n| <!--/--> | ename &lt;chr&gt; | sal &lt;int&gt; |\n|---|---|---|\n| 2 | BLAKE  | 2850 |\n| 3 | CLARK  | 2450 |\n| 4 | JONES  | 2975 |\n| 5 | MARTIN | 1250 |\n| 6 | ALLEN  | 1600 |\n| 7 | TURNER | 1500 |\n| 9 | WARD   | 1250 |\n| 10 | FORD   | 3000 |\n| 12 | SCOTT  | 3000 |\n| 13 | ADAMS  | 1100 |\n| 14 | MILLER | 1300 |\n\n",
            "text/html": [
              "<table class=\"dataframe\">\n",
              "<caption>A data.frame: 11 × 2</caption>\n",
              "<thead>\n",
              "\t<tr><th></th><th scope=col>ename</th><th scope=col>sal</th></tr>\n",
              "\t<tr><th></th><th scope=col>&lt;chr&gt;</th><th scope=col>&lt;int&gt;</th></tr>\n",
              "</thead>\n",
              "<tbody>\n",
              "\t<tr><th scope=row>2</th><td>BLAKE </td><td>2850</td></tr>\n",
              "\t<tr><th scope=row>3</th><td>CLARK </td><td>2450</td></tr>\n",
              "\t<tr><th scope=row>4</th><td>JONES </td><td>2975</td></tr>\n",
              "\t<tr><th scope=row>5</th><td>MARTIN</td><td>1250</td></tr>\n",
              "\t<tr><th scope=row>6</th><td>ALLEN </td><td>1600</td></tr>\n",
              "\t<tr><th scope=row>7</th><td>TURNER</td><td>1500</td></tr>\n",
              "\t<tr><th scope=row>9</th><td>WARD  </td><td>1250</td></tr>\n",
              "\t<tr><th scope=row>10</th><td>FORD  </td><td>3000</td></tr>\n",
              "\t<tr><th scope=row>12</th><td>SCOTT </td><td>3000</td></tr>\n",
              "\t<tr><th scope=row>13</th><td>ADAMS </td><td>1100</td></tr>\n",
              "\t<tr><th scope=row>14</th><td>MILLER</td><td>1300</td></tr>\n",
              "</tbody>\n",
              "</table>\n"
            ]
          },
          "metadata": {
            "tags": []
          }
        }
      ]
    },
    {
      "cell_type": "code",
      "metadata": {
        "colab": {
          "base_uri": "https://localhost:8080/"
        },
        "id": "cUl78nBLzW9N",
        "outputId": "8cecd1c7-0d5a-46da-a456-1e492208eb39"
      },
      "source": [
        "str(emp$sal)"
      ],
      "execution_count": 25,
      "outputs": [
        {
          "output_type": "stream",
          "text": [
            " int [1:14] 5000 2850 2450 2975 1250 1600 1500 950 1250 3000 ...\n"
          ],
          "name": "stdout"
        }
      ]
    },
    {
      "cell_type": "markdown",
      "metadata": {
        "id": "Oekf3J3ezasn"
      },
      "source": [
        ""
      ]
    },
    {
      "cell_type": "markdown",
      "metadata": {
        "id": "3SB59JUWzapE"
      },
      "source": [
        ""
      ]
    },
    {
      "cell_type": "markdown",
      "metadata": {
        "id": "jjYPPjjRzalN"
      },
      "source": [
        "문제16. 월급이 1000 에서 3000 사이가 아닌 사원들의 이름과 월급을 출력하시오 !\r\n"
      ]
    },
    {
      "cell_type": "code",
      "metadata": {
        "colab": {
          "base_uri": "https://localhost:8080/",
          "height": 183
        },
        "id": "d7lMMGDNzbNc",
        "outputId": "3be6e94e-1711-4d48-c014-bb87d7fe5fef"
      },
      "source": [
        "emp [ ! ( emp$sal >= 1000 & emp$sal <=3000 ), c(\"ename\", \"sal\") ]"
      ],
      "execution_count": 27,
      "outputs": [
        {
          "output_type": "display_data",
          "data": {
            "text/plain": [
              "   ename sal \n",
              "1  KING  5000\n",
              "8  JAMES  950\n",
              "11 SMITH  800"
            ],
            "text/latex": "A data.frame: 3 × 2\n\\begin{tabular}{r|ll}\n  & ename & sal\\\\\n  & <chr> & <int>\\\\\n\\hline\n\t1 & KING  & 5000\\\\\n\t8 & JAMES &  950\\\\\n\t11 & SMITH &  800\\\\\n\\end{tabular}\n",
            "text/markdown": "\nA data.frame: 3 × 2\n\n| <!--/--> | ename &lt;chr&gt; | sal &lt;int&gt; |\n|---|---|---|\n| 1 | KING  | 5000 |\n| 8 | JAMES |  950 |\n| 11 | SMITH |  800 |\n\n",
            "text/html": [
              "<table class=\"dataframe\">\n",
              "<caption>A data.frame: 3 × 2</caption>\n",
              "<thead>\n",
              "\t<tr><th></th><th scope=col>ename</th><th scope=col>sal</th></tr>\n",
              "\t<tr><th></th><th scope=col>&lt;chr&gt;</th><th scope=col>&lt;int&gt;</th></tr>\n",
              "</thead>\n",
              "<tbody>\n",
              "\t<tr><th scope=row>1</th><td>KING </td><td>5000</td></tr>\n",
              "\t<tr><th scope=row>8</th><td>JAMES</td><td> 950</td></tr>\n",
              "\t<tr><th scope=row>11</th><td>SMITH</td><td> 800</td></tr>\n",
              "</tbody>\n",
              "</table>\n"
            ]
          },
          "metadata": {
            "tags": []
          }
        }
      ]
    },
    {
      "cell_type": "markdown",
      "metadata": {
        "id": "OnqyGTXLziEN"
      },
      "source": [
        ""
      ]
    },
    {
      "cell_type": "markdown",
      "metadata": {
        "id": "VCfTiREvzh_4"
      },
      "source": [
        ""
      ]
    },
    {
      "cell_type": "markdown",
      "metadata": {
        "id": "RYX4ep3nzh7T"
      },
      "source": [
        "문제17. 이름의 첫번째 철자가 A 로 시작하는 사원들의 이름과 월급을 출력하시오 !\r\n"
      ]
    },
    {
      "cell_type": "code",
      "metadata": {
        "colab": {
          "base_uri": "https://localhost:8080/",
          "height": 153
        },
        "id": "Q90uDOE8zjU9",
        "outputId": "143ba3fa-3084-4c4e-84f7-71047ff8c5e7"
      },
      "source": [
        "emp[ grep(\"^A\", emp$ename), c(\"ename\", \"sal\") ]"
      ],
      "execution_count": 28,
      "outputs": [
        {
          "output_type": "display_data",
          "data": {
            "text/plain": [
              "   ename sal \n",
              "6  ALLEN 1600\n",
              "13 ADAMS 1100"
            ],
            "text/latex": "A data.frame: 2 × 2\n\\begin{tabular}{r|ll}\n  & ename & sal\\\\\n  & <chr> & <int>\\\\\n\\hline\n\t6 & ALLEN & 1600\\\\\n\t13 & ADAMS & 1100\\\\\n\\end{tabular}\n",
            "text/markdown": "\nA data.frame: 2 × 2\n\n| <!--/--> | ename &lt;chr&gt; | sal &lt;int&gt; |\n|---|---|---|\n| 6 | ALLEN | 1600 |\n| 13 | ADAMS | 1100 |\n\n",
            "text/html": [
              "<table class=\"dataframe\">\n",
              "<caption>A data.frame: 2 × 2</caption>\n",
              "<thead>\n",
              "\t<tr><th></th><th scope=col>ename</th><th scope=col>sal</th></tr>\n",
              "\t<tr><th></th><th scope=col>&lt;chr&gt;</th><th scope=col>&lt;int&gt;</th></tr>\n",
              "</thead>\n",
              "<tbody>\n",
              "\t<tr><th scope=row>6</th><td>ALLEN</td><td>1600</td></tr>\n",
              "\t<tr><th scope=row>13</th><td>ADAMS</td><td>1100</td></tr>\n",
              "</tbody>\n",
              "</table>\n"
            ]
          },
          "metadata": {
            "tags": []
          }
        }
      ]
    },
    {
      "cell_type": "markdown",
      "metadata": {
        "id": "A6tV7ueCzlGw"
      },
      "source": [
        "설명: ^ 는 시작을 나타냅니다.\r\n"
      ]
    },
    {
      "cell_type": "markdown",
      "metadata": {
        "id": "m8rYJ39vzmQF"
      },
      "source": [
        ""
      ]
    },
    {
      "cell_type": "markdown",
      "metadata": {
        "id": "KaGt4Nt7zmrj"
      },
      "source": [
        ""
      ]
    },
    {
      "cell_type": "markdown",
      "metadata": {
        "id": "31liEr1Wzme0"
      },
      "source": [
        "문제18. 이름의 끝글자가 T 로 끝나는 사원들의 이름과 월급을 출력하시오 !\r\n"
      ]
    },
    {
      "cell_type": "code",
      "metadata": {
        "colab": {
          "base_uri": "https://localhost:8080/",
          "height": 124
        },
        "id": "co5PqyqGzoIi",
        "outputId": "dd161078-d64f-47a5-a7b8-426271ec432f"
      },
      "source": [
        "emp[ grep(\"T$\", emp$ename), c(\"ename\", \"sal\") ]"
      ],
      "execution_count": 29,
      "outputs": [
        {
          "output_type": "display_data",
          "data": {
            "text/plain": [
              "   ename sal \n",
              "12 SCOTT 3000"
            ],
            "text/latex": "A data.frame: 1 × 2\n\\begin{tabular}{r|ll}\n  & ename & sal\\\\\n  & <chr> & <int>\\\\\n\\hline\n\t12 & SCOTT & 3000\\\\\n\\end{tabular}\n",
            "text/markdown": "\nA data.frame: 1 × 2\n\n| <!--/--> | ename &lt;chr&gt; | sal &lt;int&gt; |\n|---|---|---|\n| 12 | SCOTT | 3000 |\n\n",
            "text/html": [
              "<table class=\"dataframe\">\n",
              "<caption>A data.frame: 1 × 2</caption>\n",
              "<thead>\n",
              "\t<tr><th></th><th scope=col>ename</th><th scope=col>sal</th></tr>\n",
              "\t<tr><th></th><th scope=col>&lt;chr&gt;</th><th scope=col>&lt;int&gt;</th></tr>\n",
              "</thead>\n",
              "<tbody>\n",
              "\t<tr><th scope=row>12</th><td>SCOTT</td><td>3000</td></tr>\n",
              "</tbody>\n",
              "</table>\n"
            ]
          },
          "metadata": {
            "tags": []
          }
        }
      ]
    },
    {
      "cell_type": "markdown",
      "metadata": {
        "id": "yFqCDfP4zqKk"
      },
      "source": [
        "설명: $ 는 끝을 나타냅니다."
      ]
    },
    {
      "cell_type": "markdown",
      "metadata": {
        "id": "O5IFUZUOzriE"
      },
      "source": [
        ""
      ]
    },
    {
      "cell_type": "markdown",
      "metadata": {
        "id": "fZN5nB6Dzrcw"
      },
      "source": [
        ""
      ]
    },
    {
      "cell_type": "markdown",
      "metadata": {
        "id": "9TszJa3BzrM8"
      },
      "source": [
        "문제19. 이름의 두번째 철자가 M 인 사원들의 이름과 월급을 출력하시오 !\r\n"
      ]
    },
    {
      "cell_type": "code",
      "metadata": {
        "colab": {
          "base_uri": "https://localhost:8080/",
          "height": 124
        },
        "id": "vzbKuXbizs-t",
        "outputId": "e4f38136-2b1e-47a4-e503-c576d9522cc7"
      },
      "source": [
        "emp[ grep(\"^.M\", emp$ename), c(\"ename\", \"sal\") ]"
      ],
      "execution_count": 30,
      "outputs": [
        {
          "output_type": "display_data",
          "data": {
            "text/plain": [
              "   ename sal\n",
              "11 SMITH 800"
            ],
            "text/latex": "A data.frame: 1 × 2\n\\begin{tabular}{r|ll}\n  & ename & sal\\\\\n  & <chr> & <int>\\\\\n\\hline\n\t11 & SMITH & 800\\\\\n\\end{tabular}\n",
            "text/markdown": "\nA data.frame: 1 × 2\n\n| <!--/--> | ename &lt;chr&gt; | sal &lt;int&gt; |\n|---|---|---|\n| 11 | SMITH | 800 |\n\n",
            "text/html": [
              "<table class=\"dataframe\">\n",
              "<caption>A data.frame: 1 × 2</caption>\n",
              "<thead>\n",
              "\t<tr><th></th><th scope=col>ename</th><th scope=col>sal</th></tr>\n",
              "\t<tr><th></th><th scope=col>&lt;chr&gt;</th><th scope=col>&lt;int&gt;</th></tr>\n",
              "</thead>\n",
              "<tbody>\n",
              "\t<tr><th scope=row>11</th><td>SMITH</td><td>800</td></tr>\n",
              "</tbody>\n",
              "</table>\n"
            ]
          },
          "metadata": {
            "tags": []
          }
        }
      ]
    },
    {
      "cell_type": "markdown",
      "metadata": {
        "id": "6cw6Nuhpzuz3"
      },
      "source": [
        "설명: 점(.)은 자리수 하나 입니다.\r\n"
      ]
    },
    {
      "cell_type": "markdown",
      "metadata": {
        "id": "C21ZOmr9zvyp"
      },
      "source": [
        ""
      ]
    },
    {
      "cell_type": "markdown",
      "metadata": {
        "id": "RZW26bZtzwiz"
      },
      "source": [
        ""
      ]
    },
    {
      "cell_type": "markdown",
      "metadata": {
        "id": "87y3_HQUzwMJ"
      },
      "source": [
        "문제20. 이름의 세번째 철자가 L인 사원들의 이름과 월급을 출력하시오 !\r\n"
      ]
    },
    {
      "cell_type": "code",
      "metadata": {
        "colab": {
          "base_uri": "https://localhost:8080/",
          "height": 153
        },
        "id": "ahQtD92kzuqF",
        "outputId": "bbb58b60-489e-435c-e413-9d4a28915533"
      },
      "source": [
        "emp[ grep(\"^..L\", emp$ename), c(\"ename\", \"sal\") ]"
      ],
      "execution_count": 31,
      "outputs": [
        {
          "output_type": "display_data",
          "data": {
            "text/plain": [
              "   ename  sal \n",
              "6  ALLEN  1600\n",
              "14 MILLER 1300"
            ],
            "text/latex": "A data.frame: 2 × 2\n\\begin{tabular}{r|ll}\n  & ename & sal\\\\\n  & <chr> & <int>\\\\\n\\hline\n\t6 & ALLEN  & 1600\\\\\n\t14 & MILLER & 1300\\\\\n\\end{tabular}\n",
            "text/markdown": "\nA data.frame: 2 × 2\n\n| <!--/--> | ename &lt;chr&gt; | sal &lt;int&gt; |\n|---|---|---|\n| 6 | ALLEN  | 1600 |\n| 14 | MILLER | 1300 |\n\n",
            "text/html": [
              "<table class=\"dataframe\">\n",
              "<caption>A data.frame: 2 × 2</caption>\n",
              "<thead>\n",
              "\t<tr><th></th><th scope=col>ename</th><th scope=col>sal</th></tr>\n",
              "\t<tr><th></th><th scope=col>&lt;chr&gt;</th><th scope=col>&lt;int&gt;</th></tr>\n",
              "</thead>\n",
              "<tbody>\n",
              "\t<tr><th scope=row>6</th><td>ALLEN </td><td>1600</td></tr>\n",
              "\t<tr><th scope=row>14</th><td>MILLER</td><td>1300</td></tr>\n",
              "</tbody>\n",
              "</table>\n"
            ]
          },
          "metadata": {
            "tags": []
          }
        }
      ]
    },
    {
      "cell_type": "markdown",
      "metadata": {
        "id": "ZjJWuVogz1yw"
      },
      "source": [
        ""
      ]
    },
    {
      "cell_type": "markdown",
      "metadata": {
        "id": "S7ybPJL8z1tj"
      },
      "source": [
        ""
      ]
    },
    {
      "cell_type": "markdown",
      "metadata": {
        "id": "PVJRj5P2z1mP"
      },
      "source": [
        "**■ 중복 제거**\r\n",
        "\r\n",
        "      오라클  ------------------------------  R \r\n",
        "      distinct                             unique "
      ]
    },
    {
      "cell_type": "markdown",
      "metadata": {
        "id": "EMEqM2Azz6m7"
      },
      "source": [
        ""
      ]
    },
    {
      "cell_type": "markdown",
      "metadata": {
        "id": "AQzqGvpB0Zsp"
      },
      "source": [
        "문제21. 부서번호를 출력하는데 중복을 제거해서 출력하시오\r\n"
      ]
    },
    {
      "cell_type": "code",
      "metadata": {
        "colab": {
          "base_uri": "https://localhost:8080/",
          "height": 217
        },
        "id": "q3VML3_a0cmJ",
        "outputId": "efe969b6-f74c-45b4-abf5-e569c561e3fe"
      },
      "source": [
        "library(data.table)\r\n",
        "data.table( \"부서번호\"=unique(emp$deptno) )"
      ],
      "execution_count": 32,
      "outputs": [
        {
          "output_type": "display_data",
          "data": {
            "text/plain": [
              "  부서번호\n",
              "1 10      \n",
              "2 30      \n",
              "3 20      "
            ],
            "text/latex": "A data.table: 3 × 1\n\\begin{tabular}{l}\n 부서번호\\\\\n <int>\\\\\n\\hline\n\t 10\\\\\n\t 30\\\\\n\t 20\\\\\n\\end{tabular}\n",
            "text/markdown": "\nA data.table: 3 × 1\n\n| 부서번호 &lt;int&gt; |\n|---|\n| 10 |\n| 30 |\n| 20 |\n\n",
            "text/html": [
              "<table class=\"dataframe\">\n",
              "<caption>A data.table: 3 × 1</caption>\n",
              "<thead>\n",
              "\t<tr><th scope=col>부서번호</th></tr>\n",
              "\t<tr><th scope=col>&lt;int&gt;</th></tr>\n",
              "</thead>\n",
              "<tbody>\n",
              "\t<tr><td>10</td></tr>\n",
              "\t<tr><td>30</td></tr>\n",
              "\t<tr><td>20</td></tr>\n",
              "</tbody>\n",
              "</table>\n"
            ]
          },
          "metadata": {
            "tags": []
          }
        }
      ]
    },
    {
      "cell_type": "markdown",
      "metadata": {
        "id": "BQag70Cs0eqA"
      },
      "source": [
        ""
      ]
    },
    {
      "cell_type": "markdown",
      "metadata": {
        "id": "JopCmQwj0eio"
      },
      "source": [
        ""
      ]
    },
    {
      "cell_type": "markdown",
      "metadata": {
        "id": "87m2lEhV0ec0"
      },
      "source": [
        "문제22. 직업을 출력하는데 중복을 제거해서 출력하시오\r\n"
      ]
    },
    {
      "cell_type": "code",
      "metadata": {
        "colab": {
          "base_uri": "https://localhost:8080/",
          "height": 260
        },
        "id": "wKby24mh0fx0",
        "outputId": "e1e19584-9e5f-47e3-e1bc-cb4c5f992f89"
      },
      "source": [
        "library(data.table)\r\n",
        "data.table(\"직업\"=unique(emp$job) )"
      ],
      "execution_count": 33,
      "outputs": [
        {
          "output_type": "display_data",
          "data": {
            "text/plain": [
              "  직업     \n",
              "1 PRESIDENT\n",
              "2 MANAGER  \n",
              "3 SALESMAN \n",
              "4 CLERK    \n",
              "5 ANALYST  "
            ],
            "text/latex": "A data.table: 5 × 1\n\\begin{tabular}{l}\n 직업\\\\\n <chr>\\\\\n\\hline\n\t PRESIDENT\\\\\n\t MANAGER  \\\\\n\t SALESMAN \\\\\n\t CLERK    \\\\\n\t ANALYST  \\\\\n\\end{tabular}\n",
            "text/markdown": "\nA data.table: 5 × 1\n\n| 직업 &lt;chr&gt; |\n|---|\n| PRESIDENT |\n| MANAGER   |\n| SALESMAN  |\n| CLERK     |\n| ANALYST   |\n\n",
            "text/html": [
              "<table class=\"dataframe\">\n",
              "<caption>A data.table: 5 × 1</caption>\n",
              "<thead>\n",
              "\t<tr><th scope=col>직업</th></tr>\n",
              "\t<tr><th scope=col>&lt;chr&gt;</th></tr>\n",
              "</thead>\n",
              "<tbody>\n",
              "\t<tr><td>PRESIDENT</td></tr>\n",
              "\t<tr><td>MANAGER  </td></tr>\n",
              "\t<tr><td>SALESMAN </td></tr>\n",
              "\t<tr><td>CLERK    </td></tr>\n",
              "\t<tr><td>ANALYST  </td></tr>\n",
              "</tbody>\n",
              "</table>\n"
            ]
          },
          "metadata": {
            "tags": []
          }
        }
      ]
    },
    {
      "cell_type": "markdown",
      "metadata": {
        "id": "T4cCQN0i0ivU"
      },
      "source": [
        ""
      ]
    },
    {
      "cell_type": "markdown",
      "metadata": {
        "id": "p94mo12E0isX"
      },
      "source": [
        ""
      ]
    },
    {
      "cell_type": "markdown",
      "metadata": {
        "id": "dMuB884_0ipM"
      },
      "source": [
        "**■ 정렬 작업**\r\n",
        "\r\n",
        "     오라클 ------------- R\r\n",
        "    order by          1. data frame 에서 order 옵션\r\n",
        "\t\t\t          2. doBy 패키지를 설치하고 orderBy 함수를 사용\r\n",
        "\t\t\t\r\n"
      ]
    },
    {
      "cell_type": "markdown",
      "metadata": {
        "id": "lZ4n-O-U0ptm"
      },
      "source": [
        ""
      ]
    },
    {
      "cell_type": "markdown",
      "metadata": {
        "id": "buCAQAe00poU"
      },
      "source": [
        "문제23. 이름과 월급을 출력하는데 월급이 높은 사원부터 출력하시오 !\r\n"
      ]
    },
    {
      "cell_type": "code",
      "metadata": {
        "colab": {
          "base_uri": "https://localhost:8080/",
          "height": 511
        },
        "id": "LQ1R3jJE0o_U",
        "outputId": "2a99f1db-3d1e-486b-834b-88a5e2516062"
      },
      "source": [
        "emp[ order(emp$sal, decreasing=T), c(\"ename\", \"sal\") ]"
      ],
      "execution_count": 34,
      "outputs": [
        {
          "output_type": "display_data",
          "data": {
            "text/plain": [
              "   ename  sal \n",
              "1  KING   5000\n",
              "10 FORD   3000\n",
              "12 SCOTT  3000\n",
              "4  JONES  2975\n",
              "2  BLAKE  2850\n",
              "3  CLARK  2450\n",
              "6  ALLEN  1600\n",
              "7  TURNER 1500\n",
              "14 MILLER 1300\n",
              "5  MARTIN 1250\n",
              "9  WARD   1250\n",
              "13 ADAMS  1100\n",
              "8  JAMES   950\n",
              "11 SMITH   800"
            ],
            "text/latex": "A data.frame: 14 × 2\n\\begin{tabular}{r|ll}\n  & ename & sal\\\\\n  & <chr> & <int>\\\\\n\\hline\n\t1 & KING   & 5000\\\\\n\t10 & FORD   & 3000\\\\\n\t12 & SCOTT  & 3000\\\\\n\t4 & JONES  & 2975\\\\\n\t2 & BLAKE  & 2850\\\\\n\t3 & CLARK  & 2450\\\\\n\t6 & ALLEN  & 1600\\\\\n\t7 & TURNER & 1500\\\\\n\t14 & MILLER & 1300\\\\\n\t5 & MARTIN & 1250\\\\\n\t9 & WARD   & 1250\\\\\n\t13 & ADAMS  & 1100\\\\\n\t8 & JAMES  &  950\\\\\n\t11 & SMITH  &  800\\\\\n\\end{tabular}\n",
            "text/markdown": "\nA data.frame: 14 × 2\n\n| <!--/--> | ename &lt;chr&gt; | sal &lt;int&gt; |\n|---|---|---|\n| 1 | KING   | 5000 |\n| 10 | FORD   | 3000 |\n| 12 | SCOTT  | 3000 |\n| 4 | JONES  | 2975 |\n| 2 | BLAKE  | 2850 |\n| 3 | CLARK  | 2450 |\n| 6 | ALLEN  | 1600 |\n| 7 | TURNER | 1500 |\n| 14 | MILLER | 1300 |\n| 5 | MARTIN | 1250 |\n| 9 | WARD   | 1250 |\n| 13 | ADAMS  | 1100 |\n| 8 | JAMES  |  950 |\n| 11 | SMITH  |  800 |\n\n",
            "text/html": [
              "<table class=\"dataframe\">\n",
              "<caption>A data.frame: 14 × 2</caption>\n",
              "<thead>\n",
              "\t<tr><th></th><th scope=col>ename</th><th scope=col>sal</th></tr>\n",
              "\t<tr><th></th><th scope=col>&lt;chr&gt;</th><th scope=col>&lt;int&gt;</th></tr>\n",
              "</thead>\n",
              "<tbody>\n",
              "\t<tr><th scope=row>1</th><td>KING  </td><td>5000</td></tr>\n",
              "\t<tr><th scope=row>10</th><td>FORD  </td><td>3000</td></tr>\n",
              "\t<tr><th scope=row>12</th><td>SCOTT </td><td>3000</td></tr>\n",
              "\t<tr><th scope=row>4</th><td>JONES </td><td>2975</td></tr>\n",
              "\t<tr><th scope=row>2</th><td>BLAKE </td><td>2850</td></tr>\n",
              "\t<tr><th scope=row>3</th><td>CLARK </td><td>2450</td></tr>\n",
              "\t<tr><th scope=row>6</th><td>ALLEN </td><td>1600</td></tr>\n",
              "\t<tr><th scope=row>7</th><td>TURNER</td><td>1500</td></tr>\n",
              "\t<tr><th scope=row>14</th><td>MILLER</td><td>1300</td></tr>\n",
              "\t<tr><th scope=row>5</th><td>MARTIN</td><td>1250</td></tr>\n",
              "\t<tr><th scope=row>9</th><td>WARD  </td><td>1250</td></tr>\n",
              "\t<tr><th scope=row>13</th><td>ADAMS </td><td>1100</td></tr>\n",
              "\t<tr><th scope=row>8</th><td>JAMES </td><td> 950</td></tr>\n",
              "\t<tr><th scope=row>11</th><td>SMITH </td><td> 800</td></tr>\n",
              "</tbody>\n",
              "</table>\n"
            ]
          },
          "metadata": {
            "tags": []
          }
        }
      ]
    },
    {
      "cell_type": "markdown",
      "metadata": {
        "id": "11bDN6ha0wNq"
      },
      "source": [
        "설명: dataframe 에 내장되어 있는 order 옵션을 사용하면 됩니다.\r\n"
      ]
    },
    {
      "cell_type": "markdown",
      "metadata": {
        "id": "ycPpjh5l0xSV"
      },
      "source": [
        ""
      ]
    },
    {
      "cell_type": "markdown",
      "metadata": {
        "id": "aarkBdch0xtj"
      },
      "source": [
        ""
      ]
    },
    {
      "cell_type": "markdown",
      "metadata": {
        "id": "wsLOPPDt0xiD"
      },
      "source": [
        "문제24. 이름과 입사일을 출력하는데 먼저 입사한 사원부터 출력하시오 !\r\n"
      ]
    },
    {
      "cell_type": "code",
      "metadata": {
        "colab": {
          "base_uri": "https://localhost:8080/",
          "height": 511
        },
        "id": "jAubDHC_0zTx",
        "outputId": "18af0302-64a3-4cd0-9704-14472aa2b870"
      },
      "source": [
        "emp[ order(emp$hiredate, decreasing=F), c(\"ename\", \"hiredate\") ]"
      ],
      "execution_count": 35,
      "outputs": [
        {
          "output_type": "display_data",
          "data": {
            "text/plain": [
              "   ename  hiredate       \n",
              "11 SMITH  1980-12-09 0:00\n",
              "6  ALLEN  1981-02-11 0:00\n",
              "9  WARD   1981-02-23 0:00\n",
              "4  JONES  1981-04-01 0:00\n",
              "2  BLAKE  1981-05-01 0:00\n",
              "3  CLARK  1981-05-09 0:00\n",
              "7  TURNER 1981-08-21 0:00\n",
              "5  MARTIN 1981-09-10 0:00\n",
              "1  KING   1981-11-17 0:00\n",
              "8  JAMES  1981-12-11 0:00\n",
              "10 FORD   1981-12-11 0:00\n",
              "14 MILLER 1982-01-11 0:00\n",
              "12 SCOTT  1982-12-22 0:00\n",
              "13 ADAMS  1983-01-15 0:00"
            ],
            "text/latex": "A data.frame: 14 × 2\n\\begin{tabular}{r|ll}\n  & ename & hiredate\\\\\n  & <chr> & <chr>\\\\\n\\hline\n\t11 & SMITH  & 1980-12-09 0:00\\\\\n\t6 & ALLEN  & 1981-02-11 0:00\\\\\n\t9 & WARD   & 1981-02-23 0:00\\\\\n\t4 & JONES  & 1981-04-01 0:00\\\\\n\t2 & BLAKE  & 1981-05-01 0:00\\\\\n\t3 & CLARK  & 1981-05-09 0:00\\\\\n\t7 & TURNER & 1981-08-21 0:00\\\\\n\t5 & MARTIN & 1981-09-10 0:00\\\\\n\t1 & KING   & 1981-11-17 0:00\\\\\n\t8 & JAMES  & 1981-12-11 0:00\\\\\n\t10 & FORD   & 1981-12-11 0:00\\\\\n\t14 & MILLER & 1982-01-11 0:00\\\\\n\t12 & SCOTT  & 1982-12-22 0:00\\\\\n\t13 & ADAMS  & 1983-01-15 0:00\\\\\n\\end{tabular}\n",
            "text/markdown": "\nA data.frame: 14 × 2\n\n| <!--/--> | ename &lt;chr&gt; | hiredate &lt;chr&gt; |\n|---|---|---|\n| 11 | SMITH  | 1980-12-09 0:00 |\n| 6 | ALLEN  | 1981-02-11 0:00 |\n| 9 | WARD   | 1981-02-23 0:00 |\n| 4 | JONES  | 1981-04-01 0:00 |\n| 2 | BLAKE  | 1981-05-01 0:00 |\n| 3 | CLARK  | 1981-05-09 0:00 |\n| 7 | TURNER | 1981-08-21 0:00 |\n| 5 | MARTIN | 1981-09-10 0:00 |\n| 1 | KING   | 1981-11-17 0:00 |\n| 8 | JAMES  | 1981-12-11 0:00 |\n| 10 | FORD   | 1981-12-11 0:00 |\n| 14 | MILLER | 1982-01-11 0:00 |\n| 12 | SCOTT  | 1982-12-22 0:00 |\n| 13 | ADAMS  | 1983-01-15 0:00 |\n\n",
            "text/html": [
              "<table class=\"dataframe\">\n",
              "<caption>A data.frame: 14 × 2</caption>\n",
              "<thead>\n",
              "\t<tr><th></th><th scope=col>ename</th><th scope=col>hiredate</th></tr>\n",
              "\t<tr><th></th><th scope=col>&lt;chr&gt;</th><th scope=col>&lt;chr&gt;</th></tr>\n",
              "</thead>\n",
              "<tbody>\n",
              "\t<tr><th scope=row>11</th><td>SMITH </td><td>1980-12-09 0:00</td></tr>\n",
              "\t<tr><th scope=row>6</th><td>ALLEN </td><td>1981-02-11 0:00</td></tr>\n",
              "\t<tr><th scope=row>9</th><td>WARD  </td><td>1981-02-23 0:00</td></tr>\n",
              "\t<tr><th scope=row>4</th><td>JONES </td><td>1981-04-01 0:00</td></tr>\n",
              "\t<tr><th scope=row>2</th><td>BLAKE </td><td>1981-05-01 0:00</td></tr>\n",
              "\t<tr><th scope=row>3</th><td>CLARK </td><td>1981-05-09 0:00</td></tr>\n",
              "\t<tr><th scope=row>7</th><td>TURNER</td><td>1981-08-21 0:00</td></tr>\n",
              "\t<tr><th scope=row>5</th><td>MARTIN</td><td>1981-09-10 0:00</td></tr>\n",
              "\t<tr><th scope=row>1</th><td>KING  </td><td>1981-11-17 0:00</td></tr>\n",
              "\t<tr><th scope=row>8</th><td>JAMES </td><td>1981-12-11 0:00</td></tr>\n",
              "\t<tr><th scope=row>10</th><td>FORD  </td><td>1981-12-11 0:00</td></tr>\n",
              "\t<tr><th scope=row>14</th><td>MILLER</td><td>1982-01-11 0:00</td></tr>\n",
              "\t<tr><th scope=row>12</th><td>SCOTT </td><td>1982-12-22 0:00</td></tr>\n",
              "\t<tr><th scope=row>13</th><td>ADAMS </td><td>1983-01-15 0:00</td></tr>\n",
              "</tbody>\n",
              "</table>\n"
            ]
          },
          "metadata": {
            "tags": []
          }
        }
      ]
    },
    {
      "cell_type": "markdown",
      "metadata": {
        "id": "SLhu6TSO03KA"
      },
      "source": [
        ""
      ]
    },
    {
      "cell_type": "markdown",
      "metadata": {
        "id": "gSwiHwEk03DK"
      },
      "source": [
        ""
      ]
    },
    {
      "cell_type": "markdown",
      "metadata": {
        "id": "XaORjC4I0206"
      },
      "source": [
        "문제25. 직업이 SALESMAN 인 사원들의 이름과 월급과 직업을 출력하는데 월급이 높은 사원부터 출력하시오 !"
      ]
    },
    {
      "cell_type": "code",
      "metadata": {
        "colab": {
          "base_uri": "https://localhost:8080/",
          "height": 213
        },
        "id": "0NO-G6UI04fu",
        "outputId": "b5ff1ae7-6088-4936-d2b0-2d752956a3c5"
      },
      "source": [
        "# 1. 직업이 SALESMAN 인 사원들의 이름과 월급을 출력해서 result 변수에 담는다.\r\n",
        "result <- emp[ emp$job=='SALESMAN', c(\"ename\", \"sal\", \"job\") ]\r\n",
        "\r\n",
        "# 2. result 변수의 월급을 높은 것부터 출력한다.\r\n",
        "result[ order(result$sal, decreasing=T), c(\"ename\", \"sal\", \"job\") ]"
      ],
      "execution_count": 36,
      "outputs": [
        {
          "output_type": "display_data",
          "data": {
            "text/plain": [
              "  ename  sal  job     \n",
              "6 ALLEN  1600 SALESMAN\n",
              "7 TURNER 1500 SALESMAN\n",
              "5 MARTIN 1250 SALESMAN\n",
              "9 WARD   1250 SALESMAN"
            ],
            "text/latex": "A data.frame: 4 × 3\n\\begin{tabular}{r|lll}\n  & ename & sal & job\\\\\n  & <chr> & <int> & <chr>\\\\\n\\hline\n\t6 & ALLEN  & 1600 & SALESMAN\\\\\n\t7 & TURNER & 1500 & SALESMAN\\\\\n\t5 & MARTIN & 1250 & SALESMAN\\\\\n\t9 & WARD   & 1250 & SALESMAN\\\\\n\\end{tabular}\n",
            "text/markdown": "\nA data.frame: 4 × 3\n\n| <!--/--> | ename &lt;chr&gt; | sal &lt;int&gt; | job &lt;chr&gt; |\n|---|---|---|---|\n| 6 | ALLEN  | 1600 | SALESMAN |\n| 7 | TURNER | 1500 | SALESMAN |\n| 5 | MARTIN | 1250 | SALESMAN |\n| 9 | WARD   | 1250 | SALESMAN |\n\n",
            "text/html": [
              "<table class=\"dataframe\">\n",
              "<caption>A data.frame: 4 × 3</caption>\n",
              "<thead>\n",
              "\t<tr><th></th><th scope=col>ename</th><th scope=col>sal</th><th scope=col>job</th></tr>\n",
              "\t<tr><th></th><th scope=col>&lt;chr&gt;</th><th scope=col>&lt;int&gt;</th><th scope=col>&lt;chr&gt;</th></tr>\n",
              "</thead>\n",
              "<tbody>\n",
              "\t<tr><th scope=row>6</th><td>ALLEN </td><td>1600</td><td>SALESMAN</td></tr>\n",
              "\t<tr><th scope=row>7</th><td>TURNER</td><td>1500</td><td>SALESMAN</td></tr>\n",
              "\t<tr><th scope=row>5</th><td>MARTIN</td><td>1250</td><td>SALESMAN</td></tr>\n",
              "\t<tr><th scope=row>9</th><td>WARD  </td><td>1250</td><td>SALESMAN</td></tr>\n",
              "</tbody>\n",
              "</table>\n"
            ]
          },
          "metadata": {
            "tags": []
          }
        }
      ]
    },
    {
      "cell_type": "markdown",
      "metadata": {
        "id": "GUaBWFQH1A-X"
      },
      "source": [
        ""
      ]
    },
    {
      "cell_type": "markdown",
      "metadata": {
        "id": "iNZ058NG1A47"
      },
      "source": [
        ""
      ]
    },
    {
      "cell_type": "markdown",
      "metadata": {
        "id": "_vqnAvvG1A1j"
      },
      "source": [
        "문제26. 부서번호가 30번인 사원들의 이름과 월급과 입사일을 출력하는데\r\n",
        "\t   먼저 입사한 사원부터 출력하시오 !\r\n"
      ]
    },
    {
      "cell_type": "code",
      "metadata": {
        "colab": {
          "base_uri": "https://localhost:8080/",
          "height": 273
        },
        "id": "aIYzXo9-1CVd",
        "outputId": "cfb66492-dee9-4d4b-aba4-2fd9c4d98fbf"
      },
      "source": [
        "result <- emp[ emp$deptno==30, c(\"ename\", \"sal\", \"hiredate\") ]\r\n",
        "result[ order(result$hiredate, decreasing=F), ]"
      ],
      "execution_count": 37,
      "outputs": [
        {
          "output_type": "display_data",
          "data": {
            "text/plain": [
              "  ename  sal  hiredate       \n",
              "6 ALLEN  1600 1981-02-11 0:00\n",
              "9 WARD   1250 1981-02-23 0:00\n",
              "2 BLAKE  2850 1981-05-01 0:00\n",
              "7 TURNER 1500 1981-08-21 0:00\n",
              "5 MARTIN 1250 1981-09-10 0:00\n",
              "8 JAMES   950 1981-12-11 0:00"
            ],
            "text/latex": "A data.frame: 6 × 3\n\\begin{tabular}{r|lll}\n  & ename & sal & hiredate\\\\\n  & <chr> & <int> & <chr>\\\\\n\\hline\n\t6 & ALLEN  & 1600 & 1981-02-11 0:00\\\\\n\t9 & WARD   & 1250 & 1981-02-23 0:00\\\\\n\t2 & BLAKE  & 2850 & 1981-05-01 0:00\\\\\n\t7 & TURNER & 1500 & 1981-08-21 0:00\\\\\n\t5 & MARTIN & 1250 & 1981-09-10 0:00\\\\\n\t8 & JAMES  &  950 & 1981-12-11 0:00\\\\\n\\end{tabular}\n",
            "text/markdown": "\nA data.frame: 6 × 3\n\n| <!--/--> | ename &lt;chr&gt; | sal &lt;int&gt; | hiredate &lt;chr&gt; |\n|---|---|---|---|\n| 6 | ALLEN  | 1600 | 1981-02-11 0:00 |\n| 9 | WARD   | 1250 | 1981-02-23 0:00 |\n| 2 | BLAKE  | 2850 | 1981-05-01 0:00 |\n| 7 | TURNER | 1500 | 1981-08-21 0:00 |\n| 5 | MARTIN | 1250 | 1981-09-10 0:00 |\n| 8 | JAMES  |  950 | 1981-12-11 0:00 |\n\n",
            "text/html": [
              "<table class=\"dataframe\">\n",
              "<caption>A data.frame: 6 × 3</caption>\n",
              "<thead>\n",
              "\t<tr><th></th><th scope=col>ename</th><th scope=col>sal</th><th scope=col>hiredate</th></tr>\n",
              "\t<tr><th></th><th scope=col>&lt;chr&gt;</th><th scope=col>&lt;int&gt;</th><th scope=col>&lt;chr&gt;</th></tr>\n",
              "</thead>\n",
              "<tbody>\n",
              "\t<tr><th scope=row>6</th><td>ALLEN </td><td>1600</td><td>1981-02-11 0:00</td></tr>\n",
              "\t<tr><th scope=row>9</th><td>WARD  </td><td>1250</td><td>1981-02-23 0:00</td></tr>\n",
              "\t<tr><th scope=row>2</th><td>BLAKE </td><td>2850</td><td>1981-05-01 0:00</td></tr>\n",
              "\t<tr><th scope=row>7</th><td>TURNER</td><td>1500</td><td>1981-08-21 0:00</td></tr>\n",
              "\t<tr><th scope=row>5</th><td>MARTIN</td><td>1250</td><td>1981-09-10 0:00</td></tr>\n",
              "\t<tr><th scope=row>8</th><td>JAMES </td><td> 950</td><td>1981-12-11 0:00</td></tr>\n",
              "</tbody>\n",
              "</table>\n"
            ]
          },
          "metadata": {
            "tags": []
          }
        }
      ]
    },
    {
      "cell_type": "markdown",
      "metadata": {
        "id": "ibECAlAj1FBz"
      },
      "source": [
        ""
      ]
    },
    {
      "cell_type": "markdown",
      "metadata": {
        "id": "45a-LSr31E1T"
      },
      "source": [
        ""
      ]
    },
    {
      "cell_type": "markdown",
      "metadata": {
        "id": "rJ9W28pP1Ext"
      },
      "source": [
        "문제27. doBy 패키지를 이용해서 이름과 월급을 출력하는데 월급이 높은것부터 출력하시오\r\n"
      ]
    },
    {
      "cell_type": "code",
      "metadata": {
        "colab": {
          "base_uri": "https://localhost:8080/",
          "height": 636
        },
        "id": "96dsKH2R1GX7",
        "outputId": "1b3b74fa-4b29-4d5e-d321-63acb115e92b"
      },
      "source": [
        "install.packages(\"doBy\")\r\n",
        "library(doBy)\r\n",
        "orderBy(~-sal, emp[  , c(\"ename\", \"sal\")] )"
      ],
      "execution_count": 38,
      "outputs": [
        {
          "output_type": "stream",
          "text": [
            "Installing package into ‘/usr/local/lib/R/site-library’\n",
            "(as ‘lib’ is unspecified)\n",
            "\n",
            "also installing the dependencies ‘minqa’, ‘nloptr’, ‘statmod’, ‘RcppEigen’, ‘lme4’, ‘numDeriv’, ‘pbkrtest’, ‘Deriv’\n",
            "\n",
            "\n"
          ],
          "name": "stderr"
        },
        {
          "output_type": "display_data",
          "data": {
            "text/plain": [
              "   ename  sal \n",
              "1  KING   5000\n",
              "10 FORD   3000\n",
              "12 SCOTT  3000\n",
              "4  JONES  2975\n",
              "2  BLAKE  2850\n",
              "3  CLARK  2450\n",
              "6  ALLEN  1600\n",
              "7  TURNER 1500\n",
              "14 MILLER 1300\n",
              "5  MARTIN 1250\n",
              "9  WARD   1250\n",
              "13 ADAMS  1100\n",
              "8  JAMES   950\n",
              "11 SMITH   800"
            ],
            "text/latex": "A data.frame: 14 × 2\n\\begin{tabular}{r|ll}\n  & ename & sal\\\\\n  & <chr> & <int>\\\\\n\\hline\n\t1 & KING   & 5000\\\\\n\t10 & FORD   & 3000\\\\\n\t12 & SCOTT  & 3000\\\\\n\t4 & JONES  & 2975\\\\\n\t2 & BLAKE  & 2850\\\\\n\t3 & CLARK  & 2450\\\\\n\t6 & ALLEN  & 1600\\\\\n\t7 & TURNER & 1500\\\\\n\t14 & MILLER & 1300\\\\\n\t5 & MARTIN & 1250\\\\\n\t9 & WARD   & 1250\\\\\n\t13 & ADAMS  & 1100\\\\\n\t8 & JAMES  &  950\\\\\n\t11 & SMITH  &  800\\\\\n\\end{tabular}\n",
            "text/markdown": "\nA data.frame: 14 × 2\n\n| <!--/--> | ename &lt;chr&gt; | sal &lt;int&gt; |\n|---|---|---|\n| 1 | KING   | 5000 |\n| 10 | FORD   | 3000 |\n| 12 | SCOTT  | 3000 |\n| 4 | JONES  | 2975 |\n| 2 | BLAKE  | 2850 |\n| 3 | CLARK  | 2450 |\n| 6 | ALLEN  | 1600 |\n| 7 | TURNER | 1500 |\n| 14 | MILLER | 1300 |\n| 5 | MARTIN | 1250 |\n| 9 | WARD   | 1250 |\n| 13 | ADAMS  | 1100 |\n| 8 | JAMES  |  950 |\n| 11 | SMITH  |  800 |\n\n",
            "text/html": [
              "<table class=\"dataframe\">\n",
              "<caption>A data.frame: 14 × 2</caption>\n",
              "<thead>\n",
              "\t<tr><th></th><th scope=col>ename</th><th scope=col>sal</th></tr>\n",
              "\t<tr><th></th><th scope=col>&lt;chr&gt;</th><th scope=col>&lt;int&gt;</th></tr>\n",
              "</thead>\n",
              "<tbody>\n",
              "\t<tr><th scope=row>1</th><td>KING  </td><td>5000</td></tr>\n",
              "\t<tr><th scope=row>10</th><td>FORD  </td><td>3000</td></tr>\n",
              "\t<tr><th scope=row>12</th><td>SCOTT </td><td>3000</td></tr>\n",
              "\t<tr><th scope=row>4</th><td>JONES </td><td>2975</td></tr>\n",
              "\t<tr><th scope=row>2</th><td>BLAKE </td><td>2850</td></tr>\n",
              "\t<tr><th scope=row>3</th><td>CLARK </td><td>2450</td></tr>\n",
              "\t<tr><th scope=row>6</th><td>ALLEN </td><td>1600</td></tr>\n",
              "\t<tr><th scope=row>7</th><td>TURNER</td><td>1500</td></tr>\n",
              "\t<tr><th scope=row>14</th><td>MILLER</td><td>1300</td></tr>\n",
              "\t<tr><th scope=row>5</th><td>MARTIN</td><td>1250</td></tr>\n",
              "\t<tr><th scope=row>9</th><td>WARD  </td><td>1250</td></tr>\n",
              "\t<tr><th scope=row>13</th><td>ADAMS </td><td>1100</td></tr>\n",
              "\t<tr><th scope=row>8</th><td>JAMES </td><td> 950</td></tr>\n",
              "\t<tr><th scope=row>11</th><td>SMITH </td><td> 800</td></tr>\n",
              "</tbody>\n",
              "</table>\n"
            ]
          },
          "metadata": {
            "tags": []
          }
        }
      ]
    },
    {
      "cell_type": "markdown",
      "metadata": {
        "id": "NCESy7Ra1JcD"
      },
      "source": [
        "설명: emp[  , c(\"ename\", \"sal\")] 이름과 월급을 출력하는 결과를 orderBy 함수에 넣고 정렬하고자 하는 컬럼 sal 앞에 ~ 물결을 사용해서 정렬을 하면 됩니다.\r\n",
        "\t물결 다음에 마이너스(-) 를 붙여주면 높은 것 부터 정렬됩니다.\r\n"
      ]
    },
    {
      "cell_type": "markdown",
      "metadata": {
        "id": "NBaM8Goe1LRf"
      },
      "source": [
        ""
      ]
    },
    {
      "cell_type": "markdown",
      "metadata": {
        "id": "ICTAZ17V1Lvm"
      },
      "source": [
        ""
      ]
    },
    {
      "cell_type": "markdown",
      "metadata": {
        "id": "JkSL9oey1MDF"
      },
      "source": [
        "문제28. 직업이 ANALYST 가 아닌 사원들의 이름과 월급과 직업을 출력하는데\r\n",
        "\t   월급이 높은 사원부터 출력되게하시오 ! (doBy 패키지를 이용해서 하세요 ~ )\r\n",
        "\t"
      ]
    },
    {
      "cell_type": "code",
      "metadata": {
        "colab": {
          "base_uri": "https://localhost:8080/",
          "height": 452
        },
        "id": "_4ughj9w1Sw7",
        "outputId": "b2225736-ffd4-475c-de12-dfadecc148d0"
      },
      "source": [
        "library(doBy)\r\n",
        "orderBy(~-sal, emp[ emp$job != 'ANALYST', c(\"ename\", \"sal\", \"job\") ] )"
      ],
      "execution_count": 39,
      "outputs": [
        {
          "output_type": "display_data",
          "data": {
            "text/plain": [
              "   ename  sal  job      \n",
              "1  KING   5000 PRESIDENT\n",
              "4  JONES  2975 MANAGER  \n",
              "2  BLAKE  2850 MANAGER  \n",
              "3  CLARK  2450 MANAGER  \n",
              "6  ALLEN  1600 SALESMAN \n",
              "7  TURNER 1500 SALESMAN \n",
              "14 MILLER 1300 CLERK    \n",
              "5  MARTIN 1250 SALESMAN \n",
              "9  WARD   1250 SALESMAN \n",
              "13 ADAMS  1100 CLERK    \n",
              "8  JAMES   950 CLERK    \n",
              "11 SMITH   800 CLERK    "
            ],
            "text/latex": "A data.frame: 12 × 3\n\\begin{tabular}{r|lll}\n  & ename & sal & job\\\\\n  & <chr> & <int> & <chr>\\\\\n\\hline\n\t1 & KING   & 5000 & PRESIDENT\\\\\n\t4 & JONES  & 2975 & MANAGER  \\\\\n\t2 & BLAKE  & 2850 & MANAGER  \\\\\n\t3 & CLARK  & 2450 & MANAGER  \\\\\n\t6 & ALLEN  & 1600 & SALESMAN \\\\\n\t7 & TURNER & 1500 & SALESMAN \\\\\n\t14 & MILLER & 1300 & CLERK    \\\\\n\t5 & MARTIN & 1250 & SALESMAN \\\\\n\t9 & WARD   & 1250 & SALESMAN \\\\\n\t13 & ADAMS  & 1100 & CLERK    \\\\\n\t8 & JAMES  &  950 & CLERK    \\\\\n\t11 & SMITH  &  800 & CLERK    \\\\\n\\end{tabular}\n",
            "text/markdown": "\nA data.frame: 12 × 3\n\n| <!--/--> | ename &lt;chr&gt; | sal &lt;int&gt; | job &lt;chr&gt; |\n|---|---|---|---|\n| 1 | KING   | 5000 | PRESIDENT |\n| 4 | JONES  | 2975 | MANAGER   |\n| 2 | BLAKE  | 2850 | MANAGER   |\n| 3 | CLARK  | 2450 | MANAGER   |\n| 6 | ALLEN  | 1600 | SALESMAN  |\n| 7 | TURNER | 1500 | SALESMAN  |\n| 14 | MILLER | 1300 | CLERK     |\n| 5 | MARTIN | 1250 | SALESMAN  |\n| 9 | WARD   | 1250 | SALESMAN  |\n| 13 | ADAMS  | 1100 | CLERK     |\n| 8 | JAMES  |  950 | CLERK     |\n| 11 | SMITH  |  800 | CLERK     |\n\n",
            "text/html": [
              "<table class=\"dataframe\">\n",
              "<caption>A data.frame: 12 × 3</caption>\n",
              "<thead>\n",
              "\t<tr><th></th><th scope=col>ename</th><th scope=col>sal</th><th scope=col>job</th></tr>\n",
              "\t<tr><th></th><th scope=col>&lt;chr&gt;</th><th scope=col>&lt;int&gt;</th><th scope=col>&lt;chr&gt;</th></tr>\n",
              "</thead>\n",
              "<tbody>\n",
              "\t<tr><th scope=row>1</th><td>KING  </td><td>5000</td><td>PRESIDENT</td></tr>\n",
              "\t<tr><th scope=row>4</th><td>JONES </td><td>2975</td><td>MANAGER  </td></tr>\n",
              "\t<tr><th scope=row>2</th><td>BLAKE </td><td>2850</td><td>MANAGER  </td></tr>\n",
              "\t<tr><th scope=row>3</th><td>CLARK </td><td>2450</td><td>MANAGER  </td></tr>\n",
              "\t<tr><th scope=row>6</th><td>ALLEN </td><td>1600</td><td>SALESMAN </td></tr>\n",
              "\t<tr><th scope=row>7</th><td>TURNER</td><td>1500</td><td>SALESMAN </td></tr>\n",
              "\t<tr><th scope=row>14</th><td>MILLER</td><td>1300</td><td>CLERK    </td></tr>\n",
              "\t<tr><th scope=row>5</th><td>MARTIN</td><td>1250</td><td>SALESMAN </td></tr>\n",
              "\t<tr><th scope=row>9</th><td>WARD  </td><td>1250</td><td>SALESMAN </td></tr>\n",
              "\t<tr><th scope=row>13</th><td>ADAMS </td><td>1100</td><td>CLERK    </td></tr>\n",
              "\t<tr><th scope=row>8</th><td>JAMES </td><td> 950</td><td>CLERK    </td></tr>\n",
              "\t<tr><th scope=row>11</th><td>SMITH </td><td> 800</td><td>CLERK    </td></tr>\n",
              "</tbody>\n",
              "</table>\n"
            ]
          },
          "metadata": {
            "tags": []
          }
        }
      ]
    },
    {
      "cell_type": "markdown",
      "metadata": {
        "id": "9Ez23BWi1U1O"
      },
      "source": [
        ""
      ]
    },
    {
      "cell_type": "markdown",
      "metadata": {
        "id": "xvewMeKl1UwB"
      },
      "source": [
        ""
      ]
    },
    {
      "cell_type": "markdown",
      "metadata": {
        "id": "jgiFoNMQ1Up_"
      },
      "source": [
        "문제29. 범죄 발생요일(crim_day.csv) 를 R 로 로드해서 토요일에 발생하는 범죄유형, 범죄건수를 출력하는데 범죄건수가 높은 것부터 출력하시오\r\n"
      ]
    },
    {
      "cell_type": "code",
      "metadata": {
        "colab": {
          "base_uri": "https://localhost:8080/",
          "height": 1000
        },
        "id": "t4bqZSvV1apw",
        "outputId": "33a7f824-947c-44bb-95c4-67eac0bebb08"
      },
      "source": [
        "crime_day <- read.csv(\"crime_day.csv\", header=T)   \r\n",
        "# 한글 때문에 데이터 불러올때 오류나면 메모장으로 열어서 인코딩 utf-8 로 다시 저장\r\n",
        "head(crime_day)         \r\n",
        "result <- crime_day[ crime_day$DAY=='SAT', c(\"C_T\", \"CNT\") ]\r\n",
        "orderBy(~-CNT, result)"
      ],
      "execution_count": 50,
      "outputs": [
        {
          "output_type": "display_data",
          "data": {
            "text/plain": [
              "  C_C       C_T      DAY  CNT\n",
              "1 강력범죄  살인기수 SUN  46 \n",
              "2 강력범죄  살인기수 MON  66 \n",
              "3 강력범죄  살인기수 TUE  52 \n",
              "4 강력범죄  살인기수 WED  66 \n",
              "5 강력범죄  살인기수 THUR 41 \n",
              "6 강력범죄  살인기수 FRI  34 "
            ],
            "text/latex": "A data.frame: 6 × 4\n\\begin{tabular}{r|llll}\n  & C\\_C & C\\_T & DAY & CNT\\\\\n  & <chr> & <chr> & <chr> & <int>\\\\\n\\hline\n\t1 & 강력범죄  & 살인기수 & SUN  & 46\\\\\n\t2 & 강력범죄  & 살인기수 & MON  & 66\\\\\n\t3 & 강력범죄  & 살인기수 & TUE  & 52\\\\\n\t4 & 강력범죄  & 살인기수 & WED  & 66\\\\\n\t5 & 강력범죄  & 살인기수 & THUR & 41\\\\\n\t6 & 강력범죄  & 살인기수 & FRI  & 34\\\\\n\\end{tabular}\n",
            "text/markdown": "\nA data.frame: 6 × 4\n\n| <!--/--> | C_C &lt;chr&gt; | C_T &lt;chr&gt; | DAY &lt;chr&gt; | CNT &lt;int&gt; |\n|---|---|---|---|---|\n| 1 | 강력범죄  | 살인기수 | SUN  | 46 |\n| 2 | 강력범죄  | 살인기수 | MON  | 66 |\n| 3 | 강력범죄  | 살인기수 | TUE  | 52 |\n| 4 | 강력범죄  | 살인기수 | WED  | 66 |\n| 5 | 강력범죄  | 살인기수 | THUR | 41 |\n| 6 | 강력범죄  | 살인기수 | FRI  | 34 |\n\n",
            "text/html": [
              "<table class=\"dataframe\">\n",
              "<caption>A data.frame: 6 × 4</caption>\n",
              "<thead>\n",
              "\t<tr><th></th><th scope=col>C_C</th><th scope=col>C_T</th><th scope=col>DAY</th><th scope=col>CNT</th></tr>\n",
              "\t<tr><th></th><th scope=col>&lt;chr&gt;</th><th scope=col>&lt;chr&gt;</th><th scope=col>&lt;chr&gt;</th><th scope=col>&lt;int&gt;</th></tr>\n",
              "</thead>\n",
              "<tbody>\n",
              "\t<tr><th scope=row>1</th><td>강력범죄 </td><td>살인기수</td><td>SUN </td><td>46</td></tr>\n",
              "\t<tr><th scope=row>2</th><td>강력범죄 </td><td>살인기수</td><td>MON </td><td>66</td></tr>\n",
              "\t<tr><th scope=row>3</th><td>강력범죄 </td><td>살인기수</td><td>TUE </td><td>52</td></tr>\n",
              "\t<tr><th scope=row>4</th><td>강력범죄 </td><td>살인기수</td><td>WED </td><td>66</td></tr>\n",
              "\t<tr><th scope=row>5</th><td>강력범죄 </td><td>살인기수</td><td>THUR</td><td>41</td></tr>\n",
              "\t<tr><th scope=row>6</th><td>강력범죄 </td><td>살인기수</td><td>FRI </td><td>34</td></tr>\n",
              "</tbody>\n",
              "</table>\n"
            ]
          },
          "metadata": {
            "tags": []
          }
        },
        {
          "output_type": "display_data",
          "data": {
            "text/plain": [
              "    C_T          CNT  \n",
              "161 사기         23891\n",
              "70  폭행         21506\n",
              "112 손괴          9645\n",
              "63  상해          8703\n",
              "98  폭력행위등    7167\n",
              "168 횡령          4277\n",
              "42  강제추행      2336\n",
              "182 성풍속범죄    2174\n",
              "189 도박범죄      1087\n",
              "147 문서?인장     1043\n",
              "28  강간           972\n",
              "84  협박           595\n",
              "105 공갈           573\n",
              "175 배임           412\n",
              "56  방화           278\n",
              "49  기타           276\n",
              "21  강도           260\n",
              "140 통화           178\n",
              "77  체포?감금      117\n",
              "14  살인미수등      77\n",
              "119 직무유기        50\n",
              "7   살인기수        37\n",
              "126 직권남용        37\n",
              "154 유가증권인지    37\n",
              "35  유사강간        26\n",
              "133 증수뢰          24\n",
              "91  약취?유인       16"
            ],
            "text/latex": "A data.frame: 27 × 2\n\\begin{tabular}{r|ll}\n  & C\\_T & CNT\\\\\n  & <chr> & <int>\\\\\n\\hline\n\t161 & 사기         & 23891\\\\\n\t70 & 폭행         & 21506\\\\\n\t112 & 손괴         &  9645\\\\\n\t63 & 상해         &  8703\\\\\n\t98 & 폭력행위등   &  7167\\\\\n\t168 & 횡령         &  4277\\\\\n\t42 & 강제추행     &  2336\\\\\n\t182 & 성풍속범죄   &  2174\\\\\n\t189 & 도박범죄     &  1087\\\\\n\t147 & 문서?인장    &  1043\\\\\n\t28 & 강간         &   972\\\\\n\t84 & 협박         &   595\\\\\n\t105 & 공갈         &   573\\\\\n\t175 & 배임         &   412\\\\\n\t56 & 방화         &   278\\\\\n\t49 & 기타         &   276\\\\\n\t21 & 강도         &   260\\\\\n\t140 & 통화         &   178\\\\\n\t77 & 체포?감금    &   117\\\\\n\t14 & 살인미수등   &    77\\\\\n\t119 & 직무유기     &    50\\\\\n\t7 & 살인기수     &    37\\\\\n\t126 & 직권남용     &    37\\\\\n\t154 & 유가증권인지 &    37\\\\\n\t35 & 유사강간     &    26\\\\\n\t133 & 증수뢰       &    24\\\\\n\t91 & 약취?유인    &    16\\\\\n\\end{tabular}\n",
            "text/markdown": "\nA data.frame: 27 × 2\n\n| <!--/--> | C_T &lt;chr&gt; | CNT &lt;int&gt; |\n|---|---|---|\n| 161 | 사기         | 23891 |\n| 70 | 폭행         | 21506 |\n| 112 | 손괴         |  9645 |\n| 63 | 상해         |  8703 |\n| 98 | 폭력행위등   |  7167 |\n| 168 | 횡령         |  4277 |\n| 42 | 강제추행     |  2336 |\n| 182 | 성풍속범죄   |  2174 |\n| 189 | 도박범죄     |  1087 |\n| 147 | 문서?인장    |  1043 |\n| 28 | 강간         |   972 |\n| 84 | 협박         |   595 |\n| 105 | 공갈         |   573 |\n| 175 | 배임         |   412 |\n| 56 | 방화         |   278 |\n| 49 | 기타         |   276 |\n| 21 | 강도         |   260 |\n| 140 | 통화         |   178 |\n| 77 | 체포?감금    |   117 |\n| 14 | 살인미수등   |    77 |\n| 119 | 직무유기     |    50 |\n| 7 | 살인기수     |    37 |\n| 126 | 직권남용     |    37 |\n| 154 | 유가증권인지 |    37 |\n| 35 | 유사강간     |    26 |\n| 133 | 증수뢰       |    24 |\n| 91 | 약취?유인    |    16 |\n\n",
            "text/html": [
              "<table class=\"dataframe\">\n",
              "<caption>A data.frame: 27 × 2</caption>\n",
              "<thead>\n",
              "\t<tr><th></th><th scope=col>C_T</th><th scope=col>CNT</th></tr>\n",
              "\t<tr><th></th><th scope=col>&lt;chr&gt;</th><th scope=col>&lt;int&gt;</th></tr>\n",
              "</thead>\n",
              "<tbody>\n",
              "\t<tr><th scope=row>161</th><td>사기        </td><td>23891</td></tr>\n",
              "\t<tr><th scope=row>70</th><td>폭행        </td><td>21506</td></tr>\n",
              "\t<tr><th scope=row>112</th><td>손괴        </td><td> 9645</td></tr>\n",
              "\t<tr><th scope=row>63</th><td>상해        </td><td> 8703</td></tr>\n",
              "\t<tr><th scope=row>98</th><td>폭력행위등  </td><td> 7167</td></tr>\n",
              "\t<tr><th scope=row>168</th><td>횡령        </td><td> 4277</td></tr>\n",
              "\t<tr><th scope=row>42</th><td>강제추행    </td><td> 2336</td></tr>\n",
              "\t<tr><th scope=row>182</th><td>성풍속범죄  </td><td> 2174</td></tr>\n",
              "\t<tr><th scope=row>189</th><td>도박범죄    </td><td> 1087</td></tr>\n",
              "\t<tr><th scope=row>147</th><td>문서?인장   </td><td> 1043</td></tr>\n",
              "\t<tr><th scope=row>28</th><td>강간        </td><td>  972</td></tr>\n",
              "\t<tr><th scope=row>84</th><td>협박        </td><td>  595</td></tr>\n",
              "\t<tr><th scope=row>105</th><td>공갈        </td><td>  573</td></tr>\n",
              "\t<tr><th scope=row>175</th><td>배임        </td><td>  412</td></tr>\n",
              "\t<tr><th scope=row>56</th><td>방화        </td><td>  278</td></tr>\n",
              "\t<tr><th scope=row>49</th><td>기타        </td><td>  276</td></tr>\n",
              "\t<tr><th scope=row>21</th><td>강도        </td><td>  260</td></tr>\n",
              "\t<tr><th scope=row>140</th><td>통화        </td><td>  178</td></tr>\n",
              "\t<tr><th scope=row>77</th><td>체포?감금   </td><td>  117</td></tr>\n",
              "\t<tr><th scope=row>14</th><td>살인미수등  </td><td>   77</td></tr>\n",
              "\t<tr><th scope=row>119</th><td>직무유기    </td><td>   50</td></tr>\n",
              "\t<tr><th scope=row>7</th><td>살인기수    </td><td>   37</td></tr>\n",
              "\t<tr><th scope=row>126</th><td>직권남용    </td><td>   37</td></tr>\n",
              "\t<tr><th scope=row>154</th><td>유가증권인지</td><td>   37</td></tr>\n",
              "\t<tr><th scope=row>35</th><td>유사강간    </td><td>   26</td></tr>\n",
              "\t<tr><th scope=row>133</th><td>증수뢰      </td><td>   24</td></tr>\n",
              "\t<tr><th scope=row>91</th><td>약취?유인   </td><td>   16</td></tr>\n",
              "</tbody>\n",
              "</table>\n"
            ]
          },
          "metadata": {
            "tags": []
          }
        }
      ]
    },
    {
      "cell_type": "markdown",
      "metadata": {
        "id": "EGJ71X3Z1cpV"
      },
      "source": [
        ""
      ]
    },
    {
      "cell_type": "markdown",
      "metadata": {
        "id": "zBS6h5Th1cl4"
      },
      "source": [
        ""
      ]
    },
    {
      "cell_type": "markdown",
      "metadata": {
        "id": "JsZmEDCK1cjE"
      },
      "source": [
        "**■ 현재 R 에서 사용되고 있는 result 와 같은 변수의 목록 확인 방법**"
      ]
    },
    {
      "cell_type": "code",
      "metadata": {
        "colab": {
          "base_uri": "https://localhost:8080/",
          "height": 33
        },
        "id": "COEYAGL21fdd",
        "outputId": "9657f167-c401-4a48-9869-dea3a52857f5"
      },
      "source": [
        "ls()"
      ],
      "execution_count": 51,
      "outputs": [
        {
          "output_type": "display_data",
          "data": {
            "text/plain": [
              "[1] \"crime_day\" \"emp\"       \"result\"    \"x\"        "
            ],
            "text/latex": "\\begin{enumerate*}\n\\item 'crime\\_day'\n\\item 'emp'\n\\item 'result'\n\\item 'x'\n\\end{enumerate*}\n",
            "text/markdown": "1. 'crime_day'\n2. 'emp'\n3. 'result'\n4. 'x'\n\n\n",
            "text/html": [
              "<style>\n",
              ".list-inline {list-style: none; margin:0; padding: 0}\n",
              ".list-inline>li {display: inline-block}\n",
              ".list-inline>li:not(:last-child)::after {content: \"\\00b7\"; padding: 0 .5ex}\n",
              "</style>\n",
              "<ol class=list-inline><li>'crime_day'</li><li>'emp'</li><li>'result'</li><li>'x'</li></ol>\n"
            ]
          },
          "metadata": {
            "tags": []
          }
        }
      ]
    },
    {
      "cell_type": "markdown",
      "metadata": {
        "id": "ZERtLhKy1ghs"
      },
      "source": [
        ""
      ]
    },
    {
      "cell_type": "markdown",
      "metadata": {
        "id": "Sipac-0j1geY"
      },
      "source": [
        ""
      ]
    },
    {
      "cell_type": "markdown",
      "metadata": {
        "id": "jZVsVxFn1gbB"
      },
      "source": [
        "**■ 변수를 지우고 싶다면 ?**"
      ]
    },
    {
      "cell_type": "code",
      "metadata": {
        "colab": {
          "base_uri": "https://localhost:8080/",
          "height": 98
        },
        "id": "lBfG7LJL1iLs",
        "outputId": "12c592f4-debb-44fd-ec14-9466684b68f2"
      },
      "source": [
        "rm(result)\r\n",
        "result"
      ],
      "execution_count": 52,
      "outputs": [
        {
          "output_type": "error",
          "ename": "ERROR",
          "evalue": "ignored",
          "traceback": [
            "Error in eval(expr, envir, enclos): object 'result' not found\nTraceback:\n"
          ]
        }
      ]
    },
    {
      "cell_type": "markdown",
      "metadata": {
        "id": "ylg-2GJV1lP-"
      },
      "source": [
        ""
      ]
    },
    {
      "cell_type": "markdown",
      "metadata": {
        "id": "Ht555uVT1lMM"
      },
      "source": [
        ""
      ]
    },
    {
      "cell_type": "markdown",
      "metadata": {
        "id": "VG5te_if1lHx"
      },
      "source": [
        "문제30. 살인이 일어나는 장소와 건수를 출력하는데 건수가 높은 것부터 출력하시오 ( crime_loc.csv 를 R 로 로드하세요 ~ )"
      ]
    },
    {
      "cell_type": "code",
      "metadata": {
        "colab": {
          "base_uri": "https://localhost:8080/",
          "height": 1000
        },
        "id": "-mOr4fVf1q4t",
        "outputId": "9b49241c-0080-40a9-b4c4-26f894f67b13"
      },
      "source": [
        "crime_loc <- read.csv(\"crime_loc.csv\")\r\n",
        "head(crime_loc)\r\n",
        "result <- crime_loc[ crime_loc$범죄=='살인', c(\"장소\", \"건수\") ]\r\n",
        "orderBy(~-건수, result)"
      ],
      "execution_count": 53,
      "outputs": [
        {
          "output_type": "display_data",
          "data": {
            "text/plain": [
              "  범죄 장소     건수 \n",
              "1 절도 아파트   25389\n",
              "2 절도 집       37787\n",
              "3 절도 고속도로   151\n",
              "4 절도 노상     62560\n",
              "5 절도 상점     29977\n",
              "6 절도 시장노점  1239"
            ],
            "text/latex": "A data.frame: 6 × 3\n\\begin{tabular}{r|lll}\n  & 범죄 & 장소 & 건수\\\\\n  & <chr> & <chr> & <int>\\\\\n\\hline\n\t1 & 절도 & 아파트   & 25389\\\\\n\t2 & 절도 & 집       & 37787\\\\\n\t3 & 절도 & 고속도로 &   151\\\\\n\t4 & 절도 & 노상     & 62560\\\\\n\t5 & 절도 & 상점     & 29977\\\\\n\t6 & 절도 & 시장노점 &  1239\\\\\n\\end{tabular}\n",
            "text/markdown": "\nA data.frame: 6 × 3\n\n| <!--/--> | 범죄 &lt;chr&gt; | 장소 &lt;chr&gt; | 건수 &lt;int&gt; |\n|---|---|---|---|\n| 1 | 절도 | 아파트   | 25389 |\n| 2 | 절도 | 집       | 37787 |\n| 3 | 절도 | 고속도로 |   151 |\n| 4 | 절도 | 노상     | 62560 |\n| 5 | 절도 | 상점     | 29977 |\n| 6 | 절도 | 시장노점 |  1239 |\n\n",
            "text/html": [
              "<table class=\"dataframe\">\n",
              "<caption>A data.frame: 6 × 3</caption>\n",
              "<thead>\n",
              "\t<tr><th></th><th scope=col>범죄</th><th scope=col>장소</th><th scope=col>건수</th></tr>\n",
              "\t<tr><th></th><th scope=col>&lt;chr&gt;</th><th scope=col>&lt;chr&gt;</th><th scope=col>&lt;int&gt;</th></tr>\n",
              "</thead>\n",
              "<tbody>\n",
              "\t<tr><th scope=row>1</th><td>절도</td><td>아파트  </td><td>25389</td></tr>\n",
              "\t<tr><th scope=row>2</th><td>절도</td><td>집      </td><td>37787</td></tr>\n",
              "\t<tr><th scope=row>3</th><td>절도</td><td>고속도로</td><td>  151</td></tr>\n",
              "\t<tr><th scope=row>4</th><td>절도</td><td>노상    </td><td>62560</td></tr>\n",
              "\t<tr><th scope=row>5</th><td>절도</td><td>상점    </td><td>29977</td></tr>\n",
              "\t<tr><th scope=row>6</th><td>절도</td><td>시장노점</td><td> 1239</td></tr>\n",
              "</tbody>\n",
              "</table>\n"
            ]
          },
          "metadata": {
            "tags": []
          }
        },
        {
          "output_type": "display_data",
          "data": {
            "text/plain": [
              "    장소         건수\n",
              "83  집           312 \n",
              "85  노상         280 \n",
              "82  아파트       242 \n",
              "108 기타         131 \n",
              "89  병원          87 \n",
              "88  숙박업소      43 \n",
              "90  사무실        40 \n",
              "86  상점          23 \n",
              "101 의료기관      19 \n",
              "91  공장          15 \n",
              "98  유원지        13 \n",
              "96  교통           9 \n",
              "94  역대합실       8 \n",
              "99  학교           8 \n",
              "103 산야           8 \n",
              "87  시장노점       5 \n",
              "92  공사장         4 \n",
              "93  창고           4 \n",
              "107 공지           3 \n",
              "102 종교기관       2 \n",
              "104 해상           2 \n",
              "84  고속도로       1 \n",
              "95  지하철         1 \n",
              "97  유흥접객업소   1 \n",
              "105 부대           1 \n",
              "100 금융기관       0 \n",
              "106 구금장소       0 "
            ],
            "text/latex": "A data.frame: 27 × 2\n\\begin{tabular}{r|ll}\n  & 장소 & 건수\\\\\n  & <chr> & <int>\\\\\n\\hline\n\t83 & 집           & 312\\\\\n\t85 & 노상         & 280\\\\\n\t82 & 아파트       & 242\\\\\n\t108 & 기타         & 131\\\\\n\t89 & 병원         &  87\\\\\n\t88 & 숙박업소     &  43\\\\\n\t90 & 사무실       &  40\\\\\n\t86 & 상점         &  23\\\\\n\t101 & 의료기관     &  19\\\\\n\t91 & 공장         &  15\\\\\n\t98 & 유원지       &  13\\\\\n\t96 & 교통         &   9\\\\\n\t94 & 역대합실     &   8\\\\\n\t99 & 학교         &   8\\\\\n\t103 & 산야         &   8\\\\\n\t87 & 시장노점     &   5\\\\\n\t92 & 공사장       &   4\\\\\n\t93 & 창고         &   4\\\\\n\t107 & 공지         &   3\\\\\n\t102 & 종교기관     &   2\\\\\n\t104 & 해상         &   2\\\\\n\t84 & 고속도로     &   1\\\\\n\t95 & 지하철       &   1\\\\\n\t97 & 유흥접객업소 &   1\\\\\n\t105 & 부대         &   1\\\\\n\t100 & 금융기관     &   0\\\\\n\t106 & 구금장소     &   0\\\\\n\\end{tabular}\n",
            "text/markdown": "\nA data.frame: 27 × 2\n\n| <!--/--> | 장소 &lt;chr&gt; | 건수 &lt;int&gt; |\n|---|---|---|\n| 83 | 집           | 312 |\n| 85 | 노상         | 280 |\n| 82 | 아파트       | 242 |\n| 108 | 기타         | 131 |\n| 89 | 병원         |  87 |\n| 88 | 숙박업소     |  43 |\n| 90 | 사무실       |  40 |\n| 86 | 상점         |  23 |\n| 101 | 의료기관     |  19 |\n| 91 | 공장         |  15 |\n| 98 | 유원지       |  13 |\n| 96 | 교통         |   9 |\n| 94 | 역대합실     |   8 |\n| 99 | 학교         |   8 |\n| 103 | 산야         |   8 |\n| 87 | 시장노점     |   5 |\n| 92 | 공사장       |   4 |\n| 93 | 창고         |   4 |\n| 107 | 공지         |   3 |\n| 102 | 종교기관     |   2 |\n| 104 | 해상         |   2 |\n| 84 | 고속도로     |   1 |\n| 95 | 지하철       |   1 |\n| 97 | 유흥접객업소 |   1 |\n| 105 | 부대         |   1 |\n| 100 | 금융기관     |   0 |\n| 106 | 구금장소     |   0 |\n\n",
            "text/html": [
              "<table class=\"dataframe\">\n",
              "<caption>A data.frame: 27 × 2</caption>\n",
              "<thead>\n",
              "\t<tr><th></th><th scope=col>장소</th><th scope=col>건수</th></tr>\n",
              "\t<tr><th></th><th scope=col>&lt;chr&gt;</th><th scope=col>&lt;int&gt;</th></tr>\n",
              "</thead>\n",
              "<tbody>\n",
              "\t<tr><th scope=row>83</th><td>집          </td><td>312</td></tr>\n",
              "\t<tr><th scope=row>85</th><td>노상        </td><td>280</td></tr>\n",
              "\t<tr><th scope=row>82</th><td>아파트      </td><td>242</td></tr>\n",
              "\t<tr><th scope=row>108</th><td>기타        </td><td>131</td></tr>\n",
              "\t<tr><th scope=row>89</th><td>병원        </td><td> 87</td></tr>\n",
              "\t<tr><th scope=row>88</th><td>숙박업소    </td><td> 43</td></tr>\n",
              "\t<tr><th scope=row>90</th><td>사무실      </td><td> 40</td></tr>\n",
              "\t<tr><th scope=row>86</th><td>상점        </td><td> 23</td></tr>\n",
              "\t<tr><th scope=row>101</th><td>의료기관    </td><td> 19</td></tr>\n",
              "\t<tr><th scope=row>91</th><td>공장        </td><td> 15</td></tr>\n",
              "\t<tr><th scope=row>98</th><td>유원지      </td><td> 13</td></tr>\n",
              "\t<tr><th scope=row>96</th><td>교통        </td><td>  9</td></tr>\n",
              "\t<tr><th scope=row>94</th><td>역대합실    </td><td>  8</td></tr>\n",
              "\t<tr><th scope=row>99</th><td>학교        </td><td>  8</td></tr>\n",
              "\t<tr><th scope=row>103</th><td>산야        </td><td>  8</td></tr>\n",
              "\t<tr><th scope=row>87</th><td>시장노점    </td><td>  5</td></tr>\n",
              "\t<tr><th scope=row>92</th><td>공사장      </td><td>  4</td></tr>\n",
              "\t<tr><th scope=row>93</th><td>창고        </td><td>  4</td></tr>\n",
              "\t<tr><th scope=row>107</th><td>공지        </td><td>  3</td></tr>\n",
              "\t<tr><th scope=row>102</th><td>종교기관    </td><td>  2</td></tr>\n",
              "\t<tr><th scope=row>104</th><td>해상        </td><td>  2</td></tr>\n",
              "\t<tr><th scope=row>84</th><td>고속도로    </td><td>  1</td></tr>\n",
              "\t<tr><th scope=row>95</th><td>지하철      </td><td>  1</td></tr>\n",
              "\t<tr><th scope=row>97</th><td>유흥접객업소</td><td>  1</td></tr>\n",
              "\t<tr><th scope=row>105</th><td>부대        </td><td>  1</td></tr>\n",
              "\t<tr><th scope=row>100</th><td>금융기관    </td><td>  0</td></tr>\n",
              "\t<tr><th scope=row>106</th><td>구금장소    </td><td>  0</td></tr>\n",
              "</tbody>\n",
              "</table>\n"
            ]
          },
          "metadata": {
            "tags": []
          }
        }
      ]
    },
    {
      "cell_type": "markdown",
      "metadata": {
        "id": "sbrxhzLy1u0G"
      },
      "source": [
        ""
      ]
    },
    {
      "cell_type": "markdown",
      "metadata": {
        "id": "c4yhA4Fc1uxL"
      },
      "source": [
        ""
      ]
    },
    {
      "cell_type": "markdown",
      "metadata": {
        "id": "KSUBevTm1uuc"
      },
      "source": [
        "**■ 함수**\r\n",
        "\r\n",
        " 1. 문자함수\r\n",
        " 2. 숫자함수\r\n",
        " 3. 날짜함수\r\n",
        " 4. 변환함수\r\n",
        " 5. 일반함수 \r\n"
      ]
    },
    {
      "cell_type": "markdown",
      "metadata": {
        "id": "aNPqIyS41xOL"
      },
      "source": [
        ""
      ]
    },
    {
      "cell_type": "markdown",
      "metadata": {
        "id": "bXEpAJom1xmZ"
      },
      "source": [
        "**■ 문자함수**\r\n",
        "\r\n",
        "    오라클     vs      R\r\n",
        "    upper             toupper\r\n",
        "    lower             tolower\r\n",
        "    substr            substr\r\n",
        "    replace            gsub"
      ]
    },
    {
      "cell_type": "markdown",
      "metadata": {
        "id": "JIe0xrUt11Dw"
      },
      "source": [
        ""
      ]
    },
    {
      "cell_type": "markdown",
      "metadata": {
        "id": "GkbIM87O12TW"
      },
      "source": [
        ""
      ]
    },
    {
      "cell_type": "markdown",
      "metadata": {
        "id": "IefDw6Jf12Fh"
      },
      "source": [
        "문제32. 이름과 직업을 출력하는데 소문자로 출력하시오 !"
      ]
    },
    {
      "cell_type": "code",
      "metadata": {
        "colab": {
          "base_uri": "https://localhost:8080/",
          "height": 511
        },
        "id": "UnnZ_Qgd13sk",
        "outputId": "cf561b1d-a275-4ef9-8002-b4e6ae2f81f6"
      },
      "source": [
        "library(data.table)\r\n",
        "data.table(이름=tolower(emp$ename), 직업=tolower(emp$job) )"
      ],
      "execution_count": 54,
      "outputs": [
        {
          "output_type": "display_data",
          "data": {
            "text/plain": [
              "   이름   직업     \n",
              "1  king   president\n",
              "2  blake  manager  \n",
              "3  clark  manager  \n",
              "4  jones  manager  \n",
              "5  martin salesman \n",
              "6  allen  salesman \n",
              "7  turner salesman \n",
              "8  james  clerk    \n",
              "9  ward   salesman \n",
              "10 ford   analyst  \n",
              "11 smith  clerk    \n",
              "12 scott  analyst  \n",
              "13 adams  clerk    \n",
              "14 miller clerk    "
            ],
            "text/latex": "A data.table: 14 × 2\n\\begin{tabular}{ll}\n 이름 & 직업\\\\\n <chr> & <chr>\\\\\n\\hline\n\t king   & president\\\\\n\t blake  & manager  \\\\\n\t clark  & manager  \\\\\n\t jones  & manager  \\\\\n\t martin & salesman \\\\\n\t allen  & salesman \\\\\n\t turner & salesman \\\\\n\t james  & clerk    \\\\\n\t ward   & salesman \\\\\n\t ford   & analyst  \\\\\n\t smith  & clerk    \\\\\n\t scott  & analyst  \\\\\n\t adams  & clerk    \\\\\n\t miller & clerk    \\\\\n\\end{tabular}\n",
            "text/markdown": "\nA data.table: 14 × 2\n\n| 이름 &lt;chr&gt; | 직업 &lt;chr&gt; |\n|---|---|\n| king   | president |\n| blake  | manager   |\n| clark  | manager   |\n| jones  | manager   |\n| martin | salesman  |\n| allen  | salesman  |\n| turner | salesman  |\n| james  | clerk     |\n| ward   | salesman  |\n| ford   | analyst   |\n| smith  | clerk     |\n| scott  | analyst   |\n| adams  | clerk     |\n| miller | clerk     |\n\n",
            "text/html": [
              "<table class=\"dataframe\">\n",
              "<caption>A data.table: 14 × 2</caption>\n",
              "<thead>\n",
              "\t<tr><th scope=col>이름</th><th scope=col>직업</th></tr>\n",
              "\t<tr><th scope=col>&lt;chr&gt;</th><th scope=col>&lt;chr&gt;</th></tr>\n",
              "</thead>\n",
              "<tbody>\n",
              "\t<tr><td>king  </td><td>president</td></tr>\n",
              "\t<tr><td>blake </td><td>manager  </td></tr>\n",
              "\t<tr><td>clark </td><td>manager  </td></tr>\n",
              "\t<tr><td>jones </td><td>manager  </td></tr>\n",
              "\t<tr><td>martin</td><td>salesman </td></tr>\n",
              "\t<tr><td>allen </td><td>salesman </td></tr>\n",
              "\t<tr><td>turner</td><td>salesman </td></tr>\n",
              "\t<tr><td>james </td><td>clerk    </td></tr>\n",
              "\t<tr><td>ward  </td><td>salesman </td></tr>\n",
              "\t<tr><td>ford  </td><td>analyst  </td></tr>\n",
              "\t<tr><td>smith </td><td>clerk    </td></tr>\n",
              "\t<tr><td>scott </td><td>analyst  </td></tr>\n",
              "\t<tr><td>adams </td><td>clerk    </td></tr>\n",
              "\t<tr><td>miller</td><td>clerk    </td></tr>\n",
              "</tbody>\n",
              "</table>\n"
            ]
          },
          "metadata": {
            "tags": []
          }
        }
      ]
    },
    {
      "cell_type": "markdown",
      "metadata": {
        "id": "k1WYzFK616qy"
      },
      "source": [
        ""
      ]
    },
    {
      "cell_type": "markdown",
      "metadata": {
        "id": "Fa_soUb516n1"
      },
      "source": [
        ""
      ]
    },
    {
      "cell_type": "markdown",
      "metadata": {
        "id": "9g4FxoDd16kt"
      },
      "source": [
        "문제33. 이름을 출력하고 그 옆에 이름의 첫번째 철자부터 세번째 철자까지 출력되게하시오 !\r\n",
        "\r\n",
        "SQL>\r\n",
        "\r\n",
        "    select ename, substr(ename, 1, 3)\r\n",
        "       from emp;\r\n",
        "\r\n",
        "R>"
      ]
    },
    {
      "cell_type": "code",
      "metadata": {
        "colab": {
          "base_uri": "https://localhost:8080/",
          "height": 528
        },
        "id": "ZUvv99Xz1_Qi",
        "outputId": "9b2eddcd-4d9c-4ca4-d0ae-ce843168be8d"
      },
      "source": [
        "library(data.table)\r\n",
        "data.table(이름=emp$ename, 철자=substr(emp$ename, 1, 3) )"
      ],
      "execution_count": 55,
      "outputs": [
        {
          "output_type": "display_data",
          "data": {
            "text/plain": [
              "   이름   철자\n",
              "1  KING   KIN \n",
              "2  BLAKE  BLA \n",
              "3  CLARK  CLA \n",
              "4  JONES  JON \n",
              "5  MARTIN MAR \n",
              "6  ALLEN  ALL \n",
              "7  TURNER TUR \n",
              "8  JAMES  JAM \n",
              "9  WARD   WAR \n",
              "10 FORD   FOR \n",
              "11 SMITH  SMI \n",
              "12 SCOTT  SCO \n",
              "13 ADAMS  ADA \n",
              "14 MILLER MIL "
            ],
            "text/latex": "A data.table: 14 × 2\n\\begin{tabular}{ll}\n 이름 & 철자\\\\\n <chr> & <chr>\\\\\n\\hline\n\t KING   & KIN\\\\\n\t BLAKE  & BLA\\\\\n\t CLARK  & CLA\\\\\n\t JONES  & JON\\\\\n\t MARTIN & MAR\\\\\n\t ALLEN  & ALL\\\\\n\t TURNER & TUR\\\\\n\t JAMES  & JAM\\\\\n\t WARD   & WAR\\\\\n\t FORD   & FOR\\\\\n\t SMITH  & SMI\\\\\n\t SCOTT  & SCO\\\\\n\t ADAMS  & ADA\\\\\n\t MILLER & MIL\\\\\n\\end{tabular}\n",
            "text/markdown": "\nA data.table: 14 × 2\n\n| 이름 &lt;chr&gt; | 철자 &lt;chr&gt; |\n|---|---|\n| KING   | KIN |\n| BLAKE  | BLA |\n| CLARK  | CLA |\n| JONES  | JON |\n| MARTIN | MAR |\n| ALLEN  | ALL |\n| TURNER | TUR |\n| JAMES  | JAM |\n| WARD   | WAR |\n| FORD   | FOR |\n| SMITH  | SMI |\n| SCOTT  | SCO |\n| ADAMS  | ADA |\n| MILLER | MIL |\n\n",
            "text/html": [
              "<table class=\"dataframe\">\n",
              "<caption>A data.table: 14 × 2</caption>\n",
              "<thead>\n",
              "\t<tr><th scope=col>이름</th><th scope=col>철자</th></tr>\n",
              "\t<tr><th scope=col>&lt;chr&gt;</th><th scope=col>&lt;chr&gt;</th></tr>\n",
              "</thead>\n",
              "<tbody>\n",
              "\t<tr><td>KING  </td><td>KIN</td></tr>\n",
              "\t<tr><td>BLAKE </td><td>BLA</td></tr>\n",
              "\t<tr><td>CLARK </td><td>CLA</td></tr>\n",
              "\t<tr><td>JONES </td><td>JON</td></tr>\n",
              "\t<tr><td>MARTIN</td><td>MAR</td></tr>\n",
              "\t<tr><td>ALLEN </td><td>ALL</td></tr>\n",
              "\t<tr><td>TURNER</td><td>TUR</td></tr>\n",
              "\t<tr><td>JAMES </td><td>JAM</td></tr>\n",
              "\t<tr><td>WARD  </td><td>WAR</td></tr>\n",
              "\t<tr><td>FORD  </td><td>FOR</td></tr>\n",
              "\t<tr><td>SMITH </td><td>SMI</td></tr>\n",
              "\t<tr><td>SCOTT </td><td>SCO</td></tr>\n",
              "\t<tr><td>ADAMS </td><td>ADA</td></tr>\n",
              "\t<tr><td>MILLER</td><td>MIL</td></tr>\n",
              "</tbody>\n",
              "</table>\n"
            ]
          },
          "metadata": {
            "tags": []
          }
        }
      ]
    },
    {
      "cell_type": "markdown",
      "metadata": {
        "id": "nQvZ7Gej3zs7"
      },
      "source": [
        "설명: substr( 변수, 시작, 끝 )"
      ]
    },
    {
      "cell_type": "markdown",
      "metadata": {
        "id": "2Aw2mw9X3zn4"
      },
      "source": [
        ""
      ]
    },
    {
      "cell_type": "markdown",
      "metadata": {
        "id": "FDoHMy8p3zh9"
      },
      "source": [
        ""
      ]
    },
    {
      "cell_type": "markdown",
      "metadata": {
        "id": "C5uqLUyF321J"
      },
      "source": [
        "문제34. 이름, 월급을 출력하는데 월급을 출력할 때 숫자 0 을 * 로 출력하시오 !\r\n",
        "\r\n",
        "SQL>\r\n",
        "\r\n",
        "    select ename, replace( sal, 0, '*' )\r\n",
        "       from emp;\r\n",
        "\r\n",
        "R>"
      ]
    },
    {
      "cell_type": "code",
      "metadata": {
        "colab": {
          "base_uri": "https://localhost:8080/",
          "height": 528
        },
        "id": "2mf1wQ6V4AXs",
        "outputId": "e1e36b60-f2ed-4d63-e4fe-a8793fb0e48a"
      },
      "source": [
        "data.table( 이름=emp$ename, 월급=gsub( 0, '*', emp$sal ) )"
      ],
      "execution_count": 56,
      "outputs": [
        {
          "output_type": "display_data",
          "data": {
            "text/plain": [
              "   이름   월급\n",
              "1  KING   5***\n",
              "2  BLAKE  285*\n",
              "3  CLARK  245*\n",
              "4  JONES  2975\n",
              "5  MARTIN 125*\n",
              "6  ALLEN  16**\n",
              "7  TURNER 15**\n",
              "8  JAMES  95* \n",
              "9  WARD   125*\n",
              "10 FORD   3***\n",
              "11 SMITH  8** \n",
              "12 SCOTT  3***\n",
              "13 ADAMS  11**\n",
              "14 MILLER 13**"
            ],
            "text/latex": "A data.table: 14 × 2\n\\begin{tabular}{ll}\n 이름 & 월급\\\\\n <chr> & <chr>\\\\\n\\hline\n\t KING   & 5***\\\\\n\t BLAKE  & 285*\\\\\n\t CLARK  & 245*\\\\\n\t JONES  & 2975\\\\\n\t MARTIN & 125*\\\\\n\t ALLEN  & 16**\\\\\n\t TURNER & 15**\\\\\n\t JAMES  & 95* \\\\\n\t WARD   & 125*\\\\\n\t FORD   & 3***\\\\\n\t SMITH  & 8** \\\\\n\t SCOTT  & 3***\\\\\n\t ADAMS  & 11**\\\\\n\t MILLER & 13**\\\\\n\\end{tabular}\n",
            "text/markdown": "\nA data.table: 14 × 2\n\n| 이름 &lt;chr&gt; | 월급 &lt;chr&gt; |\n|---|---|\n| KING   | 5*** |\n| BLAKE  | 285* |\n| CLARK  | 245* |\n| JONES  | 2975 |\n| MARTIN | 125* |\n| ALLEN  | 16** |\n| TURNER | 15** |\n| JAMES  | 95*  |\n| WARD   | 125* |\n| FORD   | 3*** |\n| SMITH  | 8**  |\n| SCOTT  | 3*** |\n| ADAMS  | 11** |\n| MILLER | 13** |\n\n",
            "text/html": [
              "<table class=\"dataframe\">\n",
              "<caption>A data.table: 14 × 2</caption>\n",
              "<thead>\n",
              "\t<tr><th scope=col>이름</th><th scope=col>월급</th></tr>\n",
              "\t<tr><th scope=col>&lt;chr&gt;</th><th scope=col>&lt;chr&gt;</th></tr>\n",
              "</thead>\n",
              "<tbody>\n",
              "\t<tr><td>KING  </td><td>5***</td></tr>\n",
              "\t<tr><td>BLAKE </td><td>285*</td></tr>\n",
              "\t<tr><td>CLARK </td><td>245*</td></tr>\n",
              "\t<tr><td>JONES </td><td>2975</td></tr>\n",
              "\t<tr><td>MARTIN</td><td>125*</td></tr>\n",
              "\t<tr><td>ALLEN </td><td>16**</td></tr>\n",
              "\t<tr><td>TURNER</td><td>15**</td></tr>\n",
              "\t<tr><td>JAMES </td><td>95* </td></tr>\n",
              "\t<tr><td>WARD  </td><td>125*</td></tr>\n",
              "\t<tr><td>FORD  </td><td>3***</td></tr>\n",
              "\t<tr><td>SMITH </td><td>8** </td></tr>\n",
              "\t<tr><td>SCOTT </td><td>3***</td></tr>\n",
              "\t<tr><td>ADAMS </td><td>11**</td></tr>\n",
              "\t<tr><td>MILLER</td><td>13**</td></tr>\n",
              "</tbody>\n",
              "</table>\n"
            ]
          },
          "metadata": {
            "tags": []
          }
        }
      ]
    },
    {
      "cell_type": "markdown",
      "metadata": {
        "id": "SKXpIERK4B9q"
      },
      "source": [
        "설명: gsub(변경전, 변경후, 변수)\r\n"
      ]
    },
    {
      "cell_type": "markdown",
      "metadata": {
        "id": "0bUtxRAT4EtI"
      },
      "source": [
        ""
      ]
    },
    {
      "cell_type": "markdown",
      "metadata": {
        "id": "LLQVuor34Eoy"
      },
      "source": [
        ""
      ]
    },
    {
      "cell_type": "markdown",
      "metadata": {
        "id": "9OYAYflq4Ekd"
      },
      "source": [
        "문제35. 이름, 월급을 출력하는데 월급을 출력할 때에 숫자 0, 1, 2 를 * 로 출력하시오\r\n",
        "\r\n",
        "SQL>\r\n",
        "\r\n",
        "    select ename, regexp_replace( sal, '[0-2]', '*')\r\n",
        "       from emp;\r\n",
        "\r\n",
        "R>"
      ]
    },
    {
      "cell_type": "code",
      "metadata": {
        "colab": {
          "base_uri": "https://localhost:8080/",
          "height": 528
        },
        "id": "tw1M9a624HtI",
        "outputId": "0a6892eb-41b6-44d6-83b5-3c624a05891c"
      },
      "source": [
        "data.table( 이름=emp$ename, 월급=gsub( '[0-2]', '*', emp$sal ) ) "
      ],
      "execution_count": 57,
      "outputs": [
        {
          "output_type": "display_data",
          "data": {
            "text/plain": [
              "   이름   월급\n",
              "1  KING   5***\n",
              "2  BLAKE  *85*\n",
              "3  CLARK  *45*\n",
              "4  JONES  *975\n",
              "5  MARTIN **5*\n",
              "6  ALLEN  *6**\n",
              "7  TURNER *5**\n",
              "8  JAMES  95* \n",
              "9  WARD   **5*\n",
              "10 FORD   3***\n",
              "11 SMITH  8** \n",
              "12 SCOTT  3***\n",
              "13 ADAMS  ****\n",
              "14 MILLER *3**"
            ],
            "text/latex": "A data.table: 14 × 2\n\\begin{tabular}{ll}\n 이름 & 월급\\\\\n <chr> & <chr>\\\\\n\\hline\n\t KING   & 5***\\\\\n\t BLAKE  & *85*\\\\\n\t CLARK  & *45*\\\\\n\t JONES  & *975\\\\\n\t MARTIN & **5*\\\\\n\t ALLEN  & *6**\\\\\n\t TURNER & *5**\\\\\n\t JAMES  & 95* \\\\\n\t WARD   & **5*\\\\\n\t FORD   & 3***\\\\\n\t SMITH  & 8** \\\\\n\t SCOTT  & 3***\\\\\n\t ADAMS  & ****\\\\\n\t MILLER & *3**\\\\\n\\end{tabular}\n",
            "text/markdown": "\nA data.table: 14 × 2\n\n| 이름 &lt;chr&gt; | 월급 &lt;chr&gt; |\n|---|---|\n| KING   | 5*** |\n| BLAKE  | *85* |\n| CLARK  | *45* |\n| JONES  | *975 |\n| MARTIN | **5* |\n| ALLEN  | *6** |\n| TURNER | *5** |\n| JAMES  | 95*  |\n| WARD   | **5* |\n| FORD   | 3*** |\n| SMITH  | 8**  |\n| SCOTT  | 3*** |\n| ADAMS  | **** |\n| MILLER | *3** |\n\n",
            "text/html": [
              "<table class=\"dataframe\">\n",
              "<caption>A data.table: 14 × 2</caption>\n",
              "<thead>\n",
              "\t<tr><th scope=col>이름</th><th scope=col>월급</th></tr>\n",
              "\t<tr><th scope=col>&lt;chr&gt;</th><th scope=col>&lt;chr&gt;</th></tr>\n",
              "</thead>\n",
              "<tbody>\n",
              "\t<tr><td>KING  </td><td>5***</td></tr>\n",
              "\t<tr><td>BLAKE </td><td>*85*</td></tr>\n",
              "\t<tr><td>CLARK </td><td>*45*</td></tr>\n",
              "\t<tr><td>JONES </td><td>*975</td></tr>\n",
              "\t<tr><td>MARTIN</td><td>**5*</td></tr>\n",
              "\t<tr><td>ALLEN </td><td>*6**</td></tr>\n",
              "\t<tr><td>TURNER</td><td>*5**</td></tr>\n",
              "\t<tr><td>JAMES </td><td>95* </td></tr>\n",
              "\t<tr><td>WARD  </td><td>**5*</td></tr>\n",
              "\t<tr><td>FORD  </td><td>3***</td></tr>\n",
              "\t<tr><td>SMITH </td><td>8** </td></tr>\n",
              "\t<tr><td>SCOTT </td><td>3***</td></tr>\n",
              "\t<tr><td>ADAMS </td><td>****</td></tr>\n",
              "\t<tr><td>MILLER</td><td>*3**</td></tr>\n",
              "</tbody>\n",
              "</table>\n"
            ]
          },
          "metadata": {
            "tags": []
          }
        }
      ]
    },
    {
      "cell_type": "markdown",
      "metadata": {
        "id": "FhMroQL74HZ2"
      },
      "source": [
        ""
      ]
    },
    {
      "cell_type": "markdown",
      "metadata": {
        "id": "1i31_QK54J50"
      },
      "source": [
        ""
      ]
    },
    {
      "cell_type": "markdown",
      "metadata": {
        "id": "2bu-osHt4J0I"
      },
      "source": [
        "**■ 숫자함수**\r\n",
        "\r\n",
        "       오라클             vs           R\r\n",
        "     1. round                        round\r\n",
        "     2. trunc                        trunc\r\n",
        "     3. mod                          %%\r\n",
        "     4. power                      2^3 (2의 3승)\r\n"
      ]
    },
    {
      "cell_type": "markdown",
      "metadata": {
        "id": "pFzs24rA4P4U"
      },
      "source": [
        ""
      ]
    },
    {
      "cell_type": "markdown",
      "metadata": {
        "id": "qEuDyrRl4QO2"
      },
      "source": [
        "문제36. 6의 9승을 출력하시오 !"
      ]
    },
    {
      "cell_type": "code",
      "metadata": {
        "colab": {
          "base_uri": "https://localhost:8080/",
          "height": 33
        },
        "id": "Ef30BCHY4RIC",
        "outputId": "4408808a-7fb6-448c-9538-5384c597b9d1"
      },
      "source": [
        "6^9"
      ],
      "execution_count": 58,
      "outputs": [
        {
          "output_type": "display_data",
          "data": {
            "text/plain": [
              "[1] 10077696"
            ],
            "text/latex": "10077696",
            "text/markdown": "10077696",
            "text/html": [
              "10077696"
            ]
          },
          "metadata": {
            "tags": []
          }
        }
      ]
    },
    {
      "cell_type": "markdown",
      "metadata": {
        "id": "IJED4ILu4TMY"
      },
      "source": [
        ""
      ]
    },
    {
      "cell_type": "markdown",
      "metadata": {
        "id": "eToqfkMz4TH0"
      },
      "source": [
        ""
      ]
    },
    {
      "cell_type": "markdown",
      "metadata": {
        "id": "YdKwi00A4TDL"
      },
      "source": [
        "문제37. 10을 3으로 나눈 나머지값을 출력하시오 !\r\n"
      ]
    },
    {
      "cell_type": "code",
      "metadata": {
        "colab": {
          "base_uri": "https://localhost:8080/",
          "height": 33
        },
        "id": "GdTBZowg4UYB",
        "outputId": "7a4d1ad2-2895-435e-8caa-dffd1df179a0"
      },
      "source": [
        "10%%3"
      ],
      "execution_count": 59,
      "outputs": [
        {
          "output_type": "display_data",
          "data": {
            "text/plain": [
              "[1] 1"
            ],
            "text/latex": "1",
            "text/markdown": "1",
            "text/html": [
              "1"
            ]
          },
          "metadata": {
            "tags": []
          }
        }
      ]
    },
    {
      "cell_type": "markdown",
      "metadata": {
        "id": "AZUQxRQW4WiJ"
      },
      "source": [
        ""
      ]
    },
    {
      "cell_type": "markdown",
      "metadata": {
        "id": "1q_PSXhr4WeH"
      },
      "source": [
        ""
      ]
    },
    {
      "cell_type": "markdown",
      "metadata": {
        "id": "ihiAgcmp4WZQ"
      },
      "source": [
        "문제38. 이름과 연봉을 출력하는데 연봉은 월급의 12를 곱해서 출력하고 컬럼명은\r\n",
        "\t   둘 다 한글로 이름, 연봉이라고 출력되게하시오 !\r\n"
      ]
    },
    {
      "cell_type": "code",
      "metadata": {
        "colab": {
          "base_uri": "https://localhost:8080/",
          "height": 528
        },
        "id": "iXbDRJBX4XiT",
        "outputId": "164c225c-4a5c-41f0-f503-5b3aa1f5a406"
      },
      "source": [
        "data.table(이름=emp$ename, 연봉=emp$sal * 12 )"
      ],
      "execution_count": 60,
      "outputs": [
        {
          "output_type": "display_data",
          "data": {
            "text/plain": [
              "   이름   연봉 \n",
              "1  KING   60000\n",
              "2  BLAKE  34200\n",
              "3  CLARK  29400\n",
              "4  JONES  35700\n",
              "5  MARTIN 15000\n",
              "6  ALLEN  19200\n",
              "7  TURNER 18000\n",
              "8  JAMES  11400\n",
              "9  WARD   15000\n",
              "10 FORD   36000\n",
              "11 SMITH   9600\n",
              "12 SCOTT  36000\n",
              "13 ADAMS  13200\n",
              "14 MILLER 15600"
            ],
            "text/latex": "A data.table: 14 × 2\n\\begin{tabular}{ll}\n 이름 & 연봉\\\\\n <chr> & <dbl>\\\\\n\\hline\n\t KING   & 60000\\\\\n\t BLAKE  & 34200\\\\\n\t CLARK  & 29400\\\\\n\t JONES  & 35700\\\\\n\t MARTIN & 15000\\\\\n\t ALLEN  & 19200\\\\\n\t TURNER & 18000\\\\\n\t JAMES  & 11400\\\\\n\t WARD   & 15000\\\\\n\t FORD   & 36000\\\\\n\t SMITH  &  9600\\\\\n\t SCOTT  & 36000\\\\\n\t ADAMS  & 13200\\\\\n\t MILLER & 15600\\\\\n\\end{tabular}\n",
            "text/markdown": "\nA data.table: 14 × 2\n\n| 이름 &lt;chr&gt; | 연봉 &lt;dbl&gt; |\n|---|---|\n| KING   | 60000 |\n| BLAKE  | 34200 |\n| CLARK  | 29400 |\n| JONES  | 35700 |\n| MARTIN | 15000 |\n| ALLEN  | 19200 |\n| TURNER | 18000 |\n| JAMES  | 11400 |\n| WARD   | 15000 |\n| FORD   | 36000 |\n| SMITH  |  9600 |\n| SCOTT  | 36000 |\n| ADAMS  | 13200 |\n| MILLER | 15600 |\n\n",
            "text/html": [
              "<table class=\"dataframe\">\n",
              "<caption>A data.table: 14 × 2</caption>\n",
              "<thead>\n",
              "\t<tr><th scope=col>이름</th><th scope=col>연봉</th></tr>\n",
              "\t<tr><th scope=col>&lt;chr&gt;</th><th scope=col>&lt;dbl&gt;</th></tr>\n",
              "</thead>\n",
              "<tbody>\n",
              "\t<tr><td>KING  </td><td>60000</td></tr>\n",
              "\t<tr><td>BLAKE </td><td>34200</td></tr>\n",
              "\t<tr><td>CLARK </td><td>29400</td></tr>\n",
              "\t<tr><td>JONES </td><td>35700</td></tr>\n",
              "\t<tr><td>MARTIN</td><td>15000</td></tr>\n",
              "\t<tr><td>ALLEN </td><td>19200</td></tr>\n",
              "\t<tr><td>TURNER</td><td>18000</td></tr>\n",
              "\t<tr><td>JAMES </td><td>11400</td></tr>\n",
              "\t<tr><td>WARD  </td><td>15000</td></tr>\n",
              "\t<tr><td>FORD  </td><td>36000</td></tr>\n",
              "\t<tr><td>SMITH </td><td> 9600</td></tr>\n",
              "\t<tr><td>SCOTT </td><td>36000</td></tr>\n",
              "\t<tr><td>ADAMS </td><td>13200</td></tr>\n",
              "\t<tr><td>MILLER</td><td>15600</td></tr>\n",
              "</tbody>\n",
              "</table>\n"
            ]
          },
          "metadata": {
            "tags": []
          }
        }
      ]
    },
    {
      "cell_type": "markdown",
      "metadata": {
        "id": "nfdkWlho4bEc"
      },
      "source": [
        ""
      ]
    },
    {
      "cell_type": "markdown",
      "metadata": {
        "id": "yCyvto0z4bBU"
      },
      "source": [
        ""
      ]
    },
    {
      "cell_type": "markdown",
      "metadata": {
        "id": "gZbO5iap4a-g"
      },
      "source": [
        "문제39. 위의 결과를 다시 출력하는데 round 함수를 써서 백의 자리에서 반올림되게 하시오 !\r\n",
        "\t   (예: 35700  ---->  36000)"
      ]
    },
    {
      "cell_type": "code",
      "metadata": {
        "colab": {
          "base_uri": "https://localhost:8080/",
          "height": 528
        },
        "id": "lSmMfR8M4c2J",
        "outputId": "62faa683-d1cd-47cb-a3f6-aa2359000678"
      },
      "source": [
        "data.table(이름=emp$ename, 연봉=round(emp$sal * 12, -3 ) )"
      ],
      "execution_count": 61,
      "outputs": [
        {
          "output_type": "display_data",
          "data": {
            "text/plain": [
              "   이름   연봉 \n",
              "1  KING   60000\n",
              "2  BLAKE  34000\n",
              "3  CLARK  29000\n",
              "4  JONES  36000\n",
              "5  MARTIN 15000\n",
              "6  ALLEN  19000\n",
              "7  TURNER 18000\n",
              "8  JAMES  11000\n",
              "9  WARD   15000\n",
              "10 FORD   36000\n",
              "11 SMITH  10000\n",
              "12 SCOTT  36000\n",
              "13 ADAMS  13000\n",
              "14 MILLER 16000"
            ],
            "text/latex": "A data.table: 14 × 2\n\\begin{tabular}{ll}\n 이름 & 연봉\\\\\n <chr> & <dbl>\\\\\n\\hline\n\t KING   & 60000\\\\\n\t BLAKE  & 34000\\\\\n\t CLARK  & 29000\\\\\n\t JONES  & 36000\\\\\n\t MARTIN & 15000\\\\\n\t ALLEN  & 19000\\\\\n\t TURNER & 18000\\\\\n\t JAMES  & 11000\\\\\n\t WARD   & 15000\\\\\n\t FORD   & 36000\\\\\n\t SMITH  & 10000\\\\\n\t SCOTT  & 36000\\\\\n\t ADAMS  & 13000\\\\\n\t MILLER & 16000\\\\\n\\end{tabular}\n",
            "text/markdown": "\nA data.table: 14 × 2\n\n| 이름 &lt;chr&gt; | 연봉 &lt;dbl&gt; |\n|---|---|\n| KING   | 60000 |\n| BLAKE  | 34000 |\n| CLARK  | 29000 |\n| JONES  | 36000 |\n| MARTIN | 15000 |\n| ALLEN  | 19000 |\n| TURNER | 18000 |\n| JAMES  | 11000 |\n| WARD   | 15000 |\n| FORD   | 36000 |\n| SMITH  | 10000 |\n| SCOTT  | 36000 |\n| ADAMS  | 13000 |\n| MILLER | 16000 |\n\n",
            "text/html": [
              "<table class=\"dataframe\">\n",
              "<caption>A data.table: 14 × 2</caption>\n",
              "<thead>\n",
              "\t<tr><th scope=col>이름</th><th scope=col>연봉</th></tr>\n",
              "\t<tr><th scope=col>&lt;chr&gt;</th><th scope=col>&lt;dbl&gt;</th></tr>\n",
              "</thead>\n",
              "<tbody>\n",
              "\t<tr><td>KING  </td><td>60000</td></tr>\n",
              "\t<tr><td>BLAKE </td><td>34000</td></tr>\n",
              "\t<tr><td>CLARK </td><td>29000</td></tr>\n",
              "\t<tr><td>JONES </td><td>36000</td></tr>\n",
              "\t<tr><td>MARTIN</td><td>15000</td></tr>\n",
              "\t<tr><td>ALLEN </td><td>19000</td></tr>\n",
              "\t<tr><td>TURNER</td><td>18000</td></tr>\n",
              "\t<tr><td>JAMES </td><td>11000</td></tr>\n",
              "\t<tr><td>WARD  </td><td>15000</td></tr>\n",
              "\t<tr><td>FORD  </td><td>36000</td></tr>\n",
              "\t<tr><td>SMITH </td><td>10000</td></tr>\n",
              "\t<tr><td>SCOTT </td><td>36000</td></tr>\n",
              "\t<tr><td>ADAMS </td><td>13000</td></tr>\n",
              "\t<tr><td>MILLER</td><td>16000</td></tr>\n",
              "</tbody>\n",
              "</table>\n"
            ]
          },
          "metadata": {
            "tags": []
          }
        }
      ]
    },
    {
      "cell_type": "markdown",
      "metadata": {
        "id": "oXrtLTHI4fuZ"
      },
      "source": [
        ""
      ]
    },
    {
      "cell_type": "markdown",
      "metadata": {
        "id": "mLcrEwfJ4frX"
      },
      "source": [
        ""
      ]
    },
    {
      "cell_type": "markdown",
      "metadata": {
        "id": "JSCQRJhW4fog"
      },
      "source": [
        "문제40. 위의 결과는 반올림을 한 것이고 반올림을 하지 않고 백자리 이후를 다 버려서 출력하시오\r\n"
      ]
    },
    {
      "cell_type": "code",
      "metadata": {
        "colab": {
          "base_uri": "https://localhost:8080/",
          "height": 528
        },
        "id": "Hk8d-cIs4iyr",
        "outputId": "a411491b-71a1-4cb1-ddc0-6e6dfc8b2029"
      },
      "source": [
        "# trunc 는 소수점 이하만 버릴 수 있다. 소수점 이전은 못 버리므로 수행이 되지 않는다.\r\n",
        "data.table(이름=emp$ename, 연봉=trunc(emp$sal * 12, -3) )"
      ],
      "execution_count": 62,
      "outputs": [
        {
          "output_type": "display_data",
          "data": {
            "text/plain": [
              "   이름   연봉 \n",
              "1  KING   60000\n",
              "2  BLAKE  34200\n",
              "3  CLARK  29400\n",
              "4  JONES  35700\n",
              "5  MARTIN 15000\n",
              "6  ALLEN  19200\n",
              "7  TURNER 18000\n",
              "8  JAMES  11400\n",
              "9  WARD   15000\n",
              "10 FORD   36000\n",
              "11 SMITH   9600\n",
              "12 SCOTT  36000\n",
              "13 ADAMS  13200\n",
              "14 MILLER 15600"
            ],
            "text/latex": "A data.table: 14 × 2\n\\begin{tabular}{ll}\n 이름 & 연봉\\\\\n <chr> & <dbl>\\\\\n\\hline\n\t KING   & 60000\\\\\n\t BLAKE  & 34200\\\\\n\t CLARK  & 29400\\\\\n\t JONES  & 35700\\\\\n\t MARTIN & 15000\\\\\n\t ALLEN  & 19200\\\\\n\t TURNER & 18000\\\\\n\t JAMES  & 11400\\\\\n\t WARD   & 15000\\\\\n\t FORD   & 36000\\\\\n\t SMITH  &  9600\\\\\n\t SCOTT  & 36000\\\\\n\t ADAMS  & 13200\\\\\n\t MILLER & 15600\\\\\n\\end{tabular}\n",
            "text/markdown": "\nA data.table: 14 × 2\n\n| 이름 &lt;chr&gt; | 연봉 &lt;dbl&gt; |\n|---|---|\n| KING   | 60000 |\n| BLAKE  | 34200 |\n| CLARK  | 29400 |\n| JONES  | 35700 |\n| MARTIN | 15000 |\n| ALLEN  | 19200 |\n| TURNER | 18000 |\n| JAMES  | 11400 |\n| WARD   | 15000 |\n| FORD   | 36000 |\n| SMITH  |  9600 |\n| SCOTT  | 36000 |\n| ADAMS  | 13200 |\n| MILLER | 15600 |\n\n",
            "text/html": [
              "<table class=\"dataframe\">\n",
              "<caption>A data.table: 14 × 2</caption>\n",
              "<thead>\n",
              "\t<tr><th scope=col>이름</th><th scope=col>연봉</th></tr>\n",
              "\t<tr><th scope=col>&lt;chr&gt;</th><th scope=col>&lt;dbl&gt;</th></tr>\n",
              "</thead>\n",
              "<tbody>\n",
              "\t<tr><td>KING  </td><td>60000</td></tr>\n",
              "\t<tr><td>BLAKE </td><td>34200</td></tr>\n",
              "\t<tr><td>CLARK </td><td>29400</td></tr>\n",
              "\t<tr><td>JONES </td><td>35700</td></tr>\n",
              "\t<tr><td>MARTIN</td><td>15000</td></tr>\n",
              "\t<tr><td>ALLEN </td><td>19200</td></tr>\n",
              "\t<tr><td>TURNER</td><td>18000</td></tr>\n",
              "\t<tr><td>JAMES </td><td>11400</td></tr>\n",
              "\t<tr><td>WARD  </td><td>15000</td></tr>\n",
              "\t<tr><td>FORD  </td><td>36000</td></tr>\n",
              "\t<tr><td>SMITH </td><td> 9600</td></tr>\n",
              "\t<tr><td>SCOTT </td><td>36000</td></tr>\n",
              "\t<tr><td>ADAMS </td><td>13200</td></tr>\n",
              "\t<tr><td>MILLER</td><td>15600</td></tr>\n",
              "</tbody>\n",
              "</table>\n"
            ]
          },
          "metadata": {
            "tags": []
          }
        }
      ]
    },
    {
      "cell_type": "markdown",
      "metadata": {
        "id": "gd0yqmqR4l4r"
      },
      "source": [
        ""
      ]
    },
    {
      "cell_type": "markdown",
      "metadata": {
        "id": "T5KQuDvy4l11"
      },
      "source": [
        ""
      ]
    },
    {
      "cell_type": "markdown",
      "metadata": {
        "id": "qhTqJFRy4lzA"
      },
      "source": [
        "※ 설명: R 은 짝수를 좋아한다."
      ]
    },
    {
      "cell_type": "code",
      "metadata": {
        "colab": {
          "base_uri": "https://localhost:8080/",
          "height": 50
        },
        "id": "V--nCukN4oMI",
        "outputId": "8ca70c8b-e85b-4afb-e787-1abca5b6626d"
      },
      "source": [
        "round(122.5) \r\n",
        "round(123.5) "
      ],
      "execution_count": 64,
      "outputs": [
        {
          "output_type": "display_data",
          "data": {
            "text/plain": [
              "[1] 122"
            ],
            "text/latex": "122",
            "text/markdown": "122",
            "text/html": [
              "122"
            ]
          },
          "metadata": {
            "tags": []
          }
        },
        {
          "output_type": "display_data",
          "data": {
            "text/plain": [
              "[1] 124"
            ],
            "text/latex": "124",
            "text/markdown": "124",
            "text/html": [
              "124"
            ]
          },
          "metadata": {
            "tags": []
          }
        }
      ]
    },
    {
      "cell_type": "markdown",
      "metadata": {
        "id": "oABg_9KV4tQD"
      },
      "source": [
        ""
      ]
    },
    {
      "cell_type": "markdown",
      "metadata": {
        "id": "FwW9ivzF4sp0"
      },
      "source": [
        "딱 중간에 있으면 짝수를 선택한다."
      ]
    },
    {
      "cell_type": "code",
      "metadata": {
        "colab": {
          "base_uri": "https://localhost:8080/",
          "height": 33
        },
        "id": "rDhmpWfy4s_G",
        "outputId": "b9c975fb-48e5-41a6-f28f-754c8801848f"
      },
      "source": [
        "round(122.6)"
      ],
      "execution_count": 65,
      "outputs": [
        {
          "output_type": "display_data",
          "data": {
            "text/plain": [
              "[1] 123"
            ],
            "text/latex": "123",
            "text/markdown": "123",
            "text/html": [
              "123"
            ]
          },
          "metadata": {
            "tags": []
          }
        }
      ]
    },
    {
      "cell_type": "markdown",
      "metadata": {
        "id": "QeF3x9sI4vcz"
      },
      "source": [
        ""
      ]
    },
    {
      "cell_type": "markdown",
      "metadata": {
        "id": "lSAvbe1R4vZT"
      },
      "source": [
        ""
      ]
    },
    {
      "cell_type": "markdown",
      "metadata": {
        "id": "ccnqhKIm4vWA"
      },
      "source": [
        "**■ 날짜 함수**\r\n",
        "\r\n",
        "      오라클              vs               R\r\n",
        "     sysdate                           Sys.Date() \r\n",
        "     add_months                         difftime\r\n",
        "     months_between                   내장함수 없음\r\n",
        "     last_day                         내장함수 없음\r\n",
        "     next_day                         내장함수 없음\r\n"
      ]
    },
    {
      "cell_type": "markdown",
      "metadata": {
        "id": "Zzad5tC947dv"
      },
      "source": [
        ""
      ]
    },
    {
      "cell_type": "markdown",
      "metadata": {
        "id": "320NnBGR47Wg"
      },
      "source": [
        ""
      ]
    },
    {
      "cell_type": "markdown",
      "metadata": {
        "id": "HkKBSNNY47EA"
      },
      "source": [
        "문제41. 오늘날짜를 출력하시오 !"
      ]
    },
    {
      "cell_type": "code",
      "metadata": {
        "colab": {
          "base_uri": "https://localhost:8080/",
          "height": 33
        },
        "id": "yRR5DHGX481e",
        "outputId": "1c198507-146e-404a-d80c-f7cace139e4f"
      },
      "source": [
        "Sys.Date()"
      ],
      "execution_count": 66,
      "outputs": [
        {
          "output_type": "display_data",
          "data": {
            "text/plain": [
              "[1] \"2021-02-15\""
            ],
            "text/latex": "2021-02-15",
            "text/markdown": "2021-02-15",
            "text/html": [
              "<time datetime=\"2021-02-15\">2021-02-15</time>"
            ]
          },
          "metadata": {
            "tags": []
          }
        }
      ]
    },
    {
      "cell_type": "markdown",
      "metadata": {
        "id": "JxZtdB324-ez"
      },
      "source": [
        ""
      ]
    },
    {
      "cell_type": "markdown",
      "metadata": {
        "id": "kqO89t_q4-b7"
      },
      "source": [
        ""
      ]
    },
    {
      "cell_type": "markdown",
      "metadata": {
        "id": "4twHmaMb4-YU"
      },
      "source": [
        "문제42. 이름, 입사한 날짜 부터 오늘까지 총 몇일 근무했는지 출력하시오 !\r\n",
        "\r\n",
        "SQL>\r\n",
        "\r\n",
        "    select ename, sysdate - hiredate\r\n",
        "       from emp;\r\n",
        "\r\n",
        "R>"
      ]
    },
    {
      "cell_type": "code",
      "metadata": {
        "colab": {
          "base_uri": "https://localhost:8080/",
          "height": 168
        },
        "id": "DS9BSvJB5B2D",
        "outputId": "e7d82579-58f8-4e76-f327-f2e4f468eba4"
      },
      "source": [
        "data.table( emp$ename, Sys.Date() - emp$hiredate)\r\n",
        "#                         날짜           문자"
      ],
      "execution_count": 68,
      "outputs": [
        {
          "output_type": "error",
          "ename": "ERROR",
          "evalue": "ignored",
          "traceback": [
            "Error in unclass(as.Date(e1)) - e2: non-numeric argument to binary operator\nTraceback:\n",
            "1. data.table(emp$ename, Sys.Date() - emp$hiredate)",
            "2. `-.Date`(Sys.Date(), emp$hiredate)",
            "3. .Date(unclass(as.Date(e1)) - e2)"
          ]
        }
      ]
    },
    {
      "cell_type": "code",
      "metadata": {
        "colab": {
          "base_uri": "https://localhost:8080/",
          "height": 511
        },
        "id": "Lmz6XVjk5EPG",
        "outputId": "8cff895e-699a-499b-f125-72a30b39a78a"
      },
      "source": [
        "data.table( emp$ename, Sys.Date() - as.Date(emp$hiredate) )"
      ],
      "execution_count": 69,
      "outputs": [
        {
          "output_type": "display_data",
          "data": {
            "text/plain": [
              "   V1     V2        \n",
              "1  KING   14335 days\n",
              "2  BLAKE  14535 days\n",
              "3  CLARK  14527 days\n",
              "4  JONES  14565 days\n",
              "5  MARTIN 14403 days\n",
              "6  ALLEN  14614 days\n",
              "7  TURNER 14423 days\n",
              "8  JAMES  14311 days\n",
              "9  WARD   14602 days\n",
              "10 FORD   14311 days\n",
              "11 SMITH  14678 days\n",
              "12 SCOTT  13935 days\n",
              "13 ADAMS  13911 days\n",
              "14 MILLER 14280 days"
            ],
            "text/latex": "A data.table: 14 × 2\n\\begin{tabular}{ll}\n V1 & V2\\\\\n <chr> & <drtn>\\\\\n\\hline\n\t KING   & 14335 days\\\\\n\t BLAKE  & 14535 days\\\\\n\t CLARK  & 14527 days\\\\\n\t JONES  & 14565 days\\\\\n\t MARTIN & 14403 days\\\\\n\t ALLEN  & 14614 days\\\\\n\t TURNER & 14423 days\\\\\n\t JAMES  & 14311 days\\\\\n\t WARD   & 14602 days\\\\\n\t FORD   & 14311 days\\\\\n\t SMITH  & 14678 days\\\\\n\t SCOTT  & 13935 days\\\\\n\t ADAMS  & 13911 days\\\\\n\t MILLER & 14280 days\\\\\n\\end{tabular}\n",
            "text/markdown": "\nA data.table: 14 × 2\n\n| V1 &lt;chr&gt; | V2 &lt;drtn&gt; |\n|---|---|\n| KING   | 14335 days |\n| BLAKE  | 14535 days |\n| CLARK  | 14527 days |\n| JONES  | 14565 days |\n| MARTIN | 14403 days |\n| ALLEN  | 14614 days |\n| TURNER | 14423 days |\n| JAMES  | 14311 days |\n| WARD   | 14602 days |\n| FORD   | 14311 days |\n| SMITH  | 14678 days |\n| SCOTT  | 13935 days |\n| ADAMS  | 13911 days |\n| MILLER | 14280 days |\n\n",
            "text/html": [
              "<table class=\"dataframe\">\n",
              "<caption>A data.table: 14 × 2</caption>\n",
              "<thead>\n",
              "\t<tr><th scope=col>V1</th><th scope=col>V2</th></tr>\n",
              "\t<tr><th scope=col>&lt;chr&gt;</th><th scope=col>&lt;drtn&gt;</th></tr>\n",
              "</thead>\n",
              "<tbody>\n",
              "\t<tr><td>KING  </td><td>14335 days</td></tr>\n",
              "\t<tr><td>BLAKE </td><td>14535 days</td></tr>\n",
              "\t<tr><td>CLARK </td><td>14527 days</td></tr>\n",
              "\t<tr><td>JONES </td><td>14565 days</td></tr>\n",
              "\t<tr><td>MARTIN</td><td>14403 days</td></tr>\n",
              "\t<tr><td>ALLEN </td><td>14614 days</td></tr>\n",
              "\t<tr><td>TURNER</td><td>14423 days</td></tr>\n",
              "\t<tr><td>JAMES </td><td>14311 days</td></tr>\n",
              "\t<tr><td>WARD  </td><td>14602 days</td></tr>\n",
              "\t<tr><td>FORD  </td><td>14311 days</td></tr>\n",
              "\t<tr><td>SMITH </td><td>14678 days</td></tr>\n",
              "\t<tr><td>SCOTT </td><td>13935 days</td></tr>\n",
              "\t<tr><td>ADAMS </td><td>13911 days</td></tr>\n",
              "\t<tr><td>MILLER</td><td>14280 days</td></tr>\n",
              "</tbody>\n",
              "</table>\n"
            ]
          },
          "metadata": {
            "tags": []
          }
        }
      ]
    },
    {
      "cell_type": "markdown",
      "metadata": {
        "id": "fxr1kucI5J6s"
      },
      "source": [
        ""
      ]
    },
    {
      "cell_type": "markdown",
      "metadata": {
        "id": "lRb7SSoJ5J3p"
      },
      "source": [
        ""
      ]
    },
    {
      "cell_type": "markdown",
      "metadata": {
        "id": "-dA0WpV_5J0O"
      },
      "source": [
        "문제43. 오늘 날짜의 달의 마지막 날짜를 출력하시오 !\r\n",
        "\r\n",
        "SQL>\r\n",
        "\r\n",
        "    select last_day( sysdate )\r\n",
        "       form dual;\r\n",
        "\r\n",
        "R>"
      ]
    },
    {
      "cell_type": "code",
      "metadata": {
        "colab": {
          "base_uri": "https://localhost:8080/",
          "height": 364
        },
        "id": "a8Sap8ZY5K3J",
        "outputId": "e47a1175-ef02-433c-9a87-6daccf46b6b8"
      },
      "source": [
        "install.packages(\"lubridate\")\r\n",
        "library(lubridate)\r\n",
        "ceiling_date( Sys.Date(), \"months\" )\r\n",
        "ceiling_date( Sys.Date(), \"months\" ) - days(1)"
      ],
      "execution_count": 70,
      "outputs": [
        {
          "output_type": "stream",
          "text": [
            "Installing package into ‘/usr/local/lib/R/site-library’\n",
            "(as ‘lib’ is unspecified)\n",
            "\n",
            "\n",
            "Attaching package: ‘lubridate’\n",
            "\n",
            "\n",
            "The following objects are masked from ‘package:data.table’:\n",
            "\n",
            "    hour, isoweek, mday, minute, month, quarter, second, wday, week,\n",
            "    yday, year\n",
            "\n",
            "\n",
            "The following objects are masked from ‘package:base’:\n",
            "\n",
            "    date, intersect, setdiff, union\n",
            "\n",
            "\n"
          ],
          "name": "stderr"
        },
        {
          "output_type": "display_data",
          "data": {
            "text/plain": [
              "[1] \"2021-03-01\""
            ],
            "text/latex": "2021-03-01",
            "text/markdown": "2021-03-01",
            "text/html": [
              "<time datetime=\"2021-03-01\">2021-03-01</time>"
            ]
          },
          "metadata": {
            "tags": []
          }
        },
        {
          "output_type": "display_data",
          "data": {
            "text/plain": [
              "[1] \"2021-02-28\""
            ],
            "text/latex": "2021-02-28",
            "text/markdown": "2021-02-28",
            "text/html": [
              "<time datetime=\"2021-02-28\">2021-02-28</time>"
            ]
          },
          "metadata": {
            "tags": []
          }
        }
      ]
    },
    {
      "cell_type": "markdown",
      "metadata": {
        "id": "-7MMzr395TFB"
      },
      "source": [
        "설명: 오늘 날짜의 달의 천장 날짜(다음달 1일의 날짜)  \r\n",
        "\r\n",
        "\tfloor_date( Sys.Date(), \"months\" )   ----------->  2021-02-01\r\n",
        "    Sys.Date()                           ----------->  2021-02-15\r\n",
        "\tceiling_date( Sys.Date(), \"months\" ) ----------->  2021-03-01\r\n",
        "\t"
      ]
    },
    {
      "cell_type": "code",
      "metadata": {
        "colab": {
          "base_uri": "https://localhost:8080/",
          "height": 67
        },
        "id": "WH07BAmd5qpV",
        "outputId": "a85e1ef7-ffb7-4d45-dade-44171019b699"
      },
      "source": [
        "floor_date( Sys.Date(), \"months\" )\r\n",
        "Sys.Date() \r\n",
        "ceiling_date( Sys.Date(), \"months\" )"
      ],
      "execution_count": 71,
      "outputs": [
        {
          "output_type": "display_data",
          "data": {
            "text/plain": [
              "[1] \"2021-02-01\""
            ],
            "text/latex": "2021-02-01",
            "text/markdown": "2021-02-01",
            "text/html": [
              "<time datetime=\"2021-02-01\">2021-02-01</time>"
            ]
          },
          "metadata": {
            "tags": []
          }
        },
        {
          "output_type": "display_data",
          "data": {
            "text/plain": [
              "[1] \"2021-02-15\""
            ],
            "text/latex": "2021-02-15",
            "text/markdown": "2021-02-15",
            "text/html": [
              "<time datetime=\"2021-02-15\">2021-02-15</time>"
            ]
          },
          "metadata": {
            "tags": []
          }
        },
        {
          "output_type": "display_data",
          "data": {
            "text/plain": [
              "[1] \"2021-03-01\""
            ],
            "text/latex": "2021-03-01",
            "text/markdown": "2021-03-01",
            "text/html": [
              "<time datetime=\"2021-03-01\">2021-03-01</time>"
            ]
          },
          "metadata": {
            "tags": []
          }
        }
      ]
    },
    {
      "cell_type": "markdown",
      "metadata": {
        "id": "0A6xNcdI5S-U"
      },
      "source": [
        ""
      ]
    },
    {
      "cell_type": "markdown",
      "metadata": {
        "id": "gorFvDmG5xLt"
      },
      "source": [
        ""
      ]
    },
    {
      "cell_type": "markdown",
      "metadata": {
        "id": "9HPQFxqM5xIJ"
      },
      "source": [
        "**■ 변환함수**\r\n",
        "\r\n",
        "       오라클        vs            R\r\n",
        "      to_char                as.character\r\n",
        "      to_number               as.integer\r\n",
        "      to_date                  as.Date\r\n",
        "\r\n",
        "                            format 함수\r\n"
      ]
    },
    {
      "cell_type": "markdown",
      "metadata": {
        "id": "9keqB4fQ53oU"
      },
      "source": [
        ""
      ]
    },
    {
      "cell_type": "markdown",
      "metadata": {
        "id": "KbAyhic4549_"
      },
      "source": [
        "문제44. 이름, 입사한 요일을 출력하시오 !\r\n",
        "\r\n",
        "SQL>\r\n",
        "\r\n",
        "    select ename, to_char( hiredate, 'day' )\r\n",
        "       from emp;\r\n",
        "\r\n",
        "R>"
      ]
    },
    {
      "cell_type": "code",
      "metadata": {
        "colab": {
          "base_uri": "https://localhost:8080/",
          "height": 511
        },
        "id": "d2BBXJU85cBP",
        "outputId": "b8a95ba2-3c2e-4e93-abb2-564b8bb3d5b5"
      },
      "source": [
        "data.table( emp$ename, format( as.Date(emp$hiredate), '%A') )"
      ],
      "execution_count": 72,
      "outputs": [
        {
          "output_type": "display_data",
          "data": {
            "text/plain": [
              "   V1     V2       \n",
              "1  KING   Tuesday  \n",
              "2  BLAKE  Friday   \n",
              "3  CLARK  Saturday \n",
              "4  JONES  Wednesday\n",
              "5  MARTIN Thursday \n",
              "6  ALLEN  Wednesday\n",
              "7  TURNER Friday   \n",
              "8  JAMES  Friday   \n",
              "9  WARD   Monday   \n",
              "10 FORD   Friday   \n",
              "11 SMITH  Tuesday  \n",
              "12 SCOTT  Wednesday\n",
              "13 ADAMS  Saturday \n",
              "14 MILLER Monday   "
            ],
            "text/latex": "A data.table: 14 × 2\n\\begin{tabular}{ll}\n V1 & V2\\\\\n <chr> & <chr>\\\\\n\\hline\n\t KING   & Tuesday  \\\\\n\t BLAKE  & Friday   \\\\\n\t CLARK  & Saturday \\\\\n\t JONES  & Wednesday\\\\\n\t MARTIN & Thursday \\\\\n\t ALLEN  & Wednesday\\\\\n\t TURNER & Friday   \\\\\n\t JAMES  & Friday   \\\\\n\t WARD   & Monday   \\\\\n\t FORD   & Friday   \\\\\n\t SMITH  & Tuesday  \\\\\n\t SCOTT  & Wednesday\\\\\n\t ADAMS  & Saturday \\\\\n\t MILLER & Monday   \\\\\n\\end{tabular}\n",
            "text/markdown": "\nA data.table: 14 × 2\n\n| V1 &lt;chr&gt; | V2 &lt;chr&gt; |\n|---|---|\n| KING   | Tuesday   |\n| BLAKE  | Friday    |\n| CLARK  | Saturday  |\n| JONES  | Wednesday |\n| MARTIN | Thursday  |\n| ALLEN  | Wednesday |\n| TURNER | Friday    |\n| JAMES  | Friday    |\n| WARD   | Monday    |\n| FORD   | Friday    |\n| SMITH  | Tuesday   |\n| SCOTT  | Wednesday |\n| ADAMS  | Saturday  |\n| MILLER | Monday    |\n\n",
            "text/html": [
              "<table class=\"dataframe\">\n",
              "<caption>A data.table: 14 × 2</caption>\n",
              "<thead>\n",
              "\t<tr><th scope=col>V1</th><th scope=col>V2</th></tr>\n",
              "\t<tr><th scope=col>&lt;chr&gt;</th><th scope=col>&lt;chr&gt;</th></tr>\n",
              "</thead>\n",
              "<tbody>\n",
              "\t<tr><td>KING  </td><td>Tuesday  </td></tr>\n",
              "\t<tr><td>BLAKE </td><td>Friday   </td></tr>\n",
              "\t<tr><td>CLARK </td><td>Saturday </td></tr>\n",
              "\t<tr><td>JONES </td><td>Wednesday</td></tr>\n",
              "\t<tr><td>MARTIN</td><td>Thursday </td></tr>\n",
              "\t<tr><td>ALLEN </td><td>Wednesday</td></tr>\n",
              "\t<tr><td>TURNER</td><td>Friday   </td></tr>\n",
              "\t<tr><td>JAMES </td><td>Friday   </td></tr>\n",
              "\t<tr><td>WARD  </td><td>Monday   </td></tr>\n",
              "\t<tr><td>FORD  </td><td>Friday   </td></tr>\n",
              "\t<tr><td>SMITH </td><td>Tuesday  </td></tr>\n",
              "\t<tr><td>SCOTT </td><td>Wednesday</td></tr>\n",
              "\t<tr><td>ADAMS </td><td>Saturday </td></tr>\n",
              "\t<tr><td>MILLER</td><td>Monday   </td></tr>\n",
              "</tbody>\n",
              "</table>\n"
            ]
          },
          "metadata": {
            "tags": []
          }
        }
      ]
    },
    {
      "cell_type": "markdown",
      "metadata": {
        "id": "m7eLoxl15Sut"
      },
      "source": [
        "설명: format 의 옵션\r\n",
        "\r\n",
        "    %A : 요일\r\n",
        "    %Y : 년도 4자리\r\n",
        "    %y : 년도 2자리\r\n",
        "    %m : 달\r\n",
        "    %d : 일\r\n"
      ]
    },
    {
      "cell_type": "markdown",
      "metadata": {
        "id": "NkefG4Nu6Czl"
      },
      "source": [
        ""
      ]
    },
    {
      "cell_type": "markdown",
      "metadata": {
        "id": "3SF43XsZ6Cs9"
      },
      "source": [
        ""
      ]
    },
    {
      "cell_type": "markdown",
      "metadata": {
        "id": "EGlVKZL16CdM"
      },
      "source": [
        "문제45. 11월에 입사한 사원들의 이름과 입사일을 출력하시오 !\r\n",
        "\r\n",
        "SQL>\r\n",
        "\r\n",
        "    select ename, hiredate\r\n",
        "       from emp\r\n",
        "       where to_char(hiredate, 'mm') = '11';\r\n",
        "\r\n",
        "R>"
      ]
    },
    {
      "cell_type": "code",
      "metadata": {
        "colab": {
          "base_uri": "https://localhost:8080/",
          "height": 124
        },
        "id": "pPWV_NuK6IIj",
        "outputId": "79ff59db-045c-4e52-cefd-8a40828b159a"
      },
      "source": [
        "emp[ format( as.Date(emp$hiredate), '%m')=='11', c('ename', 'hiredate')  ]"
      ],
      "execution_count": 76,
      "outputs": [
        {
          "output_type": "display_data",
          "data": {
            "text/plain": [
              "  ename hiredate       \n",
              "1 KING  1981-11-17 0:00"
            ],
            "text/latex": "A data.frame: 1 × 2\n\\begin{tabular}{r|ll}\n  & ename & hiredate\\\\\n  & <chr> & <chr>\\\\\n\\hline\n\t1 & KING & 1981-11-17 0:00\\\\\n\\end{tabular}\n",
            "text/markdown": "\nA data.frame: 1 × 2\n\n| <!--/--> | ename &lt;chr&gt; | hiredate &lt;chr&gt; |\n|---|---|---|\n| 1 | KING | 1981-11-17 0:00 |\n\n",
            "text/html": [
              "<table class=\"dataframe\">\n",
              "<caption>A data.frame: 1 × 2</caption>\n",
              "<thead>\n",
              "\t<tr><th></th><th scope=col>ename</th><th scope=col>hiredate</th></tr>\n",
              "\t<tr><th></th><th scope=col>&lt;chr&gt;</th><th scope=col>&lt;chr&gt;</th></tr>\n",
              "</thead>\n",
              "<tbody>\n",
              "\t<tr><th scope=row>1</th><td>KING</td><td>1981-11-17 0:00</td></tr>\n",
              "</tbody>\n",
              "</table>\n"
            ]
          },
          "metadata": {
            "tags": []
          }
        }
      ]
    },
    {
      "cell_type": "markdown",
      "metadata": {
        "id": "_4kMl5JR6nAB"
      },
      "source": [
        ""
      ]
    },
    {
      "cell_type": "markdown",
      "metadata": {
        "id": "IXGCVyU76m8g"
      },
      "source": [
        ""
      ]
    },
    {
      "cell_type": "markdown",
      "metadata": {
        "id": "DUPZK6zE6m5J"
      },
      "source": [
        "문제46. 오늘부터 100달 뒤에 돌아오는 날짜를 출력하시오 !\r\n",
        "\r\n",
        "SQL>\r\n",
        "\r\n",
        "    select add_months( sysdate, 100 )\r\n",
        "       from dual;\r\n",
        "\r\n",
        "R>"
      ]
    },
    {
      "cell_type": "code",
      "metadata": {
        "colab": {
          "base_uri": "https://localhost:8080/",
          "height": 33
        },
        "id": "aAE61yEo6o-e",
        "outputId": "cfd83507-df7b-4782-fa3d-d797141a1fb7"
      },
      "source": [
        "Sys.Date() + months(100)"
      ],
      "execution_count": 77,
      "outputs": [
        {
          "output_type": "display_data",
          "data": {
            "text/plain": [
              "[1] \"2029-06-15\""
            ],
            "text/latex": "2029-06-15",
            "text/markdown": "2029-06-15",
            "text/html": [
              "<time datetime=\"2029-06-15\">2029-06-15</time>"
            ]
          },
          "metadata": {
            "tags": []
          }
        }
      ]
    },
    {
      "cell_type": "markdown",
      "metadata": {
        "id": "jT2R11WL6qY3"
      },
      "source": [
        "설명: days(숫자), months(숫자), years(숫자)"
      ]
    },
    {
      "cell_type": "markdown",
      "metadata": {
        "id": "rXzIqjfD6s41"
      },
      "source": [
        ""
      ]
    },
    {
      "cell_type": "markdown",
      "metadata": {
        "id": "W2tnIcBY6tTD"
      },
      "source": [
        ""
      ]
    },
    {
      "cell_type": "markdown",
      "metadata": {
        "id": "ZTFn8ets6tn3"
      },
      "source": [
        "문제47. 오늘부터 100달 뒤에 돌아오는 날짜의 요일을 출력하시오 !\r\n",
        "\r\n",
        "SQL>\r\n",
        "\r\n",
        "    select to_char(add_months( sysdate, 100 ), 'day' )\r\n",
        "       from dual;\r\n",
        "\r\n",
        "R>"
      ]
    },
    {
      "cell_type": "code",
      "metadata": {
        "colab": {
          "base_uri": "https://localhost:8080/",
          "height": 33
        },
        "id": "2T3kXuy961ng",
        "outputId": "15569dba-d09b-4a1e-d5d9-4f422bac09bb"
      },
      "source": [
        "format( Sys.Date() + months(100), '%A' )"
      ],
      "execution_count": 78,
      "outputs": [
        {
          "output_type": "display_data",
          "data": {
            "text/plain": [
              "[1] \"Friday\""
            ],
            "text/latex": "'Friday'",
            "text/markdown": "'Friday'",
            "text/html": [
              "'Friday'"
            ]
          },
          "metadata": {
            "tags": []
          }
        }
      ]
    },
    {
      "cell_type": "markdown",
      "metadata": {
        "id": "PX_DhSdm64zv"
      },
      "source": [
        ""
      ]
    },
    {
      "cell_type": "markdown",
      "metadata": {
        "id": "t_CWDzh264wU"
      },
      "source": [
        ""
      ]
    },
    {
      "cell_type": "markdown",
      "metadata": {
        "id": "XpH_rfdM64tO"
      },
      "source": [
        "문제48. 1992/11/05 출생자가 무슨요일에 태어났는지 출력하시오 !\r\n",
        "\r\n",
        "SQL>\r\n",
        "\r\n",
        "    select to_char( to_date('1992/11/05', 'RRRR/MM/DD'), 'day')\r\n",
        "       from dual;\r\n",
        "\r\n",
        "R>"
      ]
    },
    {
      "cell_type": "code",
      "metadata": {
        "colab": {
          "base_uri": "https://localhost:8080/",
          "height": 33
        },
        "id": "A8-FjPe768GU",
        "outputId": "1a6369a3-6c60-4f12-f269-ef235e853e0d"
      },
      "source": [
        "format( as.Date('1992/11/05'), '%A' )"
      ],
      "execution_count": 82,
      "outputs": [
        {
          "output_type": "display_data",
          "data": {
            "text/plain": [
              "[1] \"Thursday\""
            ],
            "text/latex": "'Thursday'",
            "text/markdown": "'Thursday'",
            "text/html": [
              "'Thursday'"
            ]
          },
          "metadata": {
            "tags": []
          }
        }
      ]
    },
    {
      "cell_type": "markdown",
      "metadata": {
        "id": "yU4wewu467lJ"
      },
      "source": [
        ""
      ]
    },
    {
      "cell_type": "markdown",
      "metadata": {
        "id": "euHP0DwT7L_g"
      },
      "source": [
        ""
      ]
    },
    {
      "cell_type": "markdown",
      "metadata": {
        "id": "dq9oNwBu7L6Q"
      },
      "source": [
        "**■ 일반 함수**\r\n",
        "\r\n",
        "       오라클              vs            R\r\n",
        "     1. nvl함수                        is.na\r\n",
        "     2. decode 함수                    ifelse\r\n",
        "     3. case 함수                      ifelse"
      ]
    },
    {
      "cell_type": "markdown",
      "metadata": {
        "id": "Jow6w_Zy7TbE"
      },
      "source": [
        ""
      ]
    },
    {
      "cell_type": "markdown",
      "metadata": {
        "id": "GH9YTqlf7Tv0"
      },
      "source": [
        "문제49. 이름, 월급, 등급을 출력하는데 월급이 1500 이상이면 등급을 A 로 출력하고\r\n",
        "\t   아니면 B 로 출력하시오 !\r\n"
      ]
    },
    {
      "cell_type": "code",
      "metadata": {
        "colab": {
          "base_uri": "https://localhost:8080/",
          "height": 511
        },
        "id": "6ta7KpRU7VLQ",
        "outputId": "e4786674-045b-4df5-fb4f-62bc2a07293b"
      },
      "source": [
        "data.table( emp$ename, emp$sal, ifelse( emp$sal >= 1500 , 'A', 'B') )"
      ],
      "execution_count": 83,
      "outputs": [
        {
          "output_type": "display_data",
          "data": {
            "text/plain": [
              "   V1     V2   V3\n",
              "1  KING   5000 A \n",
              "2  BLAKE  2850 A \n",
              "3  CLARK  2450 A \n",
              "4  JONES  2975 A \n",
              "5  MARTIN 1250 B \n",
              "6  ALLEN  1600 A \n",
              "7  TURNER 1500 A \n",
              "8  JAMES   950 B \n",
              "9  WARD   1250 B \n",
              "10 FORD   3000 A \n",
              "11 SMITH   800 B \n",
              "12 SCOTT  3000 A \n",
              "13 ADAMS  1100 B \n",
              "14 MILLER 1300 B "
            ],
            "text/latex": "A data.table: 14 × 3\n\\begin{tabular}{lll}\n V1 & V2 & V3\\\\\n <chr> & <int> & <chr>\\\\\n\\hline\n\t KING   & 5000 & A\\\\\n\t BLAKE  & 2850 & A\\\\\n\t CLARK  & 2450 & A\\\\\n\t JONES  & 2975 & A\\\\\n\t MARTIN & 1250 & B\\\\\n\t ALLEN  & 1600 & A\\\\\n\t TURNER & 1500 & A\\\\\n\t JAMES  &  950 & B\\\\\n\t WARD   & 1250 & B\\\\\n\t FORD   & 3000 & A\\\\\n\t SMITH  &  800 & B\\\\\n\t SCOTT  & 3000 & A\\\\\n\t ADAMS  & 1100 & B\\\\\n\t MILLER & 1300 & B\\\\\n\\end{tabular}\n",
            "text/markdown": "\nA data.table: 14 × 3\n\n| V1 &lt;chr&gt; | V2 &lt;int&gt; | V3 &lt;chr&gt; |\n|---|---|---|\n| KING   | 5000 | A |\n| BLAKE  | 2850 | A |\n| CLARK  | 2450 | A |\n| JONES  | 2975 | A |\n| MARTIN | 1250 | B |\n| ALLEN  | 1600 | A |\n| TURNER | 1500 | A |\n| JAMES  |  950 | B |\n| WARD   | 1250 | B |\n| FORD   | 3000 | A |\n| SMITH  |  800 | B |\n| SCOTT  | 3000 | A |\n| ADAMS  | 1100 | B |\n| MILLER | 1300 | B |\n\n",
            "text/html": [
              "<table class=\"dataframe\">\n",
              "<caption>A data.table: 14 × 3</caption>\n",
              "<thead>\n",
              "\t<tr><th scope=col>V1</th><th scope=col>V2</th><th scope=col>V3</th></tr>\n",
              "\t<tr><th scope=col>&lt;chr&gt;</th><th scope=col>&lt;int&gt;</th><th scope=col>&lt;chr&gt;</th></tr>\n",
              "</thead>\n",
              "<tbody>\n",
              "\t<tr><td>KING  </td><td>5000</td><td>A</td></tr>\n",
              "\t<tr><td>BLAKE </td><td>2850</td><td>A</td></tr>\n",
              "\t<tr><td>CLARK </td><td>2450</td><td>A</td></tr>\n",
              "\t<tr><td>JONES </td><td>2975</td><td>A</td></tr>\n",
              "\t<tr><td>MARTIN</td><td>1250</td><td>B</td></tr>\n",
              "\t<tr><td>ALLEN </td><td>1600</td><td>A</td></tr>\n",
              "\t<tr><td>TURNER</td><td>1500</td><td>A</td></tr>\n",
              "\t<tr><td>JAMES </td><td> 950</td><td>B</td></tr>\n",
              "\t<tr><td>WARD  </td><td>1250</td><td>B</td></tr>\n",
              "\t<tr><td>FORD  </td><td>3000</td><td>A</td></tr>\n",
              "\t<tr><td>SMITH </td><td> 800</td><td>B</td></tr>\n",
              "\t<tr><td>SCOTT </td><td>3000</td><td>A</td></tr>\n",
              "\t<tr><td>ADAMS </td><td>1100</td><td>B</td></tr>\n",
              "\t<tr><td>MILLER</td><td>1300</td><td>B</td></tr>\n",
              "</tbody>\n",
              "</table>\n"
            ]
          },
          "metadata": {
            "tags": []
          }
        }
      ]
    },
    {
      "cell_type": "markdown",
      "metadata": {
        "id": "nyowTWKN7YwO"
      },
      "source": [
        "설명: ifelse 는 결측치 데이터를 다른 데이터로 대체할 때 아주 유용한 함수입니다.  \r\n",
        "\t머신러닝시에 모델이 학습할 때 좋은 학습 데이터를 제공하기 위하여 결측치에 값을 채워주는게 중요합니다."
      ]
    },
    {
      "cell_type": "markdown",
      "metadata": {
        "id": "LICXRGQ67auB"
      },
      "source": [
        ""
      ]
    },
    {
      "cell_type": "markdown",
      "metadata": {
        "id": "xmMlrNqp7aqW"
      },
      "source": [
        ""
      ]
    },
    {
      "cell_type": "markdown",
      "metadata": {
        "id": "lYP8ZZK57anX"
      },
      "source": [
        "문제50. 이름, 월급, 보너스를 출력하는데 보너스가 입사한 년도가  1980 년도이면 A 로 출력하고\r\n",
        "\t\t\t\t\t\t\t\t\t\t\t\t1981 년도이면 B 로 출력하고  \r\n",
        "\t\t\t\t\t\t\t\t\t\t\t\t1982 년도이면 C 로 출력하고\r\n",
        "\t\t\t\t\t\t\t\t\t\t\t나머지 년도는 D로 출력되게 하시오 !\r\n"
      ]
    },
    {
      "cell_type": "code",
      "metadata": {
        "colab": {
          "base_uri": "https://localhost:8080/",
          "height": 511
        },
        "id": "b8K-g6vb7mDb",
        "outputId": "2bd1ac6c-49c1-4c12-8a5a-42b8783c34f0"
      },
      "source": [
        "data.table( emp$ename, emp$sal, ifelse(format(as.Date(emp$hiredate), '%Y')=='1980', 'A', \r\n",
        "                                                ifelse(format(as.Date(emp$hiredate), '%Y')=='1981', 'B', \r\n",
        "                                                    ifelse(format(as.Date(emp$hiredate), '%Y')=='1982', 'C', 'D'))))"
      ],
      "execution_count": 84,
      "outputs": [
        {
          "output_type": "display_data",
          "data": {
            "text/plain": [
              "   V1     V2   V3\n",
              "1  KING   5000 B \n",
              "2  BLAKE  2850 B \n",
              "3  CLARK  2450 B \n",
              "4  JONES  2975 B \n",
              "5  MARTIN 1250 B \n",
              "6  ALLEN  1600 B \n",
              "7  TURNER 1500 B \n",
              "8  JAMES   950 B \n",
              "9  WARD   1250 B \n",
              "10 FORD   3000 B \n",
              "11 SMITH   800 A \n",
              "12 SCOTT  3000 C \n",
              "13 ADAMS  1100 D \n",
              "14 MILLER 1300 C "
            ],
            "text/latex": "A data.table: 14 × 3\n\\begin{tabular}{lll}\n V1 & V2 & V3\\\\\n <chr> & <int> & <chr>\\\\\n\\hline\n\t KING   & 5000 & B\\\\\n\t BLAKE  & 2850 & B\\\\\n\t CLARK  & 2450 & B\\\\\n\t JONES  & 2975 & B\\\\\n\t MARTIN & 1250 & B\\\\\n\t ALLEN  & 1600 & B\\\\\n\t TURNER & 1500 & B\\\\\n\t JAMES  &  950 & B\\\\\n\t WARD   & 1250 & B\\\\\n\t FORD   & 3000 & B\\\\\n\t SMITH  &  800 & A\\\\\n\t SCOTT  & 3000 & C\\\\\n\t ADAMS  & 1100 & D\\\\\n\t MILLER & 1300 & C\\\\\n\\end{tabular}\n",
            "text/markdown": "\nA data.table: 14 × 3\n\n| V1 &lt;chr&gt; | V2 &lt;int&gt; | V3 &lt;chr&gt; |\n|---|---|---|\n| KING   | 5000 | B |\n| BLAKE  | 2850 | B |\n| CLARK  | 2450 | B |\n| JONES  | 2975 | B |\n| MARTIN | 1250 | B |\n| ALLEN  | 1600 | B |\n| TURNER | 1500 | B |\n| JAMES  |  950 | B |\n| WARD   | 1250 | B |\n| FORD   | 3000 | B |\n| SMITH  |  800 | A |\n| SCOTT  | 3000 | C |\n| ADAMS  | 1100 | D |\n| MILLER | 1300 | C |\n\n",
            "text/html": [
              "<table class=\"dataframe\">\n",
              "<caption>A data.table: 14 × 3</caption>\n",
              "<thead>\n",
              "\t<tr><th scope=col>V1</th><th scope=col>V2</th><th scope=col>V3</th></tr>\n",
              "\t<tr><th scope=col>&lt;chr&gt;</th><th scope=col>&lt;int&gt;</th><th scope=col>&lt;chr&gt;</th></tr>\n",
              "</thead>\n",
              "<tbody>\n",
              "\t<tr><td>KING  </td><td>5000</td><td>B</td></tr>\n",
              "\t<tr><td>BLAKE </td><td>2850</td><td>B</td></tr>\n",
              "\t<tr><td>CLARK </td><td>2450</td><td>B</td></tr>\n",
              "\t<tr><td>JONES </td><td>2975</td><td>B</td></tr>\n",
              "\t<tr><td>MARTIN</td><td>1250</td><td>B</td></tr>\n",
              "\t<tr><td>ALLEN </td><td>1600</td><td>B</td></tr>\n",
              "\t<tr><td>TURNER</td><td>1500</td><td>B</td></tr>\n",
              "\t<tr><td>JAMES </td><td> 950</td><td>B</td></tr>\n",
              "\t<tr><td>WARD  </td><td>1250</td><td>B</td></tr>\n",
              "\t<tr><td>FORD  </td><td>3000</td><td>B</td></tr>\n",
              "\t<tr><td>SMITH </td><td> 800</td><td>A</td></tr>\n",
              "\t<tr><td>SCOTT </td><td>3000</td><td>C</td></tr>\n",
              "\t<tr><td>ADAMS </td><td>1100</td><td>D</td></tr>\n",
              "\t<tr><td>MILLER</td><td>1300</td><td>C</td></tr>\n",
              "</tbody>\n",
              "</table>\n"
            ]
          },
          "metadata": {
            "tags": []
          }
        }
      ]
    },
    {
      "cell_type": "markdown",
      "metadata": {
        "id": "J52Ru99_7fWr"
      },
      "source": [
        ""
      ]
    },
    {
      "cell_type": "markdown",
      "metadata": {
        "id": "fP9Ww7-Q7qaH"
      },
      "source": [
        ""
      ]
    },
    {
      "cell_type": "markdown",
      "metadata": {
        "id": "Q_MzHMog7qRQ"
      },
      "source": [
        "문제51. student-mat.csv 를 R로 로드하고 나이와 등급을 출력하는데 등급의 나이가 15 ~ 18 은 A, 19 ~ 20 은 B, 21 ~ 22는 C 로 출력하시오 !  \r\n",
        "(데이터 출처 : https://www.kaggle.com/uciml/student-alcohol-consumption)\r\n",
        "\t"
      ]
    },
    {
      "cell_type": "code",
      "metadata": {
        "colab": {
          "base_uri": "https://localhost:8080/",
          "height": 293
        },
        "id": "yUq31LE57aOI",
        "outputId": "990ea32e-2927-47a2-eacc-eefa344fdbac"
      },
      "source": [
        "# student-mat.csv 데이터 로드\r\n",
        "student_mat <- read.csv(\"student-mat.csv\", header=T)\r\n",
        "\r\n",
        "# student_mat 데이터 확인\r\n",
        "head(student_mat)"
      ],
      "execution_count": 86,
      "outputs": [
        {
          "output_type": "display_data",
          "data": {
            "text/plain": [
              "  school sex age address famsize Pstatus Medu Fedu Mjob     Fjob     ⋯ famrel\n",
              "1 GP     F   18  U       GT3     A       4    4    at_home  teacher  ⋯ 4     \n",
              "2 GP     F   17  U       GT3     T       1    1    at_home  other    ⋯ 5     \n",
              "3 GP     F   15  U       LE3     T       1    1    at_home  other    ⋯ 4     \n",
              "4 GP     F   15  U       GT3     T       4    2    health   services ⋯ 3     \n",
              "5 GP     F   16  U       GT3     T       3    3    other    other    ⋯ 4     \n",
              "6 GP     M   16  U       LE3     T       4    3    services other    ⋯ 5     \n",
              "  freetime goout Dalc Walc health absences G1 G2 G3\n",
              "1 3        4     1    1    3       6        5  6  6\n",
              "2 3        3     1    1    3       4        5  5  6\n",
              "3 3        2     2    3    3      10        7  8 10\n",
              "4 2        2     1    1    5       2       15 14 15\n",
              "5 3        2     1    2    5       4        6 10 10\n",
              "6 4        2     1    2    5      10       15 15 15"
            ],
            "text/latex": "A data.frame: 6 × 33\n\\begin{tabular}{r|lllllllllllllllllllll}\n  & school & sex & age & address & famsize & Pstatus & Medu & Fedu & Mjob & Fjob & ⋯ & famrel & freetime & goout & Dalc & Walc & health & absences & G1 & G2 & G3\\\\\n  & <chr> & <chr> & <int> & <chr> & <chr> & <chr> & <int> & <int> & <chr> & <chr> & ⋯ & <int> & <int> & <int> & <int> & <int> & <int> & <int> & <int> & <int> & <int>\\\\\n\\hline\n\t1 & GP & F & 18 & U & GT3 & A & 4 & 4 & at\\_home  & teacher  & ⋯ & 4 & 3 & 4 & 1 & 1 & 3 &  6 &  5 &  6 &  6\\\\\n\t2 & GP & F & 17 & U & GT3 & T & 1 & 1 & at\\_home  & other    & ⋯ & 5 & 3 & 3 & 1 & 1 & 3 &  4 &  5 &  5 &  6\\\\\n\t3 & GP & F & 15 & U & LE3 & T & 1 & 1 & at\\_home  & other    & ⋯ & 4 & 3 & 2 & 2 & 3 & 3 & 10 &  7 &  8 & 10\\\\\n\t4 & GP & F & 15 & U & GT3 & T & 4 & 2 & health   & services & ⋯ & 3 & 2 & 2 & 1 & 1 & 5 &  2 & 15 & 14 & 15\\\\\n\t5 & GP & F & 16 & U & GT3 & T & 3 & 3 & other    & other    & ⋯ & 4 & 3 & 2 & 1 & 2 & 5 &  4 &  6 & 10 & 10\\\\\n\t6 & GP & M & 16 & U & LE3 & T & 4 & 3 & services & other    & ⋯ & 5 & 4 & 2 & 1 & 2 & 5 & 10 & 15 & 15 & 15\\\\\n\\end{tabular}\n",
            "text/markdown": "\nA data.frame: 6 × 33\n\n| <!--/--> | school &lt;chr&gt; | sex &lt;chr&gt; | age &lt;int&gt; | address &lt;chr&gt; | famsize &lt;chr&gt; | Pstatus &lt;chr&gt; | Medu &lt;int&gt; | Fedu &lt;int&gt; | Mjob &lt;chr&gt; | Fjob &lt;chr&gt; | ⋯ ⋯ | famrel &lt;int&gt; | freetime &lt;int&gt; | goout &lt;int&gt; | Dalc &lt;int&gt; | Walc &lt;int&gt; | health &lt;int&gt; | absences &lt;int&gt; | G1 &lt;int&gt; | G2 &lt;int&gt; | G3 &lt;int&gt; |\n|---|---|---|---|---|---|---|---|---|---|---|---|---|---|---|---|---|---|---|---|---|---|\n| 1 | GP | F | 18 | U | GT3 | A | 4 | 4 | at_home  | teacher  | ⋯ | 4 | 3 | 4 | 1 | 1 | 3 |  6 |  5 |  6 |  6 |\n| 2 | GP | F | 17 | U | GT3 | T | 1 | 1 | at_home  | other    | ⋯ | 5 | 3 | 3 | 1 | 1 | 3 |  4 |  5 |  5 |  6 |\n| 3 | GP | F | 15 | U | LE3 | T | 1 | 1 | at_home  | other    | ⋯ | 4 | 3 | 2 | 2 | 3 | 3 | 10 |  7 |  8 | 10 |\n| 4 | GP | F | 15 | U | GT3 | T | 4 | 2 | health   | services | ⋯ | 3 | 2 | 2 | 1 | 1 | 5 |  2 | 15 | 14 | 15 |\n| 5 | GP | F | 16 | U | GT3 | T | 3 | 3 | other    | other    | ⋯ | 4 | 3 | 2 | 1 | 2 | 5 |  4 |  6 | 10 | 10 |\n| 6 | GP | M | 16 | U | LE3 | T | 4 | 3 | services | other    | ⋯ | 5 | 4 | 2 | 1 | 2 | 5 | 10 | 15 | 15 | 15 |\n\n",
            "text/html": [
              "<table class=\"dataframe\">\n",
              "<caption>A data.frame: 6 × 33</caption>\n",
              "<thead>\n",
              "\t<tr><th></th><th scope=col>school</th><th scope=col>sex</th><th scope=col>age</th><th scope=col>address</th><th scope=col>famsize</th><th scope=col>Pstatus</th><th scope=col>Medu</th><th scope=col>Fedu</th><th scope=col>Mjob</th><th scope=col>Fjob</th><th scope=col>⋯</th><th scope=col>famrel</th><th scope=col>freetime</th><th scope=col>goout</th><th scope=col>Dalc</th><th scope=col>Walc</th><th scope=col>health</th><th scope=col>absences</th><th scope=col>G1</th><th scope=col>G2</th><th scope=col>G3</th></tr>\n",
              "\t<tr><th></th><th scope=col>&lt;chr&gt;</th><th scope=col>&lt;chr&gt;</th><th scope=col>&lt;int&gt;</th><th scope=col>&lt;chr&gt;</th><th scope=col>&lt;chr&gt;</th><th scope=col>&lt;chr&gt;</th><th scope=col>&lt;int&gt;</th><th scope=col>&lt;int&gt;</th><th scope=col>&lt;chr&gt;</th><th scope=col>&lt;chr&gt;</th><th scope=col>⋯</th><th scope=col>&lt;int&gt;</th><th scope=col>&lt;int&gt;</th><th scope=col>&lt;int&gt;</th><th scope=col>&lt;int&gt;</th><th scope=col>&lt;int&gt;</th><th scope=col>&lt;int&gt;</th><th scope=col>&lt;int&gt;</th><th scope=col>&lt;int&gt;</th><th scope=col>&lt;int&gt;</th><th scope=col>&lt;int&gt;</th></tr>\n",
              "</thead>\n",
              "<tbody>\n",
              "\t<tr><th scope=row>1</th><td>GP</td><td>F</td><td>18</td><td>U</td><td>GT3</td><td>A</td><td>4</td><td>4</td><td>at_home </td><td>teacher </td><td>⋯</td><td>4</td><td>3</td><td>4</td><td>1</td><td>1</td><td>3</td><td> 6</td><td> 5</td><td> 6</td><td> 6</td></tr>\n",
              "\t<tr><th scope=row>2</th><td>GP</td><td>F</td><td>17</td><td>U</td><td>GT3</td><td>T</td><td>1</td><td>1</td><td>at_home </td><td>other   </td><td>⋯</td><td>5</td><td>3</td><td>3</td><td>1</td><td>1</td><td>3</td><td> 4</td><td> 5</td><td> 5</td><td> 6</td></tr>\n",
              "\t<tr><th scope=row>3</th><td>GP</td><td>F</td><td>15</td><td>U</td><td>LE3</td><td>T</td><td>1</td><td>1</td><td>at_home </td><td>other   </td><td>⋯</td><td>4</td><td>3</td><td>2</td><td>2</td><td>3</td><td>3</td><td>10</td><td> 7</td><td> 8</td><td>10</td></tr>\n",
              "\t<tr><th scope=row>4</th><td>GP</td><td>F</td><td>15</td><td>U</td><td>GT3</td><td>T</td><td>4</td><td>2</td><td>health  </td><td>services</td><td>⋯</td><td>3</td><td>2</td><td>2</td><td>1</td><td>1</td><td>5</td><td> 2</td><td>15</td><td>14</td><td>15</td></tr>\n",
              "\t<tr><th scope=row>5</th><td>GP</td><td>F</td><td>16</td><td>U</td><td>GT3</td><td>T</td><td>3</td><td>3</td><td>other   </td><td>other   </td><td>⋯</td><td>4</td><td>3</td><td>2</td><td>1</td><td>2</td><td>5</td><td> 4</td><td> 6</td><td>10</td><td>10</td></tr>\n",
              "\t<tr><th scope=row>6</th><td>GP</td><td>M</td><td>16</td><td>U</td><td>LE3</td><td>T</td><td>4</td><td>3</td><td>services</td><td>other   </td><td>⋯</td><td>5</td><td>4</td><td>2</td><td>1</td><td>2</td><td>5</td><td>10</td><td>15</td><td>15</td><td>15</td></tr>\n",
              "</tbody>\n",
              "</table>\n"
            ]
          },
          "metadata": {
            "tags": []
          }
        }
      ]
    },
    {
      "cell_type": "code",
      "metadata": {
        "colab": {
          "base_uri": "https://localhost:8080/",
          "height": 366
        },
        "id": "xpX-WJiP8D7d",
        "outputId": "43d793be-0ae8-4c69-ab77-8be2b01145be"
      },
      "source": [
        "# 나이값 확인\r\n",
        "library(data.table)\r\n",
        "data.table( \"나이\"=unique(student_mat$age) )"
      ],
      "execution_count": 87,
      "outputs": [
        {
          "output_type": "display_data",
          "data": {
            "text/plain": [
              "  나이\n",
              "1 18  \n",
              "2 17  \n",
              "3 15  \n",
              "4 16  \n",
              "5 19  \n",
              "6 22  \n",
              "7 20  \n",
              "8 21  "
            ],
            "text/latex": "A data.table: 8 × 1\n\\begin{tabular}{l}\n 나이\\\\\n <int>\\\\\n\\hline\n\t 18\\\\\n\t 17\\\\\n\t 15\\\\\n\t 16\\\\\n\t 19\\\\\n\t 22\\\\\n\t 20\\\\\n\t 21\\\\\n\\end{tabular}\n",
            "text/markdown": "\nA data.table: 8 × 1\n\n| 나이 &lt;int&gt; |\n|---|\n| 18 |\n| 17 |\n| 15 |\n| 16 |\n| 19 |\n| 22 |\n| 20 |\n| 21 |\n\n",
            "text/html": [
              "<table class=\"dataframe\">\n",
              "<caption>A data.table: 8 × 1</caption>\n",
              "<thead>\n",
              "\t<tr><th scope=col>나이</th></tr>\n",
              "\t<tr><th scope=col>&lt;int&gt;</th></tr>\n",
              "</thead>\n",
              "<tbody>\n",
              "\t<tr><td>18</td></tr>\n",
              "\t<tr><td>17</td></tr>\n",
              "\t<tr><td>15</td></tr>\n",
              "\t<tr><td>16</td></tr>\n",
              "\t<tr><td>19</td></tr>\n",
              "\t<tr><td>22</td></tr>\n",
              "\t<tr><td>20</td></tr>\n",
              "\t<tr><td>21</td></tr>\n",
              "</tbody>\n",
              "</table>\n"
            ]
          },
          "metadata": {
            "tags": []
          }
        }
      ]
    },
    {
      "cell_type": "code",
      "metadata": {
        "colab": {
          "base_uri": "https://localhost:8080/",
          "height": 1000
        },
        "id": "EcFRBwUg8Gpu",
        "outputId": "d8d82e07-5ff2-4f9b-9700-3755d93ba97d"
      },
      "source": [
        "# 나이, 등급(나이가 15~18은 A, 19~20은 B, 21~22는 C) 출력\r\n",
        "data.table( 나이=student_mat$age, 등급=ifelse( student_mat$age >= 15 & student_mat$age <= 18, 'A',\r\n",
        "                             ifelse( student_mat$age >= 19 & student_mat$age <= 20, 'B', 'C')))"
      ],
      "execution_count": 88,
      "outputs": [
        {
          "output_type": "display_data",
          "data": {
            "text/plain": [
              "    나이 등급\n",
              "1   18   A   \n",
              "2   17   A   \n",
              "3   15   A   \n",
              "4   15   A   \n",
              "5   16   A   \n",
              "6   16   A   \n",
              "7   16   A   \n",
              "8   17   A   \n",
              "9   15   A   \n",
              "10  15   A   \n",
              "11  15   A   \n",
              "12  15   A   \n",
              "13  15   A   \n",
              "14  15   A   \n",
              "15  15   A   \n",
              "16  16   A   \n",
              "17  16   A   \n",
              "18  16   A   \n",
              "19  17   A   \n",
              "20  16   A   \n",
              "21  15   A   \n",
              "22  15   A   \n",
              "23  16   A   \n",
              "24  16   A   \n",
              "25  15   A   \n",
              "26  16   A   \n",
              "27  15   A   \n",
              "28  15   A   \n",
              "29  16   A   \n",
              "30  16   A   \n",
              "⋮   ⋮    ⋮   \n",
              "366 18   A   \n",
              "367 18   A   \n",
              "368 17   A   \n",
              "369 18   A   \n",
              "370 18   A   \n",
              "371 19   B   \n",
              "372 18   A   \n",
              "373 17   A   \n",
              "374 17   A   \n",
              "375 18   A   \n",
              "376 18   A   \n",
              "377 20   B   \n",
              "378 18   A   \n",
              "379 18   A   \n",
              "380 17   A   \n",
              "381 18   A   \n",
              "382 18   A   \n",
              "383 17   A   \n",
              "384 19   B   \n",
              "385 18   A   \n",
              "386 18   A   \n",
              "387 18   A   \n",
              "388 19   B   \n",
              "389 18   A   \n",
              "390 18   A   \n",
              "391 20   B   \n",
              "392 17   A   \n",
              "393 21   C   \n",
              "394 18   A   \n",
              "395 19   B   "
            ],
            "text/latex": "A data.table: 395 × 2\n\\begin{tabular}{ll}\n 나이 & 등급\\\\\n <int> & <chr>\\\\\n\\hline\n\t 18 & A\\\\\n\t 17 & A\\\\\n\t 15 & A\\\\\n\t 15 & A\\\\\n\t 16 & A\\\\\n\t 16 & A\\\\\n\t 16 & A\\\\\n\t 17 & A\\\\\n\t 15 & A\\\\\n\t 15 & A\\\\\n\t 15 & A\\\\\n\t 15 & A\\\\\n\t 15 & A\\\\\n\t 15 & A\\\\\n\t 15 & A\\\\\n\t 16 & A\\\\\n\t 16 & A\\\\\n\t 16 & A\\\\\n\t 17 & A\\\\\n\t 16 & A\\\\\n\t 15 & A\\\\\n\t 15 & A\\\\\n\t 16 & A\\\\\n\t 16 & A\\\\\n\t 15 & A\\\\\n\t 16 & A\\\\\n\t 15 & A\\\\\n\t 15 & A\\\\\n\t 16 & A\\\\\n\t 16 & A\\\\\n\t ⋮ & ⋮\\\\\n\t 18 & A\\\\\n\t 18 & A\\\\\n\t 17 & A\\\\\n\t 18 & A\\\\\n\t 18 & A\\\\\n\t 19 & B\\\\\n\t 18 & A\\\\\n\t 17 & A\\\\\n\t 17 & A\\\\\n\t 18 & A\\\\\n\t 18 & A\\\\\n\t 20 & B\\\\\n\t 18 & A\\\\\n\t 18 & A\\\\\n\t 17 & A\\\\\n\t 18 & A\\\\\n\t 18 & A\\\\\n\t 17 & A\\\\\n\t 19 & B\\\\\n\t 18 & A\\\\\n\t 18 & A\\\\\n\t 18 & A\\\\\n\t 19 & B\\\\\n\t 18 & A\\\\\n\t 18 & A\\\\\n\t 20 & B\\\\\n\t 17 & A\\\\\n\t 21 & C\\\\\n\t 18 & A\\\\\n\t 19 & B\\\\\n\\end{tabular}\n",
            "text/markdown": "\nA data.table: 395 × 2\n\n| 나이 &lt;int&gt; | 등급 &lt;chr&gt; |\n|---|---|\n| 18 | A |\n| 17 | A |\n| 15 | A |\n| 15 | A |\n| 16 | A |\n| 16 | A |\n| 16 | A |\n| 17 | A |\n| 15 | A |\n| 15 | A |\n| 15 | A |\n| 15 | A |\n| 15 | A |\n| 15 | A |\n| 15 | A |\n| 16 | A |\n| 16 | A |\n| 16 | A |\n| 17 | A |\n| 16 | A |\n| 15 | A |\n| 15 | A |\n| 16 | A |\n| 16 | A |\n| 15 | A |\n| 16 | A |\n| 15 | A |\n| 15 | A |\n| 16 | A |\n| 16 | A |\n| ⋮ | ⋮ |\n| 18 | A |\n| 18 | A |\n| 17 | A |\n| 18 | A |\n| 18 | A |\n| 19 | B |\n| 18 | A |\n| 17 | A |\n| 17 | A |\n| 18 | A |\n| 18 | A |\n| 20 | B |\n| 18 | A |\n| 18 | A |\n| 17 | A |\n| 18 | A |\n| 18 | A |\n| 17 | A |\n| 19 | B |\n| 18 | A |\n| 18 | A |\n| 18 | A |\n| 19 | B |\n| 18 | A |\n| 18 | A |\n| 20 | B |\n| 17 | A |\n| 21 | C |\n| 18 | A |\n| 19 | B |\n\n",
            "text/html": [
              "<table class=\"dataframe\">\n",
              "<caption>A data.table: 395 × 2</caption>\n",
              "<thead>\n",
              "\t<tr><th scope=col>나이</th><th scope=col>등급</th></tr>\n",
              "\t<tr><th scope=col>&lt;int&gt;</th><th scope=col>&lt;chr&gt;</th></tr>\n",
              "</thead>\n",
              "<tbody>\n",
              "\t<tr><td>18</td><td>A</td></tr>\n",
              "\t<tr><td>17</td><td>A</td></tr>\n",
              "\t<tr><td>15</td><td>A</td></tr>\n",
              "\t<tr><td>15</td><td>A</td></tr>\n",
              "\t<tr><td>16</td><td>A</td></tr>\n",
              "\t<tr><td>16</td><td>A</td></tr>\n",
              "\t<tr><td>16</td><td>A</td></tr>\n",
              "\t<tr><td>17</td><td>A</td></tr>\n",
              "\t<tr><td>15</td><td>A</td></tr>\n",
              "\t<tr><td>15</td><td>A</td></tr>\n",
              "\t<tr><td>15</td><td>A</td></tr>\n",
              "\t<tr><td>15</td><td>A</td></tr>\n",
              "\t<tr><td>15</td><td>A</td></tr>\n",
              "\t<tr><td>15</td><td>A</td></tr>\n",
              "\t<tr><td>15</td><td>A</td></tr>\n",
              "\t<tr><td>16</td><td>A</td></tr>\n",
              "\t<tr><td>16</td><td>A</td></tr>\n",
              "\t<tr><td>16</td><td>A</td></tr>\n",
              "\t<tr><td>17</td><td>A</td></tr>\n",
              "\t<tr><td>16</td><td>A</td></tr>\n",
              "\t<tr><td>15</td><td>A</td></tr>\n",
              "\t<tr><td>15</td><td>A</td></tr>\n",
              "\t<tr><td>16</td><td>A</td></tr>\n",
              "\t<tr><td>16</td><td>A</td></tr>\n",
              "\t<tr><td>15</td><td>A</td></tr>\n",
              "\t<tr><td>16</td><td>A</td></tr>\n",
              "\t<tr><td>15</td><td>A</td></tr>\n",
              "\t<tr><td>15</td><td>A</td></tr>\n",
              "\t<tr><td>16</td><td>A</td></tr>\n",
              "\t<tr><td>16</td><td>A</td></tr>\n",
              "\t<tr><td>⋮</td><td>⋮</td></tr>\n",
              "\t<tr><td>18</td><td>A</td></tr>\n",
              "\t<tr><td>18</td><td>A</td></tr>\n",
              "\t<tr><td>17</td><td>A</td></tr>\n",
              "\t<tr><td>18</td><td>A</td></tr>\n",
              "\t<tr><td>18</td><td>A</td></tr>\n",
              "\t<tr><td>19</td><td>B</td></tr>\n",
              "\t<tr><td>18</td><td>A</td></tr>\n",
              "\t<tr><td>17</td><td>A</td></tr>\n",
              "\t<tr><td>17</td><td>A</td></tr>\n",
              "\t<tr><td>18</td><td>A</td></tr>\n",
              "\t<tr><td>18</td><td>A</td></tr>\n",
              "\t<tr><td>20</td><td>B</td></tr>\n",
              "\t<tr><td>18</td><td>A</td></tr>\n",
              "\t<tr><td>18</td><td>A</td></tr>\n",
              "\t<tr><td>17</td><td>A</td></tr>\n",
              "\t<tr><td>18</td><td>A</td></tr>\n",
              "\t<tr><td>18</td><td>A</td></tr>\n",
              "\t<tr><td>17</td><td>A</td></tr>\n",
              "\t<tr><td>19</td><td>B</td></tr>\n",
              "\t<tr><td>18</td><td>A</td></tr>\n",
              "\t<tr><td>18</td><td>A</td></tr>\n",
              "\t<tr><td>18</td><td>A</td></tr>\n",
              "\t<tr><td>19</td><td>B</td></tr>\n",
              "\t<tr><td>18</td><td>A</td></tr>\n",
              "\t<tr><td>18</td><td>A</td></tr>\n",
              "\t<tr><td>20</td><td>B</td></tr>\n",
              "\t<tr><td>17</td><td>A</td></tr>\n",
              "\t<tr><td>21</td><td>C</td></tr>\n",
              "\t<tr><td>18</td><td>A</td></tr>\n",
              "\t<tr><td>19</td><td>B</td></tr>\n",
              "</tbody>\n",
              "</table>\n"
            ]
          },
          "metadata": {
            "tags": []
          }
        }
      ]
    }
  ]
}